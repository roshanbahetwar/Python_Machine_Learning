{
 "cells": [
  {
   "cell_type": "code",
   "execution_count": 5,
   "id": "6331fb28",
   "metadata": {},
   "outputs": [
    {
     "name": "stdout",
     "output_type": "stream",
     "text": [
      "enter the num 56\n",
      "56\n",
      "This is name\n"
     ]
    }
   ],
   "source": [
    "def getInt():\n",
    "    result = int(input('enter the num '))\n",
    "    \n",
    "    return result\n",
    "\n",
    "def Main():\n",
    "    print('started')\n",
    "    \n",
    "output = getInt()\n",
    "print(output)\n",
    "\n",
    "\n",
    "if __name__ == '__main__':\n",
    "    print('This is name')"
   ]
  },
  {
   "cell_type": "code",
   "execution_count": 14,
   "id": "bc5de96c",
   "metadata": {},
   "outputs": [
    {
     "name": "stdout",
     "output_type": "stream",
     "text": [
      "[1, 2, 3, 4, 5, 6, 7, 8, 9, 10]\n"
     ]
    }
   ],
   "source": [
    "lst = list(range(1,11))\n",
    "print(lst)"
   ]
  },
  {
   "cell_type": "code",
   "execution_count": 15,
   "id": "876d8af5",
   "metadata": {},
   "outputs": [
    {
     "name": "stdout",
     "output_type": "stream",
     "text": [
      "0 1\n",
      "1 2\n",
      "2 3\n",
      "3 4\n",
      "4 5\n",
      "5 6\n",
      "6 7\n",
      "7 8\n",
      "8 9\n",
      "9 10\n"
     ]
    }
   ],
   "source": [
    "for index,element in enumerate(lst):\n",
    "    print(index,element)\n"
   ]
  },
  {
   "cell_type": "code",
   "execution_count": 16,
   "id": "39834185",
   "metadata": {},
   "outputs": [],
   "source": [
    "def Gen(x):\n",
    "    for i in range(x):\n",
    "        yield i"
   ]
  },
  {
   "cell_type": "code",
   "execution_count": 19,
   "id": "829f159c",
   "metadata": {},
   "outputs": [
    {
     "name": "stdout",
     "output_type": "stream",
     "text": [
      "0\n"
     ]
    }
   ],
   "source": [
    "num = Gen(10)\n",
    "print(next(num))"
   ]
  },
  {
   "cell_type": "code",
   "execution_count": 20,
   "id": "b5c2f94b",
   "metadata": {},
   "outputs": [
    {
     "data": {
      "text/plain": [
       "1"
      ]
     },
     "execution_count": 20,
     "metadata": {},
     "output_type": "execute_result"
    }
   ],
   "source": [
    "next(num)"
   ]
  },
  {
   "cell_type": "code",
   "execution_count": 21,
   "id": "cbe2caf1",
   "metadata": {},
   "outputs": [
    {
     "data": {
      "text/plain": [
       "2"
      ]
     },
     "execution_count": 21,
     "metadata": {},
     "output_type": "execute_result"
    }
   ],
   "source": [
    "next(num)"
   ]
  },
  {
   "cell_type": "code",
   "execution_count": 22,
   "id": "b0baf85e",
   "metadata": {},
   "outputs": [],
   "source": [
    "ages = [25,21,15,26,58,45,21,30,26,45,66,95,25]"
   ]
  },
  {
   "cell_type": "code",
   "execution_count": 23,
   "id": "7c2c4aad",
   "metadata": {},
   "outputs": [
    {
     "data": {
      "text/plain": [
       "15"
      ]
     },
     "execution_count": 23,
     "metadata": {},
     "output_type": "execute_result"
    }
   ],
   "source": [
    "min(ages)"
   ]
  },
  {
   "cell_type": "code",
   "execution_count": 24,
   "id": "5adb885b",
   "metadata": {},
   "outputs": [
    {
     "data": {
      "text/plain": [
       "95"
      ]
     },
     "execution_count": 24,
     "metadata": {},
     "output_type": "execute_result"
    }
   ],
   "source": [
    "max(ages)"
   ]
  },
  {
   "cell_type": "code",
   "execution_count": 27,
   "id": "efdbbec7",
   "metadata": {},
   "outputs": [
    {
     "data": {
      "text/plain": [
       "[21, 15, 26, 58, 45, 21, 30, 26, 45, 66, 95]"
      ]
     },
     "execution_count": 27,
     "metadata": {},
     "output_type": "execute_result"
    }
   ],
   "source": [
    "ages[1:12]"
   ]
  },
  {
   "cell_type": "code",
   "execution_count": 35,
   "id": "bfb69c19",
   "metadata": {},
   "outputs": [
    {
     "name": "stdout",
     "output_type": "stream",
     "text": [
      "[4, 16, 36, 64, 100, 144, 196, 256, 324, 400, 484, 576]\n",
      "[1, 27, 125, 343, 729, 1331, 2197, 3375, 4913, 6859, 9261, 12167]\n"
     ]
    }
   ],
   "source": [
    "sqr = []\n",
    "cube = []\n",
    "\n",
    "for i in list(range(1,25)):\n",
    "    if i%2==0:\n",
    "        s = i**2\n",
    "        sqr.append(s)\n",
    "    else:\n",
    "        c = i**3\n",
    "        cube.append(c)\n",
    "print(f'{sqr}\\n{cube}')"
   ]
  },
  {
   "cell_type": "code",
   "execution_count": 40,
   "id": "3e5b0761",
   "metadata": {},
   "outputs": [
    {
     "name": "stdout",
     "output_type": "stream",
     "text": [
      "This is sqr:- [4, 16, 36, 64, 100, 144, 196, 256, 324, 400, 484, 576]\n",
      "\n",
      "Cube:- [1, 27, 125, 343, 729, 1331, 2197, 3375, 4913, 6859, 9261, 12167]\n",
      "\n",
      "Div:- [0.25, 6.75, 31.25, 85.75, 182.25, 332.75, 549.25, 843.75, 1228.25, 1714.75, 2315.25, 3041.75, 0.06, 1.69, 7.81, 21.44, 45.56, 83.19, 137.31, 210.94, 307.06, 428.69, 578.81, 760.44, 0.03, 0.75, 3.47, 9.53, 20.25, 36.97, 61.03, 93.75, 136.47, 190.53, 257.25, 337.97, 0.02, 0.42, 1.95, 5.36, 11.39, 20.8, 34.33, 52.73, 76.77, 107.17, 144.7, 190.11, 0.01, 0.27, 1.25, 3.43, 7.29, 13.31, 21.97, 33.75, 49.13, 68.59, 92.61, 121.67, 0.01, 0.19, 0.87, 2.38, 5.06, 9.24, 15.26, 23.44, 34.12, 47.63, 64.31, 84.49, 0.01, 0.14, 0.64, 1.75, 3.72, 6.79, 11.21, 17.22, 25.07, 34.99, 47.25, 62.08, 0.0, 0.11, 0.49, 1.34, 2.85, 5.2, 8.58, 13.18, 19.19, 26.79, 36.18, 47.53, 0.0, 0.08, 0.39, 1.06, 2.25, 4.11, 6.78, 10.42, 15.16, 21.17, 28.58, 37.55, 0.0, 0.07, 0.31, 0.86, 1.82, 3.33, 5.49, 8.44, 12.28, 17.15, 23.15, 30.42, 0.0, 0.06, 0.26, 0.71, 1.51, 2.75, 4.54, 6.97, 10.15, 14.17, 19.13, 25.14, 0.0, 0.05, 0.22, 0.6, 1.27, 2.31, 3.81, 5.86, 8.53, 11.91, 16.08, 21.12]\n"
     ]
    }
   ],
   "source": [
    "div = []\n",
    "\n",
    "for i in sqr:\n",
    "    for j in cube:\n",
    "        op = round(j/i,2)\n",
    "        div.append(op)\n",
    "print(f'This is sqr:- {sqr}\\n\\nCube:- {cube}\\n\\nDiv:- {div}')"
   ]
  },
  {
   "cell_type": "code",
   "execution_count": 41,
   "id": "6c327561",
   "metadata": {},
   "outputs": [
    {
     "name": "stdout",
     "output_type": "stream",
     "text": [
      "[1, 4, 9, 16, 25, 36, 49, 64, 81, 100, 121, 144, 169, 196, 225, 256, 289, 324, 361]\n"
     ]
    }
   ],
   "source": [
    "ls = [i**2 for i in range(1,20)]\n",
    "print(ls)"
   ]
  },
  {
   "cell_type": "code",
   "execution_count": 42,
   "id": "0bc2452e",
   "metadata": {},
   "outputs": [
    {
     "name": "stdout",
     "output_type": "stream",
     "text": [
      "['mjk', 'Mohan', 'Ganesh', 'Ramesh', 'Sohan']\n"
     ]
    }
   ],
   "source": [
    "names = ['mjk','mohan','ganesh','ramesh','sohan']\n",
    "\n",
    "lst = [x.capitalize() for x in names]\n",
    "print(lst)"
   ]
  },
  {
   "cell_type": "code",
   "execution_count": 46,
   "id": "17bf754c",
   "metadata": {},
   "outputs": [],
   "source": [
    "nls = [x.lower() for x in lst if x.startswith('R')]"
   ]
  },
  {
   "cell_type": "code",
   "execution_count": 48,
   "id": "591618ad",
   "metadata": {},
   "outputs": [
    {
     "data": {
      "text/plain": [
       "['mjk', 'Mohan', 'Ganesh', 'Ramesh', 'Sohan']"
      ]
     },
     "execution_count": 48,
     "metadata": {},
     "output_type": "execute_result"
    }
   ],
   "source": [
    "lst"
   ]
  },
  {
   "cell_type": "code",
   "execution_count": 49,
   "id": "d76aaf72",
   "metadata": {},
   "outputs": [
    {
     "name": "stdout",
     "output_type": "stream",
     "text": [
      "['mjk', 'MOHAN', 'GANESH', 'RAMESH', 'SOHAN']\n"
     ]
    }
   ],
   "source": [
    "uname = [x.upper() for x in names]\n",
    "print(uname)"
   ]
  },
  {
   "cell_type": "code",
   "execution_count": 56,
   "id": "70df047a",
   "metadata": {},
   "outputs": [],
   "source": [
    "uname.sort(reverse = True)"
   ]
  },
  {
   "cell_type": "code",
   "execution_count": 57,
   "id": "0cdacf73",
   "metadata": {},
   "outputs": [
    {
     "data": {
      "text/plain": [
       "['SOHAN', 'mjk', 'RAMESH', 'MOHAN', 'GANESH']"
      ]
     },
     "execution_count": 57,
     "metadata": {},
     "output_type": "execute_result"
    }
   ],
   "source": [
    "uname"
   ]
  },
  {
   "cell_type": "code",
   "execution_count": 60,
   "id": "c93e2341",
   "metadata": {},
   "outputs": [],
   "source": [
    "uname.sort(reverse = False)"
   ]
  },
  {
   "cell_type": "code",
   "execution_count": 61,
   "id": "1facb332",
   "metadata": {},
   "outputs": [
    {
     "data": {
      "text/plain": [
       "['GANESH', 'MOHAN', 'RAMESH', 'mjk', 'SOHAN']"
      ]
     },
     "execution_count": 61,
     "metadata": {},
     "output_type": "execute_result"
    }
   ],
   "source": [
    "uname"
   ]
  },
  {
   "cell_type": "code",
   "execution_count": 66,
   "id": "d88c44be",
   "metadata": {},
   "outputs": [],
   "source": [
    "num = list(range(125,150))"
   ]
  },
  {
   "cell_type": "code",
   "execution_count": 67,
   "id": "3a8dba2f",
   "metadata": {},
   "outputs": [
    {
     "name": "stdout",
     "output_type": "stream",
     "text": [
      "[125, 126, 127, 128, 129, 130, 131, 132, 133, 134, 135, 136, 137, 138, 139, 140, 141, 142, 143, 144, 145, 146, 147, 148, 149]\n"
     ]
    }
   ],
   "source": [
    "nl = []\n",
    "al = []\n",
    "for i in range(100,200):\n",
    "    if i in num:\n",
    "        nl.append(i)\n",
    "    else:\n",
    "        al.append(i)\n",
    "        \n",
    "print(nl)"
   ]
  },
  {
   "cell_type": "code",
   "execution_count": 69,
   "id": "60b0bfb5",
   "metadata": {},
   "outputs": [
    {
     "name": "stdout",
     "output_type": "stream",
     "text": [
      "[100, 101, 102, 103, 104, 105, 106, 107, 108, 109, 110, 111, 112, 113, 114, 115, 116, 117, 118, 119, 120, 121, 122, 123, 124, 150, 151, 152, 153, 154, 155, 156, 157, 158, 159, 160, 161, 162, 163, 164, 165, 166, 167, 168, 169, 170, 171, 172, 173, 174, 175, 176, 177, 178, 179, 180, 181, 182, 183, 184, 185, 186, 187, 188, 189, 190, 191, 192, 193, 194, 195, 196, 197, 198, 199]\n"
     ]
    }
   ],
   "source": [
    "print(al)"
   ]
  },
  {
   "cell_type": "code",
   "execution_count": 70,
   "id": "c0fae4d8",
   "metadata": {},
   "outputs": [],
   "source": [
    "dls = {'name':'mjk','age':20,'city':'Pune','pincode':12345}"
   ]
  },
  {
   "cell_type": "code",
   "execution_count": 72,
   "id": "763ee4c9",
   "metadata": {},
   "outputs": [
    {
     "data": {
      "text/plain": [
       "'mjk'"
      ]
     },
     "execution_count": 72,
     "metadata": {},
     "output_type": "execute_result"
    }
   ],
   "source": [
    "dls['name']"
   ]
  },
  {
   "cell_type": "code",
   "execution_count": 73,
   "id": "87b9ccb9",
   "metadata": {},
   "outputs": [
    {
     "ename": "KeyError",
     "evalue": "'hello'",
     "output_type": "error",
     "traceback": [
      "\u001b[1;31m---------------------------------------------------------------------------\u001b[0m",
      "\u001b[1;31mKeyError\u001b[0m                                  Traceback (most recent call last)",
      "Input \u001b[1;32mIn [73]\u001b[0m, in \u001b[0;36m<cell line: 1>\u001b[1;34m()\u001b[0m\n\u001b[1;32m----> 1\u001b[0m \u001b[43mdls\u001b[49m\u001b[43m[\u001b[49m\u001b[38;5;124;43m'\u001b[39;49m\u001b[38;5;124;43mhello\u001b[39;49m\u001b[38;5;124;43m'\u001b[39;49m\u001b[43m]\u001b[49m\n",
      "\u001b[1;31mKeyError\u001b[0m: 'hello'"
     ]
    }
   ],
   "source": [
    "dls['hello']"
   ]
  },
  {
   "cell_type": "code",
   "execution_count": 74,
   "id": "9e46687f",
   "metadata": {},
   "outputs": [
    {
     "data": {
      "text/plain": [
       "'hello is not a key'"
      ]
     },
     "execution_count": 74,
     "metadata": {},
     "output_type": "execute_result"
    }
   ],
   "source": [
    "dls.get('hello','hello is not a key')"
   ]
  },
  {
   "cell_type": "code",
   "execution_count": 75,
   "id": "163e684f",
   "metadata": {},
   "outputs": [],
   "source": [
    "dls['hello'] = 'Hi mjk'"
   ]
  },
  {
   "cell_type": "code",
   "execution_count": 76,
   "id": "cbca8bdf",
   "metadata": {},
   "outputs": [
    {
     "data": {
      "text/plain": [
       "{'name': 'mjk',\n",
       " 'age': 20,\n",
       " 'city': 'Pune',\n",
       " 'pincode': 12345,\n",
       " 'hello': 'Hi mjk'}"
      ]
     },
     "execution_count": 76,
     "metadata": {},
     "output_type": "execute_result"
    }
   ],
   "source": [
    "dls"
   ]
  },
  {
   "cell_type": "code",
   "execution_count": 80,
   "id": "688bdbe4",
   "metadata": {},
   "outputs": [
    {
     "data": {
      "text/plain": [
       "dict_keys(['name', 'age', 'city', 'pincode', 'hello'])"
      ]
     },
     "execution_count": 80,
     "metadata": {},
     "output_type": "execute_result"
    }
   ],
   "source": [
    "dls.keys()"
   ]
  },
  {
   "cell_type": "code",
   "execution_count": 81,
   "id": "bba62ed9",
   "metadata": {},
   "outputs": [
    {
     "data": {
      "text/plain": [
       "dict_items([('name', 'mjk'), ('age', 20), ('city', 'Pune'), ('pincode', 12345), ('hello', 'Hi mjk')])"
      ]
     },
     "execution_count": 81,
     "metadata": {},
     "output_type": "execute_result"
    }
   ],
   "source": [
    "dls.items()"
   ]
  },
  {
   "cell_type": "code",
   "execution_count": 83,
   "id": "b75e1b70",
   "metadata": {},
   "outputs": [
    {
     "data": {
      "text/plain": [
       "dict_keys(['name', 'age', 'city', 'pincode', 'hello'])"
      ]
     },
     "execution_count": 83,
     "metadata": {},
     "output_type": "execute_result"
    }
   ],
   "source": [
    "dls.keys()"
   ]
  },
  {
   "cell_type": "code",
   "execution_count": 84,
   "id": "13e0e75c",
   "metadata": {},
   "outputs": [
    {
     "data": {
      "text/plain": [
       "'Hi mjk'"
      ]
     },
     "execution_count": 84,
     "metadata": {},
     "output_type": "execute_result"
    }
   ],
   "source": [
    "dls.pop('hello')"
   ]
  },
  {
   "cell_type": "code",
   "execution_count": 85,
   "id": "8dbf3230",
   "metadata": {},
   "outputs": [
    {
     "data": {
      "text/plain": [
       "{'name': 'mjk', 'age': 20, 'city': 'Pune', 'pincode': 12345}"
      ]
     },
     "execution_count": 85,
     "metadata": {},
     "output_type": "execute_result"
    }
   ],
   "source": [
    "dls"
   ]
  },
  {
   "cell_type": "code",
   "execution_count": 95,
   "id": "9867231a",
   "metadata": {},
   "outputs": [
    {
     "data": {
      "text/plain": [
       "('city', 'Pune')"
      ]
     },
     "execution_count": 95,
     "metadata": {},
     "output_type": "execute_result"
    }
   ],
   "source": [
    "dls.popitem()"
   ]
  },
  {
   "cell_type": "code",
   "execution_count": 96,
   "id": "12bb7b7f",
   "metadata": {},
   "outputs": [
    {
     "data": {
      "text/plain": [
       "{'id': None, 'name': None, 'age': None, 'city': None}"
      ]
     },
     "execution_count": 96,
     "metadata": {},
     "output_type": "execute_result"
    }
   ],
   "source": [
    "k = ('id','name','age','city')\n",
    "\n",
    "dld = dict.fromkeys(k)\n",
    "dld"
   ]
  },
  {
   "cell_type": "code",
   "execution_count": 97,
   "id": "624f627b",
   "metadata": {},
   "outputs": [],
   "source": [
    "dld.setdefault('id',100)"
   ]
  },
  {
   "cell_type": "code",
   "execution_count": 98,
   "id": "e47af854",
   "metadata": {},
   "outputs": [
    {
     "data": {
      "text/plain": [
       "{'id': None, 'name': None, 'age': None, 'city': None}"
      ]
     },
     "execution_count": 98,
     "metadata": {},
     "output_type": "execute_result"
    }
   ],
   "source": [
    "dld"
   ]
  },
  {
   "cell_type": "code",
   "execution_count": 99,
   "id": "d03ecad3",
   "metadata": {},
   "outputs": [
    {
     "data": {
      "text/plain": [
       "'male'"
      ]
     },
     "execution_count": 99,
     "metadata": {},
     "output_type": "execute_result"
    }
   ],
   "source": [
    "dld.setdefault('gender','male')"
   ]
  },
  {
   "cell_type": "code",
   "execution_count": 100,
   "id": "d357c025",
   "metadata": {},
   "outputs": [
    {
     "data": {
      "text/plain": [
       "{'name': 'mjk', 'age': 20}"
      ]
     },
     "execution_count": 100,
     "metadata": {},
     "output_type": "execute_result"
    }
   ],
   "source": [
    "dls"
   ]
  },
  {
   "cell_type": "code",
   "execution_count": 101,
   "id": "e41f47c7",
   "metadata": {},
   "outputs": [
    {
     "data": {
      "text/plain": [
       "{'id': None, 'name': None, 'age': None, 'city': None, 'gender': 'male'}"
      ]
     },
     "execution_count": 101,
     "metadata": {},
     "output_type": "execute_result"
    }
   ],
   "source": [
    "dld"
   ]
  },
  {
   "cell_type": "code",
   "execution_count": 104,
   "id": "df68bdb9",
   "metadata": {},
   "outputs": [
    {
     "data": {
      "text/plain": [
       "{'name': 'mjk', 'age': 20}"
      ]
     },
     "execution_count": 104,
     "metadata": {},
     "output_type": "execute_result"
    }
   ],
   "source": [
    "dls"
   ]
  },
  {
   "cell_type": "code",
   "execution_count": 105,
   "id": "50986a63",
   "metadata": {},
   "outputs": [],
   "source": [
    "import pandas as pd"
   ]
  },
  {
   "cell_type": "code",
   "execution_count": 106,
   "id": "00d530c5",
   "metadata": {},
   "outputs": [
    {
     "ename": "ValueError",
     "evalue": "If using all scalar values, you must pass an index",
     "output_type": "error",
     "traceback": [
      "\u001b[1;31m---------------------------------------------------------------------------\u001b[0m",
      "\u001b[1;31mValueError\u001b[0m                                Traceback (most recent call last)",
      "Input \u001b[1;32mIn [106]\u001b[0m, in \u001b[0;36m<cell line: 1>\u001b[1;34m()\u001b[0m\n\u001b[1;32m----> 1\u001b[0m df \u001b[38;5;241m=\u001b[39m \u001b[43mpd\u001b[49m\u001b[38;5;241;43m.\u001b[39;49m\u001b[43mDataFrame\u001b[49m\u001b[43m(\u001b[49m\u001b[43mdls\u001b[49m\u001b[43m)\u001b[49m\n",
      "File \u001b[1;32m~\\anaconda3\\lib\\site-packages\\pandas\\core\\frame.py:663\u001b[0m, in \u001b[0;36mDataFrame.__init__\u001b[1;34m(self, data, index, columns, dtype, copy)\u001b[0m\n\u001b[0;32m    657\u001b[0m     mgr \u001b[38;5;241m=\u001b[39m \u001b[38;5;28mself\u001b[39m\u001b[38;5;241m.\u001b[39m_init_mgr(\n\u001b[0;32m    658\u001b[0m         data, axes\u001b[38;5;241m=\u001b[39m{\u001b[38;5;124m\"\u001b[39m\u001b[38;5;124mindex\u001b[39m\u001b[38;5;124m\"\u001b[39m: index, \u001b[38;5;124m\"\u001b[39m\u001b[38;5;124mcolumns\u001b[39m\u001b[38;5;124m\"\u001b[39m: columns}, dtype\u001b[38;5;241m=\u001b[39mdtype, copy\u001b[38;5;241m=\u001b[39mcopy\n\u001b[0;32m    659\u001b[0m     )\n\u001b[0;32m    661\u001b[0m \u001b[38;5;28;01melif\u001b[39;00m \u001b[38;5;28misinstance\u001b[39m(data, \u001b[38;5;28mdict\u001b[39m):\n\u001b[0;32m    662\u001b[0m     \u001b[38;5;66;03m# GH#38939 de facto copy defaults to False only in non-dict cases\u001b[39;00m\n\u001b[1;32m--> 663\u001b[0m     mgr \u001b[38;5;241m=\u001b[39m \u001b[43mdict_to_mgr\u001b[49m\u001b[43m(\u001b[49m\u001b[43mdata\u001b[49m\u001b[43m,\u001b[49m\u001b[43m \u001b[49m\u001b[43mindex\u001b[49m\u001b[43m,\u001b[49m\u001b[43m \u001b[49m\u001b[43mcolumns\u001b[49m\u001b[43m,\u001b[49m\u001b[43m \u001b[49m\u001b[43mdtype\u001b[49m\u001b[38;5;241;43m=\u001b[39;49m\u001b[43mdtype\u001b[49m\u001b[43m,\u001b[49m\u001b[43m \u001b[49m\u001b[43mcopy\u001b[49m\u001b[38;5;241;43m=\u001b[39;49m\u001b[43mcopy\u001b[49m\u001b[43m,\u001b[49m\u001b[43m \u001b[49m\u001b[43mtyp\u001b[49m\u001b[38;5;241;43m=\u001b[39;49m\u001b[43mmanager\u001b[49m\u001b[43m)\u001b[49m\n\u001b[0;32m    664\u001b[0m \u001b[38;5;28;01melif\u001b[39;00m \u001b[38;5;28misinstance\u001b[39m(data, ma\u001b[38;5;241m.\u001b[39mMaskedArray):\n\u001b[0;32m    665\u001b[0m     \u001b[38;5;28;01mimport\u001b[39;00m \u001b[38;5;21;01mnumpy\u001b[39;00m\u001b[38;5;21;01m.\u001b[39;00m\u001b[38;5;21;01mma\u001b[39;00m\u001b[38;5;21;01m.\u001b[39;00m\u001b[38;5;21;01mmrecords\u001b[39;00m \u001b[38;5;28;01mas\u001b[39;00m \u001b[38;5;21;01mmrecords\u001b[39;00m\n",
      "File \u001b[1;32m~\\anaconda3\\lib\\site-packages\\pandas\\core\\internals\\construction.py:493\u001b[0m, in \u001b[0;36mdict_to_mgr\u001b[1;34m(data, index, columns, dtype, typ, copy)\u001b[0m\n\u001b[0;32m    489\u001b[0m     \u001b[38;5;28;01melse\u001b[39;00m:\n\u001b[0;32m    490\u001b[0m         \u001b[38;5;66;03m# dtype check to exclude e.g. range objects, scalars\u001b[39;00m\n\u001b[0;32m    491\u001b[0m         arrays \u001b[38;5;241m=\u001b[39m [x\u001b[38;5;241m.\u001b[39mcopy() \u001b[38;5;28;01mif\u001b[39;00m \u001b[38;5;28mhasattr\u001b[39m(x, \u001b[38;5;124m\"\u001b[39m\u001b[38;5;124mdtype\u001b[39m\u001b[38;5;124m\"\u001b[39m) \u001b[38;5;28;01melse\u001b[39;00m x \u001b[38;5;28;01mfor\u001b[39;00m x \u001b[38;5;129;01min\u001b[39;00m arrays]\n\u001b[1;32m--> 493\u001b[0m \u001b[38;5;28;01mreturn\u001b[39;00m \u001b[43marrays_to_mgr\u001b[49m\u001b[43m(\u001b[49m\u001b[43marrays\u001b[49m\u001b[43m,\u001b[49m\u001b[43m \u001b[49m\u001b[43mcolumns\u001b[49m\u001b[43m,\u001b[49m\u001b[43m \u001b[49m\u001b[43mindex\u001b[49m\u001b[43m,\u001b[49m\u001b[43m \u001b[49m\u001b[43mdtype\u001b[49m\u001b[38;5;241;43m=\u001b[39;49m\u001b[43mdtype\u001b[49m\u001b[43m,\u001b[49m\u001b[43m \u001b[49m\u001b[43mtyp\u001b[49m\u001b[38;5;241;43m=\u001b[39;49m\u001b[43mtyp\u001b[49m\u001b[43m,\u001b[49m\u001b[43m \u001b[49m\u001b[43mconsolidate\u001b[49m\u001b[38;5;241;43m=\u001b[39;49m\u001b[43mcopy\u001b[49m\u001b[43m)\u001b[49m\n",
      "File \u001b[1;32m~\\anaconda3\\lib\\site-packages\\pandas\\core\\internals\\construction.py:118\u001b[0m, in \u001b[0;36marrays_to_mgr\u001b[1;34m(arrays, columns, index, dtype, verify_integrity, typ, consolidate)\u001b[0m\n\u001b[0;32m    115\u001b[0m \u001b[38;5;28;01mif\u001b[39;00m verify_integrity:\n\u001b[0;32m    116\u001b[0m     \u001b[38;5;66;03m# figure out the index, if necessary\u001b[39;00m\n\u001b[0;32m    117\u001b[0m     \u001b[38;5;28;01mif\u001b[39;00m index \u001b[38;5;129;01mis\u001b[39;00m \u001b[38;5;28;01mNone\u001b[39;00m:\n\u001b[1;32m--> 118\u001b[0m         index \u001b[38;5;241m=\u001b[39m \u001b[43m_extract_index\u001b[49m\u001b[43m(\u001b[49m\u001b[43marrays\u001b[49m\u001b[43m)\u001b[49m\n\u001b[0;32m    119\u001b[0m     \u001b[38;5;28;01melse\u001b[39;00m:\n\u001b[0;32m    120\u001b[0m         index \u001b[38;5;241m=\u001b[39m ensure_index(index)\n",
      "File \u001b[1;32m~\\anaconda3\\lib\\site-packages\\pandas\\core\\internals\\construction.py:656\u001b[0m, in \u001b[0;36m_extract_index\u001b[1;34m(data)\u001b[0m\n\u001b[0;32m    653\u001b[0m         \u001b[38;5;28;01mraise\u001b[39;00m \u001b[38;5;167;01mValueError\u001b[39;00m(\u001b[38;5;124m\"\u001b[39m\u001b[38;5;124mPer-column arrays must each be 1-dimensional\u001b[39m\u001b[38;5;124m\"\u001b[39m)\n\u001b[0;32m    655\u001b[0m \u001b[38;5;28;01mif\u001b[39;00m \u001b[38;5;129;01mnot\u001b[39;00m indexes \u001b[38;5;129;01mand\u001b[39;00m \u001b[38;5;129;01mnot\u001b[39;00m raw_lengths:\n\u001b[1;32m--> 656\u001b[0m     \u001b[38;5;28;01mraise\u001b[39;00m \u001b[38;5;167;01mValueError\u001b[39;00m(\u001b[38;5;124m\"\u001b[39m\u001b[38;5;124mIf using all scalar values, you must pass an index\u001b[39m\u001b[38;5;124m\"\u001b[39m)\n\u001b[0;32m    658\u001b[0m \u001b[38;5;28;01melif\u001b[39;00m have_series:\n\u001b[0;32m    659\u001b[0m     index \u001b[38;5;241m=\u001b[39m union_indexes(indexes)\n",
      "\u001b[1;31mValueError\u001b[0m: If using all scalar values, you must pass an index"
     ]
    }
   ],
   "source": [
    "df = pd.DataFrame(dls)"
   ]
  },
  {
   "cell_type": "code",
   "execution_count": 120,
   "id": "6b51a689",
   "metadata": {},
   "outputs": [],
   "source": [
    "ab = {'id':101,'Name':'mjk','City':'pune'}"
   ]
  },
  {
   "cell_type": "code",
   "execution_count": 121,
   "id": "f9ffb596",
   "metadata": {},
   "outputs": [
    {
     "data": {
      "text/plain": [
       "{'id': 101, 'Name': 'mjk', 'City': 'pune'}"
      ]
     },
     "execution_count": 121,
     "metadata": {},
     "output_type": "execute_result"
    }
   ],
   "source": [
    "ab"
   ]
  },
  {
   "cell_type": "code",
   "execution_count": 123,
   "id": "cafa3134",
   "metadata": {},
   "outputs": [],
   "source": [
    "var = 'hello python'"
   ]
  },
  {
   "cell_type": "code",
   "execution_count": 124,
   "id": "3cf6609e",
   "metadata": {},
   "outputs": [
    {
     "data": {
      "text/plain": [
       "'hello python'"
      ]
     },
     "execution_count": 124,
     "metadata": {},
     "output_type": "execute_result"
    }
   ],
   "source": [
    "var"
   ]
  },
  {
   "cell_type": "code",
   "execution_count": 126,
   "id": "cd7cb355",
   "metadata": {},
   "outputs": [
    {
     "data": {
      "text/plain": [
       "'Hello python'"
      ]
     },
     "execution_count": 126,
     "metadata": {},
     "output_type": "execute_result"
    }
   ],
   "source": [
    "var.capitalize()"
   ]
  },
  {
   "cell_type": "code",
   "execution_count": 127,
   "id": "a0fa60c5",
   "metadata": {},
   "outputs": [
    {
     "data": {
      "text/plain": [
       "'Hello Python'"
      ]
     },
     "execution_count": 127,
     "metadata": {},
     "output_type": "execute_result"
    }
   ],
   "source": [
    "var.title()"
   ]
  },
  {
   "cell_type": "code",
   "execution_count": 128,
   "id": "4681ed80",
   "metadata": {},
   "outputs": [
    {
     "data": {
      "text/plain": [
       "'hello python'"
      ]
     },
     "execution_count": 128,
     "metadata": {},
     "output_type": "execute_result"
    }
   ],
   "source": [
    "var.casefold()"
   ]
  },
  {
   "cell_type": "code",
   "execution_count": 131,
   "id": "3bc04260",
   "metadata": {},
   "outputs": [
    {
     "data": {
      "text/plain": [
       "'PYTHON'"
      ]
     },
     "execution_count": 131,
     "metadata": {},
     "output_type": "execute_result"
    }
   ],
   "source": [
    "var.split()[1].upper()"
   ]
  },
  {
   "cell_type": "code",
   "execution_count": 132,
   "id": "68980ea1",
   "metadata": {},
   "outputs": [
    {
     "data": {
      "text/plain": [
       "['hello p', 'thon']"
      ]
     },
     "execution_count": 132,
     "metadata": {},
     "output_type": "execute_result"
    }
   ],
   "source": [
    "var.split('y')"
   ]
  },
  {
   "cell_type": "code",
   "execution_count": 133,
   "id": "3735602c",
   "metadata": {},
   "outputs": [],
   "source": [
    "a = 25; b = 20; c = a+b"
   ]
  },
  {
   "cell_type": "code",
   "execution_count": 134,
   "id": "11320de4",
   "metadata": {},
   "outputs": [
    {
     "data": {
      "text/plain": [
       "'the value of 25 and 20 is 45'"
      ]
     },
     "execution_count": 134,
     "metadata": {},
     "output_type": "execute_result"
    }
   ],
   "source": [
    "'the value of {} and {} is {}'.format(a,b,c)"
   ]
  },
  {
   "cell_type": "code",
   "execution_count": 135,
   "id": "2af733e6",
   "metadata": {},
   "outputs": [
    {
     "data": {
      "text/plain": [
       "'the value of 25 and 20 is 45'"
      ]
     },
     "execution_count": 135,
     "metadata": {},
     "output_type": "execute_result"
    }
   ],
   "source": [
    "f'the value of {a} and {b} is {c}'"
   ]
  },
  {
   "cell_type": "code",
   "execution_count": 136,
   "id": "c90af545",
   "metadata": {},
   "outputs": [],
   "source": [
    "import datetime"
   ]
  },
  {
   "cell_type": "code",
   "execution_count": 138,
   "id": "0cb5a36b",
   "metadata": {},
   "outputs": [
    {
     "data": {
      "text/plain": [
       "datetime.date(2023, 9, 27)"
      ]
     },
     "execution_count": 138,
     "metadata": {},
     "output_type": "execute_result"
    }
   ],
   "source": [
    "datetime.datetime.date(datetime.datetime.now())"
   ]
  },
  {
   "cell_type": "code",
   "execution_count": 139,
   "id": "7aa5fffb",
   "metadata": {},
   "outputs": [],
   "source": [
    "file_name = 'text_{}.txt'.format(datetime.datetime.date(datetime.datetime.now()))"
   ]
  },
  {
   "cell_type": "code",
   "execution_count": 140,
   "id": "6841b7c4",
   "metadata": {},
   "outputs": [
    {
     "data": {
      "text/plain": [
       "'text_2023-09-27.txt'"
      ]
     },
     "execution_count": 140,
     "metadata": {},
     "output_type": "execute_result"
    }
   ],
   "source": [
    "file_name"
   ]
  },
  {
   "cell_type": "code",
   "execution_count": 141,
   "id": "397234b6",
   "metadata": {},
   "outputs": [
    {
     "data": {
      "text/plain": [
       "str"
      ]
     },
     "execution_count": 141,
     "metadata": {},
     "output_type": "execute_result"
    }
   ],
   "source": [
    "a = \"AGAdvbk55464\"\n",
    "type(a)"
   ]
  },
  {
   "cell_type": "code",
   "execution_count": 142,
   "id": "ea217362",
   "metadata": {},
   "outputs": [
    {
     "ename": "NameError",
     "evalue": "name 'h' is not defined",
     "output_type": "error",
     "traceback": [
      "\u001b[1;31m---------------------------------------------------------------------------\u001b[0m",
      "\u001b[1;31mNameError\u001b[0m                                 Traceback (most recent call last)",
      "Input \u001b[1;32mIn [142]\u001b[0m, in \u001b[0;36m<cell line: 1>\u001b[1;34m()\u001b[0m\n\u001b[1;32m----> 1\u001b[0m s \u001b[38;5;241m=\u001b[39m \u001b[43mh\u001b[49m[\u001b[38;5;241m0\u001b[39m]\u001b[38;5;241m+\u001b[39mh[\u001b[38;5;241m1\u001b[39m]\u001b[38;5;241m+\u001b[39mh[\u001b[38;5;241m2\u001b[39m]\u001b[38;5;241m+\u001b[39mh[\u001b[38;5;241m3\u001b[39m]\n",
      "\u001b[1;31mNameError\u001b[0m: name 'h' is not defined"
     ]
    }
   ],
   "source": [
    "s = h[0]+h[1]+h[2]+h[3]"
   ]
  },
  {
   "cell_type": "code",
   "execution_count": 143,
   "id": "fb45ae12",
   "metadata": {},
   "outputs": [],
   "source": [
    "a = [1,2,3,4]\n",
    "b = ['a','b','c','d']"
   ]
  },
  {
   "cell_type": "code",
   "execution_count": 144,
   "id": "af182218",
   "metadata": {},
   "outputs": [
    {
     "data": {
      "text/plain": [
       "[(1, 'a'), (2, 'b'), (3, 'c'), (4, 'd')]"
      ]
     },
     "execution_count": 144,
     "metadata": {},
     "output_type": "execute_result"
    }
   ],
   "source": [
    "list(zip(a,b))"
   ]
  },
  {
   "cell_type": "code",
   "execution_count": null,
   "id": "85b52c7f",
   "metadata": {},
   "outputs": [],
   "source": []
  }
 ],
 "metadata": {
  "kernelspec": {
   "display_name": "Python 3 (ipykernel)",
   "language": "python",
   "name": "python3"
  },
  "language_info": {
   "codemirror_mode": {
    "name": "ipython",
    "version": 3
   },
   "file_extension": ".py",
   "mimetype": "text/x-python",
   "name": "python",
   "nbconvert_exporter": "python",
   "pygments_lexer": "ipython3",
   "version": "3.9.12"
  }
 },
 "nbformat": 4,
 "nbformat_minor": 5
}
