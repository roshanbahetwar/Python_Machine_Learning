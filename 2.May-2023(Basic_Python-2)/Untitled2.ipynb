{
 "cells": [
  {
   "cell_type": "code",
   "execution_count": 1,
   "id": "bba0a54e",
   "metadata": {},
   "outputs": [],
   "source": [
    "py_lst = ['Python',45,'Hadoop''1515','15158998',257,'ML','Scala']"
   ]
  },
  {
   "cell_type": "code",
   "execution_count": 2,
   "id": "3f949024",
   "metadata": {},
   "outputs": [
    {
     "name": "stdout",
     "output_type": "stream",
     "text": [
      "45\n",
      "15158998\n",
      "257\n"
     ]
    }
   ],
   "source": [
    "for i in py_lst:\n",
    "    if str(i).isnumeric():\n",
    "        print(i)"
   ]
  },
  {
   "cell_type": "code",
   "execution_count": 3,
   "id": "ebb29bc3",
   "metadata": {},
   "outputs": [],
   "source": [
    "py_dict = {'name':'Roshan','age': 29,'sal':75000,'id':2274}"
   ]
  },
  {
   "cell_type": "code",
   "execution_count": 4,
   "id": "5f6cf555",
   "metadata": {},
   "outputs": [
    {
     "name": "stdout",
     "output_type": "stream",
     "text": [
      "name Roshan\n",
      "age 29\n"
     ]
    }
   ],
   "source": [
    "for i in py_dict.keys():\n",
    "    if i in ['name','age']:\n",
    "        print(i,py_dict[i])"
   ]
  },
  {
   "cell_type": "code",
   "execution_count": 9,
   "id": "13780f82",
   "metadata": {},
   "outputs": [],
   "source": [
    "def count(x):\n",
    "    for i in range(1,11):\n",
    "        print(i*x)"
   ]
  },
  {
   "cell_type": "code",
   "execution_count": 11,
   "id": "bd90ba86",
   "metadata": {},
   "outputs": [
    {
     "name": "stdout",
     "output_type": "stream",
     "text": [
      "4\n",
      "8\n",
      "12\n",
      "16\n",
      "20\n",
      "24\n",
      "28\n",
      "32\n",
      "36\n",
      "40\n"
     ]
    }
   ],
   "source": [
    "count(4)"
   ]
  },
  {
   "cell_type": "code",
   "execution_count": 19,
   "id": "f5b06f33",
   "metadata": {},
   "outputs": [],
   "source": [
    "name = ['Roshan','Mohan','Sneha','Rakesh','Yogesh']\n",
    "age = [25,27,29,24,28]\n",
    "\n",
    "a = list(zip(name,age))"
   ]
  },
  {
   "cell_type": "code",
   "execution_count": 20,
   "id": "724361cf",
   "metadata": {},
   "outputs": [
    {
     "data": {
      "text/plain": [
       "[('Roshan', 25), ('Mohan', 27), ('Sneha', 29), ('Rakesh', 24), ('Yogesh', 28)]"
      ]
     },
     "execution_count": 20,
     "metadata": {},
     "output_type": "execute_result"
    }
   ],
   "source": [
    "a"
   ]
  },
  {
   "cell_type": "code",
   "execution_count": 14,
   "id": "5942b5c1",
   "metadata": {},
   "outputs": [
    {
     "name": "stdout",
     "output_type": "stream",
     "text": [
      "('Roshan', 25)\n",
      "('Mohan', 27)\n",
      "('Sneha', 29)\n",
      "('Rakesh', 24)\n",
      "('Yogesh', 28)\n"
     ]
    }
   ],
   "source": [
    "for i in a:\n",
    "    print(i)"
   ]
  },
  {
   "cell_type": "code",
   "execution_count": 21,
   "id": "3e6b1b7d",
   "metadata": {},
   "outputs": [
    {
     "name": "stdout",
     "output_type": "stream",
     "text": [
      "enter number 10\n",
      "enter number 25\n",
      "addidtion of 10 and 25 is 35\n",
      "enter the choice [y/n] y\n",
      "enter number 35\n",
      "enter number 65\n",
      "addidtion of 35 and 65 is 100\n",
      "enter the choice [y/n] n\n",
      "Thanks for visiting\n"
     ]
    },
    {
     "ename": "NameError",
     "evalue": "name 'false' is not defined",
     "output_type": "error",
     "traceback": [
      "\u001b[1;31m---------------------------------------------------------------------------\u001b[0m",
      "\u001b[1;31mNameError\u001b[0m                                 Traceback (most recent call last)",
      "Input \u001b[1;32mIn [21]\u001b[0m, in \u001b[0;36m<cell line: 3>\u001b[1;34m()\u001b[0m\n\u001b[0;32m     10\u001b[0m \u001b[38;5;28;01mif\u001b[39;00m choice \u001b[38;5;241m==\u001b[39m \u001b[38;5;124m'\u001b[39m\u001b[38;5;124mn\u001b[39m\u001b[38;5;124m'\u001b[39m:\n\u001b[0;32m     11\u001b[0m     \u001b[38;5;28mprint\u001b[39m(\u001b[38;5;124m'\u001b[39m\u001b[38;5;124mThanks for visiting\u001b[39m\u001b[38;5;124m'\u001b[39m)\n\u001b[1;32m---> 12\u001b[0m     flag \u001b[38;5;241m=\u001b[39m \u001b[43mfalse\u001b[49m\n",
      "\u001b[1;31mNameError\u001b[0m: name 'false' is not defined"
     ]
    }
   ],
   "source": [
    "flag = True\n",
    "\n",
    "while flag:\n",
    "    a = int(input('enter number '))\n",
    "    b = int(input('enter number '))\n",
    "    c = a+b\n",
    "    print(f'addidtion of {a} and {b} is {c}')\n",
    "    \n",
    "    choice = input('enter the choice [y/n] ')\n",
    "    if choice == 'n':\n",
    "        print('Thanks for visiting')\n",
    "        flag = false"
   ]
  },
  {
   "cell_type": "code",
   "execution_count": 22,
   "id": "b60ce7cd",
   "metadata": {},
   "outputs": [
    {
     "name": "stdout",
     "output_type": "stream",
     "text": [
      "enter number1\n",
      "enter the number [quite for -1] 2\n",
      "enter the number [quite for -1] 3\n",
      "enter the number [quite for -1] 3\n",
      "enter the number [quite for -1] 5\n",
      "enter the number [quite for -1] 53\n",
      "enter the number [quite for -1] 345\n",
      "enter the number [quite for -1] -1\n"
     ]
    }
   ],
   "source": [
    "a = int(input('enter number'))\n",
    "while a != -1:\n",
    "    a = int(input('enter the number [quite for -1] '))"
   ]
  },
  {
   "cell_type": "code",
   "execution_count": 25,
   "id": "3bafa974",
   "metadata": {},
   "outputs": [
    {
     "name": "stdout",
     "output_type": "stream",
     "text": [
      "count is 1 count is 2 count is 3 count is 4 count is 5 count is 6 count is 7 count is 8 count is 9 count is 10 count is 11 count is 12 count is 13 count is 14 count is 15 count is 16 count is 17 count is 18 count is 19 count is 20 end\n"
     ]
    }
   ],
   "source": [
    "count = 0\n",
    "\n",
    "while True:\n",
    "    count += 1\n",
    "    print(f'count is {count}',end = ' ')\n",
    "    \n",
    "    if count == 20:\n",
    "        break\n",
    "print('end')"
   ]
  },
  {
   "cell_type": "code",
   "execution_count": null,
   "id": "75caccfe",
   "metadata": {},
   "outputs": [],
   "source": [
    "@classmethod\n",
    "def abc(cls, input1):\n",
    "    lst = len(input1)\n",
    "    a = len(input1)"
   ]
  },
  {
   "cell_type": "code",
   "execution_count": 28,
   "id": "03479187",
   "metadata": {},
   "outputs": [
    {
     "ename": "NameError",
     "evalue": "name 'cls' is not defined",
     "output_type": "error",
     "traceback": [
      "\u001b[1;31m---------------------------------------------------------------------------\u001b[0m",
      "\u001b[1;31mNameError\u001b[0m                                 Traceback (most recent call last)",
      "Input \u001b[1;32mIn [28]\u001b[0m, in \u001b[0;36m<cell line: 18>\u001b[1;34m()\u001b[0m\n\u001b[0;32m     15\u001b[0m \u001b[38;5;66;03m# Input string\u001b[39;00m\n\u001b[0;32m     16\u001b[0m input_string \u001b[38;5;241m=\u001b[39m \u001b[38;5;124m\"\u001b[39m\u001b[38;5;124mjohnpaul\u001b[39m\u001b[38;5;124m\"\u001b[39m\n\u001b[1;32m---> 18\u001b[0m calculate_difference(\u001b[38;5;28;43mcls\u001b[39;49m, input_string)\n",
      "\u001b[1;31mNameError\u001b[0m: name 'cls' is not defined"
     ]
    }
   ],
   "source": [
    "@classmethod\n",
    "def calculate_difference(cls, input_string):\n",
    "    total_diff = 0\n",
    "\n",
    "    for length in range(1, len(input_string) + 1):\n",
    "        for start in range(len(input_string) - length + 1):\n",
    "            substring = input_string[start : start + length]\n",
    "\n",
    "            if not cls.is_palindrome(substring):\n",
    "                diff = abs(len(substring) - sum(1 for c in substring if c.isalpha()))\n",
    "                total_diff += diff\n",
    "\n",
    "    return total_diff\n",
    "\n",
    "# Input string\n",
    "input_string = \"johnpaul\"\n",
    "\n",
    "calculate_difference(cls, input_string)"
   ]
  },
  {
   "cell_type": "code",
   "execution_count": 1,
   "id": "a48d7523",
   "metadata": {},
   "outputs": [
    {
     "name": "stdout",
     "output_type": "stream",
     "text": [
      "         Unnamed: 0 Unnamed: 1  \\\n",
      "0   Batch : Testing        NaN   \n",
      "1               NaN        Sr.   \n",
      "2               NaN          1   \n",
      "3               NaN          2   \n",
      "4               NaN          3   \n",
      "5               NaN          4   \n",
      "6               NaN          5   \n",
      "7               NaN          6   \n",
      "8               NaN          7   \n",
      "9               NaN          8   \n",
      "10              NaN          9   \n",
      "11              NaN         10   \n",
      "12              NaN         11   \n",
      "13              NaN         12   \n",
      "14              NaN         13   \n",
      "15              NaN         14   \n",
      "16              NaN         15   \n",
      "17              NaN         16   \n",
      "18              NaN         17   \n",
      "19              NaN         18   \n",
      "20              NaN         19   \n",
      "21              NaN         20   \n",
      "22              NaN         21   \n",
      "23              NaN         22   \n",
      "24              NaN         23   \n",
      "25              NaN         24   \n",
      "26              NaN         25   \n",
      "27              NaN         26   \n",
      "28              NaN         27   \n",
      "29              NaN         28   \n",
      "30              NaN         29   \n",
      "31              NaN         30   \n",
      "\n",
      "                                           Unnamed: 2  Unnamed: 3  \n",
      "0                                                 NaN         NaN  \n",
      "1                                      Course Content         NaN  \n",
      "2                             Introduction of Testing         NaN  \n",
      "3                   What is Data and Database Testing         NaN  \n",
      "4                                 Introduction of SQL         NaN  \n",
      "5                                      SQL Statements         NaN  \n",
      "6                          DML,DDL,DCL,TCL Statements         NaN  \n",
      "7                                    create statement         NaN  \n",
      "8                        Insert and select statements         NaN  \n",
      "9                                        Where Clause         NaN  \n",
      "10  Operaters                                     ...         NaN  \n",
      "11                           Update,Delete Statements         NaN  \n",
      "12                       Alter,Drop ,Truncate ,Rename         NaN  \n",
      "13                                What is fact table?         NaN  \n",
      "14                                    Order by Clause         NaN  \n",
      "15  Aggregate Functions (Max,Min,Avg,Sum,Count,Dis...         NaN  \n",
      "16                                    Group by Clause         NaN  \n",
      "17                                      Having Clause         NaN  \n",
      "18                                        Constraints         NaN  \n",
      "19                                               Join         NaN  \n",
      "20                                       Set operator         NaN  \n",
      "21                             Date and Time Function         NaN  \n",
      "22                  Sub query and Co-relational query         NaN  \n",
      "23                             Null Value replacement         NaN  \n",
      "24                                        Over Clause         NaN  \n",
      "25                                       Partition by         NaN  \n",
      "26                            Rank,Dense_Rank,Row_Num         NaN  \n",
      "27                                SQL Server Function         7.0  \n",
      "28                                   Stored Procedure         NaN  \n",
      "29                                               View         NaN  \n",
      "30                                              Index         NaN  \n",
      "31                                            Trigger         NaN  \n"
     ]
    }
   ],
   "source": [
    "import pandas as pd\n",
    "df = pd.read_excel(r'C:\\Users\\Roshan B\\Desktop\\Python 34\\SQL\\class_notes\\1.Syllabus_SQL.xlsx',sheet_name='Sheet1')\n",
    "print(df)"
   ]
  },
  {
   "cell_type": "code",
   "execution_count": 1,
   "id": "75800580",
   "metadata": {},
   "outputs": [],
   "source": [
    "fruits = ['orange', 'apple', 'pear', 'banana', 'kiwi', 'apple', 'banana']"
   ]
  },
  {
   "cell_type": "code",
   "execution_count": 2,
   "id": "7439e6a3",
   "metadata": {},
   "outputs": [
    {
     "data": {
      "text/plain": [
       "2"
      ]
     },
     "execution_count": 2,
     "metadata": {},
     "output_type": "execute_result"
    }
   ],
   "source": [
    "fruits.count('apple')"
   ]
  },
  {
   "cell_type": "code",
   "execution_count": 3,
   "id": "1f897360",
   "metadata": {},
   "outputs": [
    {
     "data": {
      "text/plain": [
       "5"
      ]
     },
     "execution_count": 3,
     "metadata": {},
     "output_type": "execute_result"
    }
   ],
   "source": [
    "fruits.index('apple',4)"
   ]
  },
  {
   "cell_type": "code",
   "execution_count": 4,
   "id": "7ed9e9aa",
   "metadata": {},
   "outputs": [
    {
     "data": {
      "text/plain": [
       "4"
      ]
     },
     "execution_count": 4,
     "metadata": {},
     "output_type": "execute_result"
    }
   ],
   "source": [
    "fruits.index('kiwi',3)"
   ]
  },
  {
   "cell_type": "code",
   "execution_count": 5,
   "id": "dd87a904",
   "metadata": {},
   "outputs": [],
   "source": [
    "fruits.sort()"
   ]
  },
  {
   "cell_type": "code",
   "execution_count": 6,
   "id": "6a539805",
   "metadata": {},
   "outputs": [
    {
     "data": {
      "text/plain": [
       "['apple', 'apple', 'banana', 'banana', 'kiwi', 'orange', 'pear']"
      ]
     },
     "execution_count": 6,
     "metadata": {},
     "output_type": "execute_result"
    }
   ],
   "source": [
    "fruits"
   ]
  }
 ],
 "metadata": {
  "kernelspec": {
   "display_name": "Python 3 (ipykernel)",
   "language": "python",
   "name": "python3"
  },
  "language_info": {
   "codemirror_mode": {
    "name": "ipython",
    "version": 3
   },
   "file_extension": ".py",
   "mimetype": "text/x-python",
   "name": "python",
   "nbconvert_exporter": "python",
   "pygments_lexer": "ipython3",
   "version": "3.9.12"
  }
 },
 "nbformat": 4,
 "nbformat_minor": 5
}
