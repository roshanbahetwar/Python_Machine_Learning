{
 "cells": [
  {
   "cell_type": "code",
   "execution_count": 1,
   "id": "9ad83a75",
   "metadata": {},
   "outputs": [],
   "source": [
    "# Conditional statement"
   ]
  },
  {
   "cell_type": "code",
   "execution_count": 1,
   "id": "b2d104b3",
   "metadata": {},
   "outputs": [
    {
     "name": "stdout",
     "output_type": "stream",
     "text": [
      "10 greater than 5\n",
      "program ended...\n"
     ]
    }
   ],
   "source": [
    "if 10 > 5:\n",
    "    print('10 greater than 5')\n",
    "print('program ended...')"
   ]
  },
  {
   "cell_type": "code",
   "execution_count": 3,
   "id": "e498085f",
   "metadata": {},
   "outputs": [
    {
     "name": "stdout",
     "output_type": "stream",
     "text": [
      "enter value:- 3\n",
      "No\n"
     ]
    }
   ],
   "source": [
    "value = int(input('enter value:- '))\n",
    "\n",
    "if value == 4:\n",
    "    print('Yes')\n",
    "else:\n",
    "    print('No')"
   ]
  },
  {
   "cell_type": "code",
   "execution_count": 1,
   "id": "48078971",
   "metadata": {},
   "outputs": [
    {
     "ename": "IndentationError",
     "evalue": "expected an indented block (1141925413.py, line 5)",
     "output_type": "error",
     "traceback": [
      "\u001b[1;36m  Input \u001b[1;32mIn [1]\u001b[1;36m\u001b[0m\n\u001b[1;33m    print(\"letter is B\")\u001b[0m\n\u001b[1;37m    ^\u001b[0m\n\u001b[1;31mIndentationError\u001b[0m\u001b[1;31m:\u001b[0m expected an indented block\n"
     ]
    }
   ],
   "source": [
    "# if..else chain statement\n",
    "letter = \"A\"\n",
    "\n",
    "if letter == \"B\":\n",
    "print(\"letter is B\")\n",
    "\n",
    "else:\n",
    "    print('not equal')\n",
    "\t\n",
    "if letter == \"C\":\n",
    "\tprint(\"letter is C\")\n",
    "\t\n",
    "else:\n",
    "    print()\n",
    "\t\n",
    "\tif letter == \"A\":\n",
    "\tprint(\"letter is A\")\n",
    "\t\n",
    "\telse:\n",
    "\tprint(\"letter isn't A, B and C\")\n"
   ]
  },
  {
   "cell_type": "code",
   "execution_count": 13,
   "id": "6b18f650",
   "metadata": {},
   "outputs": [
    {
     "name": "stdout",
     "output_type": "stream",
     "text": [
      "enter letter:- c\n",
      "letter is C\n"
     ]
    }
   ],
   "source": [
    "letter = input('enter letter:- ').upper()\n",
    "if letter == 'B':\n",
    "    print('letter is B')\n",
    "else:\n",
    "    if letter == 'C':\n",
    "        print('letter is C')\n",
    "    else:\n",
    "        if letter == 'A':\n",
    "            print('letter is A')\n",
    "        else:\n",
    "            print('letter isn\"t A,B,C')"
   ]
  },
  {
   "cell_type": "code",
   "execution_count": 15,
   "id": "501e3db2",
   "metadata": {},
   "outputs": [
    {
     "name": "stdout",
     "output_type": "stream",
     "text": [
      "Bigger than 5\n",
      "Between 5 and 15\n"
     ]
    }
   ],
   "source": [
    "# Nested if statement example\n",
    "num = 10\n",
    "\n",
    "if num > 5:\n",
    "    \n",
    "    print(\"Bigger than 5\")\n",
    "\n",
    "    if num <= 15:\n",
    "        print(\"Between 5 and 15\")\n"
   ]
  },
  {
   "cell_type": "code",
   "execution_count": 19,
   "id": "ed32892e",
   "metadata": {},
   "outputs": [
    {
     "name": "stdout",
     "output_type": "stream",
     "text": [
      "enter the number:- 16\n",
      "num is greater than 10\n"
     ]
    }
   ],
   "source": [
    "num = int(input('enter the number:- '))\n",
    "\n",
    "if num > 10:\n",
    "    print('num is greater than 10')\n",
    "    if num <= 15:\n",
    "        print('bet 10 and  15')"
   ]
  },
  {
   "cell_type": "code",
   "execution_count": 48,
   "id": "d0e5f4a5",
   "metadata": {},
   "outputs": [
    {
     "name": "stdout",
     "output_type": "stream",
     "text": [
      "[16, 3, 18, 18]\n"
     ]
    }
   ],
   "source": [
    "# Explicit function\n",
    "def digitSum(n):\n",
    "\tdsum = 0\n",
    "\tfor ele in str(n):\n",
    "\t\tdsum += int(ele)\n",
    "\treturn dsum\n",
    "\n",
    "\n",
    "# Initializing list\n",
    "List = [367, 111, 562, 945, 6726, 873]\n",
    "\n",
    "# Using the function on odd elements of the list\n",
    "newList = [digitSum(i) for i in List if i & 1]\n",
    "\n",
    "# Displaying new list\n",
    "print(newList)\n"
   ]
  },
  {
   "cell_type": "code",
   "execution_count": 49,
   "id": "e4453beb",
   "metadata": {},
   "outputs": [],
   "source": [
    "def intSum(n):\n",
    "    dlst = 0\n",
    "    for i in str(n):\n",
    "        dlst += int(i)\n",
    "    return dlst"
   ]
  },
  {
   "cell_type": "code",
   "execution_count": 51,
   "id": "5590dd09",
   "metadata": {},
   "outputs": [
    {
     "name": "stdout",
     "output_type": "stream",
     "text": [
      "[11, 20, 11, 18]\n"
     ]
    }
   ],
   "source": [
    "lst1 = [256,245,236,278,659,119,369]\n",
    "nst = [intSum(i) for i in lst1 if i & 1]\n",
    "\n",
    "print(nst)"
   ]
  },
  {
   "cell_type": "code",
   "execution_count": null,
   "id": "cbf20546",
   "metadata": {},
   "outputs": [],
   "source": [
    "# python program to illustrate nested If statement\n",
    "\n",
    "i = 10\n",
    "if (i == 10):\n",
    "\n",
    "\t# First if statement\n",
    "\tif (i < 15):\n",
    "\t\tprint(\"i is smaller than 15\")\n",
    "\t\t\n",
    "\t# Nested - if statement\n",
    "\t# Will only be executed if statement above\n",
    "\t# it is true\n",
    "\tif (i < 12):\n",
    "\t\tprint(\"i is smaller than 12 too\")\n",
    "\telse:\n",
    "\t\tprint(\"i is greater than 15\")\n"
   ]
  },
  {
   "cell_type": "code",
   "execution_count": 7,
   "id": "7a69ee60",
   "metadata": {},
   "outputs": [
    {
     "name": "stdout",
     "output_type": "stream",
     "text": [
      "enter number 16\n",
      "not equal to  10\n"
     ]
    }
   ],
   "source": [
    "i = int(input('enter number '))\n",
    "if (i == 10):\n",
    "    \n",
    "    if i<15:\n",
    "        print('i is smaller than 15')\n",
    "    if i < 12:\n",
    "        print('i is smaller than 12 too')\n",
    "    else:\n",
    "        print('i is greater than 15')\n",
    "else:\n",
    "    print('not equal to ',10)"
   ]
  },
  {
   "cell_type": "code",
   "execution_count": null,
   "id": "4d23f3e1",
   "metadata": {},
   "outputs": [],
   "source": [
    "# Python program to illustrate if-elif-else ladder\n",
    "#!/usr/bin/python\n",
    "\n",
    "i = 20\n",
    "if (i == 10):\n",
    "\tprint(\"i is 10\")\n",
    "elif (i == 15):\n",
    "\tprint(\"i is 15\")\n",
    "elif (i == 20):\n",
    "\tprint(\"i is 20\")\n",
    "else:\n",
    "\tprint(\"i is not present\")\n"
   ]
  },
  {
   "cell_type": "code",
   "execution_count": 63,
   "id": "4343d43e",
   "metadata": {},
   "outputs": [
    {
     "name": "stdout",
     "output_type": "stream",
     "text": [
      "enter the value:- 45\n",
      "i in between 21 to 50\n"
     ]
    }
   ],
   "source": [
    "i = int(input('enter the value:- '))\n",
    "if (i == 10):\n",
    "    print('i is 10')\n",
    "elif (i == 15):\n",
    "    print(' i is 15')\n",
    "elif ( i == 20):\n",
    "    print('i is 20')\n",
    "else:\n",
    "    print('not present')"
   ]
  },
  {
   "cell_type": "code",
   "execution_count": 68,
   "id": "6685b381",
   "metadata": {},
   "outputs": [
    {
     "name": "stdout",
     "output_type": "stream",
     "text": [
      "enter the number 101\n",
      "the number is 101\n",
      "not in range\n"
     ]
    }
   ],
   "source": [
    "i = int(input('enter the number '))\n",
    "print('the number is', i)\n",
    "if i in range(21,50):\n",
    "    print('i in between 21 to 50')\n",
    "else:\n",
    "    print('not in range')"
   ]
  },
  {
   "cell_type": "code",
   "execution_count": 76,
   "id": "0ddf23fc",
   "metadata": {},
   "outputs": [
    {
     "name": "stdout",
     "output_type": "stream",
     "text": [
      "equal to 10\n"
     ]
    }
   ],
   "source": [
    "i = 10\n",
    "\n",
    "print(' i is greater than 10') if i > 10 else print('equal to 10')"
   ]
  },
  {
   "cell_type": "code",
   "execution_count": 81,
   "id": "8fc9d396",
   "metadata": {},
   "outputs": [
    {
     "name": "stdout",
     "output_type": "stream",
     "text": [
      "1\n",
      "2\n",
      "3\n",
      "4\n",
      "5\n",
      "6\n",
      "7\n",
      "8\n",
      "9\n",
      "no break\n"
     ]
    }
   ],
   "source": [
    "for i in range(1,10):\n",
    "    print(i)\n",
    "else:\n",
    "    print('no break')"
   ]
  },
  {
   "cell_type": "code",
   "execution_count": 88,
   "id": "199ff214",
   "metadata": {},
   "outputs": [
    {
     "name": "stdout",
     "output_type": "stream",
     "text": [
      "1\n"
     ]
    }
   ],
   "source": [
    "for i in range(1,11):\n",
    "    print(i)\n",
    "    break\n",
    "else:\n",
    "    print('no break')"
   ]
  },
  {
   "cell_type": "code",
   "execution_count": null,
   "id": "c63e6ba9",
   "metadata": {},
   "outputs": [],
   "source": [
    "# Python 3.x program to check if an array consists\n",
    "# of even number\n",
    "def contains_even_number(l):\n",
    "\tfor ele in l:\n",
    "\t\tif ele % 2 == 0:\n",
    "\t\t\tprint (\"list contains an even number\")\n",
    "\t\t\tbreak\n",
    "\n",
    "\t# This else executes only if break is NEVER\n",
    "\t# reached and loop terminated after all iterations.\n",
    "\telse:\t\n",
    "\t\tprint (\"list does not contain an even number\")\n",
    "\n",
    "# Driver code\n",
    "print (\"For List 1:\")\n",
    "contains_even_number([1, 9, 8])\n",
    "print (\" \\nFor List 2:\")\n",
    "contains_even_number([1, 3, 5])\n"
   ]
  },
  {
   "cell_type": "code",
   "execution_count": 109,
   "id": "32d94863",
   "metadata": {},
   "outputs": [
    {
     "name": "stdout",
     "output_type": "stream",
     "text": [
      "lst contains even numbers\n"
     ]
    }
   ],
   "source": [
    "lst = [1,3,7,5,2,8,9,10,12]\n",
    "for i in lst:\n",
    "    if i % 2 == 0:\n",
    "        print('lst contains even numbers')\n",
    "        break\n",
    "        \n",
    "else:\n",
    "    print('lst contain no evan number')"
   ]
  },
  {
   "cell_type": "code",
   "execution_count": 111,
   "id": "ddb036e3",
   "metadata": {},
   "outputs": [
    {
     "name": "stdout",
     "output_type": "stream",
     "text": [
      "even not contain\n"
     ]
    }
   ],
   "source": [
    "lst = [1,3,7,9]\n",
    "\n",
    "for i in lst:\n",
    "    if i % 2 == 0:\n",
    "        print('lst contain even')\n",
    "        break\n",
    "else:\n",
    "    print('even not contain')"
   ]
  },
  {
   "cell_type": "code",
   "execution_count": 118,
   "id": "b1754661",
   "metadata": {},
   "outputs": [],
   "source": [
    "def evenElement(lst):\n",
    "    for i in lst:\n",
    "        if i % 2 == 0:\n",
    "            print('lst contain even')\n",
    "            break\n",
    "    else:\n",
    "        print('lst contains no even')"
   ]
  },
  {
   "cell_type": "code",
   "execution_count": 119,
   "id": "fbe2d06b",
   "metadata": {},
   "outputs": [
    {
     "name": "stdout",
     "output_type": "stream",
     "text": [
      "lst contains no even\n"
     ]
    }
   ],
   "source": [
    "lst = [1,7,9,11]\n",
    "\n",
    "evenElement(lst)"
   ]
  },
  {
   "cell_type": "code",
   "execution_count": 120,
   "id": "5617e2f2",
   "metadata": {},
   "outputs": [
    {
     "name": "stdout",
     "output_type": "stream",
     "text": [
      "lst contain even\n"
     ]
    }
   ],
   "source": [
    "evenElement([1,5,7,12])"
   ]
  },
  {
   "cell_type": "code",
   "execution_count": 132,
   "id": "1c3bd831",
   "metadata": {},
   "outputs": [
    {
     "name": "stdout",
     "output_type": "stream",
     "text": [
      "True\n",
      "False\n",
      "True\n",
      "True\n",
      "True\n"
     ]
    }
   ],
   "source": [
    "# Python code to illustrate\n",
    "# chaining comparison operators\n",
    "x = 5\n",
    "print(1 < x < 10)\n",
    "print(10 < x < 20 )\n",
    "print(x < 10 < x*10 < 100)\n",
    "print(10 > x <= 9)\n",
    "print(5 == x > 4)\n"
   ]
  },
  {
   "cell_type": "code",
   "execution_count": 124,
   "id": "ac83008a",
   "metadata": {},
   "outputs": [
    {
     "data": {
      "text/plain": [
       "True"
      ]
     },
     "execution_count": 124,
     "metadata": {},
     "output_type": "execute_result"
    }
   ],
   "source": [
    "x = 5\n",
    "\n",
    "1<x"
   ]
  },
  {
   "cell_type": "code",
   "execution_count": 125,
   "id": "0aec081d",
   "metadata": {},
   "outputs": [
    {
     "data": {
      "text/plain": [
       "True"
      ]
     },
     "execution_count": 125,
     "metadata": {},
     "output_type": "execute_result"
    }
   ],
   "source": [
    "x<10"
   ]
  },
  {
   "cell_type": "code",
   "execution_count": 130,
   "id": "f0a1f629",
   "metadata": {},
   "outputs": [
    {
     "data": {
      "text/plain": [
       "True"
      ]
     },
     "execution_count": 130,
     "metadata": {},
     "output_type": "execute_result"
    }
   ],
   "source": [
    "1<x<10"
   ]
  },
  {
   "cell_type": "code",
   "execution_count": 131,
   "id": "0ecb088e",
   "metadata": {},
   "outputs": [
    {
     "data": {
      "text/plain": [
       "True"
      ]
     },
     "execution_count": 131,
     "metadata": {},
     "output_type": "execute_result"
    }
   ],
   "source": [
    "1<x and x <10"
   ]
  },
  {
   "cell_type": "code",
   "execution_count": 133,
   "id": "376c4ff1",
   "metadata": {},
   "outputs": [],
   "source": [
    "x = 5"
   ]
  },
  {
   "cell_type": "code",
   "execution_count": 134,
   "id": "758a3576",
   "metadata": {},
   "outputs": [
    {
     "data": {
      "text/plain": [
       "True"
      ]
     },
     "execution_count": 134,
     "metadata": {},
     "output_type": "execute_result"
    }
   ],
   "source": [
    "10> x"
   ]
  },
  {
   "cell_type": "code",
   "execution_count": 136,
   "id": "66d4a96b",
   "metadata": {},
   "outputs": [
    {
     "data": {
      "text/plain": [
       "True"
      ]
     },
     "execution_count": 136,
     "metadata": {},
     "output_type": "execute_result"
    }
   ],
   "source": [
    "x <= 9"
   ]
  },
  {
   "cell_type": "code",
   "execution_count": 141,
   "id": "3963360a",
   "metadata": {},
   "outputs": [
    {
     "name": "stdout",
     "output_type": "stream",
     "text": [
      "enter the age:- 46\n",
      "Your age is  46\n",
      "pls take booster dose on priority\n",
      "thanks for visiting..\n"
     ]
    }
   ],
   "source": [
    "age = int(input('enter the age:- '))\n",
    "print('Your age is ',age)\n",
    "\n",
    "if age> 45:\n",
    "    print('pls take booster dose on priority')\n",
    "else: print('you are not eligible')\n",
    "print('thanks for visiting..')"
   ]
  },
  {
   "cell_type": "code",
   "execution_count": 146,
   "id": "487e698e",
   "metadata": {},
   "outputs": [
    {
     "name": "stdout",
     "output_type": "stream",
     "text": [
      "enter the filename:- sjdkjkdl.ddd\n",
      "invalid file\n"
     ]
    }
   ],
   "source": [
    "file_name = input('enter the filename:- ')\n",
    "\n",
    "if file_name.endswith('.pdf'):\n",
    "    print(f'file processing {file_name}')\n",
    "elif file_name.endswith('.xlxs'):\n",
    "    print(f'file processing {file_name}')\n",
    "elif file_name.endswith('.txt'):\n",
    "    print(f'file processing {file_name}')\n",
    "elif file_name.endswith('.html'):\n",
    "    print(f'file processing {file_name}')\n",
    "else:\n",
    "    print('invalid file')"
   ]
  },
  {
   "cell_type": "code",
   "execution_count": 150,
   "id": "843431ea",
   "metadata": {},
   "outputs": [
    {
     "name": "stdout",
     "output_type": "stream",
     "text": [
      "enter the number:- 1052\n",
      "valid\n"
     ]
    }
   ],
   "source": [
    "lst_num = int(input('enter the number:- '))\n",
    "\n",
    "if lst_num % 2 == 0:\n",
    "    print('valid')\n",
    "else:\n",
    "    print('invalid')"
   ]
  },
  {
   "cell_type": "code",
   "execution_count": 154,
   "id": "18a0d096",
   "metadata": {},
   "outputs": [
    {
     "name": "stdout",
     "output_type": "stream",
     "text": [
      "enter your mail_id:- sss\n",
      "invalid email\n"
     ]
    }
   ],
   "source": [
    "email = input('enter your mail_id:- ')\n",
    "\n",
    "if email.endswith('@gmail.com'):\n",
    "    print('valid email')\n",
    "else:\n",
    "    print('invalid email')"
   ]
  },
  {
   "cell_type": "code",
   "execution_count": 168,
   "id": "45e236ff",
   "metadata": {},
   "outputs": [
    {
     "name": "stdout",
     "output_type": "stream",
     "text": [
      "enter your name:- ljdkjkl;\n",
      "invalid name\n"
     ]
    }
   ],
   "source": [
    "name_lst = input('enter your name:- ')\n",
    "if len(name_lst) == 6:\n",
    "    print('valid name')\n",
    "else:\n",
    "    print('invalid name')"
   ]
  },
  {
   "cell_type": "code",
   "execution_count": 1,
   "id": "02c69b4b",
   "metadata": {},
   "outputs": [],
   "source": [
    "# Nested if else"
   ]
  },
  {
   "cell_type": "code",
   "execution_count": 12,
   "id": "d39d5789",
   "metadata": {},
   "outputs": [
    {
     "name": "stdout",
     "output_type": "stream",
     "text": [
      "enter the city mumbai\n",
      "enter the salary 90000\n",
      "enter the gender m\n",
      "original sal 90000\n",
      "after bonus 112500.0\n"
     ]
    }
   ],
   "source": [
    "city = input('enter the city ').lower()\n",
    "sal = int(input('enter the salary '))\n",
    "gen = input('enter the gender ').lower()\n",
    "\n",
    "if city == 'pune':\n",
    "    if sal > 75000:\n",
    "        if gen == 'm':\n",
    "            bonus = (sal/100)*15\n",
    "            gross_sal = bonus + sal\n",
    "            print('original sal',sal)\n",
    "            print('after bonus',gross_sal)\n",
    "        else:\n",
    "            bonus = (sal/100)*25\n",
    "            gross_sal = bonus+ sal\n",
    "            print('original sal',sal)\n",
    "            print('after bonus',gross_sal)\n",
    "if city == 'mumbai':\n",
    "    if sal >= 85000:\n",
    "        if gen == 'm':\n",
    "            bonus = (sal/100)*25\n",
    "            gross_sal = bonus + sal\n",
    "            print('original sal',sal)\n",
    "            print('after bonus',gross_sal)\n",
    "        else:\n",
    "            bonus = (sal/100)*35\n",
    "            gross_sal = bonus+ sal\n",
    "            print('original sal',sal)\n",
    "            print('after bonus',gross_sal)"
   ]
  },
  {
   "cell_type": "code",
   "execution_count": null,
   "id": "3ba71d26",
   "metadata": {},
   "outputs": [],
   "source": []
  }
 ],
 "metadata": {
  "kernelspec": {
   "display_name": "Python 3 (ipykernel)",
   "language": "python",
   "name": "python3"
  },
  "language_info": {
   "codemirror_mode": {
    "name": "ipython",
    "version": 3
   },
   "file_extension": ".py",
   "mimetype": "text/x-python",
   "name": "python",
   "nbconvert_exporter": "python",
   "pygments_lexer": "ipython3",
   "version": "3.9.12"
  }
 },
 "nbformat": 4,
 "nbformat_minor": 5
}
