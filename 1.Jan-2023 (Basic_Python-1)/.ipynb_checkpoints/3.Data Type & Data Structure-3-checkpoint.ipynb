{
 "cells": [
  {
   "cell_type": "markdown",
   "id": "8b6731a1",
   "metadata": {},
   "source": [
    "## String"
   ]
  },
  {
   "cell_type": "code",
   "execution_count": 30,
   "id": "655df6fd",
   "metadata": {},
   "outputs": [
    {
     "name": "stdout",
     "output_type": "stream",
     "text": [
      "Enter the number : 750\n"
     ]
    }
   ],
   "source": [
    "x = input('Enter the number : ')"
   ]
  },
  {
   "cell_type": "code",
   "execution_count": 31,
   "id": "929719b7",
   "metadata": {},
   "outputs": [
    {
     "data": {
      "text/plain": [
       "'750'"
      ]
     },
     "execution_count": 31,
     "metadata": {},
     "output_type": "execute_result"
    }
   ],
   "source": [
    "x"
   ]
  },
  {
   "cell_type": "code",
   "execution_count": 32,
   "id": "bb74f048",
   "metadata": {},
   "outputs": [
    {
     "data": {
      "text/plain": [
       "str"
      ]
     },
     "execution_count": 32,
     "metadata": {},
     "output_type": "execute_result"
    }
   ],
   "source": [
    "type(x)"
   ]
  },
  {
   "cell_type": "code",
   "execution_count": 40,
   "id": "bb1b1a8d",
   "metadata": {},
   "outputs": [],
   "source": [
    "a = 'Python Test'"
   ]
  },
  {
   "cell_type": "code",
   "execution_count": 41,
   "id": "ce119898",
   "metadata": {},
   "outputs": [
    {
     "data": {
      "text/plain": [
       "'PYTHON TEST'"
      ]
     },
     "execution_count": 41,
     "metadata": {},
     "output_type": "execute_result"
    }
   ],
   "source": [
    "a.upper()"
   ]
  },
  {
   "cell_type": "code",
   "execution_count": 42,
   "id": "995af269",
   "metadata": {},
   "outputs": [
    {
     "data": {
      "text/plain": [
       "'python test'"
      ]
     },
     "execution_count": 42,
     "metadata": {},
     "output_type": "execute_result"
    }
   ],
   "source": [
    "a.lower()"
   ]
  },
  {
   "cell_type": "code",
   "execution_count": 43,
   "id": "c20a8cb3",
   "metadata": {},
   "outputs": [
    {
     "data": {
      "text/plain": [
       "'Python test'"
      ]
     },
     "execution_count": 43,
     "metadata": {},
     "output_type": "execute_result"
    }
   ],
   "source": [
    "a.capitalize()"
   ]
  },
  {
   "cell_type": "code",
   "execution_count": 44,
   "id": "2a2f6ab6",
   "metadata": {},
   "outputs": [
    {
     "data": {
      "text/plain": [
       "'python test'"
      ]
     },
     "execution_count": 44,
     "metadata": {},
     "output_type": "execute_result"
    }
   ],
   "source": [
    "a.casefold()"
   ]
  },
  {
   "cell_type": "code",
   "execution_count": 45,
   "id": "91248504",
   "metadata": {},
   "outputs": [
    {
     "data": {
      "text/plain": [
       "'Python Test'"
      ]
     },
     "execution_count": 45,
     "metadata": {},
     "output_type": "execute_result"
    }
   ],
   "source": [
    "a.title()"
   ]
  },
  {
   "cell_type": "code",
   "execution_count": 46,
   "id": "30975ed7",
   "metadata": {},
   "outputs": [
    {
     "data": {
      "text/plain": [
       "'pYTHON tEST'"
      ]
     },
     "execution_count": 46,
     "metadata": {},
     "output_type": "execute_result"
    }
   ],
   "source": [
    "a.swapcase()"
   ]
  },
  {
   "cell_type": "code",
   "execution_count": 47,
   "id": "da878fff",
   "metadata": {},
   "outputs": [
    {
     "data": {
      "text/plain": [
       "['Python', 'Test']"
      ]
     },
     "execution_count": 47,
     "metadata": {},
     "output_type": "execute_result"
    }
   ],
   "source": [
    "a.split()"
   ]
  },
  {
   "cell_type": "code",
   "execution_count": 48,
   "id": "71c353e9",
   "metadata": {},
   "outputs": [],
   "source": [
    "p =\"johnkenedy017@gmail.com\""
   ]
  },
  {
   "cell_type": "code",
   "execution_count": 53,
   "id": "b40f6183",
   "metadata": {},
   "outputs": [
    {
     "data": {
      "text/plain": [
       "['johnkenedy017', 'gmail.com']"
      ]
     },
     "execution_count": 53,
     "metadata": {},
     "output_type": "execute_result"
    }
   ],
   "source": [
    "p.split('@')"
   ]
  },
  {
   "cell_type": "code",
   "execution_count": 56,
   "id": "643cab42",
   "metadata": {},
   "outputs": [],
   "source": [
    "file_name = 'Movies.pdf'"
   ]
  },
  {
   "cell_type": "code",
   "execution_count": 60,
   "id": "1af998c7",
   "metadata": {},
   "outputs": [],
   "source": [
    "extension = file_name.split('.')[1]"
   ]
  },
  {
   "cell_type": "code",
   "execution_count": 61,
   "id": "ac89d2c9",
   "metadata": {},
   "outputs": [
    {
     "data": {
      "text/plain": [
       "'pdf'"
      ]
     },
     "execution_count": 61,
     "metadata": {},
     "output_type": "execute_result"
    }
   ],
   "source": [
    "extension"
   ]
  },
  {
   "cell_type": "code",
   "execution_count": 62,
   "id": "85a70762",
   "metadata": {},
   "outputs": [],
   "source": [
    "study = \"This is the Python class\""
   ]
  },
  {
   "cell_type": "code",
   "execution_count": 70,
   "id": "b9e7b27f",
   "metadata": {},
   "outputs": [
    {
     "data": {
      "text/plain": [
       "['This', 'is', 'the', 'Python', 'class']"
      ]
     },
     "execution_count": 70,
     "metadata": {},
     "output_type": "execute_result"
    }
   ],
   "source": [
    "study.split()"
   ]
  },
  {
   "cell_type": "code",
   "execution_count": 75,
   "id": "fe40a7e6",
   "metadata": {},
   "outputs": [],
   "source": [
    "Name = 'john kenedy'"
   ]
  },
  {
   "cell_type": "code",
   "execution_count": 76,
   "id": "05e2fd07",
   "metadata": {},
   "outputs": [
    {
     "data": {
      "text/plain": [
       "True"
      ]
     },
     "execution_count": 76,
     "metadata": {},
     "output_type": "execute_result"
    }
   ],
   "source": [
    "Name.startswith('R')"
   ]
  },
  {
   "cell_type": "code",
   "execution_count": 73,
   "id": "e99dbd47",
   "metadata": {},
   "outputs": [
    {
     "data": {
      "text/plain": [
       "True"
      ]
     },
     "execution_count": 73,
     "metadata": {},
     "output_type": "execute_result"
    }
   ],
   "source": [
    "Name.endswith('n')"
   ]
  },
  {
   "cell_type": "code",
   "execution_count": 77,
   "id": "6abd2f0f",
   "metadata": {},
   "outputs": [
    {
     "data": {
      "text/plain": [
       "True"
      ]
     },
     "execution_count": 77,
     "metadata": {},
     "output_type": "execute_result"
    }
   ],
   "source": [
    "Name.endswith('kenedy')"
   ]
  },
  {
   "cell_type": "code",
   "execution_count": 78,
   "id": "7b415031",
   "metadata": {},
   "outputs": [],
   "source": [
    "p = ['asdgghgdjg@gmail.com','sgshjgsg@gmail.com','aghsgg@rediffmail.com','sgfsff@yahoo.com']"
   ]
  },
  {
   "cell_type": "code",
   "execution_count": 80,
   "id": "d7187244",
   "metadata": {},
   "outputs": [
    {
     "name": "stdout",
     "output_type": "stream",
     "text": [
      "asdgghgdjg@gmail.com\n",
      "sgshjgsg@gmail.com\n"
     ]
    }
   ],
   "source": [
    "for i in p:\n",
    "    if i.endswith('@gmail.com'):\n",
    "        print(i)"
   ]
  },
  {
   "cell_type": "code",
   "execution_count": 81,
   "id": "f7ee38d6",
   "metadata": {},
   "outputs": [],
   "source": [
    "a = 'india is my country, i love my country'"
   ]
  },
  {
   "cell_type": "code",
   "execution_count": 82,
   "id": "1b1f00f8",
   "metadata": {},
   "outputs": [
    {
     "data": {
      "text/plain": [
       "9"
      ]
     },
     "execution_count": 82,
     "metadata": {},
     "output_type": "execute_result"
    }
   ],
   "source": [
    "a.find('my')"
   ]
  },
  {
   "cell_type": "code",
   "execution_count": 83,
   "id": "b8bbdb0b",
   "metadata": {},
   "outputs": [
    {
     "data": {
      "text/plain": [
       "-1"
      ]
     },
     "execution_count": 83,
     "metadata": {},
     "output_type": "execute_result"
    }
   ],
   "source": [
    "a.find('john')"
   ]
  },
  {
   "cell_type": "code",
   "execution_count": 85,
   "id": "32f3aa5b",
   "metadata": {},
   "outputs": [
    {
     "data": {
      "text/plain": [
       "23"
      ]
     },
     "execution_count": 85,
     "metadata": {},
     "output_type": "execute_result"
    }
   ],
   "source": [
    "a.find('love')"
   ]
  },
  {
   "cell_type": "code",
   "execution_count": 86,
   "id": "a9a4e8df",
   "metadata": {},
   "outputs": [],
   "source": [
    "b = 'global economy is taking up position now'"
   ]
  },
  {
   "cell_type": "code",
   "execution_count": 93,
   "id": "51c45a60",
   "metadata": {},
   "outputs": [
    {
     "name": "stdout",
     "output_type": "stream",
     "text": [
      "Enter the string do you want to check : john\n",
      "\n",
      "string not found\n"
     ]
    }
   ],
   "source": [
    "user = input('Enter the string do you want to check : ')\n",
    "\n",
    "if b.find(user)==-1:\n",
    "    print('\\nstring not found')\n",
    "else:\n",
    "    print('\\nfound')"
   ]
  },
  {
   "cell_type": "code",
   "execution_count": 94,
   "id": "b0e8c387",
   "metadata": {},
   "outputs": [],
   "source": [
    "a = 15;b=50;c=a+b"
   ]
  },
  {
   "cell_type": "code",
   "execution_count": 97,
   "id": "44c3f351",
   "metadata": {},
   "outputs": [
    {
     "data": {
      "text/plain": [
       "'addition of 15 and 50 is 65'"
      ]
     },
     "execution_count": 97,
     "metadata": {},
     "output_type": "execute_result"
    }
   ],
   "source": [
    "\"addition of {} and {} is {}\".format(a,b,c)"
   ]
  },
  {
   "cell_type": "code",
   "execution_count": 99,
   "id": "153bdc6e",
   "metadata": {},
   "outputs": [
    {
     "data": {
      "text/plain": [
       "'addition of 10 and 50 is 60'"
      ]
     },
     "execution_count": 99,
     "metadata": {},
     "output_type": "execute_result"
    }
   ],
   "source": [
    "\"addition of {} and {} is {}\".format(10,50,10+50)"
   ]
  },
  {
   "cell_type": "code",
   "execution_count": 101,
   "id": "e780d95f",
   "metadata": {},
   "outputs": [],
   "source": [
    "a = 150;b = 250; c = a+b"
   ]
  },
  {
   "cell_type": "code",
   "execution_count": 102,
   "id": "508deb32",
   "metadata": {},
   "outputs": [
    {
     "data": {
      "text/plain": [
       "'Addition of 150 and 250 is 400'"
      ]
     },
     "execution_count": 102,
     "metadata": {},
     "output_type": "execute_result"
    }
   ],
   "source": [
    "\"Addition of {} and {} is {}\".format(a,b,c)"
   ]
  },
  {
   "cell_type": "code",
   "execution_count": 2,
   "id": "b9e43a53",
   "metadata": {},
   "outputs": [],
   "source": [
    "import datetime"
   ]
  },
  {
   "cell_type": "code",
   "execution_count": 104,
   "id": "cda9d3e0",
   "metadata": {},
   "outputs": [
    {
     "data": {
      "text/plain": [
       "datetime.date(2023, 1, 18)"
      ]
     },
     "execution_count": 104,
     "metadata": {},
     "output_type": "execute_result"
    }
   ],
   "source": [
    "datetime.datetime.date(datetime.datetime.now())"
   ]
  },
  {
   "cell_type": "code",
   "execution_count": 107,
   "id": "cee5908a",
   "metadata": {},
   "outputs": [],
   "source": [
    "filename = 'test.{}_txt'.format(datetime.datetime.date(datetime.datetime.now()))"
   ]
  },
  {
   "cell_type": "code",
   "execution_count": 108,
   "id": "04932060",
   "metadata": {},
   "outputs": [
    {
     "data": {
      "text/plain": [
       "'test.2023-01-18_txt'"
      ]
     },
     "execution_count": 108,
     "metadata": {},
     "output_type": "execute_result"
    }
   ],
   "source": [
    "filename"
   ]
  },
  {
   "cell_type": "code",
   "execution_count": 5,
   "id": "3d16cd26",
   "metadata": {},
   "outputs": [
    {
     "data": {
      "text/plain": [
       "'Multiplication of 12 and 15 is 180'"
      ]
     },
     "execution_count": 5,
     "metadata": {},
     "output_type": "execute_result"
    }
   ],
   "source": [
    "\"Multiplication of {} and {} is {}\".format(12,15,12*15)"
   ]
  },
  {
   "cell_type": "code",
   "execution_count": 6,
   "id": "75385b0f",
   "metadata": {},
   "outputs": [
    {
     "data": {
      "text/plain": [
       "'The name of john and lastname is kenedy'"
      ]
     },
     "execution_count": 6,
     "metadata": {},
     "output_type": "execute_result"
    }
   ],
   "source": [
    "\"The name of {} and lastname is {}\".format('john','kenedy')"
   ]
  },
  {
   "cell_type": "code",
   "execution_count": 13,
   "id": "bafe9d9d",
   "metadata": {},
   "outputs": [
    {
     "data": {
      "text/plain": [
       "'My name is john and i am from Chikhali'"
      ]
     },
     "execution_count": 13,
     "metadata": {},
     "output_type": "execute_result"
    }
   ],
   "source": [
    "\"My name is {} and i am from {}\".format('john','Chikhali')"
   ]
  },
  {
   "cell_type": "code",
   "execution_count": 15,
   "id": "b0b894d3",
   "metadata": {},
   "outputs": [
    {
     "data": {
      "text/plain": [
       "'Multiplication of 10 and 25 is 250'"
      ]
     },
     "execution_count": 15,
     "metadata": {},
     "output_type": "execute_result"
    }
   ],
   "source": [
    "f\"Multiplication of {10} and {25} is {10*25}\""
   ]
  },
  {
   "cell_type": "code",
   "execution_count": 16,
   "id": "1f428618",
   "metadata": {},
   "outputs": [],
   "source": [
    "a = \"fdjgfjdkkdedfjhadfGVJYG\""
   ]
  },
  {
   "cell_type": "code",
   "execution_count": 19,
   "id": "262d2251",
   "metadata": {},
   "outputs": [
    {
     "data": {
      "text/plain": [
       "4"
      ]
     },
     "execution_count": 19,
     "metadata": {},
     "output_type": "execute_result"
    }
   ],
   "source": [
    "a.count('f')"
   ]
  },
  {
   "cell_type": "code",
   "execution_count": 24,
   "id": "5c4d06fb",
   "metadata": {},
   "outputs": [],
   "source": [
    "a = 'john'"
   ]
  },
  {
   "cell_type": "code",
   "execution_count": 42,
   "id": "abd97bfc",
   "metadata": {},
   "outputs": [
    {
     "name": "stdout",
     "output_type": "stream",
     "text": [
      "Enter te name:john      \n"
     ]
    }
   ],
   "source": [
    "b = input('Enter te name:').lstrip()"
   ]
  },
  {
   "cell_type": "code",
   "execution_count": 44,
   "id": "c7613c51",
   "metadata": {},
   "outputs": [
    {
     "data": {
      "text/plain": [
       "True"
      ]
     },
     "execution_count": 44,
     "metadata": {},
     "output_type": "execute_result"
    }
   ],
   "source": [
    "a == b.rstrip()"
   ]
  },
  {
   "cell_type": "code",
   "execution_count": 45,
   "id": "58e6bacc",
   "metadata": {},
   "outputs": [],
   "source": [
    "a = 'john'"
   ]
  },
  {
   "cell_type": "code",
   "execution_count": 46,
   "id": "e8bf58d1",
   "metadata": {},
   "outputs": [
    {
     "data": {
      "text/plain": [
       "'000000000john'"
      ]
     },
     "execution_count": 46,
     "metadata": {},
     "output_type": "execute_result"
    }
   ],
   "source": [
    "a.zfill(15)"
   ]
  },
  {
   "cell_type": "code",
   "execution_count": 51,
   "id": "fd48780d",
   "metadata": {},
   "outputs": [],
   "source": [
    "a = 'john'"
   ]
  },
  {
   "cell_type": "code",
   "execution_count": 56,
   "id": "1bab489d",
   "metadata": {},
   "outputs": [
    {
     "data": {
      "text/plain": [
       "'john'"
      ]
     },
     "execution_count": 56,
     "metadata": {},
     "output_type": "execute_result"
    }
   ],
   "source": [
    "a.center(10).strip()"
   ]
  },
  {
   "cell_type": "code",
   "execution_count": 61,
   "id": "5b396c43",
   "metadata": {},
   "outputs": [],
   "source": [
    "a = 'john kenedy'"
   ]
  },
  {
   "cell_type": "code",
   "execution_count": 60,
   "id": "1e931c24",
   "metadata": {},
   "outputs": [
    {
     "data": {
      "text/plain": [
       "True"
      ]
     },
     "execution_count": 60,
     "metadata": {},
     "output_type": "execute_result"
    }
   ],
   "source": [
    "a.isalpha()"
   ]
  },
  {
   "cell_type": "code",
   "execution_count": 62,
   "id": "331b6a30",
   "metadata": {},
   "outputs": [],
   "source": [
    "a = \"AGAdvbk55464\""
   ]
  },
  {
   "cell_type": "code",
   "execution_count": 64,
   "id": "1281f1f0",
   "metadata": {},
   "outputs": [
    {
     "data": {
      "text/plain": [
       "False"
      ]
     },
     "execution_count": 64,
     "metadata": {},
     "output_type": "execute_result"
    }
   ],
   "source": [
    "a.isalpha()"
   ]
  },
  {
   "cell_type": "code",
   "execution_count": 66,
   "id": "d60da43b",
   "metadata": {},
   "outputs": [
    {
     "data": {
      "text/plain": [
       "True"
      ]
     },
     "execution_count": 66,
     "metadata": {},
     "output_type": "execute_result"
    }
   ],
   "source": [
    "a.isalnum()"
   ]
  },
  {
   "cell_type": "code",
   "execution_count": 67,
   "id": "f4cb29b7",
   "metadata": {},
   "outputs": [
    {
     "data": {
      "text/plain": [
       "False"
      ]
     },
     "execution_count": 67,
     "metadata": {},
     "output_type": "execute_result"
    }
   ],
   "source": [
    "a.isnumeric()"
   ]
  },
  {
   "cell_type": "code",
   "execution_count": 68,
   "id": "9642fb15",
   "metadata": {},
   "outputs": [
    {
     "data": {
      "text/plain": [
       "False"
      ]
     },
     "execution_count": 68,
     "metadata": {},
     "output_type": "execute_result"
    }
   ],
   "source": [
    "a.isalpha()"
   ]
  },
  {
   "cell_type": "code",
   "execution_count": 70,
   "id": "b0c554c7",
   "metadata": {},
   "outputs": [
    {
     "data": {
      "text/plain": [
       "False"
      ]
     },
     "execution_count": 70,
     "metadata": {},
     "output_type": "execute_result"
    }
   ],
   "source": [
    "a.isnumeric()"
   ]
  },
  {
   "cell_type": "code",
   "execution_count": 71,
   "id": "cb175ab3",
   "metadata": {},
   "outputs": [
    {
     "data": {
      "text/plain": [
       "False"
      ]
     },
     "execution_count": 71,
     "metadata": {},
     "output_type": "execute_result"
    }
   ],
   "source": [
    "a.isalpha()"
   ]
  },
  {
   "cell_type": "code",
   "execution_count": 72,
   "id": "cbf3adf8",
   "metadata": {},
   "outputs": [],
   "source": [
    "d = \"SJHGDJH154llklhjkl\""
   ]
  },
  {
   "cell_type": "code",
   "execution_count": 73,
   "id": "c193cf21",
   "metadata": {},
   "outputs": [
    {
     "data": {
      "text/plain": [
       "['SJHGDJH', 'llklhjkl']"
      ]
     },
     "execution_count": 73,
     "metadata": {},
     "output_type": "execute_result"
    }
   ],
   "source": [
    "d.split('154')"
   ]
  },
  {
   "cell_type": "code",
   "execution_count": 74,
   "id": "91ead090",
   "metadata": {},
   "outputs": [],
   "source": [
    "g = '₹100'"
   ]
  },
  {
   "cell_type": "code",
   "execution_count": 76,
   "id": "fe7cab5d",
   "metadata": {},
   "outputs": [
    {
     "data": {
      "text/plain": [
       "['', '100']"
      ]
     },
     "execution_count": 76,
     "metadata": {},
     "output_type": "execute_result"
    }
   ],
   "source": [
    "g.split('₹')"
   ]
  },
  {
   "cell_type": "code",
   "execution_count": 77,
   "id": "b924ed84",
   "metadata": {},
   "outputs": [
    {
     "data": {
      "text/plain": [
       "True"
      ]
     },
     "execution_count": 77,
     "metadata": {},
     "output_type": "execute_result"
    }
   ],
   "source": [
    "g[1:].isnumeric()"
   ]
  },
  {
   "cell_type": "code",
   "execution_count": 83,
   "id": "626ed9bf",
   "metadata": {},
   "outputs": [],
   "source": [
    "f = \"1@2@3@4\""
   ]
  },
  {
   "cell_type": "code",
   "execution_count": 84,
   "id": "3e217bf6",
   "metadata": {},
   "outputs": [],
   "source": [
    "h = f.split('@')"
   ]
  },
  {
   "cell_type": "code",
   "execution_count": 85,
   "id": "fffb0772",
   "metadata": {},
   "outputs": [
    {
     "data": {
      "text/plain": [
       "['1', '2', '3', '4']"
      ]
     },
     "execution_count": 85,
     "metadata": {},
     "output_type": "execute_result"
    }
   ],
   "source": [
    "h"
   ]
  },
  {
   "cell_type": "code",
   "execution_count": 86,
   "id": "d89d9996",
   "metadata": {},
   "outputs": [],
   "source": [
    "s = h[0]+h[1]+h[2]+h[3]"
   ]
  },
  {
   "cell_type": "code",
   "execution_count": 87,
   "id": "11c5005c",
   "metadata": {},
   "outputs": [
    {
     "data": {
      "text/plain": [
       "True"
      ]
     },
     "execution_count": 87,
     "metadata": {},
     "output_type": "execute_result"
    }
   ],
   "source": [
    "s.isdigit()"
   ]
  },
  {
   "cell_type": "code",
   "execution_count": 88,
   "id": "d3da2299",
   "metadata": {},
   "outputs": [
    {
     "data": {
      "text/plain": [
       "'1234'"
      ]
     },
     "execution_count": 88,
     "metadata": {},
     "output_type": "execute_result"
    }
   ],
   "source": [
    "s"
   ]
  },
  {
   "cell_type": "code",
   "execution_count": 89,
   "id": "d3a69a1d",
   "metadata": {},
   "outputs": [],
   "source": [
    "digit = 100"
   ]
  },
  {
   "cell_type": "code",
   "execution_count": 90,
   "id": "49fccd73",
   "metadata": {},
   "outputs": [
    {
     "data": {
      "text/plain": [
       "'100'"
      ]
     },
     "execution_count": 90,
     "metadata": {},
     "output_type": "execute_result"
    }
   ],
   "source": [
    "str(digit)"
   ]
  },
  {
   "cell_type": "code",
   "execution_count": 91,
   "id": "8752daad",
   "metadata": {},
   "outputs": [
    {
     "name": "stdout",
     "output_type": "stream",
     "text": [
      "Welcome to 'Python Tutorial' on TutorialsTeacher\n",
      "Welcome to \"Python Tutorial\" on TutorialsTeacher\n"
     ]
    }
   ],
   "source": [
    "str1='Welcome to \\'Python Tutorial\\' on TutorialsTeacher'\n",
    "print(str1)\n",
    "\n",
    "str2=\"Welcome to \\\"Python Tutorial\\\" on TutorialsTeacher\"\n",
    "print(str2)"
   ]
  },
  {
   "cell_type": "code",
   "execution_count": 100,
   "id": "d17d7ed0",
   "metadata": {},
   "outputs": [
    {
     "name": "stdout",
     "output_type": "stream",
     "text": [
      "john\n",
      "kenedy\n"
     ]
    }
   ],
   "source": [
    "print('john\\nkenedy')"
   ]
  },
  {
   "cell_type": "code",
   "execution_count": 99,
   "id": "38e4ad1d",
   "metadata": {},
   "outputs": [
    {
     "name": "stdout",
     "output_type": "stream",
     "text": [
      "hello\n",
      "world\n"
     ]
    }
   ],
   "source": [
    "print(\"hello\\nworld\")"
   ]
  },
  {
   "cell_type": "code",
   "execution_count": 101,
   "id": "d015042c",
   "metadata": {},
   "outputs": [],
   "source": [
    "a = 'hello world'"
   ]
  },
  {
   "cell_type": "code",
   "execution_count": 103,
   "id": "b1a7444e",
   "metadata": {},
   "outputs": [
    {
     "data": {
      "text/plain": [
       "'Hello World'"
      ]
     },
     "execution_count": 103,
     "metadata": {},
     "output_type": "execute_result"
    }
   ],
   "source": [
    "a.title()"
   ]
  },
  {
   "cell_type": "code",
   "execution_count": 104,
   "id": "483a731d",
   "metadata": {},
   "outputs": [],
   "source": [
    "py_list = [12,35,65,85,'john','kenedy']"
   ]
  },
  {
   "cell_type": "code",
   "execution_count": 110,
   "id": "efb6a07b",
   "metadata": {},
   "outputs": [
    {
     "data": {
      "text/plain": [
       "{12, 35, 65, 85, 'john', 'kenedy'}"
      ]
     },
     "execution_count": 110,
     "metadata": {},
     "output_type": "execute_result"
    }
   ],
   "source": [
    "set(py_list)"
   ]
  },
  {
   "cell_type": "code",
   "execution_count": 111,
   "id": "3f6fa298",
   "metadata": {},
   "outputs": [],
   "source": [
    "a = [1,4,3]"
   ]
  },
  {
   "cell_type": "code",
   "execution_count": 113,
   "id": "6d6db5fb",
   "metadata": {},
   "outputs": [],
   "source": [
    "b = ['a','b','c']"
   ]
  },
  {
   "cell_type": "code",
   "execution_count": 116,
   "id": "a34c1897",
   "metadata": {},
   "outputs": [
    {
     "data": {
      "text/plain": [
       "{'a': 'a', 'b': 'b', 'c': 'c'}"
      ]
     },
     "execution_count": 116,
     "metadata": {},
     "output_type": "execute_result"
    }
   ],
   "source": [
    "dict(zip(b,b))"
   ]
  },
  {
   "cell_type": "code",
   "execution_count": 129,
   "id": "78ad62d9",
   "metadata": {},
   "outputs": [
    {
     "name": "stdout",
     "output_type": "stream",
     "text": [
      "['1', '4', '3']\n"
     ]
    }
   ],
   "source": [
    "m = []\n",
    "\n",
    "for i in a:\n",
    "    m.append(str(i))\n",
    "print(m)"
   ]
  },
  {
   "cell_type": "code",
   "execution_count": 130,
   "id": "a12e9583",
   "metadata": {},
   "outputs": [
    {
     "data": {
      "text/plain": [
       "['1', '4', '3']"
      ]
     },
     "execution_count": 130,
     "metadata": {},
     "output_type": "execute_result"
    }
   ],
   "source": [
    "[str(i) for i in a]"
   ]
  },
  {
   "cell_type": "code",
   "execution_count": 131,
   "id": "f649b996",
   "metadata": {},
   "outputs": [],
   "source": [
    "p = [25,15,1,4,5,6,5,8,55]"
   ]
  },
  {
   "cell_type": "code",
   "execution_count": 134,
   "id": "f4e410ab",
   "metadata": {},
   "outputs": [],
   "source": [
    "temp = list(set(p))"
   ]
  },
  {
   "cell_type": "code",
   "execution_count": 135,
   "id": "a061ae4d",
   "metadata": {},
   "outputs": [
    {
     "data": {
      "text/plain": [
       "[1, 4, 5, 6, 8, 15, 55, 25]"
      ]
     },
     "execution_count": 135,
     "metadata": {},
     "output_type": "execute_result"
    }
   ],
   "source": [
    "temp"
   ]
  },
  {
   "cell_type": "code",
   "execution_count": 136,
   "id": "c3232acc",
   "metadata": {},
   "outputs": [],
   "source": [
    "temp = {'Name': 'john','Id':2274,'sal':75000}"
   ]
  },
  {
   "cell_type": "code",
   "execution_count": 141,
   "id": "e82388ce",
   "metadata": {},
   "outputs": [
    {
     "data": {
      "text/plain": [
       "[('Name', 'john'), ('Id', 2274), ('sal', 75000)]"
      ]
     },
     "execution_count": 141,
     "metadata": {},
     "output_type": "execute_result"
    }
   ],
   "source": [
    "list(temp.items())"
   ]
  },
  {
   "cell_type": "code",
   "execution_count": 142,
   "id": "a93d0496",
   "metadata": {},
   "outputs": [],
   "source": [
    "n = [('Name', 'john'), ('Id', 2274), ('sal', 75000)]"
   ]
  },
  {
   "cell_type": "code",
   "execution_count": 143,
   "id": "23d4a431",
   "metadata": {},
   "outputs": [
    {
     "data": {
      "text/plain": [
       "{'Name': 'john', 'Id': 2274, 'sal': 75000}"
      ]
     },
     "execution_count": 143,
     "metadata": {},
     "output_type": "execute_result"
    }
   ],
   "source": [
    "dict(n)"
   ]
  },
  {
   "cell_type": "code",
   "execution_count": 148,
   "id": "57f5b9f7",
   "metadata": {},
   "outputs": [
    {
     "data": {
      "text/plain": [
       "{2274, 75000, 'john'}"
      ]
     },
     "execution_count": 148,
     "metadata": {},
     "output_type": "execute_result"
    }
   ],
   "source": [
    "set(temp.values())"
   ]
  },
  {
   "cell_type": "code",
   "execution_count": null,
   "id": "1fd6fd6c",
   "metadata": {},
   "outputs": [],
   "source": []
  }
 ],
 "metadata": {
  "kernelspec": {
   "display_name": "Python 3 (ipykernel)",
   "language": "python",
   "name": "python3"
  },
  "language_info": {
   "codemirror_mode": {
    "name": "ipython",
    "version": 3
   },
   "file_extension": ".py",
   "mimetype": "text/x-python",
   "name": "python",
   "nbconvert_exporter": "python",
   "pygments_lexer": "ipython3",
   "version": "3.9.12"
  }
 },
 "nbformat": 4,
 "nbformat_minor": 5
}
