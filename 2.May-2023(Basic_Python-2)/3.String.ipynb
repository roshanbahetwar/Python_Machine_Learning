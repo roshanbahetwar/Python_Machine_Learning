{
 "cells": [
  {
   "cell_type": "code",
   "execution_count": 1,
   "id": "f40813a8",
   "metadata": {},
   "outputs": [],
   "source": [
    "# String"
   ]
  },
  {
   "cell_type": "code",
   "execution_count": 2,
   "id": "a299bc51",
   "metadata": {},
   "outputs": [],
   "source": [
    "x = 100\n",
    "y = 560"
   ]
  },
  {
   "cell_type": "code",
   "execution_count": 3,
   "id": "d0738215",
   "metadata": {},
   "outputs": [
    {
     "data": {
      "text/plain": [
       "660"
      ]
     },
     "execution_count": 3,
     "metadata": {},
     "output_type": "execute_result"
    }
   ],
   "source": [
    "x+y"
   ]
  },
  {
   "cell_type": "code",
   "execution_count": 5,
   "id": "c5cd8730",
   "metadata": {},
   "outputs": [
    {
     "name": "stdout",
     "output_type": "stream",
     "text": [
      "enter the any str: 100\n"
     ]
    },
    {
     "data": {
      "text/plain": [
       "'100'"
      ]
     },
     "execution_count": 5,
     "metadata": {},
     "output_type": "execute_result"
    }
   ],
   "source": [
    "a = input('enter the any str: ')\n",
    "a"
   ]
  },
  {
   "cell_type": "code",
   "execution_count": 6,
   "id": "3306a4d0",
   "metadata": {},
   "outputs": [
    {
     "data": {
      "text/plain": [
       "str"
      ]
     },
     "execution_count": 6,
     "metadata": {},
     "output_type": "execute_result"
    }
   ],
   "source": [
    "type(a)"
   ]
  },
  {
   "cell_type": "code",
   "execution_count": 8,
   "id": "4792e4b8",
   "metadata": {},
   "outputs": [
    {
     "name": "stdout",
     "output_type": "stream",
     "text": [
      "enter the name :- newton\n",
      "newton\n"
     ]
    }
   ],
   "source": [
    "user = input('enter the name :- ').lower()\n",
    "print(user)"
   ]
  },
  {
   "cell_type": "code",
   "execution_count": 9,
   "id": "f1164eed",
   "metadata": {},
   "outputs": [],
   "source": [
    "lst = \"Python\""
   ]
  },
  {
   "cell_type": "code",
   "execution_count": 10,
   "id": "ae074247",
   "metadata": {},
   "outputs": [
    {
     "data": {
      "text/plain": [
       "'python'"
      ]
     },
     "execution_count": 10,
     "metadata": {},
     "output_type": "execute_result"
    }
   ],
   "source": [
    "lst.lower()"
   ]
  },
  {
   "cell_type": "code",
   "execution_count": 11,
   "id": "90c2f4c1",
   "metadata": {},
   "outputs": [
    {
     "data": {
      "text/plain": [
       "'PYTHON'"
      ]
     },
     "execution_count": 11,
     "metadata": {},
     "output_type": "execute_result"
    }
   ],
   "source": [
    "lst.upper()"
   ]
  },
  {
   "cell_type": "code",
   "execution_count": 12,
   "id": "0eabdfd9",
   "metadata": {},
   "outputs": [
    {
     "data": {
      "text/plain": [
       "'Python'"
      ]
     },
     "execution_count": 12,
     "metadata": {},
     "output_type": "execute_result"
    }
   ],
   "source": [
    "lst.capitalize()"
   ]
  },
  {
   "cell_type": "code",
   "execution_count": 13,
   "id": "87cde872",
   "metadata": {},
   "outputs": [],
   "source": [
    "p = 'test admin'"
   ]
  },
  {
   "cell_type": "code",
   "execution_count": 14,
   "id": "872c61f1",
   "metadata": {},
   "outputs": [
    {
     "data": {
      "text/plain": [
       "'Test admin'"
      ]
     },
     "execution_count": 14,
     "metadata": {},
     "output_type": "execute_result"
    }
   ],
   "source": [
    "p.capitalize()"
   ]
  },
  {
   "cell_type": "code",
   "execution_count": 15,
   "id": "3cb4b629",
   "metadata": {},
   "outputs": [
    {
     "data": {
      "text/plain": [
       "'Test Admin'"
      ]
     },
     "execution_count": 15,
     "metadata": {},
     "output_type": "execute_result"
    }
   ],
   "source": [
    "p.title()"
   ]
  },
  {
   "cell_type": "code",
   "execution_count": 16,
   "id": "5e8d0775",
   "metadata": {},
   "outputs": [
    {
     "data": {
      "text/plain": [
       "'TEST ADMIN'"
      ]
     },
     "execution_count": 16,
     "metadata": {},
     "output_type": "execute_result"
    }
   ],
   "source": [
    "p.swapcase()"
   ]
  },
  {
   "cell_type": "code",
   "execution_count": 17,
   "id": "7e963aba",
   "metadata": {},
   "outputs": [
    {
     "data": {
      "text/plain": [
       "['test', 'admin']"
      ]
     },
     "execution_count": 17,
     "metadata": {},
     "output_type": "execute_result"
    }
   ],
   "source": [
    "p.split()"
   ]
  },
  {
   "cell_type": "code",
   "execution_count": 18,
   "id": "6fe6229e",
   "metadata": {},
   "outputs": [],
   "source": [
    "sen = \"Here, the condition after evaluation will be either true or false\""
   ]
  },
  {
   "cell_type": "code",
   "execution_count": 19,
   "id": "2954f4b7",
   "metadata": {},
   "outputs": [
    {
     "data": {
      "text/plain": [
       "'Here, the condition after evaluation will be either true or false'"
      ]
     },
     "execution_count": 19,
     "metadata": {},
     "output_type": "execute_result"
    }
   ],
   "source": [
    "sen"
   ]
  },
  {
   "cell_type": "code",
   "execution_count": 21,
   "id": "4f457d30",
   "metadata": {},
   "outputs": [
    {
     "name": "stdout",
     "output_type": "stream",
     "text": [
      "['Here,', 'the', 'condition', 'after', 'evaluation', 'will', 'be', 'either', 'true', 'or', 'false']\n"
     ]
    }
   ],
   "source": [
    "print(sen.split())"
   ]
  },
  {
   "cell_type": "code",
   "execution_count": 22,
   "id": "09e95af3",
   "metadata": {},
   "outputs": [],
   "source": [
    "a = 'newton@gmail.com'"
   ]
  },
  {
   "cell_type": "code",
   "execution_count": 24,
   "id": "60ee0aeb",
   "metadata": {},
   "outputs": [
    {
     "data": {
      "text/plain": [
       "['newton', 'gmail.com']"
      ]
     },
     "execution_count": 24,
     "metadata": {},
     "output_type": "execute_result"
    }
   ],
   "source": [
    "a.split('@')"
   ]
  },
  {
   "cell_type": "code",
   "execution_count": 25,
   "id": "3f046f50",
   "metadata": {},
   "outputs": [],
   "source": [
    "fn = 'test.pdf'"
   ]
  },
  {
   "cell_type": "code",
   "execution_count": 27,
   "id": "a32eb1e1",
   "metadata": {},
   "outputs": [
    {
     "data": {
      "text/plain": [
       "'test'"
      ]
     },
     "execution_count": 27,
     "metadata": {},
     "output_type": "execute_result"
    }
   ],
   "source": [
    "fn.split('.')[0]"
   ]
  },
  {
   "cell_type": "code",
   "execution_count": 28,
   "id": "725c55ed",
   "metadata": {},
   "outputs": [
    {
     "data": {
      "text/plain": [
       "'Here, the condition after evaluation will be either true or false'"
      ]
     },
     "execution_count": 28,
     "metadata": {},
     "output_type": "execute_result"
    }
   ],
   "source": [
    "sen"
   ]
  },
  {
   "cell_type": "code",
   "execution_count": 31,
   "id": "d34868ea",
   "metadata": {},
   "outputs": [],
   "source": [
    "for i in sen:\n",
    "    a = sen.split()"
   ]
  },
  {
   "cell_type": "code",
   "execution_count": 32,
   "id": "6cc89762",
   "metadata": {},
   "outputs": [
    {
     "data": {
      "text/plain": [
       "['Here,',\n",
       " 'the',\n",
       " 'condition',\n",
       " 'after',\n",
       " 'evaluation',\n",
       " 'will',\n",
       " 'be',\n",
       " 'either',\n",
       " 'true',\n",
       " 'or',\n",
       " 'false']"
      ]
     },
     "execution_count": 32,
     "metadata": {},
     "output_type": "execute_result"
    }
   ],
   "source": [
    "a"
   ]
  },
  {
   "cell_type": "code",
   "execution_count": 38,
   "id": "c02f3583",
   "metadata": {},
   "outputs": [],
   "source": [
    "lst = ['newton','kenedy','usa']"
   ]
  },
  {
   "cell_type": "code",
   "execution_count": 43,
   "id": "89796e2c",
   "metadata": {},
   "outputs": [
    {
     "name": "stdout",
     "output_type": "stream",
     "text": [
      "newton @ kenedy @ usa\n"
     ]
    }
   ],
   "source": [
    "for i in lst:\n",
    "    if lst:\n",
    "        a = ' @ '.join(lst)\n",
    "print(a)"
   ]
  },
  {
   "cell_type": "code",
   "execution_count": 45,
   "id": "cf8d013a",
   "metadata": {},
   "outputs": [],
   "source": [
    "var = 'Geeks for Geeks'"
   ]
  },
  {
   "cell_type": "code",
   "execution_count": 48,
   "id": "e4440b74",
   "metadata": {},
   "outputs": [
    {
     "name": "stdout",
     "output_type": "stream",
     "text": [
      "True\n",
      "False\n"
     ]
    }
   ],
   "source": [
    "print(var.startswith('Geeks'))\n",
    "print(var.startswith('Hello'))"
   ]
  },
  {
   "cell_type": "code",
   "execution_count": 51,
   "id": "2e3a4305",
   "metadata": {},
   "outputs": [
    {
     "name": "stdout",
     "output_type": "stream",
     "text": [
      "False\n"
     ]
    }
   ],
   "source": [
    "result = var.startswith('for Geeks')\n",
    "print(result)"
   ]
  },
  {
   "cell_type": "code",
   "execution_count": 57,
   "id": "16f8ae16",
   "metadata": {},
   "outputs": [
    {
     "name": "stdout",
     "output_type": "stream",
     "text": [
      "True\n"
     ]
    }
   ],
   "source": [
    "print(var.startswith('for Geeks',6,15))   # syntax    var.startswith('word', start_index, end_index)"
   ]
  },
  {
   "cell_type": "code",
   "execution_count": 1,
   "id": "064eb406",
   "metadata": {},
   "outputs": [],
   "source": [
    "txt = 'geeks for geeks'"
   ]
  },
  {
   "cell_type": "code",
   "execution_count": 4,
   "id": "1b938039",
   "metadata": {},
   "outputs": [
    {
     "data": {
      "text/plain": [
       "True"
      ]
     },
     "execution_count": 4,
     "metadata": {},
     "output_type": "execute_result"
    }
   ],
   "source": [
    "txt.endswith(' for geeks')"
   ]
  },
  {
   "cell_type": "code",
   "execution_count": 17,
   "id": "61c26035",
   "metadata": {},
   "outputs": [
    {
     "data": {
      "text/plain": [
       "False"
      ]
     },
     "execution_count": 17,
     "metadata": {},
     "output_type": "execute_result"
    }
   ],
   "source": [
    "txt = 'geeks for geeks'\n",
    "txt.endswith('for', 6)"
   ]
  },
  {
   "cell_type": "code",
   "execution_count": null,
   "id": "a8bf95ab",
   "metadata": {},
   "outputs": [],
   "source": [
    "text = \"geeks for geeks.\"\n",
    "\n",
    "# start parameter: 10\n",
    "result = text.endswith('geeks.', 10)\n",
    "print(result)\n",
    "\n",
    "# Both start and end is provided\n",
    "# start: 10, end: 16 - 1\n",
    "# Returns False\n",
    "result = text.endswith('geeks', 10, 16)\n",
    "print(result)\n",
    "\n",
    "# returns True\n",
    "result = text.endswith('geeks', 10, 15)\n",
    "print(result)\n"
   ]
  },
  {
   "cell_type": "code",
   "execution_count": 19,
   "id": "44c6ab6e",
   "metadata": {},
   "outputs": [
    {
     "name": "stdout",
     "output_type": "stream",
     "text": [
      "True\n"
     ]
    }
   ],
   "source": [
    "txt = 'geeks for geeks'\n",
    "result = txt.endswith('for', 6,9)\n",
    "print(result)"
   ]
  },
  {
   "cell_type": "code",
   "execution_count": 27,
   "id": "8aa00a5b",
   "metadata": {},
   "outputs": [
    {
     "name": "stdout",
     "output_type": "stream",
     "text": [
      "enter your Name :- aaa\n",
      "enter your email :- ghgh\n",
      "Please enter valid email\n"
     ]
    }
   ],
   "source": [
    "user_name = input('enter your Name :- ').split()[0].capitalize()\n",
    "user_email = input('enter your email :- ').lower()\n",
    "\n",
    "if user_email.endswith('gmail.com'):\n",
    "    print('Hello',user_name,'\\nYou are Welcome....')\n",
    "else:\n",
    "    print('Please enter valid email')"
   ]
  },
  {
   "cell_type": "code",
   "execution_count": 28,
   "id": "61740525",
   "metadata": {},
   "outputs": [],
   "source": [
    "text = 'as we are not using any extra space in the program, only a string variable is used to store the input string.'"
   ]
  },
  {
   "cell_type": "code",
   "execution_count": 33,
   "id": "9431ef19",
   "metadata": {},
   "outputs": [
    {
     "data": {
      "text/plain": [
       "2"
      ]
     },
     "execution_count": 33,
     "metadata": {},
     "output_type": "execute_result"
    }
   ],
   "source": [
    "text.count('string')"
   ]
  },
  {
   "cell_type": "code",
   "execution_count": 47,
   "id": "c4cb6067",
   "metadata": {},
   "outputs": [
    {
     "name": "stdout",
     "output_type": "stream",
     "text": [
      "['string'] :- 2\n"
     ]
    }
   ],
   "source": [
    "lst = []\n",
    "for i in text.split():\n",
    "    if i == 'string':\n",
    "        str_count = text.count('string')\n",
    "        lst.append(i)\n",
    "        print(lst,':-',str_count)"
   ]
  },
  {
   "cell_type": "code",
   "execution_count": 48,
   "id": "28d9a4cf",
   "metadata": {},
   "outputs": [
    {
     "data": {
      "text/plain": [
       "['string']"
      ]
     },
     "execution_count": 48,
     "metadata": {},
     "output_type": "execute_result"
    }
   ],
   "source": [
    "lst"
   ]
  },
  {
   "cell_type": "code",
   "execution_count": null,
   "id": "5f5760e9",
   "metadata": {},
   "outputs": [],
   "source": [
    "# Python code to count and display number of vowels\n",
    "# Simply using for and comparing it with a\n",
    "# string containing all vowels\n",
    "def Check_Vow(string, vowels):\n",
    "\tfinal = [each for each in string if each in vowels]\n",
    "\tprint(len(final))\n",
    "\tprint(final)\n",
    "\t\n",
    "# Driver Code\n",
    "string = \"Geeks for Geeks\"\n",
    "vowels = \"AaEeIiOoUu\"\n",
    "Check_Vow(string, vowels);\n"
   ]
  },
  {
   "cell_type": "code",
   "execution_count": 1,
   "id": "79130272",
   "metadata": {},
   "outputs": [],
   "source": [
    "def check_vowels(string,vowels):\n",
    "    \n",
    "    final = [i for i in string if i in vowels]\n",
    "#     v = set(final)\n",
    "#     l = list(v)\n",
    "    print(final,'total vowels:-',len(final))"
   ]
  },
  {
   "cell_type": "code",
   "execution_count": 2,
   "id": "b38b9e04",
   "metadata": {},
   "outputs": [],
   "source": [
    "string = 'Python code to count and display number of vowels'\n",
    "vowels = 'AaEeIioOuU'"
   ]
  },
  {
   "cell_type": "code",
   "execution_count": 3,
   "id": "07962fc6",
   "metadata": {},
   "outputs": [
    {
     "name": "stdout",
     "output_type": "stream",
     "text": [
      "['o', 'o', 'e', 'o', 'o', 'u', 'a', 'i', 'a', 'u', 'e', 'o', 'o', 'e'] total vowels:- 14\n"
     ]
    }
   ],
   "source": [
    "check_vowels(string,vowels)"
   ]
  },
  {
   "cell_type": "code",
   "execution_count": 97,
   "id": "34361a2f",
   "metadata": {},
   "outputs": [],
   "source": [
    "ls = []\n",
    "def ch_v(str1):\n",
    "    \n",
    "    ''' this is the function\n",
    "        to used for show vowels and count number of vowels \n",
    "        avialable\n",
    "    '''\n",
    "    for i in str1.lower():\n",
    "        if i in ['a','e','i','o','u']:\n",
    "            ls.append(i)\n",
    "    print(ls,'total vowels:-', len(ls))"
   ]
  },
  {
   "cell_type": "code",
   "execution_count": 98,
   "id": "fb8d6535",
   "metadata": {},
   "outputs": [],
   "source": [
    "a = 'Python code to count and display number of vowels'"
   ]
  },
  {
   "cell_type": "code",
   "execution_count": 99,
   "id": "30e6adf9",
   "metadata": {},
   "outputs": [
    {
     "name": "stdout",
     "output_type": "stream",
     "text": [
      "['o', 'o', 'e', 'o', 'o', 'u', 'a', 'i', 'a', 'u', 'e', 'o', 'o', 'e'] total vowels:- 14\n"
     ]
    }
   ],
   "source": [
    "ch_v(a)"
   ]
  },
  {
   "cell_type": "code",
   "execution_count": 104,
   "id": "1e726622",
   "metadata": {},
   "outputs": [],
   "source": [
    "vowels = []\n",
    "\n",
    "def check_vowels(str2):\n",
    "    for i in str2.lower():\n",
    "        if i in ['a','e','i','o','u']:\n",
    "            vowels.append(i)\n",
    "    print(vowels,'total vowels:-', len(vowels))\n",
    "            "
   ]
  },
  {
   "cell_type": "code",
   "execution_count": 105,
   "id": "a91e2d28",
   "metadata": {},
   "outputs": [],
   "source": [
    "text1 = 'Hello this is the string practice for python'"
   ]
  },
  {
   "cell_type": "code",
   "execution_count": 106,
   "id": "7bef039f",
   "metadata": {},
   "outputs": [
    {
     "name": "stdout",
     "output_type": "stream",
     "text": [
      "['e', 'o', 'i', 'i', 'e', 'i', 'a', 'i', 'e', 'o', 'o'] total vowels:- 11\n"
     ]
    }
   ],
   "source": [
    "check_vowels(text1)"
   ]
  },
  {
   "cell_type": "code",
   "execution_count": 107,
   "id": "58276833",
   "metadata": {},
   "outputs": [],
   "source": [
    "# by list compression"
   ]
  },
  {
   "cell_type": "code",
   "execution_count": 112,
   "id": "a8381dea",
   "metadata": {},
   "outputs": [],
   "source": [
    "def c_vowe(str3):\n",
    "    lc_vowels = [i for i in str3 if i in ['a','e','i','o','u']]\n",
    "    print(lc_vowels,'total vowels:-', len(lc_vowels))"
   ]
  },
  {
   "cell_type": "code",
   "execution_count": 113,
   "id": "78ae172b",
   "metadata": {},
   "outputs": [
    {
     "name": "stdout",
     "output_type": "stream",
     "text": [
      "['e', 'o', 'i', 'i', 'e', 'i', 'a', 'i', 'e', 'o', 'o'] total vowels:- 11\n"
     ]
    }
   ],
   "source": [
    "c_vowe(text1)"
   ]
  },
  {
   "cell_type": "code",
   "execution_count": null,
   "id": "1dba6fd1",
   "metadata": {},
   "outputs": [],
   "source": [
    "# Count vowels in a different way\n",
    "# Using dictionary\n",
    "def Check_Vow(string, vowels):\n",
    "\t\n",
    "\t# casefold has been used to ignore cases\n",
    "\tstring = string.casefold()\n",
    "\t\n",
    "\t# Forms a dictionary with key as a vowel\n",
    "\t# and the value as 0\n",
    "\tcount = {}.fromkeys(vowels, 0)\n",
    "\t\n",
    "\t# To count the vowels\n",
    "\tfor character in string:\n",
    "\t\tif character in count:\n",
    "\t\t\tcount[character] += 1\n",
    "\treturn count\n",
    "\t\n",
    "# Driver Code\n",
    "vowels = 'aeiou'\n",
    "string = \"Geeks for Geeks\"\n",
    "print (Check_Vow(string, vowels))\n"
   ]
  },
  {
   "cell_type": "code",
   "execution_count": 114,
   "id": "c2b54cad",
   "metadata": {},
   "outputs": [],
   "source": [
    "count = {}.fromkeys(vowels, 0)"
   ]
  },
  {
   "cell_type": "code",
   "execution_count": 115,
   "id": "01ee4b77",
   "metadata": {},
   "outputs": [
    {
     "data": {
      "text/plain": [
       "{'e': 0, 'o': 0, 'i': 0, 'a': 0}"
      ]
     },
     "execution_count": 115,
     "metadata": {},
     "output_type": "execute_result"
    }
   ],
   "source": [
    "count"
   ]
  },
  {
   "cell_type": "code",
   "execution_count": 130,
   "id": "4448d260",
   "metadata": {},
   "outputs": [],
   "source": [
    "v1 = 'aeiou'\n",
    "\n",
    "def abc(str4):\n",
    "    str4 = str4.casefold()        # for lowercase\n",
    "    \n",
    "    count = {}.fromkeys(v1,0)\n",
    "    print(count)\n",
    "    \n",
    "    for i in str4:\n",
    "        if i in count:\n",
    "            count[i] +=1\n",
    "    return count"
   ]
  },
  {
   "cell_type": "code",
   "execution_count": 127,
   "id": "fdee4df9",
   "metadata": {},
   "outputs": [],
   "source": [
    "line = 'This is the way you learn to became a expert ' "
   ]
  },
  {
   "cell_type": "code",
   "execution_count": 128,
   "id": "fce251e6",
   "metadata": {},
   "outputs": [
    {
     "name": "stdout",
     "output_type": "stream",
     "text": [
      "{'a': 0, 'e': 0, 'i': 0, 'o': 0, 'u': 0}\n"
     ]
    },
    {
     "data": {
      "text/plain": [
       "{'a': 4, 'e': 6, 'i': 2, 'o': 2, 'u': 1}"
      ]
     },
     "execution_count": 128,
     "metadata": {},
     "output_type": "execute_result"
    }
   ],
   "source": [
    "abc(line)"
   ]
  },
  {
   "cell_type": "code",
   "execution_count": 133,
   "id": "92f273a3",
   "metadata": {},
   "outputs": [],
   "source": [
    "vowel_lst = ['a','e','i','o','u']\n",
    "\n",
    "def dic_vowels(str5):\n",
    "    \n",
    "    str5 = str5.casefold()\n",
    "    count = {}.fromkeys(vowel_lst,0)\n",
    "    \n",
    "    for i in str5:\n",
    "        if i in count:\n",
    "            count[i] += 1\n",
    "    return count"
   ]
  },
  {
   "cell_type": "code",
   "execution_count": 134,
   "id": "b2d3e75f",
   "metadata": {},
   "outputs": [
    {
     "data": {
      "text/plain": [
       "{'a': 4, 'e': 6, 'i': 2, 'o': 2, 'u': 1}"
      ]
     },
     "execution_count": 134,
     "metadata": {},
     "output_type": "execute_result"
    }
   ],
   "source": [
    "dic_vowels(line)"
   ]
  },
  {
   "cell_type": "code",
   "execution_count": null,
   "id": "adf8772a",
   "metadata": {},
   "outputs": [],
   "source": [
    "# Python code to demonstrate working of\n",
    "# center(), ljust() and rjust()\n",
    "str = \"geeksforgeeks\"\n",
    "\n",
    "# Printing the string after centering with '-'\n",
    "print (\"The string after centering with '-' is : \",end=\"\")\n",
    "print ( str.center(20,'-'))\n",
    "\n",
    "# Printing the string after ljust()\n",
    "print (\"The string after ljust is : \",end=\"\")\n",
    "print ( str.ljust(20,'-'))\n",
    "\n",
    "# Printing the string after rjust()\n",
    "print (\"The string after rjust is : \",end=\"\")\n",
    "print ( str.rjust(20,'-'))\n"
   ]
  },
  {
   "cell_type": "code",
   "execution_count": 137,
   "id": "78940722",
   "metadata": {},
   "outputs": [
    {
     "name": "stdout",
     "output_type": "stream",
     "text": [
      "__________________geeksforgeeks___________________\n"
     ]
    }
   ],
   "source": [
    "str = 'geeksforgeeks'\n",
    "\n",
    "print(str.center(50,'_'))"
   ]
  },
  {
   "cell_type": "code",
   "execution_count": 144,
   "id": "c138302b",
   "metadata": {},
   "outputs": [
    {
     "name": "stdout",
     "output_type": "stream",
     "text": [
      "_______geeksforgeeks\n"
     ]
    }
   ],
   "source": [
    "print(str.rjust(20,'_'))"
   ]
  },
  {
   "cell_type": "code",
   "execution_count": 145,
   "id": "421535a3",
   "metadata": {},
   "outputs": [
    {
     "name": "stdout",
     "output_type": "stream",
     "text": [
      "geeksforgeeks_______\n"
     ]
    }
   ],
   "source": [
    "print(str.ljust(20,'_'))"
   ]
  },
  {
   "cell_type": "code",
   "execution_count": 163,
   "id": "1bfc43c6",
   "metadata": {},
   "outputs": [],
   "source": [
    "str7 = \"abc1245\"; str8 = '2345'"
   ]
  },
  {
   "cell_type": "code",
   "execution_count": 164,
   "id": "ae9b4f11",
   "metadata": {},
   "outputs": [
    {
     "data": {
      "text/plain": [
       "True"
      ]
     },
     "execution_count": 164,
     "metadata": {},
     "output_type": "execute_result"
    }
   ],
   "source": [
    "str7.isalnum()"
   ]
  },
  {
   "cell_type": "code",
   "execution_count": 165,
   "id": "f12bc386",
   "metadata": {},
   "outputs": [
    {
     "data": {
      "text/plain": [
       "False"
      ]
     },
     "execution_count": 165,
     "metadata": {},
     "output_type": "execute_result"
    }
   ],
   "source": [
    "str7.isalpha()"
   ]
  },
  {
   "cell_type": "code",
   "execution_count": 166,
   "id": "e8d6aff8",
   "metadata": {},
   "outputs": [
    {
     "data": {
      "text/plain": [
       "True"
      ]
     },
     "execution_count": 166,
     "metadata": {},
     "output_type": "execute_result"
    }
   ],
   "source": [
    "str8.isnumeric()"
   ]
  },
  {
   "cell_type": "code",
   "execution_count": 167,
   "id": "330c0801",
   "metadata": {},
   "outputs": [
    {
     "data": {
      "text/plain": [
       "False"
      ]
     },
     "execution_count": 167,
     "metadata": {},
     "output_type": "execute_result"
    }
   ],
   "source": [
    "str8.isspace()"
   ]
  },
  {
   "cell_type": "code",
   "execution_count": 168,
   "id": "ae248748",
   "metadata": {},
   "outputs": [],
   "source": [
    "str = \"_\"\n",
    "str1 = ( \"geeks\", \"for\", \"geeks\" )"
   ]
  },
  {
   "cell_type": "code",
   "execution_count": 169,
   "id": "077a4133",
   "metadata": {},
   "outputs": [
    {
     "data": {
      "text/plain": [
       "'geeks_for_geeks'"
      ]
     },
     "execution_count": 169,
     "metadata": {},
     "output_type": "execute_result"
    }
   ],
   "source": [
    "str.join(str1)"
   ]
  },
  {
   "cell_type": "code",
   "execution_count": 170,
   "id": "99ce4505",
   "metadata": {},
   "outputs": [
    {
     "data": {
      "text/plain": [
       "'geeks@for@geeks'"
      ]
     },
     "execution_count": 170,
     "metadata": {},
     "output_type": "execute_result"
    }
   ],
   "source": [
    "'@'.join(str1)"
   ]
  },
  {
   "cell_type": "code",
   "execution_count": 172,
   "id": "831936db",
   "metadata": {},
   "outputs": [
    {
     "name": "stdout",
     "output_type": "stream",
     "text": [
      "6\n"
     ]
    }
   ],
   "source": [
    "word = 'geeks for geeks'\n",
    "\n",
    "print(word.find('for'))"
   ]
  },
  {
   "cell_type": "code",
   "execution_count": 174,
   "id": "8f6f156f",
   "metadata": {},
   "outputs": [
    {
     "name": "stdout",
     "output_type": "stream",
     "text": [
      "Contains given substring \n"
     ]
    }
   ],
   "source": [
    "if word.find('pawan') != -1:\n",
    "    print(\"Contains given substring \")\n",
    "else:\n",
    "    print(\"Doesn't contains given substring\")"
   ]
  },
  {
   "cell_type": "code",
   "execution_count": 175,
   "id": "0bf6538f",
   "metadata": {},
   "outputs": [],
   "source": [
    "lst1 = [1,2,4,5]; lst2 = ['a','b','c','d']"
   ]
  },
  {
   "cell_type": "code",
   "execution_count": 186,
   "id": "ada8a43f",
   "metadata": {},
   "outputs": [],
   "source": [
    "a = dict(zip(lst2,lst1))"
   ]
  },
  {
   "cell_type": "code",
   "execution_count": 181,
   "id": "844db867",
   "metadata": {},
   "outputs": [],
   "source": [
    "p = [1,1,1,3,2,45,5,6,5,4,55,45,55,66,58,54,5,456,54,55,]"
   ]
  },
  {
   "cell_type": "code",
   "execution_count": 185,
   "id": "d3e5f485",
   "metadata": {},
   "outputs": [
    {
     "data": {
      "text/plain": [
       "[1, 2, 3, 4, 5, 6, 66, 456, 45, 54, 55, 58]"
      ]
     },
     "execution_count": 185,
     "metadata": {},
     "output_type": "execute_result"
    }
   ],
   "source": [
    "list(set(p))"
   ]
  },
  {
   "cell_type": "code",
   "execution_count": 187,
   "id": "08e83fe8",
   "metadata": {},
   "outputs": [
    {
     "data": {
      "text/plain": [
       "{'a': 1, 'b': 2, 'c': 4, 'd': 5}"
      ]
     },
     "execution_count": 187,
     "metadata": {},
     "output_type": "execute_result"
    }
   ],
   "source": [
    "a"
   ]
  },
  {
   "cell_type": "code",
   "execution_count": 189,
   "id": "ae1f3ec6",
   "metadata": {},
   "outputs": [
    {
     "data": {
      "text/plain": [
       "dict_items([('a', 1), ('b', 2), ('c', 4), ('d', 5)])"
      ]
     },
     "execution_count": 189,
     "metadata": {},
     "output_type": "execute_result"
    }
   ],
   "source": [
    "a.items()"
   ]
  },
  {
   "cell_type": "code",
   "execution_count": 194,
   "id": "21c51cb9",
   "metadata": {},
   "outputs": [
    {
     "data": {
      "text/plain": [
       "[('a', 1), ('b', 2), ('c', 4), ('d', 5)]"
      ]
     },
     "execution_count": 194,
     "metadata": {},
     "output_type": "execute_result"
    }
   ],
   "source": [
    "list(a.items())"
   ]
  },
  {
   "cell_type": "code",
   "execution_count": 198,
   "id": "838bb8bf",
   "metadata": {},
   "outputs": [
    {
     "data": {
      "text/plain": [
       "{'a', 'b', 'c', 'd'}"
      ]
     },
     "execution_count": 198,
     "metadata": {},
     "output_type": "execute_result"
    }
   ],
   "source": [
    "set(a.keys())"
   ]
  },
  {
   "cell_type": "code",
   "execution_count": 1,
   "id": "9c09eea3",
   "metadata": {},
   "outputs": [],
   "source": [
    "# Operators"
   ]
  },
  {
   "cell_type": "code",
   "execution_count": 6,
   "id": "1dcf17d1",
   "metadata": {},
   "outputs": [],
   "source": [
    "import math"
   ]
  },
  {
   "cell_type": "code",
   "execution_count": 9,
   "id": "8cb5a5fb",
   "metadata": {},
   "outputs": [
    {
     "data": {
      "text/plain": [
       "2"
      ]
     },
     "execution_count": 9,
     "metadata": {},
     "output_type": "execute_result"
    }
   ],
   "source": [
    "math.ceil(9/5)"
   ]
  },
  {
   "cell_type": "code",
   "execution_count": 10,
   "id": "95bef25d",
   "metadata": {},
   "outputs": [],
   "source": [
    "import math"
   ]
  },
  {
   "cell_type": "code",
   "execution_count": 11,
   "id": "596dd1ca",
   "metadata": {},
   "outputs": [
    {
     "data": {
      "text/plain": [
       "1"
      ]
     },
     "execution_count": 11,
     "metadata": {},
     "output_type": "execute_result"
    }
   ],
   "source": [
    "math.floor(9/5)"
   ]
  },
  {
   "cell_type": "code",
   "execution_count": 12,
   "id": "e742a8f2",
   "metadata": {},
   "outputs": [
    {
     "data": {
      "text/plain": [
       "1"
      ]
     },
     "execution_count": 12,
     "metadata": {},
     "output_type": "execute_result"
    }
   ],
   "source": [
    "5%2"
   ]
  },
  {
   "cell_type": "code",
   "execution_count": 13,
   "id": "e939f404",
   "metadata": {},
   "outputs": [
    {
     "data": {
      "text/plain": [
       "0"
      ]
     },
     "execution_count": 13,
     "metadata": {},
     "output_type": "execute_result"
    }
   ],
   "source": [
    "25%5"
   ]
  },
  {
   "cell_type": "code",
   "execution_count": 14,
   "id": "0535c75f",
   "metadata": {},
   "outputs": [
    {
     "name": "stdout",
     "output_type": "stream",
     "text": [
      "[0, 2, 4, 6, 8, 10, 12, 14, 16, 18, 20] [1, 3, 5, 7, 9, 11, 13, 15, 17, 19]\n"
     ]
    }
   ],
   "source": [
    "even = []\n",
    "odd = []\n",
    "\n",
    "for i in range(0,21):\n",
    "    if i % 2 == 0:\n",
    "        even.append(i)\n",
    "    else:\n",
    "        odd.append(i)\n",
    "print(even,odd)"
   ]
  },
  {
   "cell_type": "code",
   "execution_count": 6,
   "id": "0c5b788f",
   "metadata": {},
   "outputs": [
    {
     "name": "stdout",
     "output_type": "stream",
     "text": [
      "overlapping 1\n",
      "overlapping 2\n",
      "not overlapping 3\n",
      "not overlapping 4\n",
      "not overlapping 5\n",
      "not overlapping 6\n"
     ]
    }
   ],
   "source": [
    "lst1 = [1,2,3,4,5,6]\n",
    "lst2 = [7,8,9,10,11,1,2]\n",
    "\n",
    "for i in lst1:\n",
    "    if i in lst2:\n",
    "#         print(i)\n",
    "        print('overlapping',i)\n",
    "    else:\n",
    "#         print(i)\n",
    "        print('not overlapping',i)\n",
    "\n"
   ]
  },
  {
   "cell_type": "code",
   "execution_count": 29,
   "id": "758783bb",
   "metadata": {},
   "outputs": [
    {
     "name": "stdout",
     "output_type": "stream",
     "text": [
      "x not in list\n",
      "y in list\n"
     ]
    }
   ],
   "source": [
    "x = 11\n",
    "y = 25\n",
    "\n",
    "lst = [15,30,25,36,32,31]\n",
    "\n",
    "if (x not in lst):\n",
    "    print('x not in list')\n",
    "else:\n",
    "    print('x in list')\n",
    "if (y in lst):\n",
    "    print('y in list')\n",
    "else:\n",
    "    print('not in lst')"
   ]
  },
  {
   "cell_type": "code",
   "execution_count": 1,
   "id": "877430de",
   "metadata": {},
   "outputs": [],
   "source": [
    "# Arithmetic Operator"
   ]
  },
  {
   "cell_type": "code",
   "execution_count": 2,
   "id": "2544f0e1",
   "metadata": {},
   "outputs": [
    {
     "data": {
      "text/plain": [
       "1000"
      ]
     },
     "execution_count": 2,
     "metadata": {},
     "output_type": "execute_result"
    }
   ],
   "source": [
    "10**3"
   ]
  },
  {
   "cell_type": "code",
   "execution_count": 3,
   "id": "33907ce0",
   "metadata": {},
   "outputs": [
    {
     "data": {
      "text/plain": [
       "3375"
      ]
     },
     "execution_count": 3,
     "metadata": {},
     "output_type": "execute_result"
    }
   ],
   "source": [
    "15**3"
   ]
  },
  {
   "cell_type": "code",
   "execution_count": 5,
   "id": "32ddb1a1",
   "metadata": {},
   "outputs": [],
   "source": [
    "a = 9//7"
   ]
  },
  {
   "cell_type": "code",
   "execution_count": 7,
   "id": "77f7a2f3",
   "metadata": {},
   "outputs": [
    {
     "data": {
      "text/plain": [
       "1"
      ]
     },
     "execution_count": 7,
     "metadata": {},
     "output_type": "execute_result"
    }
   ],
   "source": [
    "import math\n",
    "\n",
    "math.floor(a)"
   ]
  },
  {
   "cell_type": "code",
   "execution_count": 8,
   "id": "8877367b",
   "metadata": {},
   "outputs": [
    {
     "data": {
      "text/plain": [
       "1.2857142857142858"
      ]
     },
     "execution_count": 8,
     "metadata": {},
     "output_type": "execute_result"
    }
   ],
   "source": [
    "9/7"
   ]
  },
  {
   "cell_type": "code",
   "execution_count": 10,
   "id": "b18e3503",
   "metadata": {},
   "outputs": [],
   "source": [
    "val1 = 2\n",
    "val2 = 3"
   ]
  },
  {
   "cell_type": "code",
   "execution_count": 12,
   "id": "53feeb66",
   "metadata": {},
   "outputs": [
    {
     "name": "stdout",
     "output_type": "stream",
     "text": [
      "5\n"
     ]
    }
   ],
   "source": [
    "print(val1+val2)"
   ]
  },
  {
   "cell_type": "code",
   "execution_count": 13,
   "id": "c574a480",
   "metadata": {},
   "outputs": [
    {
     "data": {
      "text/plain": [
       "8"
      ]
     },
     "execution_count": 13,
     "metadata": {},
     "output_type": "execute_result"
    }
   ],
   "source": [
    "17//2"
   ]
  },
  {
   "cell_type": "code",
   "execution_count": 14,
   "id": "dbd1a3f9",
   "metadata": {},
   "outputs": [
    {
     "data": {
      "text/plain": [
       "2"
      ]
     },
     "execution_count": 14,
     "metadata": {},
     "output_type": "execute_result"
    }
   ],
   "source": [
    "15//6"
   ]
  },
  {
   "cell_type": "code",
   "execution_count": 15,
   "id": "70f06dc4",
   "metadata": {},
   "outputs": [
    {
     "data": {
      "text/plain": [
       "2.5"
      ]
     },
     "execution_count": 15,
     "metadata": {},
     "output_type": "execute_result"
    }
   ],
   "source": [
    "15/6"
   ]
  },
  {
   "cell_type": "code",
   "execution_count": 16,
   "id": "cc39813e",
   "metadata": {},
   "outputs": [
    {
     "data": {
      "text/plain": [
       "3"
      ]
     },
     "execution_count": 16,
     "metadata": {},
     "output_type": "execute_result"
    }
   ],
   "source": [
    "import math\n",
    "\n",
    "math.ceil(15/6)"
   ]
  },
  {
   "cell_type": "code",
   "execution_count": 17,
   "id": "f4012778",
   "metadata": {},
   "outputs": [
    {
     "data": {
      "text/plain": [
       "0"
      ]
     },
     "execution_count": 17,
     "metadata": {},
     "output_type": "execute_result"
    }
   ],
   "source": [
    "25%5"
   ]
  },
  {
   "cell_type": "code",
   "execution_count": 18,
   "id": "dbedc90c",
   "metadata": {},
   "outputs": [
    {
     "data": {
      "text/plain": [
       "1"
      ]
     },
     "execution_count": 18,
     "metadata": {},
     "output_type": "execute_result"
    }
   ],
   "source": [
    "34%3"
   ]
  },
  {
   "cell_type": "code",
   "execution_count": 19,
   "id": "293e7b9e",
   "metadata": {},
   "outputs": [],
   "source": [
    "a = 25\n",
    "b = 35"
   ]
  },
  {
   "cell_type": "code",
   "execution_count": 21,
   "id": "6fba818c",
   "metadata": {},
   "outputs": [
    {
     "data": {
      "text/plain": [
       "False"
      ]
     },
     "execution_count": 21,
     "metadata": {},
     "output_type": "execute_result"
    }
   ],
   "source": [
    "a>b"
   ]
  },
  {
   "cell_type": "code",
   "execution_count": 22,
   "id": "f3c6f459",
   "metadata": {},
   "outputs": [
    {
     "data": {
      "text/plain": [
       "True"
      ]
     },
     "execution_count": 22,
     "metadata": {},
     "output_type": "execute_result"
    }
   ],
   "source": [
    "b!=a"
   ]
  },
  {
   "cell_type": "code",
   "execution_count": 23,
   "id": "eae50e74",
   "metadata": {},
   "outputs": [
    {
     "data": {
      "text/plain": [
       "False"
      ]
     },
     "execution_count": 23,
     "metadata": {},
     "output_type": "execute_result"
    }
   ],
   "source": [
    "a == b"
   ]
  },
  {
   "cell_type": "code",
   "execution_count": 24,
   "id": "dc045c47",
   "metadata": {},
   "outputs": [
    {
     "data": {
      "text/plain": [
       "True"
      ]
     },
     "execution_count": 24,
     "metadata": {},
     "output_type": "execute_result"
    }
   ],
   "source": [
    "a<= b"
   ]
  },
  {
   "cell_type": "code",
   "execution_count": 25,
   "id": "1b62ff1c",
   "metadata": {},
   "outputs": [],
   "source": [
    "a = 10\n",
    "b = 'test.pdf'\n",
    "c = 25\n"
   ]
  },
  {
   "cell_type": "code",
   "execution_count": 27,
   "id": "e46dc251",
   "metadata": {},
   "outputs": [
    {
     "data": {
      "text/plain": [
       "False"
      ]
     },
     "execution_count": 27,
     "metadata": {},
     "output_type": "execute_result"
    }
   ],
   "source": [
    "a>c and c>45 and b.endswith('pdf')"
   ]
  },
  {
   "cell_type": "code",
   "execution_count": 28,
   "id": "971ca6b9",
   "metadata": {},
   "outputs": [
    {
     "data": {
      "text/plain": [
       "True"
      ]
     },
     "execution_count": 28,
     "metadata": {},
     "output_type": "execute_result"
    }
   ],
   "source": [
    "a>c or c>45 or b.endswith('pdf')"
   ]
  },
  {
   "cell_type": "code",
   "execution_count": 29,
   "id": "295bdf95",
   "metadata": {},
   "outputs": [
    {
     "data": {
      "text/plain": [
       "False"
      ]
     },
     "execution_count": 29,
     "metadata": {},
     "output_type": "execute_result"
    }
   ],
   "source": [
    "a>c"
   ]
  },
  {
   "cell_type": "code",
   "execution_count": 30,
   "id": "e82142bf",
   "metadata": {},
   "outputs": [
    {
     "data": {
      "text/plain": [
       "False"
      ]
     },
     "execution_count": 30,
     "metadata": {},
     "output_type": "execute_result"
    }
   ],
   "source": [
    "c>45"
   ]
  },
  {
   "cell_type": "code",
   "execution_count": 31,
   "id": "f5eda200",
   "metadata": {},
   "outputs": [
    {
     "data": {
      "text/plain": [
       "True"
      ]
     },
     "execution_count": 31,
     "metadata": {},
     "output_type": "execute_result"
    }
   ],
   "source": [
    "b.endswith('pdf')"
   ]
  },
  {
   "cell_type": "code",
   "execution_count": 33,
   "id": "e0abe359",
   "metadata": {},
   "outputs": [
    {
     "name": "stdout",
     "output_type": "stream",
     "text": [
      "0\n"
     ]
    }
   ],
   "source": [
    "print(False * False * True)"
   ]
  },
  {
   "cell_type": "code",
   "execution_count": 34,
   "id": "143e1a93",
   "metadata": {},
   "outputs": [
    {
     "data": {
      "text/plain": [
       "False"
      ]
     },
     "execution_count": 34,
     "metadata": {},
     "output_type": "execute_result"
    }
   ],
   "source": [
    "not True"
   ]
  },
  {
   "cell_type": "code",
   "execution_count": 35,
   "id": "f765e3ab",
   "metadata": {},
   "outputs": [
    {
     "data": {
      "text/plain": [
       "True"
      ]
     },
     "execution_count": 35,
     "metadata": {},
     "output_type": "execute_result"
    }
   ],
   "source": [
    "not False"
   ]
  },
  {
   "cell_type": "code",
   "execution_count": 36,
   "id": "701507b1",
   "metadata": {},
   "outputs": [],
   "source": [
    "a = 10\n",
    "b = 10"
   ]
  },
  {
   "cell_type": "code",
   "execution_count": 37,
   "id": "8a255c60",
   "metadata": {},
   "outputs": [
    {
     "data": {
      "text/plain": [
       "True"
      ]
     },
     "execution_count": 37,
     "metadata": {},
     "output_type": "execute_result"
    }
   ],
   "source": [
    "a is b"
   ]
  },
  {
   "cell_type": "code",
   "execution_count": 38,
   "id": "0dd93d60",
   "metadata": {},
   "outputs": [
    {
     "data": {
      "text/plain": [
       "True"
      ]
     },
     "execution_count": 38,
     "metadata": {},
     "output_type": "execute_result"
    }
   ],
   "source": [
    "b is a"
   ]
  },
  {
   "cell_type": "code",
   "execution_count": 42,
   "id": "053d3c61",
   "metadata": {},
   "outputs": [
    {
     "data": {
      "text/plain": [
       "1338839558736"
      ]
     },
     "execution_count": 42,
     "metadata": {},
     "output_type": "execute_result"
    }
   ],
   "source": [
    "id(a)"
   ]
  },
  {
   "cell_type": "code",
   "execution_count": 43,
   "id": "f9f36333",
   "metadata": {},
   "outputs": [
    {
     "data": {
      "text/plain": [
       "1338839558736"
      ]
     },
     "execution_count": 43,
     "metadata": {},
     "output_type": "execute_result"
    }
   ],
   "source": [
    "id(b)"
   ]
  },
  {
   "cell_type": "code",
   "execution_count": 44,
   "id": "dbccc06c",
   "metadata": {},
   "outputs": [],
   "source": [
    "a = 12458\n",
    "b = 12458"
   ]
  },
  {
   "cell_type": "code",
   "execution_count": 45,
   "id": "7ae4d688",
   "metadata": {},
   "outputs": [
    {
     "data": {
      "text/plain": [
       "1338954703888"
      ]
     },
     "execution_count": 45,
     "metadata": {},
     "output_type": "execute_result"
    }
   ],
   "source": [
    "id(a)"
   ]
  },
  {
   "cell_type": "code",
   "execution_count": 46,
   "id": "a78085e3",
   "metadata": {},
   "outputs": [
    {
     "data": {
      "text/plain": [
       "1338954703280"
      ]
     },
     "execution_count": 46,
     "metadata": {},
     "output_type": "execute_result"
    }
   ],
   "source": [
    "id(b)"
   ]
  },
  {
   "cell_type": "code",
   "execution_count": 47,
   "id": "1f823df3",
   "metadata": {},
   "outputs": [
    {
     "data": {
      "text/plain": [
       "True"
      ]
     },
     "execution_count": 47,
     "metadata": {},
     "output_type": "execute_result"
    }
   ],
   "source": [
    "a == b"
   ]
  },
  {
   "cell_type": "code",
   "execution_count": 48,
   "id": "d9a8665e",
   "metadata": {},
   "outputs": [
    {
     "data": {
      "text/plain": [
       "False"
      ]
     },
     "execution_count": 48,
     "metadata": {},
     "output_type": "execute_result"
    }
   ],
   "source": [
    "id(a) == id(b)"
   ]
  },
  {
   "cell_type": "code",
   "execution_count": 50,
   "id": "e591ebbc",
   "metadata": {},
   "outputs": [
    {
     "data": {
      "text/plain": [
       "9"
      ]
     },
     "execution_count": 50,
     "metadata": {},
     "output_type": "execute_result"
    }
   ],
   "source": [
    "25 & 15"
   ]
  },
  {
   "cell_type": "code",
   "execution_count": 51,
   "id": "5d084206",
   "metadata": {},
   "outputs": [
    {
     "data": {
      "text/plain": [
       "31"
      ]
     },
     "execution_count": 51,
     "metadata": {},
     "output_type": "execute_result"
    }
   ],
   "source": [
    "25|15"
   ]
  },
  {
   "cell_type": "code",
   "execution_count": 2,
   "id": "6d4dc803",
   "metadata": {},
   "outputs": [
    {
     "name": "stdout",
     "output_type": "stream",
     "text": [
      "[] 2\n",
      "[] 2\n",
      "[] 2\n",
      "['Python'] 2\n",
      "['Python'] 2\n",
      "['Python', 'python'] 2\n",
      "['Python', 'python'] 2\n",
      "['Python', 'python'] 2\n",
      "['Python', 'python'] 2\n",
      "['Python', 'python'] 2\n",
      "['Python', 'python', 'python'] 2\n"
     ]
    }
   ],
   "source": [
    "string = 'Hello this is Python program, python is very helpful,so learn python'\n",
    "\n",
    "lst = []\n",
    "\n",
    "for i in string.split():\n",
    "    if i.lower() == 'python':\n",
    "        c = string.count('python')\n",
    "        lst.append(i)\n",
    "    print(lst,c)"
   ]
  },
  {
   "cell_type": "code",
   "execution_count": 1,
   "id": "7f319a52",
   "metadata": {},
   "outputs": [],
   "source": [
    "fruits = ['apple','mango','banana','beer','papaya']\n",
    "qnty = [10,12,6,11,7]\n",
    "price = [50,40,100,150]"
   ]
  },
  {
   "cell_type": "code",
   "execution_count": 3,
   "id": "594218ce",
   "metadata": {},
   "outputs": [
    {
     "data": {
      "text/plain": [
       "'apple,mango,banana,beer,papaya'"
      ]
     },
     "execution_count": 3,
     "metadata": {},
     "output_type": "execute_result"
    }
   ],
   "source": [
    "# convert list into string\n",
    "\n",
    "lst = ','.join(fruits)\n",
    "lst"
   ]
  },
  {
   "cell_type": "code",
   "execution_count": 5,
   "id": "b8cf8fcc",
   "metadata": {},
   "outputs": [
    {
     "data": {
      "text/plain": [
       "'apple,mango,banana,beer,papaya'"
      ]
     },
     "execution_count": 5,
     "metadata": {},
     "output_type": "execute_result"
    }
   ],
   "source": [
    "lst = ','.join(str(ele) for ele in fruits)\n",
    "lst"
   ]
  },
  {
   "cell_type": "code",
   "execution_count": 6,
   "id": "aa8837a4",
   "metadata": {},
   "outputs": [
    {
     "data": {
      "text/plain": [
       "['10', '12', '6', '11', '7']"
      ]
     },
     "execution_count": 6,
     "metadata": {},
     "output_type": "execute_result"
    }
   ],
   "source": [
    "# convert list os integer into string\n",
    "\n",
    "lst1 = [str(ele) for ele in qnty]\n",
    "\n",
    "lst1"
   ]
  },
  {
   "cell_type": "code",
   "execution_count": 7,
   "id": "11f89cd0",
   "metadata": {},
   "outputs": [
    {
     "data": {
      "text/plain": [
       "'10,12,6,11,7'"
      ]
     },
     "execution_count": 7,
     "metadata": {},
     "output_type": "execute_result"
    }
   ],
   "source": [
    "my_str = ','.join(lst1)\n",
    "my_strtr"
   ]
  },
  {
   "cell_type": "code",
   "execution_count": 8,
   "id": "51b2ff03",
   "metadata": {},
   "outputs": [
    {
     "data": {
      "text/plain": [
       "['10', '12', '6', '11', '7']"
      ]
     },
     "execution_count": 8,
     "metadata": {},
     "output_type": "execute_result"
    }
   ],
   "source": [
    "lst2 = list(map(str,qnty))\n",
    "lst2"
   ]
  },
  {
   "cell_type": "code",
   "execution_count": 9,
   "id": "0ab4b52e",
   "metadata": {},
   "outputs": [
    {
     "data": {
      "text/plain": [
       "['apple', 'mango', 'banana', 'beer', 'papaya']"
      ]
     },
     "execution_count": 9,
     "metadata": {},
     "output_type": "execute_result"
    }
   ],
   "source": [
    "fruits"
   ]
  },
  {
   "cell_type": "code",
   "execution_count": 10,
   "id": "d836a9e1",
   "metadata": {},
   "outputs": [
    {
     "data": {
      "text/plain": [
       "'apple,mango,banana,beer,papaya'"
      ]
     },
     "execution_count": 10,
     "metadata": {},
     "output_type": "execute_result"
    }
   ],
   "source": [
    "lst5 = ','.join(fruits)\n",
    "lst5"
   ]
  },
  {
   "cell_type": "code",
   "execution_count": null,
   "id": "70726461",
   "metadata": {},
   "outputs": [],
   "source": []
  }
 ],
 "metadata": {
  "kernelspec": {
   "display_name": "Python 3 (ipykernel)",
   "language": "python",
   "name": "python3"
  },
  "language_info": {
   "codemirror_mode": {
    "name": "ipython",
    "version": 3
   },
   "file_extension": ".py",
   "mimetype": "text/x-python",
   "name": "python",
   "nbconvert_exporter": "python",
   "pygments_lexer": "ipython3",
   "version": "3.9.12"
  }
 },
 "nbformat": 4,
 "nbformat_minor": 5
}
