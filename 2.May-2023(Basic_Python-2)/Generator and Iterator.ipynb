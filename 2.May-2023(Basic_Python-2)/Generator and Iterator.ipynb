{
 "cells": [
  {
   "cell_type": "markdown",
   "id": "455a3c75",
   "metadata": {},
   "source": [
    "# Iterator"
   ]
  },
  {
   "cell_type": "code",
   "execution_count": 1,
   "id": "3ba7f49f",
   "metadata": {},
   "outputs": [],
   "source": [
    "# List,Set,Dictionary, Tuple all are iterable objects not a Iterartor\n",
    "# from iterarble objects we create iterator by using iter() keyword.\n",
    "# In Iterator 02 nos functions 1) iter() 2)next()"
   ]
  },
  {
   "cell_type": "code",
   "execution_count": 2,
   "id": "b3309c59",
   "metadata": {},
   "outputs": [],
   "source": [
    "lst = [1,2,3,4,'john',5,6,7,'kenedy',8,9]"
   ]
  },
  {
   "cell_type": "code",
   "execution_count": 3,
   "id": "9b006660",
   "metadata": {},
   "outputs": [],
   "source": [
    "i_lst = iter(lst)"
   ]
  },
  {
   "cell_type": "code",
   "execution_count": 4,
   "id": "b4622b40",
   "metadata": {},
   "outputs": [
    {
     "name": "stdout",
     "output_type": "stream",
     "text": [
      "1\n"
     ]
    }
   ],
   "source": [
    "print(next(i_lst))"
   ]
  },
  {
   "cell_type": "code",
   "execution_count": 5,
   "id": "850a586e",
   "metadata": {},
   "outputs": [
    {
     "data": {
      "text/plain": [
       "2"
      ]
     },
     "execution_count": 5,
     "metadata": {},
     "output_type": "execute_result"
    }
   ],
   "source": [
    "next(i_lst)"
   ]
  },
  {
   "cell_type": "code",
   "execution_count": 6,
   "id": "a51512d1",
   "metadata": {},
   "outputs": [
    {
     "data": {
      "text/plain": [
       "3"
      ]
     },
     "execution_count": 6,
     "metadata": {},
     "output_type": "execute_result"
    }
   ],
   "source": [
    "next(i_lst)"
   ]
  },
  {
   "cell_type": "code",
   "execution_count": 7,
   "id": "5552a4c4",
   "metadata": {},
   "outputs": [
    {
     "data": {
      "text/plain": [
       "4"
      ]
     },
     "execution_count": 7,
     "metadata": {},
     "output_type": "execute_result"
    }
   ],
   "source": [
    "next(i_lst)"
   ]
  },
  {
   "cell_type": "code",
   "execution_count": 8,
   "id": "85f843db",
   "metadata": {},
   "outputs": [
    {
     "data": {
      "text/plain": [
       "'john'"
      ]
     },
     "execution_count": 8,
     "metadata": {},
     "output_type": "execute_result"
    }
   ],
   "source": [
    "next(i_lst)"
   ]
  },
  {
   "cell_type": "code",
   "execution_count": 9,
   "id": "30f91d52",
   "metadata": {},
   "outputs": [],
   "source": [
    "lst1 = [1,2,3,4,'john',5,6,7,'kenedy',8,9]"
   ]
  },
  {
   "cell_type": "code",
   "execution_count": 10,
   "id": "5fb387bc",
   "metadata": {},
   "outputs": [
    {
     "ename": "TypeError",
     "evalue": "'list' object is not an iterator",
     "output_type": "error",
     "traceback": [
      "\u001b[1;31m---------------------------------------------------------------------------\u001b[0m",
      "\u001b[1;31mTypeError\u001b[0m                                 Traceback (most recent call last)",
      "Input \u001b[1;32mIn [10]\u001b[0m, in \u001b[0;36m<cell line: 1>\u001b[1;34m()\u001b[0m\n\u001b[1;32m----> 1\u001b[0m \u001b[38;5;28;43mnext\u001b[39;49m\u001b[43m(\u001b[49m\u001b[43mlst1\u001b[49m\u001b[43m)\u001b[49m\n",
      "\u001b[1;31mTypeError\u001b[0m: 'list' object is not an iterator"
     ]
    }
   ],
   "source": [
    "next(lst1)        # so here seen that list is not an iterator, so use iter() function to make an iterator"
   ]
  },
  {
   "cell_type": "markdown",
   "id": "d3d98d3d",
   "metadata": {},
   "source": [
    "# Generator"
   ]
  },
  {
   "cell_type": "code",
   "execution_count": 11,
   "id": "ed83656d",
   "metadata": {},
   "outputs": [],
   "source": [
    "# in generator it generate a value one by one at time\n",
    "# in Generator yield keyword use instead of return,its pause after result and give next value one by one"
   ]
  },
  {
   "cell_type": "code",
   "execution_count": 12,
   "id": "d7957975",
   "metadata": {},
   "outputs": [],
   "source": [
    "def generator1():\n",
    "    print('Hello john')\n",
    "    yield 17\n",
    "    \n",
    "    print('Hello Heena')\n",
    "    yield 18\n",
    "    \n",
    "    print('Hello Ganesh')\n",
    "    yield 19"
   ]
  },
  {
   "cell_type": "code",
   "execution_count": 13,
   "id": "d3c238cf",
   "metadata": {},
   "outputs": [
    {
     "name": "stdout",
     "output_type": "stream",
     "text": [
      "<generator object generator1 at 0x0000021DC58E0E40>\n"
     ]
    }
   ],
   "source": [
    "gen_val = generator1()\n",
    "print(gen_val)               # it return objects, so access element next function to be used"
   ]
  },
  {
   "cell_type": "code",
   "execution_count": 14,
   "id": "0aa04314",
   "metadata": {},
   "outputs": [
    {
     "name": "stdout",
     "output_type": "stream",
     "text": [
      "Hello john\n",
      "17\n"
     ]
    }
   ],
   "source": [
    "print(next(gen_val))"
   ]
  },
  {
   "cell_type": "code",
   "execution_count": 15,
   "id": "305c3c53",
   "metadata": {},
   "outputs": [
    {
     "name": "stdout",
     "output_type": "stream",
     "text": [
      "Hello Heena\n",
      "18\n"
     ]
    }
   ],
   "source": [
    "print(next(gen_val))"
   ]
  },
  {
   "cell_type": "code",
   "execution_count": 16,
   "id": "f6d0e935",
   "metadata": {},
   "outputs": [
    {
     "name": "stdout",
     "output_type": "stream",
     "text": [
      "Hello Ganesh\n",
      "19\n"
     ]
    }
   ],
   "source": [
    "print(next(gen_val))"
   ]
  },
  {
   "cell_type": "code",
   "execution_count": 17,
   "id": "bde3f486",
   "metadata": {},
   "outputs": [
    {
     "ename": "StopIteration",
     "evalue": "",
     "output_type": "error",
     "traceback": [
      "\u001b[1;31m---------------------------------------------------------------------------\u001b[0m",
      "\u001b[1;31mStopIteration\u001b[0m                             Traceback (most recent call last)",
      "Input \u001b[1;32mIn [17]\u001b[0m, in \u001b[0;36m<cell line: 1>\u001b[1;34m()\u001b[0m\n\u001b[1;32m----> 1\u001b[0m \u001b[38;5;28mprint\u001b[39m(\u001b[38;5;28;43mnext\u001b[39;49m\u001b[43m(\u001b[49m\u001b[43mgen_val\u001b[49m\u001b[43m)\u001b[49m)\n",
      "\u001b[1;31mStopIteration\u001b[0m: "
     ]
    }
   ],
   "source": [
    "print(next(gen_val))"
   ]
  },
  {
   "cell_type": "code",
   "execution_count": 18,
   "id": "b018bb7c",
   "metadata": {},
   "outputs": [],
   "source": [
    "# using return\n",
    "\n",
    "def generator2():\n",
    "    print('Hello john')\n",
    "    yield 17\n",
    "    \n",
    "    return                      # here return used, after print it will stop, and result stop iteration error\n",
    "    \n",
    "    print('Hello Heena')\n",
    "    yield 18\n",
    "    \n",
    "    print('Hello Ganesh')\n",
    "    yield 19"
   ]
  },
  {
   "cell_type": "code",
   "execution_count": 19,
   "id": "3a03ebe7",
   "metadata": {},
   "outputs": [],
   "source": [
    "gen_val = generator2()"
   ]
  },
  {
   "cell_type": "code",
   "execution_count": 20,
   "id": "2873262f",
   "metadata": {},
   "outputs": [
    {
     "name": "stdout",
     "output_type": "stream",
     "text": [
      "Hello john\n",
      "17\n"
     ]
    }
   ],
   "source": [
    "print(next(gen_val))"
   ]
  },
  {
   "cell_type": "code",
   "execution_count": 21,
   "id": "ace1f44b",
   "metadata": {},
   "outputs": [
    {
     "ename": "StopIteration",
     "evalue": "",
     "output_type": "error",
     "traceback": [
      "\u001b[1;31m---------------------------------------------------------------------------\u001b[0m",
      "\u001b[1;31mStopIteration\u001b[0m                             Traceback (most recent call last)",
      "Input \u001b[1;32mIn [21]\u001b[0m, in \u001b[0;36m<cell line: 1>\u001b[1;34m()\u001b[0m\n\u001b[1;32m----> 1\u001b[0m \u001b[38;5;28mprint\u001b[39m(\u001b[38;5;28;43mnext\u001b[39;49m\u001b[43m(\u001b[49m\u001b[43mgen_val\u001b[49m\u001b[43m)\u001b[49m)\n",
      "\u001b[1;31mStopIteration\u001b[0m: "
     ]
    }
   ],
   "source": [
    "print(next(gen_val))"
   ]
  },
  {
   "cell_type": "code",
   "execution_count": 22,
   "id": "26d4b31c",
   "metadata": {},
   "outputs": [],
   "source": [
    "# now using for loop    ----> it will not come stop iteration error\n",
    "\n",
    "\n",
    "def generator3():\n",
    "    print('Hello john')\n",
    "    yield 17\n",
    "    \n",
    "    print('Hello Heena')\n",
    "    yield 18\n",
    "    \n",
    "    print('Hello Ganesh')\n",
    "    yield 19"
   ]
  },
  {
   "cell_type": "code",
   "execution_count": 23,
   "id": "206c87cf",
   "metadata": {},
   "outputs": [],
   "source": [
    "gen_val = generator3()"
   ]
  },
  {
   "cell_type": "code",
   "execution_count": 24,
   "id": "d6098125",
   "metadata": {},
   "outputs": [
    {
     "name": "stdout",
     "output_type": "stream",
     "text": [
      "Hello john\n",
      "17\n",
      "Hello Heena\n",
      "18\n",
      "Hello Ganesh\n",
      "19\n"
     ]
    }
   ],
   "source": [
    "for i in gen_val:\n",
    "    print(i)"
   ]
  },
  {
   "cell_type": "code",
   "execution_count": null,
   "id": "946ab425",
   "metadata": {},
   "outputs": [],
   "source": []
  }
 ],
 "metadata": {
  "kernelspec": {
   "display_name": "Python 3 (ipykernel)",
   "language": "python",
   "name": "python3"
  },
  "language_info": {
   "codemirror_mode": {
    "name": "ipython",
    "version": 3
   },
   "file_extension": ".py",
   "mimetype": "text/x-python",
   "name": "python",
   "nbconvert_exporter": "python",
   "pygments_lexer": "ipython3",
   "version": "3.9.12"
  }
 },
 "nbformat": 4,
 "nbformat_minor": 5
}
