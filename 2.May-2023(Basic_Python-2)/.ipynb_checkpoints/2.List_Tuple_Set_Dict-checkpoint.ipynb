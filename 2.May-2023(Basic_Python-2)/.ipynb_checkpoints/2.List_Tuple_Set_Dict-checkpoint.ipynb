{
 "cells": [
  {
   "cell_type": "code",
   "execution_count": 1,
   "id": "f2f61796",
   "metadata": {},
   "outputs": [],
   "source": [
    "lst = [1,2,'Roshan','Geeks','for','Gigs']"
   ]
  },
  {
   "cell_type": "code",
   "execution_count": 2,
   "id": "ee12bbf2",
   "metadata": {},
   "outputs": [
    {
     "data": {
      "text/plain": [
       "[1, 2, 'Roshan', 'Geeks', 'for', 'Gigs']"
      ]
     },
     "execution_count": 2,
     "metadata": {},
     "output_type": "execute_result"
    }
   ],
   "source": [
    "lst"
   ]
  },
  {
   "cell_type": "code",
   "execution_count": 3,
   "id": "eea2922f",
   "metadata": {},
   "outputs": [
    {
     "name": "stdout",
     "output_type": "stream",
     "text": [
      "1\n"
     ]
    }
   ],
   "source": [
    "print(lst[0])"
   ]
  },
  {
   "cell_type": "code",
   "execution_count": 4,
   "id": "b3bbb7aa",
   "metadata": {},
   "outputs": [
    {
     "data": {
      "text/plain": [
       "'Roshan'"
      ]
     },
     "execution_count": 4,
     "metadata": {},
     "output_type": "execute_result"
    }
   ],
   "source": [
    "lst[2]"
   ]
  },
  {
   "cell_type": "code",
   "execution_count": 10,
   "id": "caa6c4e3",
   "metadata": {},
   "outputs": [],
   "source": [
    "lst1 = [[1,2,4,5],'About','hello',['Roshan','Ganesh','Mahesh',[6,5,4,('Rohan','ajjay')]]]"
   ]
  },
  {
   "cell_type": "code",
   "execution_count": 7,
   "id": "d30b380d",
   "metadata": {},
   "outputs": [
    {
     "data": {
      "text/plain": [
       "'About'"
      ]
     },
     "execution_count": 7,
     "metadata": {},
     "output_type": "execute_result"
    }
   ],
   "source": [
    "lst1[1]"
   ]
  },
  {
   "cell_type": "code",
   "execution_count": 9,
   "id": "904df02b",
   "metadata": {},
   "outputs": [
    {
     "data": {
      "text/plain": [
       "4"
      ]
     },
     "execution_count": 9,
     "metadata": {},
     "output_type": "execute_result"
    }
   ],
   "source": [
    "lst1[0][2]"
   ]
  },
  {
   "cell_type": "code",
   "execution_count": 14,
   "id": "cca131e0",
   "metadata": {},
   "outputs": [
    {
     "data": {
      "text/plain": [
       "'ajjay'"
      ]
     },
     "execution_count": 14,
     "metadata": {},
     "output_type": "execute_result"
    }
   ],
   "source": [
    "lst1[3][3][3][1]"
   ]
  },
  {
   "cell_type": "code",
   "execution_count": 15,
   "id": "5bf5c5b5",
   "metadata": {},
   "outputs": [
    {
     "name": "stdout",
     "output_type": "stream",
     "text": [
      "4\n"
     ]
    }
   ],
   "source": [
    "print(len(lst1))"
   ]
  },
  {
   "cell_type": "code",
   "execution_count": 17,
   "id": "ab38da61",
   "metadata": {},
   "outputs": [
    {
     "name": "stdout",
     "output_type": "stream",
     "text": [
      "Enter the string:- hello myy name is Roshan and i from gadchiroli district\n",
      "['hello', 'myy', 'name', 'is', 'Roshan', 'and', 'i', 'from', 'gadchiroli', 'district']\n"
     ]
    }
   ],
   "source": [
    "str = input('Enter the string:- ')\n",
    "lst2 = str.split()\n",
    "print(lst2)"
   ]
  },
  {
   "cell_type": "code",
   "execution_count": 19,
   "id": "9df24cd9",
   "metadata": {},
   "outputs": [
    {
     "data": {
      "text/plain": [
       "10"
      ]
     },
     "execution_count": 19,
     "metadata": {},
     "output_type": "execute_result"
    }
   ],
   "source": [
    "len(lst2)"
   ]
  },
  {
   "cell_type": "code",
   "execution_count": 1,
   "id": "3af4c79d",
   "metadata": {},
   "outputs": [],
   "source": [
    "lst = [12,35,9,56,24]"
   ]
  },
  {
   "cell_type": "code",
   "execution_count": 2,
   "id": "2d3f24c4",
   "metadata": {},
   "outputs": [
    {
     "data": {
      "text/plain": [
       "[12, 35, 9, 56, 24]"
      ]
     },
     "execution_count": 2,
     "metadata": {},
     "output_type": "execute_result"
    }
   ],
   "source": [
    "lst"
   ]
  },
  {
   "cell_type": "code",
   "execution_count": 8,
   "id": "ca51ae3e",
   "metadata": {},
   "outputs": [],
   "source": [
    "# swapfuction\n",
    "def swaplst(str):\n",
    "    size = len(str)\n",
    "    \n",
    "    # swapping\n",
    "    \n",
    "    temp = str[0]\n",
    "    str[0] = str[size-1]\n",
    "    \n",
    "    str[size-1] = temp\n",
    "    \n",
    "    return str"
   ]
  },
  {
   "cell_type": "code",
   "execution_count": 9,
   "id": "365f646c",
   "metadata": {},
   "outputs": [
    {
     "name": "stdout",
     "output_type": "stream",
     "text": [
      "[24, 35, 9, 56, 12]\n"
     ]
    }
   ],
   "source": [
    "print(swaplst(lst))"
   ]
  },
  {
   "cell_type": "code",
   "execution_count": 10,
   "id": "b1f475cb",
   "metadata": {},
   "outputs": [],
   "source": [
    "lst5 = [1,2,3]"
   ]
  },
  {
   "cell_type": "code",
   "execution_count": 11,
   "id": "159b199e",
   "metadata": {},
   "outputs": [
    {
     "data": {
      "text/plain": [
       "[3, 2, 1]"
      ]
     },
     "execution_count": 11,
     "metadata": {},
     "output_type": "execute_result"
    }
   ],
   "source": [
    "swaplst(lst5)"
   ]
  },
  {
   "cell_type": "code",
   "execution_count": 12,
   "id": "7f303e44",
   "metadata": {},
   "outputs": [],
   "source": [
    "def swaplist(str):\n",
    "    size = len(str)\n",
    "    \n",
    "    temp = str[0]\n",
    "    \n",
    "    str[0] = str[size-1]\n",
    "    \n",
    "    str[size-1] = temp\n",
    "    return str"
   ]
  },
  {
   "cell_type": "code",
   "execution_count": 13,
   "id": "9cc49fa2",
   "metadata": {},
   "outputs": [
    {
     "data": {
      "text/plain": [
       "[12, 35, 9, 56, 24]"
      ]
     },
     "execution_count": 13,
     "metadata": {},
     "output_type": "execute_result"
    }
   ],
   "source": [
    "swaplist(lst)"
   ]
  },
  {
   "cell_type": "code",
   "execution_count": 14,
   "id": "4cf5b621",
   "metadata": {},
   "outputs": [
    {
     "data": {
      "text/plain": [
       "[12, 35, 9, 56, 24]"
      ]
     },
     "execution_count": 14,
     "metadata": {},
     "output_type": "execute_result"
    }
   ],
   "source": [
    "lst"
   ]
  },
  {
   "cell_type": "code",
   "execution_count": 15,
   "id": "78e78644",
   "metadata": {},
   "outputs": [],
   "source": [
    "def swplst(str):\n",
    "    str[0],str[-1] = str[-1],str[0]\n",
    "    return str"
   ]
  },
  {
   "cell_type": "code",
   "execution_count": 16,
   "id": "3f7513a0",
   "metadata": {},
   "outputs": [
    {
     "data": {
      "text/plain": [
       "[24, 35, 9, 56, 12]"
      ]
     },
     "execution_count": 16,
     "metadata": {},
     "output_type": "execute_result"
    }
   ],
   "source": [
    "swplst(lst)"
   ]
  },
  {
   "cell_type": "code",
   "execution_count": 17,
   "id": "2119ebd7",
   "metadata": {},
   "outputs": [
    {
     "data": {
      "text/plain": [
       "[12, 35, 9, 56, 24]"
      ]
     },
     "execution_count": 17,
     "metadata": {},
     "output_type": "execute_result"
    }
   ],
   "source": [
    "swplst(lst)"
   ]
  },
  {
   "cell_type": "code",
   "execution_count": 18,
   "id": "e939a702",
   "metadata": {},
   "outputs": [],
   "source": [
    "def slst(str):\n",
    "    get = str[0],str[-1]\n",
    "    \n",
    "    str[-1],str[0] = get\n",
    "    return str"
   ]
  },
  {
   "cell_type": "code",
   "execution_count": 19,
   "id": "960247c1",
   "metadata": {},
   "outputs": [
    {
     "data": {
      "text/plain": [
       "[24, 35, 9, 56, 12]"
      ]
     },
     "execution_count": 19,
     "metadata": {},
     "output_type": "execute_result"
    }
   ],
   "source": [
    "slst(lst)"
   ]
  },
  {
   "cell_type": "code",
   "execution_count": 20,
   "id": "2dce9c60",
   "metadata": {},
   "outputs": [
    {
     "data": {
      "text/plain": [
       "[12, 35, 9, 56, 24]"
      ]
     },
     "execution_count": 20,
     "metadata": {},
     "output_type": "execute_result"
    }
   ],
   "source": [
    "slst(lst)"
   ]
  },
  {
   "cell_type": "code",
   "execution_count": 4,
   "id": "935417b8",
   "metadata": {},
   "outputs": [
    {
     "name": "stdout",
     "output_type": "stream",
     "text": [
      "enter the string:- Roshan ajay kumar\n",
      "\n",
      " ['Roshan', 'ajay', 'kumar']\n"
     ]
    }
   ],
   "source": [
    "string = input('enter the string:- ')\n",
    "lst = string.split()\n",
    "print('\\n',lst)"
   ]
  },
  {
   "cell_type": "code",
   "execution_count": 5,
   "id": "5d02493a",
   "metadata": {},
   "outputs": [
    {
     "name": "stdout",
     "output_type": "stream",
     "text": [
      "enter the value:- 10 12 14 16 15 15 17\n"
     ]
    },
    {
     "ename": "ValueError",
     "evalue": "invalid literal for int() with base 10: '10 12 14 16 15 15 17'",
     "output_type": "error",
     "traceback": [
      "\u001b[1;31m---------------------------------------------------------------------------\u001b[0m",
      "\u001b[1;31mValueError\u001b[0m                                Traceback (most recent call last)",
      "Input \u001b[1;32mIn [5]\u001b[0m, in \u001b[0;36m<cell line: 1>\u001b[1;34m()\u001b[0m\n\u001b[1;32m----> 1\u001b[0m n \u001b[38;5;241m=\u001b[39m \u001b[38;5;28;43mint\u001b[39;49m\u001b[43m(\u001b[49m\u001b[38;5;28;43minput\u001b[39;49m\u001b[43m(\u001b[49m\u001b[38;5;124;43m'\u001b[39;49m\u001b[38;5;124;43menter the value:- \u001b[39;49m\u001b[38;5;124;43m'\u001b[39;49m\u001b[43m)\u001b[49m\u001b[43m)\u001b[49m\n\u001b[0;32m      2\u001b[0m s_n \u001b[38;5;241m=\u001b[39m \u001b[38;5;28mlist\u001b[39m(\u001b[38;5;28mmap\u001b[39m(\u001b[38;5;28mint\u001b[39m,n))\n\u001b[0;32m      3\u001b[0m \u001b[38;5;28mprint\u001b[39m(s_n)\n",
      "\u001b[1;31mValueError\u001b[0m: invalid literal for int() with base 10: '10 12 14 16 15 15 17'"
     ]
    }
   ],
   "source": [
    "n = int(input('enter the value:- '))\n",
    "s_n = list(map(int,n))\n",
    "print(s_n)"
   ]
  },
  {
   "cell_type": "code",
   "execution_count": 7,
   "id": "821712ef",
   "metadata": {},
   "outputs": [
    {
     "name": "stdout",
     "output_type": "stream",
     "text": [
      "Enter the size of list : 3\n",
      "Enter the integerelements:22 55 4 5 6 5 6 5\n",
      "The list is: [22, 55, 4]\n"
     ]
    }
   ],
   "source": [
    "# input size of the list\n",
    "n = int(input(\"Enter the size of list : \"))\n",
    "# store integers in a list using map,\n",
    "# split and strip functions\n",
    "lst = list(map(int, input(\"Enter the integer\\\n",
    "elements:\").strip().split()))[:n]\n",
    "\n",
    "# printing the list\n",
    "print('The list is:', lst)\n"
   ]
  },
  {
   "cell_type": "code",
   "execution_count": 11,
   "id": "adcb4e36",
   "metadata": {},
   "outputs": [
    {
     "name": "stdout",
     "output_type": "stream",
     "text": [
      "enter the size of list: 4\n",
      "enter the integer:- 2\n",
      "[2]\n"
     ]
    }
   ],
   "source": [
    "n = int(input('enter the size of list: '))\n",
    "\n",
    "lst = list(map(int,input('enter the integer:- ').strip().split()))[:n]\n",
    "print(lst)"
   ]
  },
  {
   "cell_type": "code",
   "execution_count": null,
   "id": "76d1ec3e",
   "metadata": {},
   "outputs": [],
   "source": [
    "# Python program to demonstrate\n",
    "# Addition of elements in a List\n",
    "\n",
    "# Creating a List\n",
    "List = []\n",
    "print(\"Initial blank List: \")\n",
    "print(List)\n",
    "\n",
    "# Addition of Elements\n",
    "# in the List\n",
    "List.append(1)\n",
    "List.append(2)\n",
    "List.append(4)\n",
    "print(\"\\nList after Addition of Three elements: \")\n",
    "print(List)\n",
    "\n",
    "# Adding elements to the List\n",
    "# using Iterator\n",
    "for i in range(1, 4):\n",
    "\tList.append(i)\n",
    "print(\"\\nList after Addition of elements from 1-3: \")\n",
    "print(List)\n",
    "\n",
    "# Adding Tuples to the List\n",
    "List.append((5, 6))\n",
    "print(\"\\nList after Addition of a Tuple: \")\n",
    "print(List)\n",
    "\n",
    "# Addition of List to a List\n",
    "List2 = ['For', 'Geeks']\n",
    "List.append(List2)\n",
    "print(\"\\nList after Addition of a List: \")\n",
    "print(List)\n"
   ]
  },
  {
   "cell_type": "code",
   "execution_count": 21,
   "id": "ec7ad0cc",
   "metadata": {},
   "outputs": [
    {
     "name": "stdout",
     "output_type": "stream",
     "text": [
      "\n",
      " []\n"
     ]
    }
   ],
   "source": [
    "lst = []\n",
    "print('\\n',lst)"
   ]
  },
  {
   "cell_type": "code",
   "execution_count": 22,
   "id": "51c49733",
   "metadata": {},
   "outputs": [
    {
     "name": "stdout",
     "output_type": "stream",
     "text": [
      "This is list range from 1 to 10:-\n",
      "\n",
      " [1, 2, 3, 4, 5, 6, 7, 8, 9, 10]\n"
     ]
    }
   ],
   "source": [
    "for i in range(1,11):\n",
    "    lst.append(i)\n",
    "print('This is list range from 1 to 10:-\\n\\n',lst)"
   ]
  },
  {
   "cell_type": "code",
   "execution_count": 23,
   "id": "ee37152e",
   "metadata": {},
   "outputs": [],
   "source": [
    "lst.append('Roshan')"
   ]
  },
  {
   "cell_type": "code",
   "execution_count": 24,
   "id": "30eebcfe",
   "metadata": {},
   "outputs": [
    {
     "data": {
      "text/plain": [
       "[1, 2, 3, 4, 5, 6, 7, 8, 9, 10, 'Roshan']"
      ]
     },
     "execution_count": 24,
     "metadata": {},
     "output_type": "execute_result"
    }
   ],
   "source": [
    "lst"
   ]
  },
  {
   "cell_type": "code",
   "execution_count": 25,
   "id": "9b18f593",
   "metadata": {},
   "outputs": [],
   "source": [
    "lst.append([10.5,'Math'])"
   ]
  },
  {
   "cell_type": "code",
   "execution_count": 26,
   "id": "3508b751",
   "metadata": {},
   "outputs": [
    {
     "data": {
      "text/plain": [
       "[1, 2, 3, 4, 5, 6, 7, 8, 9, 10, 'Roshan', [10.5, 'Math']]"
      ]
     },
     "execution_count": 26,
     "metadata": {},
     "output_type": "execute_result"
    }
   ],
   "source": [
    "lst"
   ]
  },
  {
   "cell_type": "code",
   "execution_count": 27,
   "id": "197754ce",
   "metadata": {},
   "outputs": [],
   "source": [
    "lst.insert(1,'Bahetwar')"
   ]
  },
  {
   "cell_type": "code",
   "execution_count": 28,
   "id": "7e8a121d",
   "metadata": {},
   "outputs": [
    {
     "data": {
      "text/plain": [
       "[1, 'Bahetwar', 2, 3, 4, 5, 6, 7, 8, 9, 10, 'Roshan', [10.5, 'Math']]"
      ]
     },
     "execution_count": 28,
     "metadata": {},
     "output_type": "execute_result"
    }
   ],
   "source": [
    "lst"
   ]
  },
  {
   "cell_type": "code",
   "execution_count": 32,
   "id": "4bffd3fa",
   "metadata": {},
   "outputs": [],
   "source": [
    "lst.extend([0,0,10,0,0])"
   ]
  },
  {
   "cell_type": "code",
   "execution_count": 33,
   "id": "a1a1e43e",
   "metadata": {},
   "outputs": [
    {
     "name": "stdout",
     "output_type": "stream",
     "text": [
      "[1, 'Bahetwar', 2, 3, 4, 5, 6, 7, 8, 9, 10, 'Roshan', [10.5, 'Math'], '0,0,10,0,0', 0, 0, 10, 0, 0]\n"
     ]
    }
   ],
   "source": [
    "print(lst)"
   ]
  },
  {
   "cell_type": "code",
   "execution_count": 48,
   "id": "4cdc3798",
   "metadata": {},
   "outputs": [
    {
     "data": {
      "text/plain": [
       "'0,0,10,0,0'"
      ]
     },
     "execution_count": 48,
     "metadata": {},
     "output_type": "execute_result"
    }
   ],
   "source": [
    "lst.pop()"
   ]
  },
  {
   "cell_type": "code",
   "execution_count": 50,
   "id": "42651a89",
   "metadata": {},
   "outputs": [],
   "source": [
    "lst.remove([10.5,'Math'])"
   ]
  },
  {
   "cell_type": "code",
   "execution_count": 51,
   "id": "c7060dfa",
   "metadata": {},
   "outputs": [
    {
     "name": "stdout",
     "output_type": "stream",
     "text": [
      "[1, 'Bahetwar', 2, 3, 4, 5, 6, 7, 8, 9, 'Roshan']\n"
     ]
    }
   ],
   "source": [
    "print(lst)"
   ]
  },
  {
   "cell_type": "code",
   "execution_count": 52,
   "id": "84cfcbca",
   "metadata": {},
   "outputs": [
    {
     "data": {
      "text/plain": [
       "'Bahetwar'"
      ]
     },
     "execution_count": 52,
     "metadata": {},
     "output_type": "execute_result"
    }
   ],
   "source": [
    "lst.pop(1)"
   ]
  },
  {
   "cell_type": "code",
   "execution_count": 53,
   "id": "3e6ebec5",
   "metadata": {},
   "outputs": [
    {
     "data": {
      "text/plain": [
       "[1, 2, 3, 4, 5, 6, 7, 8, 9, 'Roshan']"
      ]
     },
     "execution_count": 53,
     "metadata": {},
     "output_type": "execute_result"
    }
   ],
   "source": [
    "lst"
   ]
  },
  {
   "cell_type": "code",
   "execution_count": 54,
   "id": "5ea9ae46",
   "metadata": {},
   "outputs": [],
   "source": [
    "lst.reverse()"
   ]
  },
  {
   "cell_type": "code",
   "execution_count": 55,
   "id": "31856e69",
   "metadata": {},
   "outputs": [
    {
     "data": {
      "text/plain": [
       "['Roshan', 9, 8, 7, 6, 5, 4, 3, 2, 1]"
      ]
     },
     "execution_count": 55,
     "metadata": {},
     "output_type": "execute_result"
    }
   ],
   "source": [
    "lst"
   ]
  },
  {
   "cell_type": "code",
   "execution_count": 58,
   "id": "d3db9978",
   "metadata": {},
   "outputs": [
    {
     "name": "stdout",
     "output_type": "stream",
     "text": [
      "[1, 2, 3, 4, 5, 6, 7, 8, 9, 'Roshan']\n"
     ]
    }
   ],
   "source": [
    "rev_lst = lst[::-1]\n",
    "print(rev_lst)"
   ]
  },
  {
   "cell_type": "code",
   "execution_count": 59,
   "id": "67e5dd37",
   "metadata": {},
   "outputs": [
    {
     "data": {
      "text/plain": [
       "['Roshan', 9, 8, 7, 6, 5, 4, 3, 2, 1]"
      ]
     },
     "execution_count": 59,
     "metadata": {},
     "output_type": "execute_result"
    }
   ],
   "source": [
    "lst"
   ]
  },
  {
   "cell_type": "code",
   "execution_count": 60,
   "id": "e99004f8",
   "metadata": {},
   "outputs": [
    {
     "data": {
      "text/plain": [
       "[1, 2, 3, 4, 5, 6, 7, 8, 9, 'Roshan']"
      ]
     },
     "execution_count": 60,
     "metadata": {},
     "output_type": "execute_result"
    }
   ],
   "source": [
    "rev_lst"
   ]
  },
  {
   "cell_type": "code",
   "execution_count": 63,
   "id": "6735506e",
   "metadata": {},
   "outputs": [],
   "source": [
    "# Python3 program for the\n",
    "# practical application of reverse()\n",
    "list_arr = [1, 2, 3, 2, 1]\n",
    "list_string = list(\"naman\")\n",
    "\n",
    "# store a copy of list\n",
    "list2 = list_arr.copy()\n",
    "list3 = list_string.copy()\n",
    "\n",
    "# reverse the list\n",
    "list2.reverse()\n",
    "list3.reverse()\n",
    "\n",
    "# compare reversed and original list\n",
    "if list_arr == list2:\n",
    "\tprint(list_arr, \": Palindrome\")\n",
    "else:\n",
    "\tprint(list_arr, \": Not Palindrome\")\n",
    "\n",
    "# compare reversed and original list\n",
    "if list_string == list3:\n",
    "\tprint(list_string, \": Palindrome\")\n",
    "else:\n",
    "\tprint(list_string, \": Not Palindrome\")\n"
   ]
  },
  {
   "cell_type": "code",
   "execution_count": 71,
   "id": "6fbe876a",
   "metadata": {},
   "outputs": [
    {
     "name": "stdout",
     "output_type": "stream",
     "text": [
      "[1, 2, 3, 2, 1]\n",
      "['n', 'a', 'm', 'a', 'n']\n"
     ]
    }
   ],
   "source": [
    "lst_arr = [1,2,3,2,1]\n",
    "lst_str = list('naman')\n",
    "\n",
    "print(lst_arr)\n",
    "print(lst_str)"
   ]
  },
  {
   "cell_type": "code",
   "execution_count": 72,
   "id": "cd58883c",
   "metadata": {},
   "outputs": [],
   "source": [
    "list1 = lst_arr.copy()\n",
    "list2 = lst_str.copy()"
   ]
  },
  {
   "cell_type": "code",
   "execution_count": 76,
   "id": "81728441",
   "metadata": {},
   "outputs": [
    {
     "name": "stdout",
     "output_type": "stream",
     "text": [
      "[1, 2, 3, 2, 1]\n",
      "['n', 'a', 'm', 'a', 'n']\n"
     ]
    }
   ],
   "source": [
    "print(list1)\n",
    "print(list2)"
   ]
  },
  {
   "cell_type": "code",
   "execution_count": 77,
   "id": "5d3aa7e2",
   "metadata": {},
   "outputs": [],
   "source": [
    "list1.reverse()\n",
    "list2.reverse()"
   ]
  },
  {
   "cell_type": "code",
   "execution_count": 79,
   "id": "efb13afd",
   "metadata": {},
   "outputs": [
    {
     "name": "stdout",
     "output_type": "stream",
     "text": [
      "[1, 2, 3, 2, 1] list is palindrome\n"
     ]
    }
   ],
   "source": [
    "if lst_arr == list1:\n",
    "    print(lst_arr, 'list is palindrome')\n",
    "else:\n",
    "    print(lst_arr, 'list not palindrome')"
   ]
  },
  {
   "cell_type": "code",
   "execution_count": 80,
   "id": "1166169b",
   "metadata": {},
   "outputs": [
    {
     "name": "stdout",
     "output_type": "stream",
     "text": [
      "['n', 'a', 'm', 'a', 'n'] list pallindrome\n"
     ]
    }
   ],
   "source": [
    "if lst_str == list2:\n",
    "    print(lst_str,'list pallindrome')\n",
    "else:\n",
    "    print(lst_str,'not p')"
   ]
  },
  {
   "cell_type": "code",
   "execution_count": 100,
   "id": "baca3281",
   "metadata": {},
   "outputs": [
    {
     "name": "stdout",
     "output_type": "stream",
     "text": [
      "2\n",
      "2\n"
     ]
    }
   ],
   "source": [
    "list1 = [ ('Cat', 'Bat'), ('Sat', 'Cat'), ('Cat', 'Bat'),\n",
    "\t\t('Cat', 'Bat', 'Sat'), [1, 2], [1, 2, 3], [1, 2] ]\n",
    "\n",
    "# Counts the number of times 'Cat' appears in list1\n",
    "print(list1.count(('Cat', 'Bat')))\n",
    "\n",
    "# Count the number of times sublist\n",
    "# '[1, 2]' appears in list1\n",
    "print(list1.count([1, 2]))\n"
   ]
  },
  {
   "cell_type": "code",
   "execution_count": 108,
   "id": "f4c60e4c",
   "metadata": {},
   "outputs": [],
   "source": [
    "lst = [('cat','bat'),('sat','cat'),('cat','bat'),('cat','bat','sat'),[1,2],[1,2,3],[1,2]]"
   ]
  },
  {
   "cell_type": "code",
   "execution_count": 109,
   "id": "4a91cb82",
   "metadata": {},
   "outputs": [
    {
     "data": {
      "text/plain": [
       "[('cat', 'bat'),\n",
       " ('sat', 'cat'),\n",
       " ('cat', 'bat'),\n",
       " ('cat', 'bat', 'sat'),\n",
       " [1, 2],\n",
       " [1, 2, 3],\n",
       " [1, 2]]"
      ]
     },
     "execution_count": 109,
     "metadata": {},
     "output_type": "execute_result"
    }
   ],
   "source": [
    "lst"
   ]
  },
  {
   "cell_type": "code",
   "execution_count": 110,
   "id": "529fb241",
   "metadata": {},
   "outputs": [
    {
     "data": {
      "text/plain": [
       "2"
      ]
     },
     "execution_count": 110,
     "metadata": {},
     "output_type": "execute_result"
    }
   ],
   "source": [
    "lst.count(('cat','bat'))"
   ]
  },
  {
   "cell_type": "code",
   "execution_count": 111,
   "id": "44b77e00",
   "metadata": {},
   "outputs": [
    {
     "name": "stdout",
     "output_type": "stream",
     "text": [
      "2\n"
     ]
    }
   ],
   "source": [
    "print(lst.count([1,2]))"
   ]
  },
  {
   "cell_type": "code",
   "execution_count": 153,
   "id": "2cfd31ef",
   "metadata": {},
   "outputs": [],
   "source": [
    "lst = ['Catmar', 'Bat', 'Sat', 'Cat', 'Mat', 'Cat', 'Sat']"
   ]
  },
  {
   "cell_type": "code",
   "execution_count": 142,
   "id": "d71de6a4",
   "metadata": {},
   "outputs": [
    {
     "name": "stdout",
     "output_type": "stream",
     "text": [
      "[['Mat', 1], ['Cat', 3], ['Bat', 1], ['Sat', 2]]\n",
      "{'Mat': 1, 'Cat': 3, 'Bat': 1, 'Sat': 2}\n"
     ]
    }
   ],
   "source": [
    "# Python3 program to count the number of times\n",
    "# an object appears in a list using count() method\n",
    "\n",
    "lst = ['Cat', 'Bat', 'Sat', 'Cat', 'Mat', 'Cat', 'Sat']\n",
    "\n",
    "# To get the number of occurrences\n",
    "# of each item in a list\n",
    "print ([ [l, lst.count(l)] for l in set(lst)])\n",
    "\n",
    "# To get the number of occurrences\n",
    "# of each item in a dictionary\n",
    "print (dict( (l, lst.count(l) ) for l in set(lst)))\n"
   ]
  },
  {
   "cell_type": "code",
   "execution_count": 143,
   "id": "2131c94a",
   "metadata": {},
   "outputs": [
    {
     "data": {
      "text/plain": [
       "['Cat', 'Bat', 'Sat', 'Cat', 'Mat', 'Cat', 'Sat']"
      ]
     },
     "execution_count": 143,
     "metadata": {},
     "output_type": "execute_result"
    }
   ],
   "source": [
    "lst"
   ]
  },
  {
   "cell_type": "code",
   "execution_count": 157,
   "id": "05207dcf",
   "metadata": {},
   "outputs": [
    {
     "name": "stdout",
     "output_type": "stream",
     "text": [
      "Cat 2\n",
      "Mat 1\n",
      "Bat 1\n",
      "Sat 2\n",
      "Catmar 1\n"
     ]
    }
   ],
   "source": [
    "for i in set(lst):\n",
    "    lc = lst.count(i)     # count each elements\n",
    "    print(i,lc)\n",
    "    "
   ]
  },
  {
   "cell_type": "code",
   "execution_count": 145,
   "id": "12f9a8f0",
   "metadata": {},
   "outputs": [
    {
     "data": {
      "text/plain": [
       "[['Mat', 1], ['Cat', 3], ['Bat', 1], ['Sat', 2]]"
      ]
     },
     "execution_count": 145,
     "metadata": {},
     "output_type": "execute_result"
    }
   ],
   "source": [
    "[[i,lst.count(i)] for i in set(lst)]"
   ]
  },
  {
   "cell_type": "code",
   "execution_count": 146,
   "id": "c9ffcf69",
   "metadata": {},
   "outputs": [],
   "source": [
    "lst1 = ['a','b','c','d','a','a','c','d','c','e']"
   ]
  },
  {
   "cell_type": "code",
   "execution_count": 162,
   "id": "af836808",
   "metadata": {},
   "outputs": [
    {
     "name": "stdout",
     "output_type": "stream",
     "text": [
      "e 1\n",
      "a 3\n",
      "b 1\n",
      "d 2\n",
      "c 3\n"
     ]
    }
   ],
   "source": [
    "for i in set(lst1):\n",
    "    cl = lst1.count(i)\n",
    "    print(i,cl)"
   ]
  },
  {
   "cell_type": "code",
   "execution_count": 148,
   "id": "b3171112",
   "metadata": {},
   "outputs": [
    {
     "name": "stdout",
     "output_type": "stream",
     "text": [
      "[['e', 1], ['a', 3], ['b', 1], ['d', 2], ['c', 3]]\n"
     ]
    }
   ],
   "source": [
    "print([[i,lst1.count(i)] for i in set(lst1)])"
   ]
  },
  {
   "cell_type": "code",
   "execution_count": 154,
   "id": "7a95c4fa",
   "metadata": {},
   "outputs": [
    {
     "data": {
      "text/plain": [
       "['Catmar', 'Bat', 'Sat', 'Cat', 'Mat', 'Cat', 'Sat']"
      ]
     },
     "execution_count": 154,
     "metadata": {},
     "output_type": "execute_result"
    }
   ],
   "source": [
    "lst"
   ]
  },
  {
   "cell_type": "code",
   "execution_count": 155,
   "id": "99654931",
   "metadata": {},
   "outputs": [
    {
     "name": "stdout",
     "output_type": "stream",
     "text": [
      "Cat 3\n",
      "Mat 3\n",
      "Bat 3\n",
      "Sat 3\n",
      "Catmar 6\n"
     ]
    }
   ],
   "source": [
    "for i in set(lst):\n",
    "    lt = len(i)   # for length of element\n",
    "    print(i,lt)"
   ]
  },
  {
   "cell_type": "code",
   "execution_count": 160,
   "id": "650e100f",
   "metadata": {},
   "outputs": [
    {
     "data": {
      "text/plain": [
       "{'Cat': 3, 'Mat': 3, 'Bat': 3, 'Sat': 3, 'Catmar': 6}"
      ]
     },
     "execution_count": 160,
     "metadata": {},
     "output_type": "execute_result"
    }
   ],
   "source": [
    "dict([[i,len(i)] for i in set(lst)])"
   ]
  },
  {
   "cell_type": "code",
   "execution_count": 163,
   "id": "686c027b",
   "metadata": {},
   "outputs": [
    {
     "data": {
      "text/plain": [
       "['Catmar', 'Bat', 'Sat', 'Cat', 'Mat', 'Cat', 'Sat']"
      ]
     },
     "execution_count": 163,
     "metadata": {},
     "output_type": "execute_result"
    }
   ],
   "source": [
    "lst"
   ]
  },
  {
   "cell_type": "code",
   "execution_count": 167,
   "id": "be0e6c74",
   "metadata": {},
   "outputs": [
    {
     "name": "stdout",
     "output_type": "stream",
     "text": [
      "{'Cat': 2, 'Mat': 1, 'Bat': 1, 'Sat': 2, 'Catmar': 1}\n"
     ]
    }
   ],
   "source": [
    "result_dict = {}\n",
    "\n",
    "for i in set(lst):\n",
    "    ct = lst.count(i)\n",
    "    result_dict[i] = ct\n",
    "print(result_dict)"
   ]
  },
  {
   "cell_type": "code",
   "execution_count": 168,
   "id": "aa0a9399",
   "metadata": {},
   "outputs": [],
   "source": [
    "# deep copy and shallow copy"
   ]
  },
  {
   "cell_type": "code",
   "execution_count": 169,
   "id": "1365e1fe",
   "metadata": {},
   "outputs": [],
   "source": [
    "dcp = [[1,2],[3,5]]"
   ]
  },
  {
   "cell_type": "code",
   "execution_count": 172,
   "id": "672dc77b",
   "metadata": {},
   "outputs": [],
   "source": [
    "import copy\n",
    "\n",
    "ls1 = copy.deepcopy(dcp)\n",
    "ls1[0][0] = 45"
   ]
  },
  {
   "cell_type": "code",
   "execution_count": 173,
   "id": "8d2e2f5b",
   "metadata": {},
   "outputs": [
    {
     "data": {
      "text/plain": [
       "[[45, 2], [3, 5]]"
      ]
     },
     "execution_count": 173,
     "metadata": {},
     "output_type": "execute_result"
    }
   ],
   "source": [
    "ls1"
   ]
  },
  {
   "cell_type": "code",
   "execution_count": 174,
   "id": "3b65dedd",
   "metadata": {},
   "outputs": [
    {
     "data": {
      "text/plain": [
       "[[1, 2], [3, 5]]"
      ]
     },
     "execution_count": 174,
     "metadata": {},
     "output_type": "execute_result"
    }
   ],
   "source": [
    "dcp"
   ]
  },
  {
   "cell_type": "code",
   "execution_count": 175,
   "id": "bed2dd3f",
   "metadata": {},
   "outputs": [],
   "source": [
    "ls2 = copy.copy(dcp)"
   ]
  },
  {
   "cell_type": "code",
   "execution_count": 176,
   "id": "37843e6f",
   "metadata": {},
   "outputs": [
    {
     "data": {
      "text/plain": [
       "[[1, 2], [3, 5]]"
      ]
     },
     "execution_count": 176,
     "metadata": {},
     "output_type": "execute_result"
    }
   ],
   "source": [
    "ls2"
   ]
  },
  {
   "cell_type": "code",
   "execution_count": 177,
   "id": "47717dbb",
   "metadata": {},
   "outputs": [],
   "source": [
    "ls2[0][0] = 100"
   ]
  },
  {
   "cell_type": "code",
   "execution_count": 178,
   "id": "03bf8055",
   "metadata": {},
   "outputs": [
    {
     "data": {
      "text/plain": [
       "[[100, 2], [3, 5]]"
      ]
     },
     "execution_count": 178,
     "metadata": {},
     "output_type": "execute_result"
    }
   ],
   "source": [
    "ls2"
   ]
  },
  {
   "cell_type": "code",
   "execution_count": 179,
   "id": "2fd4bc45",
   "metadata": {},
   "outputs": [
    {
     "data": {
      "text/plain": [
       "[[100, 2], [3, 5]]"
      ]
     },
     "execution_count": 179,
     "metadata": {},
     "output_type": "execute_result"
    }
   ],
   "source": [
    "dcp"
   ]
  },
  {
   "cell_type": "code",
   "execution_count": 1,
   "id": "6638a581",
   "metadata": {},
   "outputs": [
    {
     "name": "stdout",
     "output_type": "stream",
     "text": [
      "4\n"
     ]
    }
   ],
   "source": [
    "dictionary = {}\n",
    "dictionary[1] = 1\n",
    "dictionary['1'] = 2\n",
    "dictionary[1] += 1\n",
    "\n",
    "sum = 0\n",
    "for k in dictionary:\n",
    "    sum += dictionary[k]\n",
    "\n",
    "print(sum)\n"
   ]
  },
  {
   "cell_type": "code",
   "execution_count": 224,
   "id": "f08a98a3",
   "metadata": {},
   "outputs": [],
   "source": [
    "d = {}"
   ]
  },
  {
   "cell_type": "code",
   "execution_count": 225,
   "id": "02cb6096",
   "metadata": {},
   "outputs": [],
   "source": [
    "d[1]=1   # add key value pair"
   ]
  },
  {
   "cell_type": "code",
   "execution_count": 226,
   "id": "2dc19705",
   "metadata": {},
   "outputs": [
    {
     "data": {
      "text/plain": [
       "{1: 1}"
      ]
     },
     "execution_count": 226,
     "metadata": {},
     "output_type": "execute_result"
    }
   ],
   "source": [
    "d"
   ]
  },
  {
   "cell_type": "code",
   "execution_count": 227,
   "id": "77616352",
   "metadata": {},
   "outputs": [],
   "source": [
    "d['1'] = 2  # add string as key and 1 value"
   ]
  },
  {
   "cell_type": "code",
   "execution_count": 228,
   "id": "993e55cb",
   "metadata": {},
   "outputs": [
    {
     "data": {
      "text/plain": [
       "{1: 1, '1': 2}"
      ]
     },
     "execution_count": 228,
     "metadata": {},
     "output_type": "execute_result"
    }
   ],
   "source": [
    "d"
   ]
  },
  {
   "cell_type": "code",
   "execution_count": 229,
   "id": "2785c484",
   "metadata": {},
   "outputs": [],
   "source": [
    "d[1] += 1"
   ]
  },
  {
   "cell_type": "code",
   "execution_count": 230,
   "id": "7478b267",
   "metadata": {},
   "outputs": [
    {
     "data": {
      "text/plain": [
       "{1: 2, '1': 2}"
      ]
     },
     "execution_count": 230,
     "metadata": {},
     "output_type": "execute_result"
    }
   ],
   "source": [
    "d"
   ]
  },
  {
   "cell_type": "code",
   "execution_count": 231,
   "id": "43197f90",
   "metadata": {},
   "outputs": [],
   "source": [
    "sum = 0"
   ]
  },
  {
   "cell_type": "code",
   "execution_count": 232,
   "id": "b75f1902",
   "metadata": {},
   "outputs": [
    {
     "name": "stdout",
     "output_type": "stream",
     "text": [
      "4\n"
     ]
    }
   ],
   "source": [
    "for k in d:\n",
    "    sum += d[k]\n",
    "print(sum) "
   ]
  },
  {
   "cell_type": "code",
   "execution_count": 233,
   "id": "32457b02",
   "metadata": {},
   "outputs": [
    {
     "data": {
      "text/plain": [
       "{1: 2, '1': 2}"
      ]
     },
     "execution_count": 233,
     "metadata": {},
     "output_type": "execute_result"
    }
   ],
   "source": [
    "d"
   ]
  },
  {
   "cell_type": "code",
   "execution_count": 234,
   "id": "44644d88",
   "metadata": {},
   "outputs": [
    {
     "name": "stdout",
     "output_type": "stream",
     "text": [
      "2\n"
     ]
    }
   ],
   "source": [
    "dictionary = {1:'1', 2:'2', 3:'3'}\n",
    "del dictionary[1]\n",
    "dictionary[1] = '10'\n",
    "del dictionary[2]\n",
    "print (len(dictionary))\n"
   ]
  },
  {
   "cell_type": "code",
   "execution_count": 235,
   "id": "05074715",
   "metadata": {},
   "outputs": [
    {
     "data": {
      "text/plain": [
       "{3: '3', 1: '10'}"
      ]
     },
     "execution_count": 235,
     "metadata": {},
     "output_type": "execute_result"
    }
   ],
   "source": [
    "dictionary"
   ]
  },
  {
   "cell_type": "code",
   "execution_count": 236,
   "id": "bc48f329",
   "metadata": {},
   "outputs": [
    {
     "data": {
      "text/plain": [
       "['Catmar', 'Bat', 'Sat', 'Cat', 'Mat', 'Cat', 'Sat']"
      ]
     },
     "execution_count": 236,
     "metadata": {},
     "output_type": "execute_result"
    }
   ],
   "source": [
    "lst"
   ]
  },
  {
   "cell_type": "code",
   "execution_count": 237,
   "id": "4355c587",
   "metadata": {},
   "outputs": [],
   "source": [
    "tuple_lst = tuple(lst)"
   ]
  },
  {
   "cell_type": "code",
   "execution_count": 238,
   "id": "ea71ad38",
   "metadata": {},
   "outputs": [
    {
     "data": {
      "text/plain": [
       "('Catmar', 'Bat', 'Sat', 'Cat', 'Mat', 'Cat', 'Sat')"
      ]
     },
     "execution_count": 238,
     "metadata": {},
     "output_type": "execute_result"
    }
   ],
   "source": [
    "tuple_lst"
   ]
  },
  {
   "cell_type": "code",
   "execution_count": 239,
   "id": "35cd3c9c",
   "metadata": {},
   "outputs": [],
   "source": [
    "name = 'Roshan'"
   ]
  },
  {
   "cell_type": "code",
   "execution_count": 240,
   "id": "77349620",
   "metadata": {},
   "outputs": [],
   "source": [
    "t = tuple(name)"
   ]
  },
  {
   "cell_type": "code",
   "execution_count": 241,
   "id": "42a73136",
   "metadata": {},
   "outputs": [
    {
     "data": {
      "text/plain": [
       "('R', 'o', 's', 'h', 'a', 'n')"
      ]
     },
     "execution_count": 241,
     "metadata": {},
     "output_type": "execute_result"
    }
   ],
   "source": [
    "t"
   ]
  },
  {
   "cell_type": "code",
   "execution_count": 245,
   "id": "bc18e931",
   "metadata": {},
   "outputs": [
    {
     "data": {
      "text/plain": [
       "1"
      ]
     },
     "execution_count": 245,
     "metadata": {},
     "output_type": "execute_result"
    }
   ],
   "source": [
    "t.count('R')"
   ]
  },
  {
   "cell_type": "code",
   "execution_count": 246,
   "id": "916692f0",
   "metadata": {},
   "outputs": [
    {
     "data": {
      "text/plain": [
       "0"
      ]
     },
     "execution_count": 246,
     "metadata": {},
     "output_type": "execute_result"
    }
   ],
   "source": [
    "t.index('R')"
   ]
  },
  {
   "cell_type": "code",
   "execution_count": 249,
   "id": "58d3e784",
   "metadata": {},
   "outputs": [
    {
     "name": "stdout",
     "output_type": "stream",
     "text": [
      "\n",
      "Tuple with a loop\n",
      "('Geeks',)\n",
      "(('Geeks',),)\n",
      "((('Geeks',),),)\n",
      "(((('Geeks',),),),)\n",
      "((((('Geeks',),),),),)\n"
     ]
    }
   ],
   "source": [
    "Tuple1 = ('Geeks')\n",
    "n = 5\n",
    "print(\"\\nTuple with a loop\")\n",
    "for i in range(int(n)):\n",
    "    Tuple1 = (Tuple1,)\n",
    "    print(Tuple1)"
   ]
  },
  {
   "cell_type": "code",
   "execution_count": 251,
   "id": "f2bc351b",
   "metadata": {},
   "outputs": [],
   "source": [
    "t1 = tuple('Geeks')"
   ]
  },
  {
   "cell_type": "code",
   "execution_count": 252,
   "id": "c091ed8d",
   "metadata": {},
   "outputs": [
    {
     "data": {
      "text/plain": [
       "('G', 'e', 'e', 'k', 's')"
      ]
     },
     "execution_count": 252,
     "metadata": {},
     "output_type": "execute_result"
    }
   ],
   "source": [
    "t1"
   ]
  },
  {
   "cell_type": "code",
   "execution_count": 254,
   "id": "f04e8da3",
   "metadata": {},
   "outputs": [],
   "source": [
    "a,b,c,d,e = t1"
   ]
  },
  {
   "cell_type": "code",
   "execution_count": 255,
   "id": "40bbce78",
   "metadata": {},
   "outputs": [
    {
     "data": {
      "text/plain": [
       "('G', 'e', 'e', 'k', 's')"
      ]
     },
     "execution_count": 255,
     "metadata": {},
     "output_type": "execute_result"
    }
   ],
   "source": [
    "t1"
   ]
  },
  {
   "cell_type": "code",
   "execution_count": 256,
   "id": "a1526bb9",
   "metadata": {},
   "outputs": [
    {
     "data": {
      "text/plain": [
       "'G'"
      ]
     },
     "execution_count": 256,
     "metadata": {},
     "output_type": "execute_result"
    }
   ],
   "source": [
    "a"
   ]
  },
  {
   "cell_type": "code",
   "execution_count": 257,
   "id": "7ca63316",
   "metadata": {},
   "outputs": [
    {
     "data": {
      "text/plain": [
       "'e'"
      ]
     },
     "execution_count": 257,
     "metadata": {},
     "output_type": "execute_result"
    }
   ],
   "source": [
    "b"
   ]
  },
  {
   "cell_type": "code",
   "execution_count": 258,
   "id": "7b48e428",
   "metadata": {},
   "outputs": [
    {
     "data": {
      "text/plain": [
       "'e'"
      ]
     },
     "execution_count": 258,
     "metadata": {},
     "output_type": "execute_result"
    }
   ],
   "source": [
    "c"
   ]
  },
  {
   "cell_type": "code",
   "execution_count": 260,
   "id": "87b25378",
   "metadata": {},
   "outputs": [],
   "source": [
    "a,b,c,d,e = t1"
   ]
  },
  {
   "cell_type": "code",
   "execution_count": 261,
   "id": "58be1ef3",
   "metadata": {},
   "outputs": [
    {
     "data": {
      "text/plain": [
       "('G', 'e', 'e', 'k', 's')"
      ]
     },
     "execution_count": 261,
     "metadata": {},
     "output_type": "execute_result"
    }
   ],
   "source": [
    "t1"
   ]
  },
  {
   "cell_type": "code",
   "execution_count": 262,
   "id": "cd1c7ad2",
   "metadata": {},
   "outputs": [
    {
     "data": {
      "text/plain": [
       "('o', 's', 'h', 'a', 'n')"
      ]
     },
     "execution_count": 262,
     "metadata": {},
     "output_type": "execute_result"
    }
   ],
   "source": [
    "t[1:]"
   ]
  },
  {
   "cell_type": "code",
   "execution_count": 263,
   "id": "f6e500e8",
   "metadata": {},
   "outputs": [
    {
     "data": {
      "text/plain": [
       "('n', 'a', 'h', 's', 'o', 'R')"
      ]
     },
     "execution_count": 263,
     "metadata": {},
     "output_type": "execute_result"
    }
   ],
   "source": [
    "t[::-1]"
   ]
  },
  {
   "cell_type": "code",
   "execution_count": 264,
   "id": "3b308742",
   "metadata": {},
   "outputs": [],
   "source": [
    "del t1"
   ]
  },
  {
   "cell_type": "code",
   "execution_count": 266,
   "id": "084c636b",
   "metadata": {},
   "outputs": [],
   "source": [
    "t1 = 'GeeksforGeeks'"
   ]
  },
  {
   "cell_type": "code",
   "execution_count": 268,
   "id": "d53da439",
   "metadata": {},
   "outputs": [],
   "source": [
    "t_set = set(t1)"
   ]
  },
  {
   "cell_type": "code",
   "execution_count": 269,
   "id": "b85a4b2e",
   "metadata": {},
   "outputs": [
    {
     "data": {
      "text/plain": [
       "{'G', 'e', 'f', 'k', 'o', 'r', 's'}"
      ]
     },
     "execution_count": 269,
     "metadata": {},
     "output_type": "execute_result"
    }
   ],
   "source": [
    "t_set"
   ]
  },
  {
   "cell_type": "code",
   "execution_count": 270,
   "id": "7233230f",
   "metadata": {},
   "outputs": [
    {
     "name": "stdout",
     "output_type": "stream",
     "text": [
      "\n",
      "Set with the use of an Object: \n",
      "{'k', 'r', 'F', 'e', 's', 'G', 'o'}\n"
     ]
    }
   ],
   "source": [
    "String = 'GeeksForGeeks'\n",
    "set1 = set(String)\n",
    "print(\"\\nSet with the use of an Object: \" )\n",
    "print(set1)"
   ]
  },
  {
   "cell_type": "code",
   "execution_count": 275,
   "id": "97fa3a01",
   "metadata": {},
   "outputs": [],
   "source": [
    "ts = ['geeks','for','geeks']"
   ]
  },
  {
   "cell_type": "code",
   "execution_count": 276,
   "id": "335d1b1a",
   "metadata": {},
   "outputs": [
    {
     "data": {
      "text/plain": [
       "{'for', 'geeks'}"
      ]
     },
     "execution_count": 276,
     "metadata": {},
     "output_type": "execute_result"
    }
   ],
   "source": [
    "s_ts = set(ts)\n",
    "\n",
    "s_ts"
   ]
  },
  {
   "cell_type": "code",
   "execution_count": 277,
   "id": "e380c4bd",
   "metadata": {},
   "outputs": [],
   "source": [
    "d={\"Geeks\":1,\"for\":2,\"Geeks\":3}"
   ]
  },
  {
   "cell_type": "code",
   "execution_count": 278,
   "id": "962cf8aa",
   "metadata": {},
   "outputs": [
    {
     "name": "stdout",
     "output_type": "stream",
     "text": [
      "{'Geeks', 'for'}\n"
     ]
    }
   ],
   "source": [
    "print(set(d))"
   ]
  },
  {
   "cell_type": "code",
   "execution_count": 279,
   "id": "610f32f6",
   "metadata": {},
   "outputs": [],
   "source": [
    "st = set()"
   ]
  },
  {
   "cell_type": "code",
   "execution_count": 280,
   "id": "68d787b9",
   "metadata": {},
   "outputs": [],
   "source": [
    "st.add(5)\n",
    "st.add(10)\n",
    "st.add(25)\n",
    "st.add(30)"
   ]
  },
  {
   "cell_type": "code",
   "execution_count": 281,
   "id": "66d4ba2a",
   "metadata": {},
   "outputs": [
    {
     "data": {
      "text/plain": [
       "{5, 10, 25, 30}"
      ]
     },
     "execution_count": 281,
     "metadata": {},
     "output_type": "execute_result"
    }
   ],
   "source": [
    "st"
   ]
  },
  {
   "cell_type": "code",
   "execution_count": 282,
   "id": "764a772b",
   "metadata": {},
   "outputs": [
    {
     "name": "stdout",
     "output_type": "stream",
     "text": [
      "{1, 2, 3, 4, 5, 6, 7, 8, 9, 10, 25, 30}\n"
     ]
    }
   ],
   "source": [
    "for i in range(1,10):\n",
    "    st.add(i)\n",
    "print(st)"
   ]
  },
  {
   "cell_type": "code",
   "execution_count": 283,
   "id": "badcbcfd",
   "metadata": {},
   "outputs": [],
   "source": [
    "st.update([2,50,'Roshan'])"
   ]
  },
  {
   "cell_type": "code",
   "execution_count": 33,
   "id": "0575fe56",
   "metadata": {},
   "outputs": [],
   "source": [
    "lst = ['Roshan','Ajay','amol','chetan','bhumesh','Komal','Mona','Bahesh','cat']"
   ]
  },
  {
   "cell_type": "code",
   "execution_count": 34,
   "id": "845f6f48",
   "metadata": {},
   "outputs": [],
   "source": [
    "lst.sort(reverse = True)"
   ]
  },
  {
   "cell_type": "code",
   "execution_count": 35,
   "id": "17ed0b84",
   "metadata": {},
   "outputs": [
    {
     "data": {
      "text/plain": [
       "['chetan',\n",
       " 'cat',\n",
       " 'bhumesh',\n",
       " 'amol',\n",
       " 'Roshan',\n",
       " 'Mona',\n",
       " 'Komal',\n",
       " 'Bahesh',\n",
       " 'Ajay']"
      ]
     },
     "execution_count": 35,
     "metadata": {},
     "output_type": "execute_result"
    }
   ],
   "source": [
    "lst"
   ]
  },
  {
   "cell_type": "code",
   "execution_count": 42,
   "id": "e936abab",
   "metadata": {},
   "outputs": [],
   "source": [
    "lst.sort(reverse = True, key = lambda x: len(x))"
   ]
  },
  {
   "cell_type": "code",
   "execution_count": 43,
   "id": "120ffae0",
   "metadata": {},
   "outputs": [
    {
     "data": {
      "text/plain": [
       "['bhumesh',\n",
       " 'chetan',\n",
       " 'Roshan',\n",
       " 'Bahesh',\n",
       " 'Komal',\n",
       " 'amol',\n",
       " 'Mona',\n",
       " 'Ajay',\n",
       " 'cat']"
      ]
     },
     "execution_count": 43,
     "metadata": {},
     "output_type": "execute_result"
    }
   ],
   "source": [
    "lst"
   ]
  },
  {
   "cell_type": "code",
   "execution_count": 61,
   "id": "23ae9dfd",
   "metadata": {},
   "outputs": [],
   "source": [
    "price = [1.00,2.05,2.055,1.55,3.21,0.50]"
   ]
  },
  {
   "cell_type": "code",
   "execution_count": 45,
   "id": "ccdef1f4",
   "metadata": {},
   "outputs": [],
   "source": [
    "price.sort(reverse = True)"
   ]
  },
  {
   "cell_type": "code",
   "execution_count": 46,
   "id": "00171ec6",
   "metadata": {},
   "outputs": [
    {
     "data": {
      "text/plain": [
       "[3.21, 2.055, 2.05, 1.55, 1.0, 0.5]"
      ]
     },
     "execution_count": 46,
     "metadata": {},
     "output_type": "execute_result"
    }
   ],
   "source": [
    "price"
   ]
  },
  {
   "cell_type": "code",
   "execution_count": 47,
   "id": "942357fb",
   "metadata": {},
   "outputs": [
    {
     "data": {
      "text/plain": [
       "[0.5, 1.0, 1.55, 2.05, 2.055, 3.21]"
      ]
     },
     "execution_count": 47,
     "metadata": {},
     "output_type": "execute_result"
    }
   ],
   "source": [
    "price.sort(reverse = False)\n",
    "\n",
    "price"
   ]
  },
  {
   "cell_type": "code",
   "execution_count": 59,
   "id": "3481183a",
   "metadata": {},
   "outputs": [],
   "source": [
    "pies = [['apple','mango'],['cat','berry'],['roshan','kumar']]"
   ]
  },
  {
   "cell_type": "code",
   "execution_count": 60,
   "id": "488a82b6",
   "metadata": {},
   "outputs": [
    {
     "data": {
      "text/plain": [
       "[['apple', 'mango'], ['cat', 'berry'], ['roshan', 'kumar']]"
      ]
     },
     "execution_count": 60,
     "metadata": {},
     "output_type": "execute_result"
    }
   ],
   "source": [
    "pies.sort(reverse = False)\n",
    "pies"
   ]
  },
  {
   "cell_type": "code",
   "execution_count": 62,
   "id": "73d9547a",
   "metadata": {},
   "outputs": [],
   "source": [
    "price.sort()"
   ]
  },
  {
   "cell_type": "code",
   "execution_count": 63,
   "id": "6b12a53c",
   "metadata": {},
   "outputs": [
    {
     "data": {
      "text/plain": [
       "[0.5, 1.0, 1.55, 2.05, 2.055, 3.21]"
      ]
     },
     "execution_count": 63,
     "metadata": {},
     "output_type": "execute_result"
    }
   ],
   "source": [
    "price"
   ]
  },
  {
   "cell_type": "code",
   "execution_count": 70,
   "id": "a9266aa1",
   "metadata": {},
   "outputs": [
    {
     "name": "stdout",
     "output_type": "stream",
     "text": [
      "0 0.5\n",
      "1 1.0\n",
      "2 1.55\n",
      "3 2.05\n",
      "4 2.055\n",
      "5 3.21\n"
     ]
    }
   ],
   "source": [
    "for index, i in enumerate(price):\n",
    "    print(index,i)"
   ]
  },
  {
   "cell_type": "code",
   "execution_count": 76,
   "id": "bb739890",
   "metadata": {},
   "outputs": [
    {
     "name": "stdout",
     "output_type": "stream",
     "text": [
      "0 bhumesh\n",
      "1 chetan\n",
      "2 Roshan\n",
      "3 Bahesh\n",
      "4 Komal\n",
      "5 amol\n",
      "6 Mona\n",
      "7 Ajay\n",
      "8 cat\n"
     ]
    }
   ],
   "source": [
    "for index, i in enumerate(lst):\n",
    "    print(index,i)"
   ]
  },
  {
   "cell_type": "code",
   "execution_count": null,
   "id": "f516645c",
   "metadata": {},
   "outputs": [],
   "source": [
    "# Set"
   ]
  },
  {
   "cell_type": "code",
   "execution_count": 1,
   "id": "b6edbe4c",
   "metadata": {},
   "outputs": [],
   "source": [
    "s_lst = {'Roshan','Ajay','Roshan','Komal'}"
   ]
  },
  {
   "cell_type": "code",
   "execution_count": 2,
   "id": "fab5e48d",
   "metadata": {},
   "outputs": [
    {
     "data": {
      "text/plain": [
       "{'Ajay', 'Komal', 'Roshan'}"
      ]
     },
     "execution_count": 2,
     "metadata": {},
     "output_type": "execute_result"
    }
   ],
   "source": [
    "s_lst"
   ]
  },
  {
   "cell_type": "code",
   "execution_count": 3,
   "id": "94ace9e1",
   "metadata": {},
   "outputs": [],
   "source": [
    "my_set = set([1,2,5,4,'Ganesh','Car','Kite'])"
   ]
  },
  {
   "cell_type": "code",
   "execution_count": 4,
   "id": "42b3cb98",
   "metadata": {},
   "outputs": [
    {
     "data": {
      "text/plain": [
       "{1, 2, 4, 5, 'Car', 'Ganesh', 'Kite'}"
      ]
     },
     "execution_count": 4,
     "metadata": {},
     "output_type": "execute_result"
    }
   ],
   "source": [
    "my_set"
   ]
  },
  {
   "cell_type": "code",
   "execution_count": 5,
   "id": "dd7ccf33",
   "metadata": {},
   "outputs": [],
   "source": [
    "my_set.add('Honda')"
   ]
  },
  {
   "cell_type": "code",
   "execution_count": 6,
   "id": "99a50317",
   "metadata": {},
   "outputs": [
    {
     "data": {
      "text/plain": [
       "{1, 2, 4, 5, 'Car', 'Ganesh', 'Honda', 'Kite'}"
      ]
     },
     "execution_count": 6,
     "metadata": {},
     "output_type": "execute_result"
    }
   ],
   "source": [
    "my_set"
   ]
  },
  {
   "cell_type": "code",
   "execution_count": 7,
   "id": "e9d15341",
   "metadata": {},
   "outputs": [],
   "source": [
    "my_set.update({'Apple','banana','pupaya'})"
   ]
  },
  {
   "cell_type": "code",
   "execution_count": 8,
   "id": "3d8f1e9d",
   "metadata": {},
   "outputs": [
    {
     "data": {
      "text/plain": [
       "{1, 2, 4, 5, 'Apple', 'Car', 'Ganesh', 'Honda', 'Kite', 'banana', 'pupaya'}"
      ]
     },
     "execution_count": 8,
     "metadata": {},
     "output_type": "execute_result"
    }
   ],
   "source": [
    "my_set"
   ]
  },
  {
   "cell_type": "code",
   "execution_count": 9,
   "id": "f547707e",
   "metadata": {},
   "outputs": [
    {
     "ename": "TypeError",
     "evalue": "'set' object does not support item assignment",
     "output_type": "error",
     "traceback": [
      "\u001b[1;31m---------------------------------------------------------------------------\u001b[0m",
      "\u001b[1;31mTypeError\u001b[0m                                 Traceback (most recent call last)",
      "Input \u001b[1;32mIn [9]\u001b[0m, in \u001b[0;36m<cell line: 1>\u001b[1;34m()\u001b[0m\n\u001b[1;32m----> 1\u001b[0m my_set[\u001b[38;5;241m1\u001b[39m] \u001b[38;5;241m=\u001b[39m \u001b[38;5;124m'\u001b[39m\u001b[38;5;124mLotus\u001b[39m\u001b[38;5;124m'\u001b[39m\n",
      "\u001b[1;31mTypeError\u001b[0m: 'set' object does not support item assignment"
     ]
    }
   ],
   "source": [
    "my_set[1] = 'Lotus'"
   ]
  },
  {
   "cell_type": "code",
   "execution_count": 10,
   "id": "a4b5509d",
   "metadata": {},
   "outputs": [],
   "source": [
    "lst_set = set()"
   ]
  },
  {
   "cell_type": "code",
   "execution_count": 11,
   "id": "c0d56163",
   "metadata": {},
   "outputs": [
    {
     "name": "stdout",
     "output_type": "stream",
     "text": [
      "{1, 2, 3, 4, 5, 6, 7, 8, 9, 10}\n"
     ]
    }
   ],
   "source": [
    "# adding element to the set by using iterator\n",
    "for i in range(1,11):\n",
    "    lst_set.add(i)\n",
    "print(lst_set)"
   ]
  },
  {
   "cell_type": "code",
   "execution_count": 12,
   "id": "df18032e",
   "metadata": {},
   "outputs": [],
   "source": [
    "people = {'jay','veeru','arjun'}"
   ]
  },
  {
   "cell_type": "code",
   "execution_count": 13,
   "id": "a38e5fae",
   "metadata": {},
   "outputs": [],
   "source": [
    "vampire = {'Mohan','Ganesh'}\n",
    "dracula = {'Karn','Bheem'}"
   ]
  },
  {
   "cell_type": "code",
   "execution_count": 14,
   "id": "8cd67253",
   "metadata": {},
   "outputs": [
    {
     "data": {
      "text/plain": [
       "{'Ganesh', 'Mohan', 'arjun', 'jay', 'veeru'}"
      ]
     },
     "execution_count": 14,
     "metadata": {},
     "output_type": "execute_result"
    }
   ],
   "source": [
    "people.union(vampire)"
   ]
  },
  {
   "cell_type": "code",
   "execution_count": 15,
   "id": "d0a3d208",
   "metadata": {},
   "outputs": [
    {
     "data": {
      "text/plain": [
       "{'Bheem', 'Karn', 'arjun', 'jay', 'veeru'}"
      ]
     },
     "execution_count": 15,
     "metadata": {},
     "output_type": "execute_result"
    }
   ],
   "source": [
    "people|dracula"
   ]
  },
  {
   "cell_type": "code",
   "execution_count": 16,
   "id": "ed339a66",
   "metadata": {},
   "outputs": [],
   "source": [
    "set1 = set()\n",
    "set2 = set()"
   ]
  },
  {
   "cell_type": "code",
   "execution_count": 39,
   "id": "6c6c6ef7",
   "metadata": {},
   "outputs": [
    {
     "data": {
      "text/plain": [
       "{0, 1, 2, 3, 4}"
      ]
     },
     "execution_count": 39,
     "metadata": {},
     "output_type": "execute_result"
    }
   ],
   "source": [
    "for i in range(5):\n",
    "    set1.add(i)\n",
    "set1\n"
   ]
  },
  {
   "cell_type": "code",
   "execution_count": 19,
   "id": "d627cd03",
   "metadata": {},
   "outputs": [
    {
     "data": {
      "text/plain": [
       "{2, 3, 4, 5, 6, 7, 8, 9}"
      ]
     },
     "execution_count": 19,
     "metadata": {},
     "output_type": "execute_result"
    }
   ],
   "source": [
    "for j in range(2,10):\n",
    "    set2.add(j)\n",
    "set2"
   ]
  },
  {
   "cell_type": "code",
   "execution_count": 20,
   "id": "7da8ac76",
   "metadata": {},
   "outputs": [
    {
     "data": {
      "text/plain": [
       "{2, 3, 4}"
      ]
     },
     "execution_count": 20,
     "metadata": {},
     "output_type": "execute_result"
    }
   ],
   "source": [
    "set1.intersection(set2)"
   ]
  },
  {
   "cell_type": "code",
   "execution_count": 21,
   "id": "a615014b",
   "metadata": {},
   "outputs": [
    {
     "data": {
      "text/plain": [
       "{2, 3, 4}"
      ]
     },
     "execution_count": 21,
     "metadata": {},
     "output_type": "execute_result"
    }
   ],
   "source": [
    "set1 & set2"
   ]
  },
  {
   "cell_type": "code",
   "execution_count": 22,
   "id": "176df009",
   "metadata": {},
   "outputs": [
    {
     "data": {
      "text/plain": [
       "{0, 1}"
      ]
     },
     "execution_count": 22,
     "metadata": {},
     "output_type": "execute_result"
    }
   ],
   "source": [
    "set1.difference(set2)"
   ]
  },
  {
   "cell_type": "code",
   "execution_count": 23,
   "id": "27514e71",
   "metadata": {},
   "outputs": [
    {
     "data": {
      "text/plain": [
       "{5, 6, 7, 8, 9}"
      ]
     },
     "execution_count": 23,
     "metadata": {},
     "output_type": "execute_result"
    }
   ],
   "source": [
    "set2.difference(set1)"
   ]
  },
  {
   "cell_type": "code",
   "execution_count": 24,
   "id": "d2d2b45c",
   "metadata": {},
   "outputs": [
    {
     "data": {
      "text/plain": [
       "{0, 1}"
      ]
     },
     "execution_count": 24,
     "metadata": {},
     "output_type": "execute_result"
    }
   ],
   "source": [
    "set1 - set2"
   ]
  },
  {
   "cell_type": "code",
   "execution_count": 25,
   "id": "329e858e",
   "metadata": {},
   "outputs": [
    {
     "data": {
      "text/plain": [
       "{5, 6, 7, 8, 9}"
      ]
     },
     "execution_count": 25,
     "metadata": {},
     "output_type": "execute_result"
    }
   ],
   "source": [
    "set2 - set1"
   ]
  },
  {
   "cell_type": "code",
   "execution_count": 27,
   "id": "4da83fdb",
   "metadata": {},
   "outputs": [],
   "source": [
    "set1.remove(4)"
   ]
  },
  {
   "cell_type": "code",
   "execution_count": 28,
   "id": "060d95c3",
   "metadata": {},
   "outputs": [
    {
     "data": {
      "text/plain": [
       "{0, 1, 2, 3}"
      ]
     },
     "execution_count": 28,
     "metadata": {},
     "output_type": "execute_result"
    }
   ],
   "source": [
    "set1"
   ]
  },
  {
   "cell_type": "code",
   "execution_count": 32,
   "id": "49d657d8",
   "metadata": {},
   "outputs": [],
   "source": [
    "set1.discard(5)"
   ]
  },
  {
   "cell_type": "code",
   "execution_count": 33,
   "id": "02430c20",
   "metadata": {},
   "outputs": [
    {
     "data": {
      "text/plain": [
       "0"
      ]
     },
     "execution_count": 33,
     "metadata": {},
     "output_type": "execute_result"
    }
   ],
   "source": [
    "set1.pop()"
   ]
  },
  {
   "cell_type": "code",
   "execution_count": 35,
   "id": "d9594062",
   "metadata": {},
   "outputs": [
    {
     "data": {
      "text/plain": [
       "1"
      ]
     },
     "execution_count": 35,
     "metadata": {},
     "output_type": "execute_result"
    }
   ],
   "source": [
    "set1.pop()"
   ]
  },
  {
   "cell_type": "code",
   "execution_count": 36,
   "id": "d105aaa1",
   "metadata": {},
   "outputs": [],
   "source": [
    "set1.clear()"
   ]
  },
  {
   "cell_type": "code",
   "execution_count": 37,
   "id": "aece811e",
   "metadata": {},
   "outputs": [
    {
     "data": {
      "text/plain": [
       "set()"
      ]
     },
     "execution_count": 37,
     "metadata": {},
     "output_type": "execute_result"
    }
   ],
   "source": [
    "set1"
   ]
  },
  {
   "cell_type": "code",
   "execution_count": 38,
   "id": "13a7fa2d",
   "metadata": {},
   "outputs": [
    {
     "ename": "KeyError",
     "evalue": "50",
     "output_type": "error",
     "traceback": [
      "\u001b[1;31m---------------------------------------------------------------------------\u001b[0m",
      "\u001b[1;31mKeyError\u001b[0m                                  Traceback (most recent call last)",
      "Input \u001b[1;32mIn [38]\u001b[0m, in \u001b[0;36m<cell line: 1>\u001b[1;34m()\u001b[0m\n\u001b[1;32m----> 1\u001b[0m \u001b[43mset2\u001b[49m\u001b[38;5;241;43m.\u001b[39;49m\u001b[43mremove\u001b[49m\u001b[43m(\u001b[49m\u001b[38;5;241;43m50\u001b[39;49m\u001b[43m)\u001b[49m\n",
      "\u001b[1;31mKeyError\u001b[0m: 50"
     ]
    }
   ],
   "source": [
    "set2.remove(50)"
   ]
  },
  {
   "cell_type": "code",
   "execution_count": 45,
   "id": "821b5f8c",
   "metadata": {},
   "outputs": [
    {
     "data": {
      "text/plain": [
       "{0, 1, 2, 3, 4, 5, 6, 7, 8, 9, 10, 11, 12, 13, 14}"
      ]
     },
     "execution_count": 45,
     "metadata": {},
     "output_type": "execute_result"
    }
   ],
   "source": [
    "set3 = set()\n",
    "\n",
    "for i in range(0,15):\n",
    "    set3.add(i)\n",
    "set3"
   ]
  },
  {
   "cell_type": "code",
   "execution_count": 46,
   "id": "d79deb92",
   "metadata": {},
   "outputs": [
    {
     "data": {
      "text/plain": [
       "({0, 1, 2, 3, 4}, {0, 1, 2, 3, 4, 5, 6, 7, 8, 9, 10, 11, 12, 13, 14})"
      ]
     },
     "execution_count": 46,
     "metadata": {},
     "output_type": "execute_result"
    }
   ],
   "source": [
    "set1,set3"
   ]
  },
  {
   "cell_type": "code",
   "execution_count": 48,
   "id": "7c0a7502",
   "metadata": {},
   "outputs": [
    {
     "data": {
      "text/plain": [
       "True"
      ]
     },
     "execution_count": 48,
     "metadata": {},
     "output_type": "execute_result"
    }
   ],
   "source": [
    "set1.issubset(set3)"
   ]
  },
  {
   "cell_type": "code",
   "execution_count": 49,
   "id": "2da56ffa",
   "metadata": {},
   "outputs": [
    {
     "data": {
      "text/plain": [
       "True"
      ]
     },
     "execution_count": 49,
     "metadata": {},
     "output_type": "execute_result"
    }
   ],
   "source": [
    "set3.issuperset(set1)"
   ]
  },
  {
   "cell_type": "code",
   "execution_count": 52,
   "id": "5ff7468e",
   "metadata": {},
   "outputs": [
    {
     "data": {
      "text/plain": [
       "False"
      ]
     },
     "execution_count": 52,
     "metadata": {},
     "output_type": "execute_result"
    }
   ],
   "source": [
    "set1.isdisjoint(set3)"
   ]
  },
  {
   "cell_type": "code",
   "execution_count": 53,
   "id": "43db098a",
   "metadata": {},
   "outputs": [
    {
     "data": {
      "text/plain": [
       "True"
      ]
     },
     "execution_count": 53,
     "metadata": {},
     "output_type": "execute_result"
    }
   ],
   "source": [
    "set1.isdisjoint(people)"
   ]
  },
  {
   "cell_type": "code",
   "execution_count": null,
   "id": "b29a1c12",
   "metadata": {},
   "outputs": [],
   "source": [
    "# Dictionary"
   ]
  },
  {
   "cell_type": "code",
   "execution_count": 54,
   "id": "270df22c",
   "metadata": {},
   "outputs": [],
   "source": [
    "dict1 = {('id','name'):101}"
   ]
  },
  {
   "cell_type": "code",
   "execution_count": 55,
   "id": "9ff34a87",
   "metadata": {},
   "outputs": [
    {
     "data": {
      "text/plain": [
       "{('id', 'name'): 101}"
      ]
     },
     "execution_count": 55,
     "metadata": {},
     "output_type": "execute_result"
    }
   ],
   "source": [
    "dict1"
   ]
  },
  {
   "cell_type": "code",
   "execution_count": 60,
   "id": "ea6ad870",
   "metadata": {},
   "outputs": [
    {
     "data": {
      "text/plain": [
       "dict_items([(('id', 'name'), 101)])"
      ]
     },
     "execution_count": 60,
     "metadata": {},
     "output_type": "execute_result"
    }
   ],
   "source": [
    "dict1.items()"
   ]
  },
  {
   "cell_type": "code",
   "execution_count": 61,
   "id": "55d3b10d",
   "metadata": {},
   "outputs": [],
   "source": [
    "cd = {'name':'BMW','price':845000,'color':'Red'}"
   ]
  },
  {
   "cell_type": "code",
   "execution_count": 64,
   "id": "3f7f1f64",
   "metadata": {},
   "outputs": [
    {
     "data": {
      "text/plain": [
       "'BMW'"
      ]
     },
     "execution_count": 64,
     "metadata": {},
     "output_type": "execute_result"
    }
   ],
   "source": [
    "cd[\"name\"]"
   ]
  },
  {
   "cell_type": "code",
   "execution_count": 66,
   "id": "93c2935b",
   "metadata": {},
   "outputs": [
    {
     "ename": "KeyError",
     "evalue": "'id'",
     "output_type": "error",
     "traceback": [
      "\u001b[1;31m---------------------------------------------------------------------------\u001b[0m",
      "\u001b[1;31mKeyError\u001b[0m                                  Traceback (most recent call last)",
      "Input \u001b[1;32mIn [66]\u001b[0m, in \u001b[0;36m<cell line: 1>\u001b[1;34m()\u001b[0m\n\u001b[1;32m----> 1\u001b[0m \u001b[43mcd\u001b[49m\u001b[43m[\u001b[49m\u001b[38;5;124;43m'\u001b[39;49m\u001b[38;5;124;43mid\u001b[39;49m\u001b[38;5;124;43m'\u001b[39;49m\u001b[43m]\u001b[49m\n",
      "\u001b[1;31mKeyError\u001b[0m: 'id'"
     ]
    }
   ],
   "source": [
    "cd['id']"
   ]
  },
  {
   "cell_type": "code",
   "execution_count": 67,
   "id": "8c5bb339",
   "metadata": {},
   "outputs": [
    {
     "data": {
      "text/plain": [
       "'it not present'"
      ]
     },
     "execution_count": 67,
     "metadata": {},
     "output_type": "execute_result"
    }
   ],
   "source": [
    "cd.get('id','it not present')"
   ]
  },
  {
   "cell_type": "code",
   "execution_count": 68,
   "id": "9d54bdb9",
   "metadata": {},
   "outputs": [
    {
     "data": {
      "text/plain": [
       "'Red'"
      ]
     },
     "execution_count": 68,
     "metadata": {},
     "output_type": "execute_result"
    }
   ],
   "source": [
    "cd.get('color')"
   ]
  },
  {
   "cell_type": "code",
   "execution_count": 75,
   "id": "c7ec2faa",
   "metadata": {},
   "outputs": [],
   "source": [
    "cd['mil'] = '25 km/hrs'   # add key value pair for single items"
   ]
  },
  {
   "cell_type": "code",
   "execution_count": 70,
   "id": "719c68fd",
   "metadata": {},
   "outputs": [
    {
     "data": {
      "text/plain": [
       "{'name': 'BMW', 'price': 845000, 'color': 'Red', 'mil': '25 km/hrs'}"
      ]
     },
     "execution_count": 70,
     "metadata": {},
     "output_type": "execute_result"
    }
   ],
   "source": [
    "cd"
   ]
  },
  {
   "cell_type": "code",
   "execution_count": 71,
   "id": "78e85cf9",
   "metadata": {},
   "outputs": [
    {
     "data": {
      "text/plain": [
       "'25 km/hrs'"
      ]
     },
     "execution_count": 71,
     "metadata": {},
     "output_type": "execute_result"
    }
   ],
   "source": [
    "cd[\"mil\"]"
   ]
  },
  {
   "cell_type": "code",
   "execution_count": 72,
   "id": "2a109f7c",
   "metadata": {},
   "outputs": [],
   "source": [
    "cd.update({'id':101,'d_name':'Roshan','age':29})    # add multiple items"
   ]
  },
  {
   "cell_type": "code",
   "execution_count": 74,
   "id": "1dc5e109",
   "metadata": {},
   "outputs": [
    {
     "name": "stdout",
     "output_type": "stream",
     "text": [
      "{'name': 'BMW', 'price': 845000, 'color': 'Red', 'mil': '25 km/hrs', 'id': 101, 'd_name': 'Roshan', 'age': 29}\n"
     ]
    }
   ],
   "source": [
    "print(cd)"
   ]
  },
  {
   "cell_type": "code",
   "execution_count": 93,
   "id": "85f8f85f",
   "metadata": {},
   "outputs": [],
   "source": [
    "p = {\n",
    "    'var1' : {'a':1,'b':2,'c':3},\n",
    "     'var2' : {'d':4,'e':5,'f':6},\n",
    "     'var3' : {'g':8,'h':9,'i':10}\n",
    "}"
   ]
  },
  {
   "cell_type": "code",
   "execution_count": 81,
   "id": "3303a6da",
   "metadata": {},
   "outputs": [
    {
     "data": {
      "text/plain": [
       "{'a': 1, 'b': 2, 'c': 3}"
      ]
     },
     "execution_count": 81,
     "metadata": {},
     "output_type": "execute_result"
    }
   ],
   "source": [
    "p['var1']"
   ]
  },
  {
   "cell_type": "code",
   "execution_count": 84,
   "id": "63d7969e",
   "metadata": {},
   "outputs": [
    {
     "data": {
      "text/plain": [
       "8"
      ]
     },
     "execution_count": 84,
     "metadata": {},
     "output_type": "execute_result"
    }
   ],
   "source": [
    "p[\"var3\"]['g']"
   ]
  },
  {
   "cell_type": "code",
   "execution_count": 85,
   "id": "773008e5",
   "metadata": {},
   "outputs": [
    {
     "data": {
      "text/plain": [
       "2"
      ]
     },
     "execution_count": 85,
     "metadata": {},
     "output_type": "execute_result"
    }
   ],
   "source": [
    "p['var1']['b']"
   ]
  },
  {
   "cell_type": "code",
   "execution_count": 86,
   "id": "41b6830d",
   "metadata": {},
   "outputs": [
    {
     "data": {
      "text/plain": [
       "dict_keys(['var1', 'var2', 'var3'])"
      ]
     },
     "execution_count": 86,
     "metadata": {},
     "output_type": "execute_result"
    }
   ],
   "source": [
    "p.keys()"
   ]
  },
  {
   "cell_type": "code",
   "execution_count": 87,
   "id": "138641fc",
   "metadata": {},
   "outputs": [
    {
     "data": {
      "text/plain": [
       "dict_values([{'a': 1, 'b': 2, 'c': 3}, {'d': 4, 'e': 5, 'f': 6}, {'g': 8, 'h': 9, 'i': 10}])"
      ]
     },
     "execution_count": 87,
     "metadata": {},
     "output_type": "execute_result"
    }
   ],
   "source": [
    "p.values()"
   ]
  },
  {
   "cell_type": "code",
   "execution_count": 88,
   "id": "b20ed9e0",
   "metadata": {},
   "outputs": [
    {
     "data": {
      "text/plain": [
       "dict_items([('var1', {'a': 1, 'b': 2, 'c': 3}), ('var2', {'d': 4, 'e': 5, 'f': 6}), ('var3', {'g': 8, 'h': 9, 'i': 10})])"
      ]
     },
     "execution_count": 88,
     "metadata": {},
     "output_type": "execute_result"
    }
   ],
   "source": [
    "p.items()"
   ]
  },
  {
   "cell_type": "code",
   "execution_count": 92,
   "id": "c02a53d2",
   "metadata": {},
   "outputs": [
    {
     "data": {
      "text/plain": [
       "{'g': 8, 'h': 9, 'i': 10}"
      ]
     },
     "execution_count": 92,
     "metadata": {},
     "output_type": "execute_result"
    }
   ],
   "source": [
    "p.pop('var3')"
   ]
  },
  {
   "cell_type": "code",
   "execution_count": 96,
   "id": "c79fb0bb",
   "metadata": {},
   "outputs": [
    {
     "data": {
      "text/plain": [
       "{'name': 'BMW',\n",
       " 'price': 845000,\n",
       " 'color': 'Red',\n",
       " 'mil': '25 km/hrs',\n",
       " 'id': 101,\n",
       " 'd_name': 'Roshan',\n",
       " 'age': 29}"
      ]
     },
     "execution_count": 96,
     "metadata": {},
     "output_type": "execute_result"
    }
   ],
   "source": [
    "cd"
   ]
  },
  {
   "cell_type": "code",
   "execution_count": 98,
   "id": "40757a1d",
   "metadata": {},
   "outputs": [
    {
     "data": {
      "text/plain": [
       "('age', 29)"
      ]
     },
     "execution_count": 98,
     "metadata": {},
     "output_type": "execute_result"
    }
   ],
   "source": [
    "cd.popitem()"
   ]
  },
  {
   "cell_type": "code",
   "execution_count": 99,
   "id": "f1416cca",
   "metadata": {},
   "outputs": [
    {
     "data": {
      "text/plain": [
       "('d_name', 'Roshan')"
      ]
     },
     "execution_count": 99,
     "metadata": {},
     "output_type": "execute_result"
    }
   ],
   "source": [
    "cd.popitem()"
   ]
  },
  {
   "cell_type": "code",
   "execution_count": 101,
   "id": "b05dc8f5",
   "metadata": {},
   "outputs": [
    {
     "data": {
      "text/plain": [
       "'Red'"
      ]
     },
     "execution_count": 101,
     "metadata": {},
     "output_type": "execute_result"
    }
   ],
   "source": [
    "cd.pop('color')"
   ]
  },
  {
   "cell_type": "code",
   "execution_count": 102,
   "id": "31008e11",
   "metadata": {},
   "outputs": [
    {
     "data": {
      "text/plain": [
       "{'name': 'BMW', 'price': 845000, 'mil': '25 km/hrs', 'id': 101}"
      ]
     },
     "execution_count": 102,
     "metadata": {},
     "output_type": "execute_result"
    }
   ],
   "source": [
    "cd"
   ]
  },
  {
   "cell_type": "code",
   "execution_count": 103,
   "id": "1a4f03cd",
   "metadata": {},
   "outputs": [
    {
     "data": {
      "text/plain": [
       "{0, 1, 2, 3, 4}"
      ]
     },
     "execution_count": 103,
     "metadata": {},
     "output_type": "execute_result"
    }
   ],
   "source": [
    "set1"
   ]
  },
  {
   "cell_type": "code",
   "execution_count": 104,
   "id": "72eac008",
   "metadata": {},
   "outputs": [],
   "source": [
    "temp = dict.fromkeys(set1,100)"
   ]
  },
  {
   "cell_type": "code",
   "execution_count": 105,
   "id": "4e9f9f7b",
   "metadata": {},
   "outputs": [
    {
     "data": {
      "text/plain": [
       "{0: 100, 1: 100, 2: 100, 3: 100, 4: 100}"
      ]
     },
     "execution_count": 105,
     "metadata": {},
     "output_type": "execute_result"
    }
   ],
   "source": [
    "temp"
   ]
  },
  {
   "cell_type": "code",
   "execution_count": 106,
   "id": "f997e5cd",
   "metadata": {},
   "outputs": [],
   "source": [
    "temp[0]=10"
   ]
  },
  {
   "cell_type": "code",
   "execution_count": 107,
   "id": "0b025239",
   "metadata": {},
   "outputs": [
    {
     "data": {
      "text/plain": [
       "{0: 10, 1: 100, 2: 100, 3: 100, 4: 100}"
      ]
     },
     "execution_count": 107,
     "metadata": {},
     "output_type": "execute_result"
    }
   ],
   "source": [
    "temp"
   ]
  },
  {
   "cell_type": "code",
   "execution_count": 108,
   "id": "a851a4cf",
   "metadata": {},
   "outputs": [],
   "source": [
    "temp[3]='Roshan'"
   ]
  },
  {
   "cell_type": "code",
   "execution_count": 109,
   "id": "4c0fe5ef",
   "metadata": {},
   "outputs": [
    {
     "data": {
      "text/plain": [
       "{0: 10, 1: 100, 2: 100, 3: 'Roshan', 4: 100}"
      ]
     },
     "execution_count": 109,
     "metadata": {},
     "output_type": "execute_result"
    }
   ],
   "source": [
    "temp"
   ]
  },
  {
   "cell_type": "code",
   "execution_count": 111,
   "id": "02046ace",
   "metadata": {},
   "outputs": [],
   "source": [
    "lst = [1,2,3]"
   ]
  },
  {
   "cell_type": "code",
   "execution_count": 112,
   "id": "4e4794dd",
   "metadata": {},
   "outputs": [],
   "source": [
    "temp1 = dict.fromkeys(lst)"
   ]
  },
  {
   "cell_type": "code",
   "execution_count": 113,
   "id": "7f901925",
   "metadata": {},
   "outputs": [
    {
     "data": {
      "text/plain": [
       "{1: None, 2: None, 3: None}"
      ]
     },
     "execution_count": 113,
     "metadata": {},
     "output_type": "execute_result"
    }
   ],
   "source": [
    "temp1"
   ]
  },
  {
   "cell_type": "code",
   "execution_count": 114,
   "id": "b45eea7b",
   "metadata": {},
   "outputs": [],
   "source": [
    "temp1[1] = 'english'"
   ]
  },
  {
   "cell_type": "code",
   "execution_count": 115,
   "id": "634c66fd",
   "metadata": {},
   "outputs": [],
   "source": [
    "temp1[2]= 'math'"
   ]
  },
  {
   "cell_type": "code",
   "execution_count": 116,
   "id": "1106cce7",
   "metadata": {},
   "outputs": [],
   "source": [
    "temp1[3]= 'history'"
   ]
  },
  {
   "cell_type": "code",
   "execution_count": 117,
   "id": "733e2804",
   "metadata": {},
   "outputs": [
    {
     "data": {
      "text/plain": [
       "{1: 'english', 2: 'math', 3: 'history'}"
      ]
     },
     "execution_count": 117,
     "metadata": {},
     "output_type": "execute_result"
    }
   ],
   "source": [
    "temp1"
   ]
  },
  {
   "cell_type": "code",
   "execution_count": 127,
   "id": "9ce621d9",
   "metadata": {},
   "outputs": [],
   "source": [
    "temp1[3] = ['hindi','marathi','english']"
   ]
  },
  {
   "cell_type": "code",
   "execution_count": 128,
   "id": "2e9e3abb",
   "metadata": {},
   "outputs": [
    {
     "data": {
      "text/plain": [
       "{1: 'english', 2: 'math', 3: ['hindi', 'marathi', 'english']}"
      ]
     },
     "execution_count": 128,
     "metadata": {},
     "output_type": "execute_result"
    }
   ],
   "source": [
    "temp1"
   ]
  },
  {
   "cell_type": "code",
   "execution_count": 130,
   "id": "33809892",
   "metadata": {},
   "outputs": [
    {
     "data": {
      "text/plain": [
       "'marathi'"
      ]
     },
     "execution_count": 130,
     "metadata": {},
     "output_type": "execute_result"
    }
   ],
   "source": [
    "temp1[3][1]"
   ]
  },
  {
   "cell_type": "code",
   "execution_count": 132,
   "id": "49648e1f",
   "metadata": {},
   "outputs": [
    {
     "data": {
      "text/plain": [
       "'hindi'"
      ]
     },
     "execution_count": 132,
     "metadata": {},
     "output_type": "execute_result"
    }
   ],
   "source": [
    "temp1.setdefault(4,'hindi')"
   ]
  },
  {
   "cell_type": "code",
   "execution_count": 133,
   "id": "254467f8",
   "metadata": {},
   "outputs": [
    {
     "data": {
      "text/plain": [
       "{1: 'english', 2: 'math', 3: ['hindi', 'marathi', 'english'], 4: 'hindi'}"
      ]
     },
     "execution_count": 133,
     "metadata": {},
     "output_type": "execute_result"
    }
   ],
   "source": [
    "temp1"
   ]
  },
  {
   "cell_type": "code",
   "execution_count": 136,
   "id": "f3c125ca",
   "metadata": {},
   "outputs": [],
   "source": [
    "temp1[6] = 'geography'"
   ]
  },
  {
   "cell_type": "code",
   "execution_count": 137,
   "id": "de2afc1b",
   "metadata": {},
   "outputs": [
    {
     "data": {
      "text/plain": [
       "{1: 'english',\n",
       " 2: 'math',\n",
       " 3: ['hindi', 'marathi', 'english'],\n",
       " 4: 'hindi',\n",
       " 5: 'geography',\n",
       " 6: 'geography'}"
      ]
     },
     "execution_count": 137,
     "metadata": {},
     "output_type": "execute_result"
    }
   ],
   "source": [
    "temp1"
   ]
  },
  {
   "cell_type": "code",
   "execution_count": 138,
   "id": "d5934fae",
   "metadata": {},
   "outputs": [
    {
     "data": {
      "text/plain": [
       "'geography'"
      ]
     },
     "execution_count": 138,
     "metadata": {},
     "output_type": "execute_result"
    }
   ],
   "source": [
    "temp1.setdefault(7,'geography')"
   ]
  },
  {
   "cell_type": "code",
   "execution_count": 140,
   "id": "5f76aebb",
   "metadata": {},
   "outputs": [
    {
     "data": {
      "text/plain": [
       "{1: 'english',\n",
       " 2: 'math',\n",
       " 3: ['hindi', 'marathi', 'english'],\n",
       " 4: 'hindi',\n",
       " 5: 'geography',\n",
       " 6: 'geography',\n",
       " 7: 'geography'}"
      ]
     },
     "execution_count": 140,
     "metadata": {},
     "output_type": "execute_result"
    }
   ],
   "source": [
    "temp1"
   ]
  },
  {
   "cell_type": "code",
   "execution_count": 142,
   "id": "dc31853d",
   "metadata": {},
   "outputs": [],
   "source": [
    "t2 = dict([('name','Roshan'),('id',102),('age',29)])"
   ]
  },
  {
   "cell_type": "code",
   "execution_count": 143,
   "id": "21aef67a",
   "metadata": {},
   "outputs": [
    {
     "data": {
      "text/plain": [
       "{'name': 'Roshan', 'id': 102, 'age': 29}"
      ]
     },
     "execution_count": 143,
     "metadata": {},
     "output_type": "execute_result"
    }
   ],
   "source": [
    "t2"
   ]
  },
  {
   "cell_type": "code",
   "execution_count": 144,
   "id": "11fe44fb",
   "metadata": {},
   "outputs": [],
   "source": [
    "t2['value_set'] = 2,4,6"
   ]
  },
  {
   "cell_type": "code",
   "execution_count": 145,
   "id": "667853e6",
   "metadata": {},
   "outputs": [
    {
     "data": {
      "text/plain": [
       "{'name': 'Roshan', 'id': 102, 'age': 29, 'value_set': (2, 4, 6)}"
      ]
     },
     "execution_count": 145,
     "metadata": {},
     "output_type": "execute_result"
    }
   ],
   "source": [
    "t2"
   ]
  },
  {
   "cell_type": "code",
   "execution_count": 146,
   "id": "b55d8f8c",
   "metadata": {},
   "outputs": [],
   "source": [
    "t2[5]= {'nested':{2:'a',3:'b'}}"
   ]
  },
  {
   "cell_type": "code",
   "execution_count": 148,
   "id": "846e69f1",
   "metadata": {},
   "outputs": [
    {
     "name": "stdout",
     "output_type": "stream",
     "text": [
      "{'name': 'Roshan', 'id': 102, 'age': 29, 'value_set': (2, 4, 6), 5: {'nested': {2: 'a', 3: 'b'}}}\n"
     ]
    }
   ],
   "source": [
    "print(t2)"
   ]
  },
  {
   "cell_type": "code",
   "execution_count": 149,
   "id": "a5fd00fb",
   "metadata": {},
   "outputs": [],
   "source": [
    "del t2['value_set']"
   ]
  },
  {
   "cell_type": "code",
   "execution_count": 150,
   "id": "f11421d1",
   "metadata": {},
   "outputs": [
    {
     "data": {
      "text/plain": [
       "{'name': 'Roshan', 'id': 102, 'age': 29, 5: {'nested': {2: 'a', 3: 'b'}}}"
      ]
     },
     "execution_count": 150,
     "metadata": {},
     "output_type": "execute_result"
    }
   ],
   "source": [
    "t2"
   ]
  },
  {
   "cell_type": "code",
   "execution_count": 151,
   "id": "a4b507f3",
   "metadata": {},
   "outputs": [],
   "source": [
    "del t2[5]"
   ]
  },
  {
   "cell_type": "code",
   "execution_count": 152,
   "id": "16381f7d",
   "metadata": {},
   "outputs": [
    {
     "data": {
      "text/plain": [
       "{'name': 'Roshan', 'id': 102, 'age': 29}"
      ]
     },
     "execution_count": 152,
     "metadata": {},
     "output_type": "execute_result"
    }
   ],
   "source": [
    "t2"
   ]
  },
  {
   "cell_type": "code",
   "execution_count": 153,
   "id": "741c9d04",
   "metadata": {},
   "outputs": [
    {
     "data": {
      "text/plain": [
       "{1: 'Python', 2: 'Java', 3: 'Ruby', 4: 'Scala'}"
      ]
     },
     "execution_count": 153,
     "metadata": {},
     "output_type": "execute_result"
    }
   ],
   "source": [
    "dict1 = {1: \"Python\", 2: \"Java\", 3: \"Ruby\", 4: \"Scala\"}\n",
    "dict1"
   ]
  },
  {
   "cell_type": "code",
   "execution_count": 154,
   "id": "6d3f9173",
   "metadata": {},
   "outputs": [],
   "source": [
    "d2 = dict1.copy()"
   ]
  },
  {
   "cell_type": "code",
   "execution_count": 155,
   "id": "2c8b0b1b",
   "metadata": {},
   "outputs": [
    {
     "data": {
      "text/plain": [
       "{1: 'Python', 2: 'Java', 3: 'Ruby', 4: 'Scala'}"
      ]
     },
     "execution_count": 155,
     "metadata": {},
     "output_type": "execute_result"
    }
   ],
   "source": [
    "d2"
   ]
  },
  {
   "cell_type": "code",
   "execution_count": 156,
   "id": "627c511d",
   "metadata": {},
   "outputs": [
    {
     "data": {
      "text/plain": [
       "'Python'"
      ]
     },
     "execution_count": 156,
     "metadata": {},
     "output_type": "execute_result"
    }
   ],
   "source": [
    "d2.get(1)"
   ]
  },
  {
   "cell_type": "code",
   "execution_count": 157,
   "id": "3c8aee61",
   "metadata": {},
   "outputs": [
    {
     "data": {
      "text/plain": [
       "'none'"
      ]
     },
     "execution_count": 157,
     "metadata": {},
     "output_type": "execute_result"
    }
   ],
   "source": [
    "d2.get(6,'none')"
   ]
  },
  {
   "cell_type": "code",
   "execution_count": 158,
   "id": "d68ad268",
   "metadata": {},
   "outputs": [],
   "source": [
    "import array as arr"
   ]
  },
  {
   "cell_type": "code",
   "execution_count": 159,
   "id": "ea8e630c",
   "metadata": {},
   "outputs": [],
   "source": [
    "a = arr.array('i',[1,2,3,4])"
   ]
  },
  {
   "cell_type": "code",
   "execution_count": 160,
   "id": "2bd3a357",
   "metadata": {},
   "outputs": [
    {
     "data": {
      "text/plain": [
       "array('i', [1, 2, 3, 4])"
      ]
     },
     "execution_count": 160,
     "metadata": {},
     "output_type": "execute_result"
    }
   ],
   "source": [
    "a"
   ]
  },
  {
   "cell_type": "code",
   "execution_count": 161,
   "id": "b1a127bf",
   "metadata": {},
   "outputs": [
    {
     "data": {
      "text/plain": [
       "array.array"
      ]
     },
     "execution_count": 161,
     "metadata": {},
     "output_type": "execute_result"
    }
   ],
   "source": [
    "type(a)"
   ]
  },
  {
   "cell_type": "code",
   "execution_count": 164,
   "id": "230eaab1",
   "metadata": {},
   "outputs": [
    {
     "name": "stdout",
     "output_type": "stream",
     "text": [
      "1 2 3 \n"
     ]
    }
   ],
   "source": [
    "for i in range(0,3):\n",
    "    print(a[i], end= ' ')\n",
    "print()"
   ]
  },
  {
   "cell_type": "code",
   "execution_count": 168,
   "id": "c63d3218",
   "metadata": {},
   "outputs": [
    {
     "data": {
      "text/plain": [
       "array('f', [2.5, 3.200000047683716, 3.299999952316284])"
      ]
     },
     "execution_count": 168,
     "metadata": {},
     "output_type": "execute_result"
    }
   ],
   "source": [
    "b = arr.array('f',[2.5, 3.2, 3.3])\n",
    "b"
   ]
  },
  {
   "cell_type": "code",
   "execution_count": 166,
   "id": "e03680b6",
   "metadata": {},
   "outputs": [
    {
     "name": "stdout",
     "output_type": "stream",
     "text": [
      "2.5 3.2 3.3 "
     ]
    }
   ],
   "source": [
    "for i in range(0, 3):\n",
    "    print(b[i], end=\" \")"
   ]
  },
  {
   "cell_type": "code",
   "execution_count": 169,
   "id": "9c3be46e",
   "metadata": {},
   "outputs": [
    {
     "name": "stdout",
     "output_type": "stream",
     "text": [
      "1 2 3 \n"
     ]
    }
   ],
   "source": [
    "for i in range(0, 3):\n",
    "    print(a[i], end=\" \")\n",
    "print()\n",
    " \n",
    "# inserting array using\n",
    "# insert() function\n",
    "a.insert(1, 4)"
   ]
  },
  {
   "cell_type": "code",
   "execution_count": 170,
   "id": "f7273bf6",
   "metadata": {},
   "outputs": [
    {
     "data": {
      "text/plain": [
       "array('i', [1, 4, 2, 3, 4])"
      ]
     },
     "execution_count": 170,
     "metadata": {},
     "output_type": "execute_result"
    }
   ],
   "source": [
    "a"
   ]
  },
  {
   "cell_type": "code",
   "execution_count": 171,
   "id": "652ae832",
   "metadata": {},
   "outputs": [],
   "source": [
    "ad = arr.array('i',[2,4,7,9])"
   ]
  },
  {
   "cell_type": "code",
   "execution_count": 172,
   "id": "342a9a48",
   "metadata": {},
   "outputs": [
    {
     "data": {
      "text/plain": [
       "array('i', [2, 4, 7, 9])"
      ]
     },
     "execution_count": 172,
     "metadata": {},
     "output_type": "execute_result"
    }
   ],
   "source": [
    "ad"
   ]
  },
  {
   "cell_type": "code",
   "execution_count": 173,
   "id": "932157c1",
   "metadata": {},
   "outputs": [],
   "source": [
    "ad.insert(1,10)"
   ]
  },
  {
   "cell_type": "code",
   "execution_count": 174,
   "id": "1d77acf9",
   "metadata": {},
   "outputs": [
    {
     "data": {
      "text/plain": [
       "array('i', [2, 10, 4, 7, 9])"
      ]
     },
     "execution_count": 174,
     "metadata": {},
     "output_type": "execute_result"
    }
   ],
   "source": [
    "ad"
   ]
  },
  {
   "cell_type": "code",
   "execution_count": null,
   "id": "469d7fd9",
   "metadata": {},
   "outputs": [],
   "source": []
  }
 ],
 "metadata": {
  "kernelspec": {
   "display_name": "Python 3 (ipykernel)",
   "language": "python",
   "name": "python3"
  },
  "language_info": {
   "codemirror_mode": {
    "name": "ipython",
    "version": 3
   },
   "file_extension": ".py",
   "mimetype": "text/x-python",
   "name": "python",
   "nbconvert_exporter": "python",
   "pygments_lexer": "ipython3",
   "version": "3.9.12"
  }
 },
 "nbformat": 4,
 "nbformat_minor": 5
}
