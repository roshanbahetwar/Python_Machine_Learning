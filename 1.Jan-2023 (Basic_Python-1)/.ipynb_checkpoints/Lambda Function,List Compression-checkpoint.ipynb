{
 "cells": [
  {
   "cell_type": "code",
   "execution_count": 1,
   "id": "028c96f6",
   "metadata": {},
   "outputs": [],
   "source": [
    "# Lambda Function"
   ]
  },
  {
   "cell_type": "code",
   "execution_count": 3,
   "id": "9f020f4a",
   "metadata": {},
   "outputs": [],
   "source": [
    "# lambda input : output expression"
   ]
  },
  {
   "cell_type": "code",
   "execution_count": 4,
   "id": "84ecfe7b",
   "metadata": {},
   "outputs": [
    {
     "data": {
      "text/plain": [
       "120"
      ]
     },
     "execution_count": 4,
     "metadata": {},
     "output_type": "execute_result"
    }
   ],
   "source": [
    "(lambda x,y:x*y)(10,12)"
   ]
  },
  {
   "cell_type": "code",
   "execution_count": 6,
   "id": "5e0729b2",
   "metadata": {},
   "outputs": [
    {
     "data": {
      "text/plain": [
       "1521"
      ]
     },
     "execution_count": 6,
     "metadata": {},
     "output_type": "execute_result"
    }
   ],
   "source": [
    "(lambda x,y:x**2+2*x*y+y**2)(24,15)"
   ]
  },
  {
   "cell_type": "code",
   "execution_count": 7,
   "id": "fb13ab0b",
   "metadata": {},
   "outputs": [
    {
     "data": {
      "text/plain": [
       "'izack newton'"
      ]
     },
     "execution_count": 7,
     "metadata": {},
     "output_type": "execute_result"
    }
   ],
   "source": [
    "(lambda x,y:x+y)('izack ','newton')"
   ]
  },
  {
   "cell_type": "code",
   "execution_count": 9,
   "id": "ce8aaad9",
   "metadata": {},
   "outputs": [
    {
     "data": {
      "text/plain": [
       "135"
      ]
     },
     "execution_count": 9,
     "metadata": {},
     "output_type": "execute_result"
    }
   ],
   "source": [
    "(lambda x,y: x if x>y else y)(45,135)"
   ]
  },
  {
   "cell_type": "code",
   "execution_count": 10,
   "id": "f116acfd",
   "metadata": {},
   "outputs": [
    {
     "data": {
      "text/plain": [
       "'Fail'"
      ]
     },
     "execution_count": 10,
     "metadata": {},
     "output_type": "execute_result"
    }
   ],
   "source": [
    "(lambda x,y: 'Pass' if x>y else 'Fail')(45,65)"
   ]
  },
  {
   "cell_type": "code",
   "execution_count": 11,
   "id": "3567ff0c",
   "metadata": {},
   "outputs": [],
   "source": [
    "p = [2,3,4,2,6,8,78,5,65,7]"
   ]
  },
  {
   "cell_type": "code",
   "execution_count": 19,
   "id": "a6c95b5b",
   "metadata": {},
   "outputs": [
    {
     "name": "stdout",
     "output_type": "stream",
     "text": [
      "[4, 9, 16, 4, 36, 64, 6084, 25, 4225, 49]\n"
     ]
    }
   ],
   "source": [
    "sqr = []\n",
    "\n",
    "for i in p:\n",
    "    sqr.append(i**2)\n",
    "print(sqr)"
   ]
  },
  {
   "cell_type": "code",
   "execution_count": 26,
   "id": "f3d09746",
   "metadata": {},
   "outputs": [],
   "source": [
    "p = [2,3,4,2,6,8,78,5,65,7]\n",
    "\n",
    "def sqr(elements):\n",
    "    return elements**2"
   ]
  },
  {
   "cell_type": "code",
   "execution_count": 31,
   "id": "463c5b31",
   "metadata": {},
   "outputs": [
    {
     "data": {
      "text/plain": [
       "[4, 9, 16, 4, 36, 64, 6084, 25, 4225, 49]"
      ]
     },
     "execution_count": 31,
     "metadata": {},
     "output_type": "execute_result"
    }
   ],
   "source": [
    "list(map(sqr,p))"
   ]
  },
  {
   "cell_type": "code",
   "execution_count": 32,
   "id": "a62ef424",
   "metadata": {},
   "outputs": [],
   "source": [
    "def upcase(ele):\n",
    "    return ele.upper()"
   ]
  },
  {
   "cell_type": "code",
   "execution_count": 33,
   "id": "492bbff0",
   "metadata": {},
   "outputs": [],
   "source": [
    "a = ['izack','grace','kate','hlk','kml']"
   ]
  },
  {
   "cell_type": "code",
   "execution_count": 34,
   "id": "351c1205",
   "metadata": {},
   "outputs": [
    {
     "data": {
      "text/plain": [
       "['izack', 'grace', 'kate', 'hlk', 'kml']"
      ]
     },
     "execution_count": 34,
     "metadata": {},
     "output_type": "execute_result"
    }
   ],
   "source": [
    "list(map(upcase,a))"
   ]
  },
  {
   "cell_type": "code",
   "execution_count": 35,
   "id": "4243e8a0",
   "metadata": {},
   "outputs": [
    {
     "data": {
      "text/plain": [
       "['izack', 'grace', 'kate', 'hlk', 'kml']"
      ]
     },
     "execution_count": 35,
     "metadata": {},
     "output_type": "execute_result"
    }
   ],
   "source": [
    "list(map(lambda x: x.upper(),a))               # list(map(lambda input: output,value))"
   ]
  },
  {
   "cell_type": "code",
   "execution_count": 36,
   "id": "3090d3ab",
   "metadata": {},
   "outputs": [],
   "source": [
    "pl = ['python','java','hadoop','ml','C++']"
   ]
  },
  {
   "cell_type": "code",
   "execution_count": 37,
   "id": "5b96f534",
   "metadata": {},
   "outputs": [
    {
     "data": {
      "text/plain": [
       "[6, 4, 6, 2, 3]"
      ]
     },
     "execution_count": 37,
     "metadata": {},
     "output_type": "execute_result"
    }
   ],
   "source": [
    "list(map(lambda x: len(x),pl))"
   ]
  },
  {
   "cell_type": "code",
   "execution_count": 3,
   "id": "f9e620a1",
   "metadata": {},
   "outputs": [],
   "source": [
    "p = ['asdgghgdjg@gmail.com','sgshjgsg@gmail.com','aghsgg@rediffmail.com','sgfsff@yahoo.com']"
   ]
  },
  {
   "cell_type": "code",
   "execution_count": 40,
   "id": "237c7bd0",
   "metadata": {},
   "outputs": [
    {
     "data": {
      "text/plain": [
       "['asdgghgdjg', 'sgshjgsg', 'aghsgg', 'sgfsff']"
      ]
     },
     "execution_count": 40,
     "metadata": {},
     "output_type": "execute_result"
    }
   ],
   "source": [
    "list(map(lambda x: x.split('@')[0],p))"
   ]
  },
  {
   "cell_type": "code",
   "execution_count": 26,
   "id": "899b31c6",
   "metadata": {},
   "outputs": [],
   "source": [
    "def lam_use(p):\n",
    "    \n",
    "    lamuse = list(map(lambda x: x.split('@')[0],p))\n",
    "    return lamuse"
   ]
  },
  {
   "cell_type": "code",
   "execution_count": 27,
   "id": "6fe1f1ee",
   "metadata": {},
   "outputs": [],
   "source": [
    "email = ['izack@gmail.com','joys@gmail.com','kumar@gmail.com']"
   ]
  },
  {
   "cell_type": "code",
   "execution_count": 28,
   "id": "7f06d849",
   "metadata": {},
   "outputs": [
    {
     "data": {
      "text/plain": [
       "['izack', 'joys', 'kumar']"
      ]
     },
     "execution_count": 28,
     "metadata": {},
     "output_type": "execute_result"
    }
   ],
   "source": [
    "lam_use(email)"
   ]
  },
  {
   "cell_type": "code",
   "execution_count": 29,
   "id": "8dcde4ad",
   "metadata": {},
   "outputs": [],
   "source": [
    "# Filter"
   ]
  },
  {
   "cell_type": "code",
   "execution_count": 35,
   "id": "6d85325b",
   "metadata": {},
   "outputs": [],
   "source": [
    "num = list(range(100))"
   ]
  },
  {
   "cell_type": "code",
   "execution_count": 37,
   "id": "50d4fb5d",
   "metadata": {},
   "outputs": [
    {
     "name": "stdout",
     "output_type": "stream",
     "text": [
      "[0, 1, 2, 3, 4, 5, 6, 7, 8, 9, 10, 11, 12, 13, 14, 15, 16, 17, 18, 19, 20, 21, 22, 23, 24, 25, 26, 27, 28, 29, 30, 31, 32, 33, 34, 35, 36, 37, 38, 39, 40, 41, 42, 43, 44, 45, 46, 47, 48, 49, 50, 51, 52, 53, 54, 55, 56, 57, 58, 59, 60, 61, 62, 63, 64, 65, 66, 67, 68, 69, 70, 71, 72, 73, 74, 75, 76, 77, 78, 79, 80, 81, 82, 83, 84, 85, 86, 87, 88, 89, 90, 91, 92, 93, 94, 95, 96, 97, 98, 99]\n"
     ]
    }
   ],
   "source": [
    "print(num)"
   ]
  },
  {
   "cell_type": "code",
   "execution_count": 40,
   "id": "da12f7bb",
   "metadata": {},
   "outputs": [],
   "source": [
    "even = list(filter(lambda x:x%2==0,num))"
   ]
  },
  {
   "cell_type": "code",
   "execution_count": 41,
   "id": "70cea53c",
   "metadata": {},
   "outputs": [
    {
     "name": "stdout",
     "output_type": "stream",
     "text": [
      "[0, 2, 4, 6, 8, 10, 12, 14, 16, 18, 20, 22, 24, 26, 28, 30, 32, 34, 36, 38, 40, 42, 44, 46, 48, 50, 52, 54, 56, 58, 60, 62, 64, 66, 68, 70, 72, 74, 76, 78, 80, 82, 84, 86, 88, 90, 92, 94, 96, 98]\n"
     ]
    }
   ],
   "source": [
    "print(even)"
   ]
  },
  {
   "cell_type": "code",
   "execution_count": 66,
   "id": "c93ee23a",
   "metadata": {},
   "outputs": [
    {
     "name": "stdout",
     "output_type": "stream",
     "text": [
      "Even Number :- [0, 2, 4, 6, 8, 10, 12, 14, 16, 18, 20, 22, 24, 26, 28, 30, 32, 34, 36, 38, 40, 42, 44, 46, 48, 50, 52, 54, 56, 58, 60, 62, 64, 66, 68, 70, 72, 74, 76, 78, 80, 82, 84, 86, 88, 90, 92, 94, 96, 98] \n",
      "\n",
      "Odd Number :- [1, 3, 5, 7, 9, 11, 13, 15, 17, 19, 21, 23, 25, 27, 29, 31, 33, 35, 37, 39, 41, 43, 45, 47, 49, 51, 53, 55, 57, 59, 61, 63, 65, 67, 69, 71, 73, 75, 77, 79, 81, 83, 85, 87, 89, 91, 93, 95, 97, 99]\n",
      "Total Even Number :- 50 \n",
      " Total odd Number :- 50\n"
     ]
    }
   ],
   "source": [
    "even = []\n",
    "odd = []\n",
    "\n",
    "for i in num:\n",
    "    if i%2==0:\n",
    "        even.append(i)\n",
    "    else:\n",
    "        odd.append(i)\n",
    "print('Even Number :-',even,'\\n')\n",
    "print('Odd Number :-',odd)\n",
    "\n",
    "print('Total Even Number :-',len(even),'\\n','Total odd Number :-',len(odd))"
   ]
  },
  {
   "cell_type": "code",
   "execution_count": 67,
   "id": "02733c97",
   "metadata": {},
   "outputs": [],
   "source": [
    "p_email = ['asdgghgdjg@gmail.com','sgshjgsg@gmail.com','aghsgg@rediffmail.com','sgfsff@yahoo.com']"
   ]
  },
  {
   "cell_type": "code",
   "execution_count": 68,
   "id": "ec9d98aa",
   "metadata": {},
   "outputs": [
    {
     "data": {
      "text/plain": [
       "['asdgghgdjg@gmail.com', 'sgshjgsg@gmail.com']"
      ]
     },
     "execution_count": 68,
     "metadata": {},
     "output_type": "execute_result"
    }
   ],
   "source": [
    "list(filter(lambda x: x.endswith('gmail.com'),p_email))"
   ]
  },
  {
   "cell_type": "code",
   "execution_count": 69,
   "id": "331780b3",
   "metadata": {},
   "outputs": [],
   "source": [
    "sq = [2,6,4,5,7,8,2,3,10,45,65]"
   ]
  },
  {
   "cell_type": "code",
   "execution_count": 78,
   "id": "6a1cee12",
   "metadata": {},
   "outputs": [],
   "source": [
    "def square_fuc(m):\n",
    "    square = list(map(lambda x:x*x,m))\n",
    "    return square"
   ]
  },
  {
   "cell_type": "code",
   "execution_count": 80,
   "id": "4931f7c3",
   "metadata": {},
   "outputs": [
    {
     "data": {
      "text/plain": [
       "[100, 144, 196, 256]"
      ]
     },
     "execution_count": 80,
     "metadata": {},
     "output_type": "execute_result"
    }
   ],
   "source": [
    "square_fuc([10,12,14,16])"
   ]
  },
  {
   "cell_type": "code",
   "execution_count": 90,
   "id": "4a78c944",
   "metadata": {},
   "outputs": [],
   "source": [
    "sqq = lambda x:x*x"
   ]
  },
  {
   "cell_type": "code",
   "execution_count": 91,
   "id": "55a87f75",
   "metadata": {},
   "outputs": [
    {
     "data": {
      "text/plain": [
       "625"
      ]
     },
     "execution_count": 91,
     "metadata": {},
     "output_type": "execute_result"
    }
   ],
   "source": [
    "sqq(25)"
   ]
  },
  {
   "cell_type": "code",
   "execution_count": 92,
   "id": "2b71d1f6",
   "metadata": {},
   "outputs": [],
   "source": [
    "sum = lambda x,y,z:x+y+z"
   ]
  },
  {
   "cell_type": "code",
   "execution_count": 93,
   "id": "e8fd4b48",
   "metadata": {},
   "outputs": [
    {
     "data": {
      "text/plain": [
       "12"
      ]
     },
     "execution_count": 93,
     "metadata": {},
     "output_type": "execute_result"
    }
   ],
   "source": [
    "sum(2,4,6)"
   ]
  },
  {
   "cell_type": "code",
   "execution_count": 100,
   "id": "01df9c6b",
   "metadata": {},
   "outputs": [],
   "source": [
    "def dosomething(fn):\n",
    "    print('calling  function arguments')\n",
    "    fn()"
   ]
  },
  {
   "cell_type": "code",
   "execution_count": 101,
   "id": "00a485dc",
   "metadata": {},
   "outputs": [
    {
     "name": "stdout",
     "output_type": "stream",
     "text": [
      "calling  function arguments\n",
      "Hello world\n"
     ]
    }
   ],
   "source": [
    "dosomething(lambda: print('Hello world'))"
   ]
  },
  {
   "cell_type": "code",
   "execution_count": 102,
   "id": "e3b57eb0",
   "metadata": {},
   "outputs": [],
   "source": [
    "# List Compression"
   ]
  },
  {
   "cell_type": "code",
   "execution_count": 103,
   "id": "75a929df",
   "metadata": {},
   "outputs": [],
   "source": [
    "py_list = [32,45,12,10,23,21,25,65,75,85,9,45,25,45,12]"
   ]
  },
  {
   "cell_type": "code",
   "execution_count": 107,
   "id": "f1ed0c32",
   "metadata": {},
   "outputs": [
    {
     "name": "stdout",
     "output_type": "stream",
     "text": [
      "[32, 12, 10, 12]\n"
     ]
    }
   ],
   "source": [
    "even = []\n",
    "\n",
    "for i in py_list:\n",
    "    if i%2==0:\n",
    "        even.append(i)\n",
    "print(even)"
   ]
  },
  {
   "cell_type": "code",
   "execution_count": null,
   "id": "f1063e50",
   "metadata": {},
   "outputs": [],
   "source": []
  },
  {
   "cell_type": "code",
   "execution_count": 104,
   "id": "ed442c2f",
   "metadata": {},
   "outputs": [
    {
     "data": {
      "text/plain": [
       "[32, 12, 10, 12]"
      ]
     },
     "execution_count": 104,
     "metadata": {},
     "output_type": "execute_result"
    }
   ],
   "source": [
    "[i for i in py_list if i%2==0]"
   ]
  },
  {
   "cell_type": "code",
   "execution_count": 123,
   "id": "ac3acefe",
   "metadata": {},
   "outputs": [],
   "source": [
    "dates = ['13/02/2023',12/11/2252,'04/09/1961','11/10/1946','15/09/2024','17/12/2023','10/02/2023']"
   ]
  },
  {
   "cell_type": "code",
   "execution_count": 128,
   "id": "3448cbeb",
   "metadata": {},
   "outputs": [
    {
     "data": {
      "text/plain": [
       "['13', '17', '10']"
      ]
     },
     "execution_count": 128,
     "metadata": {},
     "output_type": "execute_result"
    }
   ],
   "source": [
    "[i.split('/')[0] for i in dates if i.split('/')[2] in ('2023')]    # dates where year 2023"
   ]
  },
  {
   "cell_type": "code",
   "execution_count": 133,
   "id": "bb5c53ac",
   "metadata": {},
   "outputs": [],
   "source": [
    "z = ['ab12345','ab35464','cda65478','ab12356','ab985644']"
   ]
  },
  {
   "cell_type": "code",
   "execution_count": 135,
   "id": "9c65dcc3",
   "metadata": {},
   "outputs": [
    {
     "data": {
      "text/plain": [
       "['12345', '35464', '12356', '985644']"
      ]
     },
     "execution_count": 135,
     "metadata": {},
     "output_type": "execute_result"
    }
   ],
   "source": [
    "[i[2:] for i in z if i.startswith('ab')]"
   ]
  },
  {
   "cell_type": "code",
   "execution_count": 139,
   "id": "d7a0a7e8",
   "metadata": {},
   "outputs": [],
   "source": [
    "names = ['izack','grace','kml','hlk','Kathrina','Anjali']\n",
    "\n",
    "ns = [i for i in names if 'h' in i]"
   ]
  },
  {
   "cell_type": "code",
   "execution_count": 140,
   "id": "886ad716",
   "metadata": {},
   "outputs": [
    {
     "name": "stdout",
     "output_type": "stream",
     "text": [
      "['izack', 'grace', 'hlk', 'Kathrina']\n"
     ]
    }
   ],
   "source": [
    "print(ns)"
   ]
  },
  {
   "cell_type": "code",
   "execution_count": 143,
   "id": "b5bbc962",
   "metadata": {},
   "outputs": [],
   "source": [
    "sqr = [i**2 for i in range(0,11)]"
   ]
  },
  {
   "cell_type": "code",
   "execution_count": 144,
   "id": "b3c2b9ab",
   "metadata": {},
   "outputs": [
    {
     "name": "stdout",
     "output_type": "stream",
     "text": [
      "[0, 1, 4, 9, 16, 25, 36, 49, 64, 81, 100]\n"
     ]
    }
   ],
   "source": [
    "print(sqr)"
   ]
  },
  {
   "cell_type": "code",
   "execution_count": 145,
   "id": "aff41ced",
   "metadata": {},
   "outputs": [
    {
     "name": "stdout",
     "output_type": "stream",
     "text": [
      "[(1, 4), (1, 5), (1, 6), (2, 4), (2, 5), (2, 6), (3, 4), (3, 5), (3, 6)]\n"
     ]
    }
   ],
   "source": [
    "nums1 = [1,2,3]\n",
    "nums2 = [4,5,6]\n",
    "\n",
    "t = [(x,y) for x in nums1 for y in nums2]\n",
    "print(t)"
   ]
  },
  {
   "cell_type": "code",
   "execution_count": 153,
   "id": "9b4509e9",
   "metadata": {},
   "outputs": [],
   "source": [
    "odd_even = ['even' if i %2==0 else 'odd' for i in range(5)]"
   ]
  },
  {
   "cell_type": "code",
   "execution_count": 154,
   "id": "55042497",
   "metadata": {},
   "outputs": [
    {
     "name": "stdout",
     "output_type": "stream",
     "text": [
      "['even', 'odd', 'even', 'odd', 'even']\n"
     ]
    }
   ],
   "source": [
    "print(odd_even)"
   ]
  },
  {
   "cell_type": "code",
   "execution_count": null,
   "id": "5cb089c0",
   "metadata": {},
   "outputs": [],
   "source": []
  }
 ],
 "metadata": {
  "kernelspec": {
   "display_name": "Python 3 (ipykernel)",
   "language": "python",
   "name": "python3"
  },
  "language_info": {
   "codemirror_mode": {
    "name": "ipython",
    "version": 3
   },
   "file_extension": ".py",
   "mimetype": "text/x-python",
   "name": "python",
   "nbconvert_exporter": "python",
   "pygments_lexer": "ipython3",
   "version": "3.9.12"
  }
 },
 "nbformat": 4,
 "nbformat_minor": 5
}
