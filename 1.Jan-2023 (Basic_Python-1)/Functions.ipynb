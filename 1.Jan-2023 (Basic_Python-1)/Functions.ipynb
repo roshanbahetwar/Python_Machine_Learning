{
 "cells": [
  {
   "cell_type": "code",
   "execution_count": 1,
   "id": "d9aaf47e",
   "metadata": {},
   "outputs": [],
   "source": [
    "def rdb(x,y):\n",
    "    z = x+y\n",
    "    return z"
   ]
  },
  {
   "cell_type": "code",
   "execution_count": 5,
   "id": "cca901ff",
   "metadata": {},
   "outputs": [],
   "source": [
    "r_add = rdb(45,45)"
   ]
  },
  {
   "cell_type": "code",
   "execution_count": 6,
   "id": "c2f7bc4a",
   "metadata": {},
   "outputs": [
    {
     "name": "stdout",
     "output_type": "stream",
     "text": [
      "Good\n"
     ]
    }
   ],
   "source": [
    "if r_add > 80:\n",
    "    print('Good')\n",
    "else:\n",
    "    print('not Good')"
   ]
  },
  {
   "cell_type": "code",
   "execution_count": 24,
   "id": "b678a268",
   "metadata": {},
   "outputs": [],
   "source": [
    "def file_name(file):\n",
    "    if file.endswith('pdf') and file.startswith('main'):\n",
    "        \n",
    "        return True\n",
    "    else:\n",
    "        return False"
   ]
  },
  {
   "cell_type": "code",
   "execution_count": 30,
   "id": "6ed477ce",
   "metadata": {},
   "outputs": [
    {
     "data": {
      "text/plain": [
       "True"
      ]
     },
     "execution_count": 30,
     "metadata": {},
     "output_type": "execute_result"
    }
   ],
   "source": [
    "file_name('main.pdf')"
   ]
  },
  {
   "cell_type": "code",
   "execution_count": 29,
   "id": "80339021",
   "metadata": {},
   "outputs": [
    {
     "name": "stdout",
     "output_type": "stream",
     "text": [
      "invalid file\n"
     ]
    }
   ],
   "source": [
    "t = file_name('main.pdf')\n",
    "\n",
    "if t:\n",
    "    print('file Processing.......')\n",
    "else:\n",
    "    print('invalid file')"
   ]
  },
  {
   "cell_type": "code",
   "execution_count": 49,
   "id": "e2f16bd1",
   "metadata": {},
   "outputs": [],
   "source": [
    "def greet():\n",
    "    \n",
    "#     \"this is the statements of greetings\"\n",
    "#     name = input('enter your name ')\n",
    "#     last_name = input('can You tell me lastName? ')\n",
    "#     ls = input('enter lastname ')\n",
    "\n",
    "#     if last_name == 'Yes'.lower():\n",
    "        \n",
    "#         print('Hello ', name,ls)\n",
    "#     else:\n",
    "#         print('fisrt tell me your lastname')"
   ]
  },
  {
   "cell_type": "code",
   "execution_count": 51,
   "id": "da558b41",
   "metadata": {},
   "outputs": [
    {
     "name": "stdout",
     "output_type": "stream",
     "text": [
      "enter your name hjgj\n",
      "can You tell me lastName? no\n",
      "enter lastname ss\n",
      "fisrt tell me your lastname\n"
     ]
    }
   ],
   "source": [
    "greet()"
   ]
  },
  {
   "cell_type": "code",
   "execution_count": 52,
   "id": "1b08bf65",
   "metadata": {},
   "outputs": [],
   "source": [
    "def greet():\n",
    "    \n",
    "    print('Hello World')"
   ]
  },
  {
   "cell_type": "code",
   "execution_count": 53,
   "id": "8432494f",
   "metadata": {},
   "outputs": [
    {
     "name": "stdout",
     "output_type": "stream",
     "text": [
      "Hello World\n"
     ]
    }
   ],
   "source": [
    "greet()"
   ]
  },
  {
   "cell_type": "code",
   "execution_count": 57,
   "id": "8723d576",
   "metadata": {},
   "outputs": [
    {
     "name": "stdout",
     "output_type": "stream",
     "text": [
      "Hello World\n",
      "None\n"
     ]
    }
   ],
   "source": [
    "val = greet()\n",
    "\n",
    "print(val)"
   ]
  },
  {
   "cell_type": "code",
   "execution_count": 59,
   "id": "0b73a0fc",
   "metadata": {},
   "outputs": [
    {
     "name": "stdout",
     "output_type": "stream",
     "text": [
      "Hello World\n"
     ]
    }
   ],
   "source": [
    "val= greet()"
   ]
  },
  {
   "cell_type": "code",
   "execution_count": 60,
   "id": "3a2969b2",
   "metadata": {},
   "outputs": [
    {
     "name": "stdout",
     "output_type": "stream",
     "text": [
      "Help on function greet in module __main__:\n",
      "\n",
      "greet()\n",
      "\n"
     ]
    }
   ],
   "source": [
    "help(greet)"
   ]
  },
  {
   "cell_type": "code",
   "execution_count": 61,
   "id": "ba004f8a",
   "metadata": {},
   "outputs": [
    {
     "name": "stdout",
     "output_type": "stream",
     "text": [
      "Help on function rdb in module __main__:\n",
      "\n",
      "rdb(x, y)\n",
      "\n"
     ]
    }
   ],
   "source": [
    "help(rdb)"
   ]
  },
  {
   "cell_type": "code",
   "execution_count": 62,
   "id": "2ed46f9a",
   "metadata": {},
   "outputs": [],
   "source": [
    "def greet(name):\n",
    "    print('Hello ',name)"
   ]
  },
  {
   "cell_type": "code",
   "execution_count": 64,
   "id": "8e567d83",
   "metadata": {},
   "outputs": [
    {
     "name": "stdout",
     "output_type": "stream",
     "text": [
      "Hello  izack\n"
     ]
    }
   ],
   "source": [
    "greet('izack')"
   ]
  },
  {
   "cell_type": "code",
   "execution_count": 66,
   "id": "36def609",
   "metadata": {},
   "outputs": [
    {
     "name": "stdout",
     "output_type": "stream",
     "text": [
      "Hello  lily\n",
      "Hello  How are you\n"
     ]
    }
   ],
   "source": [
    "greet('lily');greet('How are you')"
   ]
  },
  {
   "cell_type": "code",
   "execution_count": 67,
   "id": "87e4ade9",
   "metadata": {},
   "outputs": [],
   "source": [
    "def abc(name:str):\n",
    "    print('Hello ',name)"
   ]
  },
  {
   "cell_type": "code",
   "execution_count": 68,
   "id": "1b490999",
   "metadata": {},
   "outputs": [
    {
     "name": "stdout",
     "output_type": "stream",
     "text": [
      "Hello  izack\n"
     ]
    }
   ],
   "source": [
    "abc('izack')"
   ]
  },
  {
   "cell_type": "code",
   "execution_count": 69,
   "id": "50833bcf",
   "metadata": {},
   "outputs": [
    {
     "name": "stdout",
     "output_type": "stream",
     "text": [
      "Hello  123\n"
     ]
    }
   ],
   "source": [
    "abc(123)"
   ]
  },
  {
   "cell_type": "code",
   "execution_count": 71,
   "id": "a146c123",
   "metadata": {},
   "outputs": [],
   "source": [
    "def abc(name1,name2,name3):\n",
    "    print('hello',name1,name2,name3)"
   ]
  },
  {
   "cell_type": "code",
   "execution_count": 72,
   "id": "cef47482",
   "metadata": {},
   "outputs": [
    {
     "name": "stdout",
     "output_type": "stream",
     "text": [
      "hello izack lily grace\n"
     ]
    }
   ],
   "source": [
    "abc('izack','lily','grace')"
   ]
  },
  {
   "cell_type": "code",
   "execution_count": 73,
   "id": "206c31d3",
   "metadata": {},
   "outputs": [],
   "source": [
    "def abc(*name):\n",
    "    print('Hello ',name[2],name[0],name[3],name[1])"
   ]
  },
  {
   "cell_type": "code",
   "execution_count": 75,
   "id": "84b230a7",
   "metadata": {},
   "outputs": [
    {
     "name": "stdout",
     "output_type": "stream",
     "text": [
      "Hello  Govinda izack Rakesh Ajay\n"
     ]
    }
   ],
   "source": [
    "abc('izack','Ajay','Govinda','Rakesh')"
   ]
  },
  {
   "cell_type": "code",
   "execution_count": 80,
   "id": "c7d1f802",
   "metadata": {},
   "outputs": [],
   "source": [
    "def r_nge():\n",
    "    for i in range(1,21):\n",
    "        if i%2==0:\n",
    "            print(f\"Even Number.{i}\")\n",
    "        else:\n",
    "            print(f\"Odd Number.{i}\")"
   ]
  },
  {
   "cell_type": "code",
   "execution_count": 81,
   "id": "7a587adb",
   "metadata": {},
   "outputs": [
    {
     "name": "stdout",
     "output_type": "stream",
     "text": [
      "Odd Number.1\n",
      "Even Number.2\n",
      "Odd Number.3\n",
      "Even Number.4\n",
      "Odd Number.5\n",
      "Even Number.6\n",
      "Odd Number.7\n",
      "Even Number.8\n",
      "Odd Number.9\n",
      "Even Number.10\n",
      "Odd Number.11\n",
      "Even Number.12\n",
      "Odd Number.13\n",
      "Even Number.14\n",
      "Odd Number.15\n",
      "Even Number.16\n",
      "Odd Number.17\n",
      "Even Number.18\n",
      "Odd Number.19\n",
      "Even Number.20\n"
     ]
    }
   ],
   "source": [
    "r_nge()"
   ]
  },
  {
   "cell_type": "code",
   "execution_count": 82,
   "id": "7a394b6b",
   "metadata": {},
   "outputs": [
    {
     "name": "stdout",
     "output_type": "stream",
     "text": [
      "Hello Steve, Bill, Yash, Hello Steve, Bill, Yash, Kapil, John, Amir, "
     ]
    }
   ],
   "source": [
    "def greet(*names):\n",
    "\ti=0\n",
    "\tprint('Hello ', end='')\n",
    "\twhile len(names) > i:\n",
    "\t\tprint(names[i], end=', ')\n",
    "\t\ti+=1\n",
    "\n",
    "greet('Steve', 'Bill', 'Yash') \n",
    "greet('Steve', 'Bill', 'Yash', 'Kapil', 'John', 'Amir') "
   ]
  },
  {
   "cell_type": "code",
   "execution_count": 99,
   "id": "f7ce2b40",
   "metadata": {},
   "outputs": [],
   "source": [
    "def greet(*names):\n",
    "    i = 0\n",
    "    print('hello ',end = ' ')\n",
    "    while len(names) > i:\n",
    "        print(names[i],end = ', ')\n",
    "        i+=1"
   ]
  },
  {
   "cell_type": "code",
   "execution_count": 100,
   "id": "ab9cb2f0",
   "metadata": {},
   "outputs": [
    {
     "name": "stdout",
     "output_type": "stream",
     "text": [
      "hello  izack, mhn, mld, kml, "
     ]
    }
   ],
   "source": [
    "greet('izack','mhn','mld','kml')"
   ]
  },
  {
   "cell_type": "code",
   "execution_count": 115,
   "id": "7555e3e4",
   "metadata": {},
   "outputs": [],
   "source": [
    "def even_odd(i):\n",
    "    if i%2==0:\n",
    "        return 'Even Number'\n",
    "    else:\n",
    "        return 'Odd Number'"
   ]
  },
  {
   "cell_type": "code",
   "execution_count": 119,
   "id": "8ae0bd3c",
   "metadata": {},
   "outputs": [
    {
     "data": {
      "text/plain": [
       "'Even Number'"
      ]
     },
     "execution_count": 119,
     "metadata": {},
     "output_type": "execute_result"
    }
   ],
   "source": [
    "even_odd(20)"
   ]
  },
  {
   "cell_type": "code",
   "execution_count": 121,
   "id": "8c7fb261",
   "metadata": {},
   "outputs": [
    {
     "data": {
      "text/plain": [
       "'Even Number'"
      ]
     },
     "execution_count": 121,
     "metadata": {},
     "output_type": "execute_result"
    }
   ],
   "source": [
    "even_odd(25+30+75)"
   ]
  },
  {
   "cell_type": "code",
   "execution_count": 122,
   "id": "3d494572",
   "metadata": {},
   "outputs": [],
   "source": [
    "even = even_odd(20)"
   ]
  },
  {
   "cell_type": "code",
   "execution_count": 123,
   "id": "a1baff63",
   "metadata": {},
   "outputs": [
    {
     "data": {
      "text/plain": [
       "'Even Number'"
      ]
     },
     "execution_count": 123,
     "metadata": {},
     "output_type": "execute_result"
    }
   ],
   "source": [
    "even"
   ]
  },
  {
   "cell_type": "code",
   "execution_count": 126,
   "id": "5a7689bc",
   "metadata": {},
   "outputs": [],
   "source": [
    "p = list(range(100))"
   ]
  },
  {
   "cell_type": "code",
   "execution_count": 128,
   "id": "4250142a",
   "metadata": {},
   "outputs": [],
   "source": [
    "def check_no(py):\n",
    "    temp = []\n",
    "    for i in py:\n",
    "        if i%2==0:\n",
    "            temp.append(i)\n",
    "    return temp"
   ]
  },
  {
   "cell_type": "code",
   "execution_count": 130,
   "id": "101abcc0",
   "metadata": {},
   "outputs": [],
   "source": [
    "t = check_no(p)"
   ]
  },
  {
   "cell_type": "code",
   "execution_count": 131,
   "id": "a4592eae",
   "metadata": {},
   "outputs": [
    {
     "data": {
      "text/plain": [
       "50"
      ]
     },
     "execution_count": 131,
     "metadata": {},
     "output_type": "execute_result"
    }
   ],
   "source": [
    "len(t)"
   ]
  },
  {
   "cell_type": "code",
   "execution_count": 134,
   "id": "0be55206",
   "metadata": {},
   "outputs": [
    {
     "name": "stdout",
     "output_type": "stream",
     "text": [
      "[0, 2, 4, 6, 8, 10, 12, 14, 16, 18, 20, 22, 24, 26, 28, 30, 32, 34, 36, 38, 40, 42, 44, 46, 48, 50, 52, 54, 56, 58, 60, 62, 64, 66, 68, 70, 72, 74, 76, 78, 80, 82, 84, 86, 88, 90, 92, 94, 96, 98]\n"
     ]
    }
   ],
   "source": [
    "print(t)"
   ]
  },
  {
   "cell_type": "code",
   "execution_count": 135,
   "id": "53805bce",
   "metadata": {},
   "outputs": [],
   "source": [
    "def check(x):\n",
    "    pk = []\n",
    "    for i in x:\n",
    "        if i%2==1:\n",
    "            pk.append(i)\n",
    "    return pk"
   ]
  },
  {
   "cell_type": "code",
   "execution_count": 137,
   "id": "27eebe52",
   "metadata": {},
   "outputs": [],
   "source": [
    "s = check(p)"
   ]
  },
  {
   "cell_type": "code",
   "execution_count": 138,
   "id": "8c1ff2c4",
   "metadata": {},
   "outputs": [
    {
     "name": "stdout",
     "output_type": "stream",
     "text": [
      "[1, 3, 5, 7, 9, 11, 13, 15, 17, 19, 21, 23, 25, 27, 29, 31, 33, 35, 37, 39, 41, 43, 45, 47, 49, 51, 53, 55, 57, 59, 61, 63, 65, 67, 69, 71, 73, 75, 77, 79, 81, 83, 85, 87, 89, 91, 93, 95, 97, 99]\n"
     ]
    }
   ],
   "source": [
    "print(s)"
   ]
  },
  {
   "cell_type": "code",
   "execution_count": 139,
   "id": "d6fdbbbe",
   "metadata": {},
   "outputs": [
    {
     "data": {
      "text/plain": [
       "50"
      ]
     },
     "execution_count": 139,
     "metadata": {},
     "output_type": "execute_result"
    }
   ],
   "source": [
    "len(s)"
   ]
  },
  {
   "cell_type": "code",
   "execution_count": 6,
   "id": "08398f04",
   "metadata": {},
   "outputs": [],
   "source": [
    "def new_div():\n",
    "    x = int(input('enter the first number '))\n",
    "    y = int(input('enter the second number '))\n",
    "    if y == 0:\n",
    "        print('cannot devide by zero')\n",
    "    else:\n",
    "        \n",
    "        print(x/y)"
   ]
  },
  {
   "cell_type": "code",
   "execution_count": 8,
   "id": "7d2f65fb",
   "metadata": {},
   "outputs": [
    {
     "name": "stdout",
     "output_type": "stream",
     "text": [
      "enter the first number 54\n",
      "enter the second number 0\n",
      "cannot devide by zero\n"
     ]
    }
   ],
   "source": [
    "new_div()"
   ]
  },
  {
   "cell_type": "code",
   "execution_count": null,
   "id": "ae3393ae",
   "metadata": {},
   "outputs": [],
   "source": [
    "fn_date_RDB.pdf"
   ]
  },
  {
   "cell_type": "code",
   "execution_count": null,
   "id": "65bccb5b",
   "metadata": {},
   "outputs": [],
   "source": []
  },
  {
   "cell_type": "code",
   "execution_count": 17,
   "id": "dc42df83",
   "metadata": {},
   "outputs": [],
   "source": [
    "def file_nameB(fn):\n",
    "    name = fn.split('.')[0]\n",
    "    dt = datetime.datetime.date(datetime.datetime.now())\n",
    "    filename = f\"{name}_{dt}_RDB.pdf\"\n",
    "    return filename\n",
    "    "
   ]
  },
  {
   "cell_type": "code",
   "execution_count": 18,
   "id": "c76b90ac",
   "metadata": {},
   "outputs": [
    {
     "data": {
      "text/plain": [
       "'abc_2023-02-21_RDB.pdf'"
      ]
     },
     "execution_count": 18,
     "metadata": {},
     "output_type": "execute_result"
    }
   ],
   "source": [
    "file_nameB('abc.pdf')"
   ]
  },
  {
   "cell_type": "code",
   "execution_count": 21,
   "id": "3d9fc3dc",
   "metadata": {},
   "outputs": [],
   "source": [
    "def abc(py):\n",
    "    fn = py.split('.')[0]\n",
    "    dt = datetime.datetime.date(datetime.datetime.now())\n",
    "    file = f\"{fn}_{dt}_RDB.pdf\"\n",
    "    return file"
   ]
  },
  {
   "cell_type": "code",
   "execution_count": 22,
   "id": "47cd7146",
   "metadata": {},
   "outputs": [
    {
     "data": {
      "text/plain": [
       "'cv_2023-02-21_RDB.pdf'"
      ]
     },
     "execution_count": 22,
     "metadata": {},
     "output_type": "execute_result"
    }
   ],
   "source": [
    "abc('cv.pdf')"
   ]
  },
  {
   "cell_type": "code",
   "execution_count": 9,
   "id": "6d346ca0",
   "metadata": {},
   "outputs": [],
   "source": [
    "import datetime"
   ]
  },
  {
   "cell_type": "code",
   "execution_count": 10,
   "id": "5b13aab6",
   "metadata": {},
   "outputs": [
    {
     "data": {
      "text/plain": [
       "datetime.date(2023, 2, 21)"
      ]
     },
     "execution_count": 10,
     "metadata": {},
     "output_type": "execute_result"
    }
   ],
   "source": [
    "datetime.datetime.date(datetime.datetime.now())"
   ]
  },
  {
   "cell_type": "code",
   "execution_count": 33,
   "id": "ca8f8cce",
   "metadata": {},
   "outputs": [],
   "source": [
    "def abc(py):\n",
    "    fn = py.split('.')[0]\n",
    "    ext = py.split('.')[1]\n",
    "    dt = datetime.datetime.date(datetime.datetime.now())\n",
    "    file = f\"{fn}_{dt}_RDB.{ext}\"\n",
    "    if file.endswith('pdf'):\n",
    "        return file\n",
    "    elif file.endswith('xlxs'):\n",
    "        return file\n",
    "    else:\n",
    "        return 'file not supported'"
   ]
  },
  {
   "cell_type": "code",
   "execution_count": 36,
   "id": "98d0fab1",
   "metadata": {},
   "outputs": [
    {
     "data": {
      "text/plain": [
       "'python_2023-02-21_RDB.pdf'"
      ]
     },
     "execution_count": 36,
     "metadata": {},
     "output_type": "execute_result"
    }
   ],
   "source": [
    "abc('python.pdf')"
   ]
  },
  {
   "cell_type": "code",
   "execution_count": 37,
   "id": "dacd8af8",
   "metadata": {},
   "outputs": [],
   "source": [
    "# 1. Positional Arguments"
   ]
  },
  {
   "cell_type": "code",
   "execution_count": 38,
   "id": "7c779a83",
   "metadata": {},
   "outputs": [],
   "source": [
    "def prd_details(id,name,qty,price,loc):\n",
    "    print('Id : ',id)\n",
    "    print('Name : ',name)\n",
    "    print('Qty ; ',qty)\n",
    "    print('Price : ',price)\n",
    "    print('Loc :',loc)"
   ]
  },
  {
   "cell_type": "code",
   "execution_count": 39,
   "id": "dfb054b5",
   "metadata": {},
   "outputs": [
    {
     "name": "stdout",
     "output_type": "stream",
     "text": [
      "Id :  101\n",
      "Name :  ParleG\n",
      "Qty ;  10\n",
      "Price :  500\n",
      "Loc : India\n"
     ]
    }
   ],
   "source": [
    "prd_details(101,'ParleG',10,500,'India')"
   ]
  },
  {
   "cell_type": "code",
   "execution_count": 43,
   "id": "9e2328af",
   "metadata": {},
   "outputs": [
    {
     "name": "stdout",
     "output_type": "stream",
     "text": [
      "Id :  101\n",
      "Name :  ParleG\n",
      "Qty ;  10\n",
      "Price :  500\n",
      "Loc : India\n"
     ]
    }
   ],
   "source": [
    "prd_details(101,'ParleG',10,500,'India')"
   ]
  },
  {
   "cell_type": "code",
   "execution_count": 55,
   "id": "4ec7e25d",
   "metadata": {},
   "outputs": [],
   "source": [
    "def per_details(id,name,salary,pan,aadhar):\n",
    "    print('Id: ',id)\n",
    "    print('Name: ',name)\n",
    "    print('Salary: ',salary)\n",
    "    print('Pan: ',pan)\n",
    "    print('Aadhar: ',aadhar)"
   ]
  },
  {
   "cell_type": "code",
   "execution_count": 61,
   "id": "871d70c1",
   "metadata": {},
   "outputs": [
    {
     "name": "stdout",
     "output_type": "stream",
     "text": [
      "Id:  101\n",
      "Name:  izack\n",
      "Salary:  45000\n",
      "Pan:  BTV20125\n",
      "Aadhar:  658454555446\n"
     ]
    }
   ],
   "source": [
    "per_details(101,'izack',45000,'BTV20125',658454555446)"
   ]
  },
  {
   "cell_type": "code",
   "execution_count": 57,
   "id": "edfaae19",
   "metadata": {},
   "outputs": [],
   "source": [
    "# 2. Default Arguments"
   ]
  },
  {
   "cell_type": "code",
   "execution_count": 59,
   "id": "6847fce9",
   "metadata": {},
   "outputs": [],
   "source": [
    "def per_details(id,name,salary,pan,aadhar = None):\n",
    "    print('Id: ',id)\n",
    "    print('Name: ',name)\n",
    "    print('Salary: ',salary)\n",
    "    print('Pan: ',pan)\n",
    "    print('Aadhar: ',aadhar)"
   ]
  },
  {
   "cell_type": "code",
   "execution_count": 64,
   "id": "3c21b48a",
   "metadata": {},
   "outputs": [
    {
     "name": "stdout",
     "output_type": "stream",
     "text": [
      "Id:  101\n",
      "Name:  izack\n",
      "Salary:  45000\n",
      "Pan:  BTV20125\n",
      "Aadhar:  None\n"
     ]
    }
   ],
   "source": [
    "per_details(101,'izack',45000,'BTV20125')"
   ]
  },
  {
   "cell_type": "code",
   "execution_count": 65,
   "id": "ab012576",
   "metadata": {},
   "outputs": [],
   "source": [
    "# 3. Variable length Argumnets"
   ]
  },
  {
   "cell_type": "code",
   "execution_count": 66,
   "id": "6dfa3d34",
   "metadata": {},
   "outputs": [],
   "source": [
    "def test(*args):\n",
    "    print(args)"
   ]
  },
  {
   "cell_type": "code",
   "execution_count": 67,
   "id": "ef60cdbd",
   "metadata": {},
   "outputs": [
    {
     "name": "stdout",
     "output_type": "stream",
     "text": [
      "('izack', 10, 20, 65, 12, 88, 'Ajay')\n"
     ]
    }
   ],
   "source": [
    "test('izack',10,20,65,12,88,'Ajay')"
   ]
  },
  {
   "cell_type": "code",
   "execution_count": 68,
   "id": "7673bbec",
   "metadata": {},
   "outputs": [],
   "source": [
    "def add_var(*args):\n",
    "    t = 0\n",
    "    for i in args:\n",
    "        t = t+i\n",
    "    return t"
   ]
  },
  {
   "cell_type": "code",
   "execution_count": 72,
   "id": "63803b0b",
   "metadata": {},
   "outputs": [
    {
     "data": {
      "text/plain": [
       "80"
      ]
     },
     "execution_count": 72,
     "metadata": {},
     "output_type": "execute_result"
    }
   ],
   "source": [
    "add_var(10,25,45)"
   ]
  },
  {
   "cell_type": "code",
   "execution_count": 73,
   "id": "53905eee",
   "metadata": {},
   "outputs": [],
   "source": [
    "# 4. Keywords Arguments"
   ]
  },
  {
   "cell_type": "code",
   "execution_count": 74,
   "id": "993b5544",
   "metadata": {},
   "outputs": [],
   "source": [
    "def per_details(id,name,salary,pan,aadhar):\n",
    "    print('Id: ',id)\n",
    "    print('Name: ',name)\n",
    "    print('Salary: ',salary)\n",
    "    print('Pan: ',pan)\n",
    "    print('Aadhar: ',aadhar)"
   ]
  },
  {
   "cell_type": "code",
   "execution_count": 77,
   "id": "9b45e903",
   "metadata": {},
   "outputs": [
    {
     "name": "stdout",
     "output_type": "stream",
     "text": [
      "Id:  454\n",
      "Name:  izack\n",
      "Salary:  65666\n",
      "Pan:  BVC55444\n",
      "Aadhar:  856555565\n"
     ]
    }
   ],
   "source": [
    "per_details(aadhar = 856555565,salary= 65666,name = 'izack',id = 454,pan = 'BVC55444')"
   ]
  },
  {
   "cell_type": "code",
   "execution_count": 78,
   "id": "999a5cf7",
   "metadata": {},
   "outputs": [],
   "source": [
    "def myfunct(fname):\n",
    "    print('Fname',fname)"
   ]
  },
  {
   "cell_type": "code",
   "execution_count": 79,
   "id": "eb08c180",
   "metadata": {},
   "outputs": [
    {
     "name": "stdout",
     "output_type": "stream",
     "text": [
      "Fname izack\n"
     ]
    }
   ],
   "source": [
    "myfunct('izack')"
   ]
  },
  {
   "cell_type": "code",
   "execution_count": 85,
   "id": "5a8e1eb0",
   "metadata": {},
   "outputs": [
    {
     "name": "stdout",
     "output_type": "stream",
     "text": [
      "The oldest child is  Emil\n",
      "The youngest child is  Tobias\n"
     ]
    }
   ],
   "source": [
    "def my_function(*kids):\n",
    "    print('The oldest child is ',kids[0])\n",
    "    print(\"The youngest child is \" , kids[1])\n",
    "\n",
    "my_function(\"Emil\", \"Tobias\", \"Linus\")"
   ]
  },
  {
   "cell_type": "code",
   "execution_count": 86,
   "id": "173c62c3",
   "metadata": {},
   "outputs": [],
   "source": [
    "# 5. Variable length keywords agruments"
   ]
  },
  {
   "cell_type": "code",
   "execution_count": 87,
   "id": "890c5bbb",
   "metadata": {},
   "outputs": [],
   "source": [
    "def test_key(**kwargs):\n",
    "    print(kwargs)"
   ]
  },
  {
   "cell_type": "code",
   "execution_count": 91,
   "id": "b6cdd05f",
   "metadata": {},
   "outputs": [
    {
     "name": "stdout",
     "output_type": "stream",
     "text": [
      "{'Id': 101, 'Salary': 95000, 'Name': 'izack', 'loc': 'mkly'}\n"
     ]
    }
   ],
   "source": [
    " ab = test_key(Id=101,Salary=95000,Name='izack',loc='mkly')"
   ]
  },
  {
   "cell_type": "code",
   "execution_count": 93,
   "id": "d56ba0a1",
   "metadata": {},
   "outputs": [
    {
     "name": "stdout",
     "output_type": "stream",
     "text": [
      "a= 10\n"
     ]
    }
   ],
   "source": [
    "a=10\n",
    "def myfunction():\n",
    "    a=20\n",
    "    return\n",
    "print('a=',a)"
   ]
  },
  {
   "cell_type": "code",
   "execution_count": 107,
   "id": "088343ff",
   "metadata": {},
   "outputs": [],
   "source": [
    "def fl(fn,ln):\n",
    "    print('FullName ',fn,ln)"
   ]
  },
  {
   "cell_type": "code",
   "execution_count": 108,
   "id": "56a26109",
   "metadata": {},
   "outputs": [
    {
     "name": "stdout",
     "output_type": "stream",
     "text": [
      "FullName  izack newton\n"
     ]
    }
   ],
   "source": [
    "fl('izack','newton')"
   ]
  },
  {
   "cell_type": "code",
   "execution_count": 109,
   "id": "26bf5fb8",
   "metadata": {},
   "outputs": [
    {
     "name": "stdout",
     "output_type": "stream",
     "text": [
      "FullName  Rakesh Kumar\n"
     ]
    }
   ],
   "source": [
    "fl('Rakesh','Kumar')"
   ]
  },
  {
   "cell_type": "code",
   "execution_count": 120,
   "id": "462d72a4",
   "metadata": {},
   "outputs": [],
   "source": [
    "def ab(**kwargs):\n",
    "    return kwargs"
   ]
  },
  {
   "cell_type": "code",
   "execution_count": 121,
   "id": "990fc2c4",
   "metadata": {},
   "outputs": [],
   "source": [
    "ND = ab(Name='izack',city='mkly',Id = 1234)"
   ]
  },
  {
   "cell_type": "code",
   "execution_count": 122,
   "id": "75df7e27",
   "metadata": {},
   "outputs": [
    {
     "data": {
      "text/plain": [
       "dict_values(['izack', 'mkly', 1234])"
      ]
     },
     "execution_count": 122,
     "metadata": {},
     "output_type": "execute_result"
    }
   ],
   "source": [
    "ND.values()"
   ]
  },
  {
   "cell_type": "code",
   "execution_count": 123,
   "id": "7b2f0a99",
   "metadata": {},
   "outputs": [
    {
     "data": {
      "text/plain": [
       "'mkly'"
      ]
     },
     "execution_count": 123,
     "metadata": {},
     "output_type": "execute_result"
    }
   ],
   "source": [
    "ND['city']"
   ]
  },
  {
   "cell_type": "code",
   "execution_count": 139,
   "id": "44c2d2b6",
   "metadata": {},
   "outputs": [],
   "source": [
    "def ml(food):\n",
    "    for i in food:\n",
    "        print(i)\n",
    "    \n",
    "fruits = ['apple','banana','pineapple','orange']"
   ]
  },
  {
   "cell_type": "code",
   "execution_count": 140,
   "id": "576cb621",
   "metadata": {},
   "outputs": [
    {
     "name": "stdout",
     "output_type": "stream",
     "text": [
      "apple\n",
      "banana\n",
      "pineapple\n",
      "orange\n"
     ]
    }
   ],
   "source": [
    "fruit = ml(fruits)"
   ]
  },
  {
   "cell_type": "code",
   "execution_count": 141,
   "id": "2aa5f451",
   "metadata": {},
   "outputs": [
    {
     "name": "stdout",
     "output_type": "stream",
     "text": [
      "None\n"
     ]
    }
   ],
   "source": [
    "print(fruit)"
   ]
  },
  {
   "cell_type": "code",
   "execution_count": 143,
   "id": "6259fda2",
   "metadata": {},
   "outputs": [
    {
     "name": "stdout",
     "output_type": "stream",
     "text": [
      "15\n",
      "25\n",
      "45\n"
     ]
    }
   ],
   "source": [
    "def my_function(x):\n",
    "  return 5 * x\n",
    "\n",
    "print(my_function(3))\n",
    "print(my_function(5))\n",
    "print(my_function(9))"
   ]
  },
  {
   "cell_type": "code",
   "execution_count": 142,
   "id": "5c3ce27b",
   "metadata": {},
   "outputs": [],
   "source": [
    "def ab(x):\n",
    "    return 5*x"
   ]
  },
  {
   "cell_type": "code",
   "execution_count": 144,
   "id": "e27bceac",
   "metadata": {},
   "outputs": [
    {
     "data": {
      "text/plain": [
       "50"
      ]
     },
     "execution_count": 144,
     "metadata": {},
     "output_type": "execute_result"
    }
   ],
   "source": [
    "ab(10)"
   ]
  },
  {
   "cell_type": "code",
   "execution_count": 145,
   "id": "e97ab35c",
   "metadata": {},
   "outputs": [
    {
     "data": {
      "text/plain": [
       "60"
      ]
     },
     "execution_count": 145,
     "metadata": {},
     "output_type": "execute_result"
    }
   ],
   "source": [
    "ab(12)"
   ]
  },
  {
   "cell_type": "code",
   "execution_count": 6,
   "id": "59c81ff9",
   "metadata": {},
   "outputs": [
    {
     "name": "stdout",
     "output_type": "stream",
     "text": [
      "start\n",
      "30\n"
     ]
    }
   ],
   "source": [
    "def start():\n",
    "    print('start')\n",
    "    \n",
    "def add(x,y):\n",
    "    return x+y\n",
    "\n",
    "def myprint(p):\n",
    "    print(p)\n",
    "    \n",
    "start()\n",
    "\n",
    "a = 10\n",
    "b = 20\n",
    "\n",
    "result = add(a,b)\n",
    "\n",
    "myprint(result)"
   ]
  },
  {
   "cell_type": "code",
   "execution_count": 4,
   "id": "a2d0d1c4",
   "metadata": {},
   "outputs": [
    {
     "data": {
      "text/plain": [
       "30"
      ]
     },
     "execution_count": 4,
     "metadata": {},
     "output_type": "execute_result"
    }
   ],
   "source": [
    "result"
   ]
  },
  {
   "cell_type": "code",
   "execution_count": 9,
   "id": "d881cfed",
   "metadata": {},
   "outputs": [],
   "source": [
    "def welcome(*match):\n",
    "    print(\"\\nTotal no of matches :-\",len(match))\n",
    "    for i in match:\n",
    "        print('score :- ',i)"
   ]
  },
  {
   "cell_type": "code",
   "execution_count": 10,
   "id": "8ac54143",
   "metadata": {},
   "outputs": [
    {
     "name": "stdout",
     "output_type": "stream",
     "text": [
      "\n",
      "Total no of matches :- 10\n",
      "score :-  10\n",
      "score :-  5\n",
      "score :-  9\n",
      "score :-  4\n",
      "score :-  7\n",
      "score :-  8\n",
      "score :-  6\n",
      "score :-  5\n",
      "score :-  4\n",
      "score :-  8\n"
     ]
    }
   ],
   "source": [
    "welcome(10,5,9,4,7,8,6,5,4,8)"
   ]
  },
  {
   "cell_type": "code",
   "execution_count": 11,
   "id": "e5e99a7c",
   "metadata": {},
   "outputs": [],
   "source": [
    "a = 12\n",
    "b = 30"
   ]
  },
  {
   "cell_type": "code",
   "execution_count": 12,
   "id": "697d43fb",
   "metadata": {},
   "outputs": [],
   "source": [
    "temp = a"
   ]
  },
  {
   "cell_type": "code",
   "execution_count": 13,
   "id": "95a73c99",
   "metadata": {},
   "outputs": [],
   "source": [
    "a = b"
   ]
  },
  {
   "cell_type": "code",
   "execution_count": 15,
   "id": "93d6c22a",
   "metadata": {},
   "outputs": [],
   "source": [
    "b = temp"
   ]
  },
  {
   "cell_type": "code",
   "execution_count": 16,
   "id": "07cbad84",
   "metadata": {},
   "outputs": [
    {
     "name": "stdout",
     "output_type": "stream",
     "text": [
      "30\n",
      "12\n"
     ]
    }
   ],
   "source": [
    "print(a);print(b)"
   ]
  },
  {
   "cell_type": "code",
   "execution_count": 17,
   "id": "903c7546",
   "metadata": {},
   "outputs": [
    {
     "name": "stdout",
     "output_type": "stream",
     "text": [
      "enter a value :- 15\n",
      "enter a value :- 45\n",
      "before swapping a:  15\n",
      "before swapping b:  45\n",
      "after swapping a:  45\n",
      "after swapping b:  15\n"
     ]
    }
   ],
   "source": [
    "a = int(input('enter value :- '))\n",
    "b = int(input('enter value :- '))\n",
    "\n",
    "print('before swapping a: ',a)\n",
    "print('before swapping b: ',b)\n",
    "\n",
    "temp = a\n",
    "a = b\n",
    "b = temp\n",
    "\n",
    "print('after swapping a: ',a)\n",
    "print('after swapping b: ',b)"
   ]
  },
  {
   "cell_type": "code",
   "execution_count": 18,
   "id": "82d016a8",
   "metadata": {},
   "outputs": [
    {
     "name": "stdout",
     "output_type": "stream",
     "text": [
      "Enter value : 65\n",
      "Enter value : 25\n",
      "before swapping a : 65\n",
      "before swapping b : 25\n",
      "after swapping a : 25\n",
      "after swapping b : 65\n"
     ]
    }
   ],
   "source": [
    "a = int(input(\"Enter value : \"))\n",
    "b = int(input(\"Enter value : \"))\n",
    "\n",
    "print(\"before swapping a :\",a)\n",
    "print(\"before swapping b :\",b)\n",
    "\n",
    "a = a+b\n",
    "b = a-b\n",
    "a = a-b\n",
    "\n",
    "print(\"after swapping a :\",a)\n",
    "print(\"after swapping b :\",b)"
   ]
  },
  {
   "cell_type": "code",
   "execution_count": 20,
   "id": "ef4ccd0d",
   "metadata": {},
   "outputs": [
    {
     "name": "stdout",
     "output_type": "stream",
     "text": [
      "Enter value : izack\n",
      "Enter value : 15\n",
      "before swapping a : izack\n",
      "before swapping b : 15\n",
      "after swapping a : 15\n",
      "after swapping b : izack\n"
     ]
    }
   ],
   "source": [
    "a = input(\"Enter value : \")\n",
    "b = input(\"Enter value : \")\n",
    "\n",
    "print(\"before swapping a :\",a)\n",
    "print(\"before swapping b :\",b)\n",
    "\n",
    "a,b = b,a\n",
    "\n",
    "print(\"after swapping a :\",a)\n",
    "print(\"after swapping b :\",b)"
   ]
  },
  {
   "cell_type": "code",
   "execution_count": 29,
   "id": "c658b776",
   "metadata": {},
   "outputs": [],
   "source": [
    "def swap(x,y):\n",
    "    print(\"before swapping a : \",x)\n",
    "    print(\"before swapping b : \",y)\n",
    "    x,y = y,x\n",
    "    return x,y"
   ]
  },
  {
   "cell_type": "code",
   "execution_count": 30,
   "id": "eddac8a4",
   "metadata": {},
   "outputs": [
    {
     "name": "stdout",
     "output_type": "stream",
     "text": [
      "\n",
      "Enter value a : 95\n",
      "Enter value b : 45\n",
      "before swapping a :  95\n",
      "before swapping b :  45\n",
      "\n",
      "after swapping a : 45\n",
      "after swapping b : 95\n"
     ]
    }
   ],
   "source": [
    "a = input(\"\\nEnter value a : \")\n",
    "b = input(\"Enter value b : \")\n",
    "\n",
    "a,b = swap(a,b)\n",
    "\n",
    "print(\"\\nafter swapping a :\",a)\n",
    "print(\"after swapping b :\",b)"
   ]
  },
  {
   "cell_type": "code",
   "execution_count": 31,
   "id": "d7d322d7",
   "metadata": {},
   "outputs": [
    {
     "ename": "SyntaxError",
     "evalue": "invalid character '“' (U+201C) (9088286.py, line 2)",
     "output_type": "error",
     "traceback": [
      "\u001b[1;36m  Input \u001b[1;32mIn [31]\u001b[1;36m\u001b[0m\n\u001b[1;33m    s=“global”\u001b[0m\n\u001b[1;37m      ^\u001b[0m\n\u001b[1;31mSyntaxError\u001b[0m\u001b[1;31m:\u001b[0m invalid character '“' (U+201C)\n"
     ]
    }
   ],
   "source": [
    "#global variable\n",
    "s=“global”\n",
    "\n",
    "#function to check scope\n",
    "def scope():\n",
    "    #local variable\n",
    "    x=“local”\n",
    "    print(“Inside the function”)\n",
    "    #accessing variables\n",
    "    print(s)\n",
    "    print(x)\n",
    "\n",
    "#calling function\n",
    "scope()\n",
    "print(“\\nOutside the function”)\n",
    "#accessing variables\n",
    "print(s)\n",
    "print(x)\n"
   ]
  },
  {
   "cell_type": "code",
   "execution_count": 32,
   "id": "48c07963",
   "metadata": {},
   "outputs": [],
   "source": [
    "s = \"global\"\n",
    "\n",
    "def scope():\n",
    "    x = 'local'\n",
    "    print('inside the function')\n",
    "    print(s)\n",
    "    print(x)"
   ]
  },
  {
   "cell_type": "code",
   "execution_count": 36,
   "id": "cfc1f844",
   "metadata": {},
   "outputs": [
    {
     "name": "stdout",
     "output_type": "stream",
     "text": [
      "inside the function\n",
      "global\n",
      "local\n"
     ]
    }
   ],
   "source": [
    "scope()"
   ]
  },
  {
   "cell_type": "code",
   "execution_count": 35,
   "id": "2fd29aa5",
   "metadata": {},
   "outputs": [
    {
     "name": "stdout",
     "output_type": "stream",
     "text": [
      "global\n"
     ]
    },
    {
     "ename": "NameError",
     "evalue": "name 'x' is not defined",
     "output_type": "error",
     "traceback": [
      "\u001b[1;31m---------------------------------------------------------------------------\u001b[0m",
      "\u001b[1;31mNameError\u001b[0m                                 Traceback (most recent call last)",
      "Input \u001b[1;32mIn [35]\u001b[0m, in \u001b[0;36m<cell line: 2>\u001b[1;34m()\u001b[0m\n\u001b[0;32m      1\u001b[0m \u001b[38;5;28mprint\u001b[39m(s)\n\u001b[1;32m----> 2\u001b[0m \u001b[38;5;28mprint\u001b[39m(\u001b[43mx\u001b[49m)\n",
      "\u001b[1;31mNameError\u001b[0m: name 'x' is not defined"
     ]
    }
   ],
   "source": [
    "print(s)\n",
    "print(x)"
   ]
  },
  {
   "cell_type": "code",
   "execution_count": null,
   "id": "5fcee5e8",
   "metadata": {},
   "outputs": [],
   "source": []
  }
 ],
 "metadata": {
  "kernelspec": {
   "display_name": "Python 3 (ipykernel)",
   "language": "python",
   "name": "python3"
  },
  "language_info": {
   "codemirror_mode": {
    "name": "ipython",
    "version": 3
   },
   "file_extension": ".py",
   "mimetype": "text/x-python",
   "name": "python",
   "nbconvert_exporter": "python",
   "pygments_lexer": "ipython3",
   "version": "3.9.12"
  }
 },
 "nbformat": 4,
 "nbformat_minor": 5
}
