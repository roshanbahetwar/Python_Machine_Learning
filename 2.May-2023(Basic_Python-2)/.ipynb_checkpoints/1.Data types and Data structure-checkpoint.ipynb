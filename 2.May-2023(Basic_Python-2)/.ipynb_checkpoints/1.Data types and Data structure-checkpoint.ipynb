{
 "cells": [
  {
   "cell_type": "code",
   "execution_count": 17,
   "id": "0c6a6c1b",
   "metadata": {},
   "outputs": [],
   "source": [
    "# String"
   ]
  },
  {
   "cell_type": "code",
   "execution_count": 18,
   "id": "bd6fb4f3",
   "metadata": {},
   "outputs": [],
   "source": [
    "str = 'welcome to the geeks world'"
   ]
  },
  {
   "cell_type": "code",
   "execution_count": 19,
   "id": "0f4532e8",
   "metadata": {},
   "outputs": [
    {
     "data": {
      "text/plain": [
       "'welcome to the geeks world'"
      ]
     },
     "execution_count": 19,
     "metadata": {},
     "output_type": "execute_result"
    }
   ],
   "source": [
    "str"
   ]
  },
  {
   "cell_type": "code",
   "execution_count": 20,
   "id": "6ae451a1",
   "metadata": {},
   "outputs": [
    {
     "name": "stdout",
     "output_type": "stream",
     "text": [
      "quates with the single quetes\n"
     ]
    }
   ],
   "source": [
    "print('quates with the single quetes')"
   ]
  },
  {
   "cell_type": "code",
   "execution_count": 21,
   "id": "350c42fe",
   "metadata": {},
   "outputs": [],
   "source": [
    "str1 = \"I'm a geek\""
   ]
  },
  {
   "cell_type": "code",
   "execution_count": 22,
   "id": "8d34146d",
   "metadata": {},
   "outputs": [
    {
     "name": "stdout",
     "output_type": "stream",
     "text": [
      "I'm a geek\n"
     ]
    }
   ],
   "source": [
    "print(str1)"
   ]
  },
  {
   "cell_type": "code",
   "execution_count": 1,
   "id": "c9b0e744",
   "metadata": {},
   "outputs": [
    {
     "name": "stdout",
     "output_type": "stream",
     "text": [
      "\n",
      "string with the single quates i'm a geek and i am a live in world of \"geek\"\n"
     ]
    }
   ],
   "source": [
    "str1 = '''i'm a geek and i am a live in world of \"geek\"'''\n",
    "print('\\nstring with the single quates',str1)"
   ]
  },
  {
   "cell_type": "code",
   "execution_count": 30,
   "id": "6fa94ed6",
   "metadata": {},
   "outputs": [],
   "source": [
    "str1 = '''I\n",
    "            Love\n",
    "                my\n",
    "                    india'''"
   ]
  },
  {
   "cell_type": "code",
   "execution_count": 31,
   "id": "0175da48",
   "metadata": {},
   "outputs": [
    {
     "name": "stdout",
     "output_type": "stream",
     "text": [
      "I\n",
      "            Love\n",
      "                my\n",
      "                    india\n"
     ]
    }
   ],
   "source": [
    "print(str1)"
   ]
  },
  {
   "cell_type": "code",
   "execution_count": 32,
   "id": "4e9541b9",
   "metadata": {},
   "outputs": [],
   "source": [
    "string = \"hello this is Technology\""
   ]
  },
  {
   "cell_type": "code",
   "execution_count": 33,
   "id": "da5389a3",
   "metadata": {},
   "outputs": [
    {
     "data": {
      "text/plain": [
       "'ygolonhceT si siht olleh'"
      ]
     },
     "execution_count": 33,
     "metadata": {},
     "output_type": "execute_result"
    }
   ],
   "source": [
    "string[::-1]"
   ]
  },
  {
   "cell_type": "code",
   "execution_count": 38,
   "id": "89764f44",
   "metadata": {},
   "outputs": [],
   "source": [
    "str = '*'.join('hello')"
   ]
  },
  {
   "cell_type": "code",
   "execution_count": 45,
   "id": "4e95458f",
   "metadata": {},
   "outputs": [
    {
     "name": "stdout",
     "output_type": "stream",
     "text": [
      "h*e*l*l*o"
     ]
    }
   ],
   "source": [
    "for i in str:\n",
    "    print(i,end = '')"
   ]
  },
  {
   "cell_type": "code",
   "execution_count": 56,
   "id": "1ba6e29c",
   "metadata": {},
   "outputs": [],
   "source": [
    "lst = ['R','o','s','h','a','n']"
   ]
  },
  {
   "cell_type": "code",
   "execution_count": 63,
   "id": "ba1a396f",
   "metadata": {},
   "outputs": [],
   "source": [
    "str = '*'.join(lst)"
   ]
  },
  {
   "cell_type": "code",
   "execution_count": 64,
   "id": "399edda4",
   "metadata": {},
   "outputs": [
    {
     "name": "stdout",
     "output_type": "stream",
     "text": [
      "R*o*s*h*a*n\n"
     ]
    }
   ],
   "source": [
    "print(str)"
   ]
  },
  {
   "cell_type": "code",
   "execution_count": 67,
   "id": "f6317b7f",
   "metadata": {},
   "outputs": [],
   "source": [
    "list1 = ('1','2','3','4','5')"
   ]
  },
  {
   "cell_type": "code",
   "execution_count": 68,
   "id": "0d599385",
   "metadata": {},
   "outputs": [],
   "source": [
    "js = '*'.join(list1)"
   ]
  },
  {
   "cell_type": "code",
   "execution_count": 71,
   "id": "581f0d04",
   "metadata": {},
   "outputs": [
    {
     "data": {
      "text/plain": [
       "'1*2*3*4*5'"
      ]
     },
     "execution_count": 71,
     "metadata": {},
     "output_type": "execute_result"
    }
   ],
   "source": [
    "js"
   ]
  },
  {
   "cell_type": "code",
   "execution_count": 72,
   "id": "25e0db2b",
   "metadata": {},
   "outputs": [],
   "source": [
    "strjs  = 's'.join(list1)"
   ]
  },
  {
   "cell_type": "code",
   "execution_count": 73,
   "id": "5244c35b",
   "metadata": {},
   "outputs": [
    {
     "data": {
      "text/plain": [
       "'1s2s3s4s5'"
      ]
     },
     "execution_count": 73,
     "metadata": {},
     "output_type": "execute_result"
    }
   ],
   "source": [
    "strjs"
   ]
  },
  {
   "cell_type": "code",
   "execution_count": 79,
   "id": "f80320c9",
   "metadata": {},
   "outputs": [],
   "source": [
    "dicstr = {'id':1,'name':'john','Surname':'kmn'}"
   ]
  },
  {
   "cell_type": "code",
   "execution_count": 80,
   "id": "15332b3a",
   "metadata": {},
   "outputs": [
    {
     "data": {
      "text/plain": [
       "{'id': 1, 'name': 'john', 'Surname': 'kmn'}"
      ]
     },
     "execution_count": 80,
     "metadata": {},
     "output_type": "execute_result"
    }
   ],
   "source": [
    "dicstr"
   ]
  },
  {
   "cell_type": "code",
   "execution_count": 81,
   "id": "b70bc067",
   "metadata": {},
   "outputs": [],
   "source": [
    "jstr = '*'.join(dicstr)"
   ]
  },
  {
   "cell_type": "code",
   "execution_count": 82,
   "id": "1d844f32",
   "metadata": {},
   "outputs": [
    {
     "data": {
      "text/plain": [
       "'id*name*Surname'"
      ]
     },
     "execution_count": 82,
     "metadata": {},
     "output_type": "execute_result"
    }
   ],
   "source": [
    "jstr"
   ]
  },
  {
   "cell_type": "code",
   "execution_count": 83,
   "id": "45f481ad",
   "metadata": {},
   "outputs": [],
   "source": [
    "words = [\"apple\",\"\",\"banana\",\"cherry\",\"\"]"
   ]
  },
  {
   "cell_type": "code",
   "execution_count": 84,
   "id": "c2b42a6a",
   "metadata": {},
   "outputs": [],
   "source": [
    "seperator = \"@\""
   ]
  },
  {
   "cell_type": "code",
   "execution_count": 92,
   "id": "7afc873d",
   "metadata": {},
   "outputs": [],
   "source": [
    "lst = seperator.join(word for word in words if word)"
   ]
  },
  {
   "cell_type": "code",
   "execution_count": 93,
   "id": "78c59aa1",
   "metadata": {},
   "outputs": [
    {
     "data": {
      "text/plain": [
       "'apple@banana@cherry'"
      ]
     },
     "execution_count": 93,
     "metadata": {},
     "output_type": "execute_result"
    }
   ],
   "source": [
    "lst"
   ]
  },
  {
   "cell_type": "code",
   "execution_count": 110,
   "id": "415f866f",
   "metadata": {},
   "outputs": [
    {
     "name": "stdout",
     "output_type": "stream",
     "text": [
      "a*p*p*l*e\n",
      "b*a*n*a*n*a\n",
      "c*h*e*r*r*y\n"
     ]
    }
   ],
   "source": [
    "for word in words:\n",
    "    if word:\n",
    "        a = '*'.join(word)\n",
    "        print(a)"
   ]
  },
  {
   "cell_type": "code",
   "execution_count": 139,
   "id": "814e7d72",
   "metadata": {},
   "outputs": [],
   "source": [
    "def jwords(str):\n",
    "    for i in str:\n",
    "        if str:\n",
    "            a_lst = '@'.join(str)\n",
    "            print(a_lst)"
   ]
  },
  {
   "cell_type": "code",
   "execution_count": 140,
   "id": "1955a051",
   "metadata": {},
   "outputs": [],
   "source": [
    "a_lst = ['john','kmn','ajay','Kumar']"
   ]
  },
  {
   "cell_type": "code",
   "execution_count": 141,
   "id": "a8d663ae",
   "metadata": {},
   "outputs": [
    {
     "name": "stdout",
     "output_type": "stream",
     "text": [
      "john@kmn@ajay@Kumar\n",
      "john@kmn@ajay@Kumar\n",
      "john@kmn@ajay@Kumar\n",
      "john@kmn@ajay@Kumar\n"
     ]
    }
   ],
   "source": [
    "jwords(a_lst)"
   ]
  },
  {
   "cell_type": "code",
   "execution_count": 130,
   "id": "c512bd5c",
   "metadata": {},
   "outputs": [],
   "source": [
    "def nwords(str):\n",
    "    k = '@'.join(i for i in str if i)\n",
    "    print(k)"
   ]
  },
  {
   "cell_type": "code",
   "execution_count": 131,
   "id": "fcf99717",
   "metadata": {},
   "outputs": [
    {
     "name": "stdout",
     "output_type": "stream",
     "text": [
      "john@kmn@ajay@Kumar\n"
     ]
    }
   ],
   "source": [
    "nwords(a_lst)"
   ]
  },
  {
   "cell_type": "code",
   "execution_count": 135,
   "id": "cecd71a4",
   "metadata": {},
   "outputs": [
    {
     "name": "stdout",
     "output_type": "stream",
     "text": [
      "john\n",
      "kmn\n",
      "ajay\n",
      "Kumar\n"
     ]
    }
   ],
   "source": [
    "for i in a_lst:\n",
    "    print(i)"
   ]
  },
  {
   "cell_type": "markdown",
   "id": "d4fd5317",
   "metadata": {},
   "source": [
    "### Lower()"
   ]
  },
  {
   "cell_type": "code",
   "execution_count": null,
   "id": "b5d34942",
   "metadata": {},
   "outputs": [],
   "source": [
    "# Change to lower case always"
   ]
  },
  {
   "cell_type": "code",
   "execution_count": 143,
   "id": "bf496685",
   "metadata": {},
   "outputs": [],
   "source": [
    "text = 'GeeKs fOr giGs'"
   ]
  },
  {
   "cell_type": "code",
   "execution_count": 144,
   "id": "6675443a",
   "metadata": {},
   "outputs": [
    {
     "name": "stdout",
     "output_type": "stream",
     "text": [
      "geeks for gigs\n"
     ]
    }
   ],
   "source": [
    "print(text.lower())"
   ]
  },
  {
   "cell_type": "code",
   "execution_count": 145,
   "id": "202f942f",
   "metadata": {},
   "outputs": [],
   "source": [
    "txt = 'G3eKs foR geEk5'"
   ]
  },
  {
   "cell_type": "code",
   "execution_count": 146,
   "id": "dec452e3",
   "metadata": {},
   "outputs": [
    {
     "name": "stdout",
     "output_type": "stream",
     "text": [
      "g3eks for geek5\n"
     ]
    }
   ],
   "source": [
    "print(txt.lower())"
   ]
  },
  {
   "cell_type": "code",
   "execution_count": 150,
   "id": "ca629423",
   "metadata": {},
   "outputs": [],
   "source": [
    "txt1 = 'geeKs fOr geEks'\n",
    "txt2 = 'GeEks foR geeks'"
   ]
  },
  {
   "cell_type": "code",
   "execution_count": 151,
   "id": "966b211d",
   "metadata": {},
   "outputs": [
    {
     "name": "stdout",
     "output_type": "stream",
     "text": [
      "strings are not same\n"
     ]
    }
   ],
   "source": [
    "if (txt1.lower() == txt2.lower()):\n",
    "    print('strings are same')\n",
    "else:\n",
    "    print('strings are not same')"
   ]
  },
  {
   "cell_type": "markdown",
   "id": "a4ac0b6e",
   "metadata": {},
   "source": [
    "### SwapCase() "
   ]
  },
  {
   "cell_type": "code",
   "execution_count": null,
   "id": "f931e6ae",
   "metadata": {},
   "outputs": [],
   "source": [
    "# change lower to upper case and vice versa"
   ]
  },
  {
   "cell_type": "code",
   "execution_count": 152,
   "id": "642cf0a0",
   "metadata": {},
   "outputs": [],
   "source": [
    "str = 'john_kmn'"
   ]
  },
  {
   "cell_type": "code",
   "execution_count": 153,
   "id": "b3aeae52",
   "metadata": {},
   "outputs": [],
   "source": [
    "a = str.swapcase()"
   ]
  },
  {
   "cell_type": "code",
   "execution_count": 154,
   "id": "fc025e26",
   "metadata": {},
   "outputs": [
    {
     "data": {
      "text/plain": [
       "'john_kmn'"
      ]
     },
     "execution_count": 154,
     "metadata": {},
     "output_type": "execute_result"
    }
   ],
   "source": [
    "a"
   ]
  },
  {
   "cell_type": "code",
   "execution_count": 156,
   "id": "bf700f3d",
   "metadata": {},
   "outputs": [
    {
     "data": {
      "text/plain": [
       "'john_kmn'"
      ]
     },
     "execution_count": 156,
     "metadata": {},
     "output_type": "execute_result"
    }
   ],
   "source": [
    "a.swapcase()"
   ]
  },
  {
   "cell_type": "code",
   "execution_count": 169,
   "id": "d2a4eb63",
   "metadata": {},
   "outputs": [],
   "source": [
    "var1 = 'john'"
   ]
  },
  {
   "cell_type": "code",
   "execution_count": 170,
   "id": "dc492ff8",
   "metadata": {},
   "outputs": [
    {
     "data": {
      "text/plain": [
       "'john'"
      ]
     },
     "execution_count": 170,
     "metadata": {},
     "output_type": "execute_result"
    }
   ],
   "source": [
    "var1.swapcase()"
   ]
  },
  {
   "cell_type": "code",
   "execution_count": 4,
   "id": "155babaa",
   "metadata": {},
   "outputs": [],
   "source": [
    "var2 = ['a','b','c','e','d']"
   ]
  },
  {
   "cell_type": "code",
   "execution_count": 11,
   "id": "d41b5118",
   "metadata": {},
   "outputs": [
    {
     "name": "stdout",
     "output_type": "stream",
     "text": [
      "A\n",
      "B\n",
      "C\n",
      "E\n",
      "D\n"
     ]
    }
   ],
   "source": [
    "for i in var2:\n",
    "    if i:\n",
    "        a = i.swapcase()\n",
    "        print(a)"
   ]
  },
  {
   "cell_type": "code",
   "execution_count": 158,
   "id": "275b16f2",
   "metadata": {},
   "outputs": [],
   "source": [
    "txts = 'Hello this is the String'"
   ]
  },
  {
   "cell_type": "code",
   "execution_count": 159,
   "id": "3f0c30d4",
   "metadata": {},
   "outputs": [
    {
     "name": "stdout",
     "output_type": "stream",
     "text": [
      "hELLO THIS IS THE sTRING\n"
     ]
    }
   ],
   "source": [
    "print(txts.swapcase())"
   ]
  },
  {
   "cell_type": "markdown",
   "id": "14e6785b",
   "metadata": {},
   "source": [
    "### Casefold()"
   ]
  },
  {
   "cell_type": "code",
   "execution_count": null,
   "id": "45fbfc97",
   "metadata": {},
   "outputs": [],
   "source": [
    "# Change into lower case always, same as lower()"
   ]
  },
  {
   "cell_type": "code",
   "execution_count": 161,
   "id": "e10c362c",
   "metadata": {},
   "outputs": [],
   "source": [
    "cf = 'john kmn'"
   ]
  },
  {
   "cell_type": "code",
   "execution_count": 162,
   "id": "6dae51a1",
   "metadata": {},
   "outputs": [
    {
     "name": "stdout",
     "output_type": "stream",
     "text": [
      "john kmn\n"
     ]
    }
   ],
   "source": [
    "print(cf.casefold())"
   ]
  },
  {
   "cell_type": "code",
   "execution_count": 163,
   "id": "d7e7598a",
   "metadata": {},
   "outputs": [
    {
     "data": {
      "text/plain": [
       "True"
      ]
     },
     "execution_count": 163,
     "metadata": {},
     "output_type": "execute_result"
    }
   ],
   "source": [
    "10==10"
   ]
  },
  {
   "cell_type": "code",
   "execution_count": 164,
   "id": "26fa6d6c",
   "metadata": {},
   "outputs": [],
   "source": [
    "a = 'john'; b = 'john'"
   ]
  },
  {
   "cell_type": "code",
   "execution_count": 167,
   "id": "7d53f3e6",
   "metadata": {},
   "outputs": [
    {
     "data": {
      "text/plain": [
       "True"
      ]
     },
     "execution_count": 167,
     "metadata": {},
     "output_type": "execute_result"
    }
   ],
   "source": [
    "a.casefold() == a.lower()"
   ]
  },
  {
   "cell_type": "code",
   "execution_count": 191,
   "id": "d7692ca2",
   "metadata": {},
   "outputs": [],
   "source": [
    "txt1 = \"       Hello this is geeks for gigs\""
   ]
  },
  {
   "cell_type": "code",
   "execution_count": 195,
   "id": "11da1e75",
   "metadata": {},
   "outputs": [
    {
     "data": {
      "text/plain": [
       "'       Hello this is geeks for gigs'"
      ]
     },
     "execution_count": 195,
     "metadata": {},
     "output_type": "execute_result"
    }
   ],
   "source": [
    "txt1"
   ]
  },
  {
   "cell_type": "code",
   "execution_count": 196,
   "id": "211f714d",
   "metadata": {},
   "outputs": [
    {
     "data": {
      "text/plain": [
       "'Hello this is geeks for gigs'"
      ]
     },
     "execution_count": 196,
     "metadata": {},
     "output_type": "execute_result"
    }
   ],
   "source": [
    "txt1.lstrip()"
   ]
  },
  {
   "cell_type": "code",
   "execution_count": 208,
   "id": "9e1b6b9f",
   "metadata": {},
   "outputs": [],
   "source": [
    "txxt = '++++x...y!!z*5 geeks for gigs'"
   ]
  },
  {
   "cell_type": "code",
   "execution_count": 209,
   "id": "22a0de2f",
   "metadata": {},
   "outputs": [
    {
     "data": {
      "text/plain": [
       "'++++x...y!!z*5 geeks for gigs'"
      ]
     },
     "execution_count": 209,
     "metadata": {},
     "output_type": "execute_result"
    }
   ],
   "source": [
    "txxt"
   ]
  },
  {
   "cell_type": "code",
   "execution_count": 211,
   "id": "a88bb4c6",
   "metadata": {},
   "outputs": [
    {
     "data": {
      "text/plain": [
       "'geeks for gigs'"
      ]
     },
     "execution_count": 211,
     "metadata": {},
     "output_type": "execute_result"
    }
   ],
   "source": [
    "txxt.lstrip('+,.,!,xyz*5 ')"
   ]
  },
  {
   "cell_type": "code",
   "execution_count": 223,
   "id": "0f553b48",
   "metadata": {},
   "outputs": [
    {
     "data": {
      "text/plain": [
       "'geeks for gigs'"
      ]
     },
     "execution_count": 223,
     "metadata": {},
     "output_type": "execute_result"
    }
   ],
   "source": [
    "txxt.lstrip('+,.,!,xyz,*5 ')"
   ]
  },
  {
   "cell_type": "code",
   "execution_count": 224,
   "id": "636f49c2",
   "metadata": {},
   "outputs": [
    {
     "data": {
      "text/plain": [
       "'++++x...y!!z*5 geeks for gigs'"
      ]
     },
     "execution_count": 224,
     "metadata": {},
     "output_type": "execute_result"
    }
   ],
   "source": [
    "txxt.strip('g')"
   ]
  },
  {
   "cell_type": "code",
   "execution_count": 225,
   "id": "eb0ebfac",
   "metadata": {},
   "outputs": [],
   "source": [
    "txxt1 = 'I love geeks for geeks'"
   ]
  },
  {
   "cell_type": "code",
   "execution_count": 227,
   "id": "380c3cab",
   "metadata": {},
   "outputs": [],
   "source": [
    "b = txxt1.partition('for')"
   ]
  },
  {
   "cell_type": "code",
   "execution_count": 231,
   "id": "0656ec8a",
   "metadata": {},
   "outputs": [
    {
     "data": {
      "text/plain": [
       "('I love geeks ', 'for', ' geeks')"
      ]
     },
     "execution_count": 231,
     "metadata": {},
     "output_type": "execute_result"
    }
   ],
   "source": [
    "b"
   ]
  },
  {
   "cell_type": "code",
   "execution_count": 232,
   "id": "7c5e71a3",
   "metadata": {},
   "outputs": [],
   "source": [
    "line = 'light attracts birds'"
   ]
  },
  {
   "cell_type": "code",
   "execution_count": 233,
   "id": "90f04978",
   "metadata": {},
   "outputs": [],
   "source": [
    "sep_line = line.partition('attracts')"
   ]
  },
  {
   "cell_type": "code",
   "execution_count": 234,
   "id": "38ee834f",
   "metadata": {},
   "outputs": [
    {
     "data": {
      "text/plain": [
       "('light ', 'attracts', ' birds')"
      ]
     },
     "execution_count": 234,
     "metadata": {},
     "output_type": "execute_result"
    }
   ],
   "source": [
    "sep_line"
   ]
  },
  {
   "cell_type": "code",
   "execution_count": 240,
   "id": "07093763",
   "metadata": {},
   "outputs": [
    {
     "name": "stdout",
     "output_type": "stream",
     "text": [
      "light   birds\n"
     ]
    }
   ],
   "source": [
    "for i in sep_line:\n",
    "    if i == 'attracts':\n",
    "        print(sep_line[0],sep_line[2])"
   ]
  },
  {
   "cell_type": "code",
   "execution_count": 241,
   "id": "d32158cc",
   "metadata": {},
   "outputs": [],
   "source": [
    "ntxt = 'b follows a, c follows b'"
   ]
  },
  {
   "cell_type": "code",
   "execution_count": 244,
   "id": "bb599f82",
   "metadata": {},
   "outputs": [],
   "source": [
    "btxt = ntxt.partition('follows')"
   ]
  },
  {
   "cell_type": "code",
   "execution_count": 245,
   "id": "40cbf02a",
   "metadata": {},
   "outputs": [
    {
     "data": {
      "text/plain": [
       "('b ', 'follows', ' a, c follows b')"
      ]
     },
     "execution_count": 245,
     "metadata": {},
     "output_type": "execute_result"
    }
   ],
   "source": [
    "btxt"
   ]
  },
  {
   "cell_type": "code",
   "execution_count": 250,
   "id": "87388902",
   "metadata": {},
   "outputs": [],
   "source": [
    "tstr = 'Geeks for geeks'"
   ]
  },
  {
   "cell_type": "code",
   "execution_count": 252,
   "id": "ad90e509",
   "metadata": {},
   "outputs": [
    {
     "name": "stdout",
     "output_type": "stream",
     "text": [
      "('Geeks for geeks', '', '')\n"
     ]
    }
   ],
   "source": [
    "print(tstr.partition('hello'))"
   ]
  },
  {
   "cell_type": "code",
   "execution_count": 261,
   "id": "c3c49992",
   "metadata": {},
   "outputs": [],
   "source": [
    "url = \"https://www.example.com/index.html\"\n",
    "ustr = url.partition('//')[2]"
   ]
  },
  {
   "cell_type": "code",
   "execution_count": 262,
   "id": "33251e22",
   "metadata": {},
   "outputs": [
    {
     "data": {
      "text/plain": [
       "'www.example.com/index.html'"
      ]
     },
     "execution_count": 262,
     "metadata": {},
     "output_type": "execute_result"
    }
   ],
   "source": [
    "ustr"
   ]
  },
  {
   "cell_type": "code",
   "execution_count": 265,
   "id": "20de20ee",
   "metadata": {},
   "outputs": [],
   "source": [
    "astr = ustr.partition('/')[0]"
   ]
  },
  {
   "cell_type": "code",
   "execution_count": 266,
   "id": "1fdb8617",
   "metadata": {},
   "outputs": [
    {
     "data": {
      "text/plain": [
       "'www.example.com'"
      ]
     },
     "execution_count": 266,
     "metadata": {},
     "output_type": "execute_result"
    }
   ],
   "source": [
    "astr"
   ]
  },
  {
   "cell_type": "code",
   "execution_count": 269,
   "id": "91e948b6",
   "metadata": {},
   "outputs": [],
   "source": [
    "std = 'grrks FOR grrks'"
   ]
  },
  {
   "cell_type": "code",
   "execution_count": 275,
   "id": "55ce10a0",
   "metadata": {},
   "outputs": [
    {
     "name": "stdout",
     "output_type": "stream",
     "text": [
      "geeks FOR geeks\n"
     ]
    }
   ],
   "source": [
    "print(std.replace('r','e'))"
   ]
  },
  {
   "cell_type": "code",
   "execution_count": 276,
   "id": "5a291ef3",
   "metadata": {},
   "outputs": [
    {
     "data": {
      "text/plain": [
       "['grrks', 'FOR', 'grrks']"
      ]
     },
     "execution_count": 276,
     "metadata": {},
     "output_type": "execute_result"
    }
   ],
   "source": [
    "std.split()"
   ]
  },
  {
   "cell_type": "code",
   "execution_count": 277,
   "id": "f7400045",
   "metadata": {},
   "outputs": [],
   "source": [
    "mystr = 'geeks for geeks'"
   ]
  },
  {
   "cell_type": "code",
   "execution_count": 285,
   "id": "04930e64",
   "metadata": {},
   "outputs": [
    {
     "data": {
      "text/plain": [
       "['gee', 's for gee', 's']"
      ]
     },
     "execution_count": 285,
     "metadata": {},
     "output_type": "execute_result"
    }
   ],
   "source": [
    "mystr.split('k')"
   ]
  },
  {
   "cell_type": "code",
   "execution_count": 280,
   "id": "ccaa59d1",
   "metadata": {},
   "outputs": [],
   "source": [
    "new = 'x'\n",
    "old = 'k'"
   ]
  },
  {
   "cell_type": "code",
   "execution_count": null,
   "id": "c991885c",
   "metadata": {},
   "outputs": [],
   "source": [
    "split_lst = mystr.split('old')\n",
    "new_list = [new if i <len(split_lst)-1 else '']\n"
   ]
  },
  {
   "cell_type": "code",
   "execution_count": 3,
   "id": "43e00e28",
   "metadata": {},
   "outputs": [],
   "source": [
    "nstr = 'john kmn'"
   ]
  },
  {
   "cell_type": "code",
   "execution_count": 4,
   "id": "ab1b9ea2",
   "metadata": {},
   "outputs": [
    {
     "name": "stdout",
     "output_type": "stream",
     "text": [
      "Loshan kmn\n"
     ]
    }
   ],
   "source": [
    "print(nstr.replace('R','L'))"
   ]
  },
  {
   "cell_type": "code",
   "execution_count": 5,
   "id": "4779010d",
   "metadata": {},
   "outputs": [
    {
     "data": {
      "text/plain": [
       "'Loshan kmn'"
      ]
     },
     "execution_count": 5,
     "metadata": {},
     "output_type": "execute_result"
    }
   ],
   "source": [
    "nstr.replace('john','Loshan')"
   ]
  },
  {
   "cell_type": "code",
   "execution_count": 6,
   "id": "47fc24f3",
   "metadata": {},
   "outputs": [],
   "source": [
    "str1 = 'hello i am a geek'"
   ]
  },
  {
   "cell_type": "code",
   "execution_count": 7,
   "id": "b09e650f",
   "metadata": {},
   "outputs": [],
   "source": [
    "lst = list(str1)"
   ]
  },
  {
   "cell_type": "code",
   "execution_count": 9,
   "id": "5e1b6714",
   "metadata": {},
   "outputs": [
    {
     "name": "stdout",
     "output_type": "stream",
     "text": [
      "['h', 'e', 'l', 'l', 'o', ' ', 'i', ' ', 'a', 'm', ' ', 'a', ' ', 'g', 'e', 'e', 'k']\n"
     ]
    }
   ],
   "source": [
    "print(lst)"
   ]
  },
  {
   "cell_type": "code",
   "execution_count": 10,
   "id": "7672e6f4",
   "metadata": {},
   "outputs": [],
   "source": [
    "lst[4] = 'U'"
   ]
  },
  {
   "cell_type": "code",
   "execution_count": 11,
   "id": "3b2e6997",
   "metadata": {},
   "outputs": [
    {
     "name": "stdout",
     "output_type": "stream",
     "text": [
      "['h', 'e', 'l', 'l', 'U', ' ', 'i', ' ', 'a', 'm', ' ', 'a', ' ', 'g', 'e', 'e', 'k']\n"
     ]
    }
   ],
   "source": [
    "print(lst)"
   ]
  },
  {
   "cell_type": "code",
   "execution_count": 15,
   "id": "5fd07708",
   "metadata": {},
   "outputs": [
    {
     "data": {
      "text/plain": [
       "'hellU i am a geek'"
      ]
     },
     "execution_count": 15,
     "metadata": {},
     "output_type": "execute_result"
    }
   ],
   "source": [
    "''.join(lst)"
   ]
  },
  {
   "cell_type": "code",
   "execution_count": 25,
   "id": "0f8650c6",
   "metadata": {},
   "outputs": [],
   "source": [
    "String1 = r\"This is \\110\\145\\154\\154\\157\""
   ]
  },
  {
   "cell_type": "code",
   "execution_count": 26,
   "id": "0bdf132a",
   "metadata": {},
   "outputs": [
    {
     "data": {
      "text/plain": [
       "'This is \\\\110\\\\145\\\\154\\\\154\\\\157'"
      ]
     },
     "execution_count": 26,
     "metadata": {},
     "output_type": "execute_result"
    }
   ],
   "source": [
    "String1"
   ]
  },
  {
   "cell_type": "code",
   "execution_count": 31,
   "id": "c58e2099",
   "metadata": {},
   "outputs": [],
   "source": [
    "String1 = R\"This is \\x47\\x65\\x65\\x6b\\x73 in \\x48\\x45\\x58\""
   ]
  },
  {
   "cell_type": "code",
   "execution_count": 32,
   "id": "f3d284fb",
   "metadata": {},
   "outputs": [
    {
     "data": {
      "text/plain": [
       "'This is \\\\x47\\\\x65\\\\x65\\\\x6b\\\\x73 in \\\\x48\\\\x45\\\\x58'"
      ]
     },
     "execution_count": 32,
     "metadata": {},
     "output_type": "execute_result"
    }
   ],
   "source": [
    "String1"
   ]
  },
  {
   "cell_type": "code",
   "execution_count": 33,
   "id": "45259b07",
   "metadata": {},
   "outputs": [
    {
     "name": "stdout",
     "output_type": "stream",
     "text": [
      "science is the next future of the day\n"
     ]
    }
   ],
   "source": [
    "print('{} is the next future of the day'.format('science'))"
   ]
  },
  {
   "cell_type": "code",
   "execution_count": 38,
   "id": "fc724bac",
   "metadata": {},
   "outputs": [],
   "source": [
    "str = 'this is article written {}.'"
   ]
  },
  {
   "cell_type": "code",
   "execution_count": 39,
   "id": "aabcff50",
   "metadata": {},
   "outputs": [
    {
     "name": "stdout",
     "output_type": "stream",
     "text": [
      "this is article written Python.\n"
     ]
    }
   ],
   "source": [
    "print(str.format('Python'))"
   ]
  },
  {
   "cell_type": "code",
   "execution_count": 40,
   "id": "c0ed49a9",
   "metadata": {},
   "outputs": [
    {
     "name": "stdout",
     "output_type": "stream",
     "text": [
      "hello i am 24 years old\n"
     ]
    }
   ],
   "source": [
    "print('hello i am {} years old'.format(24))"
   ]
  },
  {
   "cell_type": "code",
   "execution_count": 41,
   "id": "03c581ab",
   "metadata": {},
   "outputs": [
    {
     "name": "stdout",
     "output_type": "stream",
     "text": [
      "GeeksforGeeks is protal for cs for geeks\n"
     ]
    }
   ],
   "source": [
    "print(\"{} is protal for {} for {}\".format('GeeksforGeeks','cs','geeks'))"
   ]
  },
  {
   "cell_type": "code",
   "execution_count": 43,
   "id": "a24ba3e5",
   "metadata": {},
   "outputs": [
    {
     "data": {
      "text/plain": [
       "'hi! my name is john and my age is 27, from last 3 years'"
      ]
     },
     "execution_count": 43,
     "metadata": {},
     "output_type": "execute_result"
    }
   ],
   "source": [
    "(\"hi! my name is {} and my age is {}, from last {} years\".format('john',27,3))"
   ]
  },
  {
   "cell_type": "code",
   "execution_count": 44,
   "id": "bbfa005f",
   "metadata": {},
   "outputs": [
    {
     "name": "stdout",
     "output_type": "stream",
     "text": [
      "250 thiis is second and 100 is for 1 st number\n"
     ]
    }
   ],
   "source": [
    "print(\"{1} thiis is second and {0} is for 1 st number\".format(100,250))"
   ]
  },
  {
   "cell_type": "code",
   "execution_count": 45,
   "id": "a02d3d45",
   "metadata": {},
   "outputs": [
    {
     "name": "stdout",
     "output_type": "stream",
     "text": [
      "Ajay is second and fourth is Rajesh and last one Kumar and in 1 st one is john \n"
     ]
    }
   ],
   "source": [
    "print('{1} is second and fourth is {3} and last one {2} and in 1 st one is {0} '.format('john','Ajay','Kumar','Rajesh'))"
   ]
  },
  {
   "cell_type": "code",
   "execution_count": null,
   "id": "35cf4ac5",
   "metadata": {},
   "outputs": [],
   "source": []
  }
 ],
 "metadata": {
  "kernelspec": {
   "display_name": "Python 3 (ipykernel)",
   "language": "python",
   "name": "python3"
  },
  "language_info": {
   "codemirror_mode": {
    "name": "ipython",
    "version": 3
   },
   "file_extension": ".py",
   "mimetype": "text/x-python",
   "name": "python",
   "nbconvert_exporter": "python",
   "pygments_lexer": "ipython3",
   "version": "3.9.12"
  }
 },
 "nbformat": 4,
 "nbformat_minor": 5
}
