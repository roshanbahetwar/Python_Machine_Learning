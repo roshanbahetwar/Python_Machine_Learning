{
 "cells": [
  {
   "cell_type": "code",
   "execution_count": 5,
   "id": "5640dcbc",
   "metadata": {},
   "outputs": [
    {
     "name": "stdout",
     "output_type": "stream",
     "text": [
      "enter the num 56\n",
      "56\n",
      "This is name\n"
     ]
    }
   ],
   "source": [
    "def getInt():\n",
    "    result = int(input('enter the num '))\n",
    "    \n",
    "    return result\n",
    "\n",
    "def Main():\n",
    "    print('started')\n",
    "    \n",
    "output = getInt()\n",
    "print(output)\n",
    "\n",
    "\n",
    "if __name__ == '__main__':\n",
    "    print('This is name')"
   ]
  },
  {
   "cell_type": "code",
   "execution_count": 14,
   "id": "bf4f226d",
   "metadata": {},
   "outputs": [
    {
     "name": "stdout",
     "output_type": "stream",
     "text": [
      "[1, 2, 3, 4, 5, 6, 7, 8, 9, 10]\n"
     ]
    }
   ],
   "source": [
    "lst = list(range(1,11))\n",
    "print(lst)"
   ]
  },
  {
   "cell_type": "code",
   "execution_count": 15,
   "id": "862225bf",
   "metadata": {},
   "outputs": [
    {
     "name": "stdout",
     "output_type": "stream",
     "text": [
      "0 1\n",
      "1 2\n",
      "2 3\n",
      "3 4\n",
      "4 5\n",
      "5 6\n",
      "6 7\n",
      "7 8\n",
      "8 9\n",
      "9 10\n"
     ]
    }
   ],
   "source": [
    "for index,element in enumerate(lst):\n",
    "    print(index,element)\n"
   ]
  },
  {
   "cell_type": "code",
   "execution_count": 16,
   "id": "85560014",
   "metadata": {},
   "outputs": [],
   "source": [
    "def Gen(x):\n",
    "    for i in range(x):\n",
    "        yield i"
   ]
  },
  {
   "cell_type": "code",
   "execution_count": 19,
   "id": "96353d07",
   "metadata": {},
   "outputs": [
    {
     "name": "stdout",
     "output_type": "stream",
     "text": [
      "0\n"
     ]
    }
   ],
   "source": [
    "num = Gen(10)\n",
    "print(next(num))"
   ]
  },
  {
   "cell_type": "code",
   "execution_count": 20,
   "id": "20b30cb2",
   "metadata": {},
   "outputs": [
    {
     "data": {
      "text/plain": [
       "1"
      ]
     },
     "execution_count": 20,
     "metadata": {},
     "output_type": "execute_result"
    }
   ],
   "source": [
    "next(num)"
   ]
  },
  {
   "cell_type": "code",
   "execution_count": 21,
   "id": "50fed2ce",
   "metadata": {},
   "outputs": [
    {
     "data": {
      "text/plain": [
       "2"
      ]
     },
     "execution_count": 21,
     "metadata": {},
     "output_type": "execute_result"
    }
   ],
   "source": [
    "next(num)"
   ]
  },
  {
   "cell_type": "code",
   "execution_count": 22,
   "id": "5fdf8175",
   "metadata": {},
   "outputs": [],
   "source": [
    "ages = [25,21,15,26,58,45,21,30,26,45,66,95,25]"
   ]
  },
  {
   "cell_type": "code",
   "execution_count": 23,
   "id": "67c7baee",
   "metadata": {},
   "outputs": [
    {
     "data": {
      "text/plain": [
       "15"
      ]
     },
     "execution_count": 23,
     "metadata": {},
     "output_type": "execute_result"
    }
   ],
   "source": [
    "min(ages)"
   ]
  },
  {
   "cell_type": "code",
   "execution_count": 24,
   "id": "115b4f14",
   "metadata": {},
   "outputs": [
    {
     "data": {
      "text/plain": [
       "95"
      ]
     },
     "execution_count": 24,
     "metadata": {},
     "output_type": "execute_result"
    }
   ],
   "source": [
    "max(ages)"
   ]
  },
  {
   "cell_type": "code",
   "execution_count": 27,
   "id": "8c17317c",
   "metadata": {},
   "outputs": [
    {
     "data": {
      "text/plain": [
       "[21, 15, 26, 58, 45, 21, 30, 26, 45, 66, 95]"
      ]
     },
     "execution_count": 27,
     "metadata": {},
     "output_type": "execute_result"
    }
   ],
   "source": [
    "ages[1:12]"
   ]
  },
  {
   "cell_type": "code",
   "execution_count": 35,
   "id": "0baed5f6",
   "metadata": {},
   "outputs": [
    {
     "name": "stdout",
     "output_type": "stream",
     "text": [
      "[4, 16, 36, 64, 100, 144, 196, 256, 324, 400, 484, 576]\n",
      "[1, 27, 125, 343, 729, 1331, 2197, 3375, 4913, 6859, 9261, 12167]\n"
     ]
    }
   ],
   "source": [
    "sqr = []\n",
    "cube = []\n",
    "\n",
    "for i in list(range(1,25)):\n",
    "    if i%2==0:\n",
    "        s = i**2\n",
    "        sqr.append(s)\n",
    "    else:\n",
    "        c = i**3\n",
    "        cube.append(c)\n",
    "print(f'{sqr}\\n{cube}')"
   ]
  },
  {
   "cell_type": "code",
   "execution_count": 40,
   "id": "d4ff78e1",
   "metadata": {},
   "outputs": [
    {
     "name": "stdout",
     "output_type": "stream",
     "text": [
      "This is sqr:- [4, 16, 36, 64, 100, 144, 196, 256, 324, 400, 484, 576]\n",
      "\n",
      "Cube:- [1, 27, 125, 343, 729, 1331, 2197, 3375, 4913, 6859, 9261, 12167]\n",
      "\n",
      "Div:- [0.25, 6.75, 31.25, 85.75, 182.25, 332.75, 549.25, 843.75, 1228.25, 1714.75, 2315.25, 3041.75, 0.06, 1.69, 7.81, 21.44, 45.56, 83.19, 137.31, 210.94, 307.06, 428.69, 578.81, 760.44, 0.03, 0.75, 3.47, 9.53, 20.25, 36.97, 61.03, 93.75, 136.47, 190.53, 257.25, 337.97, 0.02, 0.42, 1.95, 5.36, 11.39, 20.8, 34.33, 52.73, 76.77, 107.17, 144.7, 190.11, 0.01, 0.27, 1.25, 3.43, 7.29, 13.31, 21.97, 33.75, 49.13, 68.59, 92.61, 121.67, 0.01, 0.19, 0.87, 2.38, 5.06, 9.24, 15.26, 23.44, 34.12, 47.63, 64.31, 84.49, 0.01, 0.14, 0.64, 1.75, 3.72, 6.79, 11.21, 17.22, 25.07, 34.99, 47.25, 62.08, 0.0, 0.11, 0.49, 1.34, 2.85, 5.2, 8.58, 13.18, 19.19, 26.79, 36.18, 47.53, 0.0, 0.08, 0.39, 1.06, 2.25, 4.11, 6.78, 10.42, 15.16, 21.17, 28.58, 37.55, 0.0, 0.07, 0.31, 0.86, 1.82, 3.33, 5.49, 8.44, 12.28, 17.15, 23.15, 30.42, 0.0, 0.06, 0.26, 0.71, 1.51, 2.75, 4.54, 6.97, 10.15, 14.17, 19.13, 25.14, 0.0, 0.05, 0.22, 0.6, 1.27, 2.31, 3.81, 5.86, 8.53, 11.91, 16.08, 21.12]\n"
     ]
    }
   ],
   "source": [
    "div = []\n",
    "\n",
    "for i in sqr:\n",
    "    for j in cube:\n",
    "        op = round(j/i,2)\n",
    "        div.append(op)\n",
    "print(f'This is sqr:- {sqr}\\n\\nCube:- {cube}\\n\\nDiv:- {div}')"
   ]
  },
  {
   "cell_type": "code",
   "execution_count": 41,
   "id": "dab973ed",
   "metadata": {},
   "outputs": [
    {
     "name": "stdout",
     "output_type": "stream",
     "text": [
      "[1, 4, 9, 16, 25, 36, 49, 64, 81, 100, 121, 144, 169, 196, 225, 256, 289, 324, 361]\n"
     ]
    }
   ],
   "source": [
    "ls = [i**2 for i in range(1,20)]\n",
    "print(ls)"
   ]
  },
  {
   "cell_type": "code",
   "execution_count": 42,
   "id": "e6438bcb",
   "metadata": {},
   "outputs": [
    {
     "name": "stdout",
     "output_type": "stream",
     "text": [
      "['Roshan', 'Mohan', 'Ganesh', 'Ramesh', 'Sohan']\n"
     ]
    }
   ],
   "source": [
    "names = ['roshan','mohan','ganesh','ramesh','sohan']\n",
    "\n",
    "lst = [x.capitalize() for x in names]\n",
    "print(lst)"
   ]
  },
  {
   "cell_type": "code",
   "execution_count": 46,
   "id": "a143b17b",
   "metadata": {},
   "outputs": [],
   "source": [
    "nls = [x.lower() for x in lst if x.startswith('R')]"
   ]
  },
  {
   "cell_type": "code",
   "execution_count": 48,
   "id": "df8b15d0",
   "metadata": {},
   "outputs": [
    {
     "data": {
      "text/plain": [
       "['Roshan', 'Mohan', 'Ganesh', 'Ramesh', 'Sohan']"
      ]
     },
     "execution_count": 48,
     "metadata": {},
     "output_type": "execute_result"
    }
   ],
   "source": [
    "lst"
   ]
  },
  {
   "cell_type": "code",
   "execution_count": 49,
   "id": "825acc94",
   "metadata": {},
   "outputs": [
    {
     "name": "stdout",
     "output_type": "stream",
     "text": [
      "['ROSHAN', 'MOHAN', 'GANESH', 'RAMESH', 'SOHAN']\n"
     ]
    }
   ],
   "source": [
    "uname = [x.upper() for x in names]\n",
    "print(uname)"
   ]
  },
  {
   "cell_type": "code",
   "execution_count": 56,
   "id": "3d093efa",
   "metadata": {},
   "outputs": [],
   "source": [
    "uname.sort(reverse = True)"
   ]
  },
  {
   "cell_type": "code",
   "execution_count": 57,
   "id": "4ebd0147",
   "metadata": {},
   "outputs": [
    {
     "data": {
      "text/plain": [
       "['SOHAN', 'ROSHAN', 'RAMESH', 'MOHAN', 'GANESH']"
      ]
     },
     "execution_count": 57,
     "metadata": {},
     "output_type": "execute_result"
    }
   ],
   "source": [
    "uname"
   ]
  },
  {
   "cell_type": "code",
   "execution_count": 60,
   "id": "ca98d706",
   "metadata": {},
   "outputs": [],
   "source": [
    "uname.sort(reverse = False)"
   ]
  },
  {
   "cell_type": "code",
   "execution_count": 61,
   "id": "6a85b323",
   "metadata": {},
   "outputs": [
    {
     "data": {
      "text/plain": [
       "['GANESH', 'MOHAN', 'RAMESH', 'ROSHAN', 'SOHAN']"
      ]
     },
     "execution_count": 61,
     "metadata": {},
     "output_type": "execute_result"
    }
   ],
   "source": [
    "uname"
   ]
  },
  {
   "cell_type": "code",
   "execution_count": 66,
   "id": "669fd8d2",
   "metadata": {},
   "outputs": [],
   "source": [
    "num = list(range(125,150))"
   ]
  },
  {
   "cell_type": "code",
   "execution_count": 67,
   "id": "215065dc",
   "metadata": {},
   "outputs": [
    {
     "name": "stdout",
     "output_type": "stream",
     "text": [
      "[125, 126, 127, 128, 129, 130, 131, 132, 133, 134, 135, 136, 137, 138, 139, 140, 141, 142, 143, 144, 145, 146, 147, 148, 149]\n"
     ]
    }
   ],
   "source": [
    "nl = []\n",
    "al = []\n",
    "for i in range(100,200):\n",
    "    if i in num:\n",
    "        nl.append(i)\n",
    "    else:\n",
    "        al.append(i)\n",
    "        \n",
    "print(nl)"
   ]
  },
  {
   "cell_type": "code",
   "execution_count": 69,
   "id": "12b9f286",
   "metadata": {},
   "outputs": [
    {
     "name": "stdout",
     "output_type": "stream",
     "text": [
      "[100, 101, 102, 103, 104, 105, 106, 107, 108, 109, 110, 111, 112, 113, 114, 115, 116, 117, 118, 119, 120, 121, 122, 123, 124, 150, 151, 152, 153, 154, 155, 156, 157, 158, 159, 160, 161, 162, 163, 164, 165, 166, 167, 168, 169, 170, 171, 172, 173, 174, 175, 176, 177, 178, 179, 180, 181, 182, 183, 184, 185, 186, 187, 188, 189, 190, 191, 192, 193, 194, 195, 196, 197, 198, 199]\n"
     ]
    }
   ],
   "source": [
    "print(al)"
   ]
  },
  {
   "cell_type": "code",
   "execution_count": 70,
   "id": "71b96f7e",
   "metadata": {},
   "outputs": [],
   "source": [
    "dls = {'name':'Roshan','age':20,'city':'Pune','pincode':441209}"
   ]
  },
  {
   "cell_type": "code",
   "execution_count": 72,
   "id": "da366a37",
   "metadata": {},
   "outputs": [
    {
     "data": {
      "text/plain": [
       "'Roshan'"
      ]
     },
     "execution_count": 72,
     "metadata": {},
     "output_type": "execute_result"
    }
   ],
   "source": [
    "dls['name']"
   ]
  },
  {
   "cell_type": "code",
   "execution_count": 73,
   "id": "d3cef8c7",
   "metadata": {},
   "outputs": [
    {
     "ename": "KeyError",
     "evalue": "'hello'",
     "output_type": "error",
     "traceback": [
      "\u001b[1;31m---------------------------------------------------------------------------\u001b[0m",
      "\u001b[1;31mKeyError\u001b[0m                                  Traceback (most recent call last)",
      "Input \u001b[1;32mIn [73]\u001b[0m, in \u001b[0;36m<cell line: 1>\u001b[1;34m()\u001b[0m\n\u001b[1;32m----> 1\u001b[0m \u001b[43mdls\u001b[49m\u001b[43m[\u001b[49m\u001b[38;5;124;43m'\u001b[39;49m\u001b[38;5;124;43mhello\u001b[39;49m\u001b[38;5;124;43m'\u001b[39;49m\u001b[43m]\u001b[49m\n",
      "\u001b[1;31mKeyError\u001b[0m: 'hello'"
     ]
    }
   ],
   "source": [
    "dls['hello']"
   ]
  },
  {
   "cell_type": "code",
   "execution_count": 74,
   "id": "c8d48bca",
   "metadata": {},
   "outputs": [
    {
     "data": {
      "text/plain": [
       "'hello is not a key'"
      ]
     },
     "execution_count": 74,
     "metadata": {},
     "output_type": "execute_result"
    }
   ],
   "source": [
    "dls.get('hello','hello is not a key')"
   ]
  },
  {
   "cell_type": "code",
   "execution_count": 75,
   "id": "e7b1d698",
   "metadata": {},
   "outputs": [],
   "source": [
    "dls['hello'] = 'Hi Roshan'"
   ]
  },
  {
   "cell_type": "code",
   "execution_count": 76,
   "id": "0eb4f5ba",
   "metadata": {},
   "outputs": [
    {
     "data": {
      "text/plain": [
       "{'name': 'Roshan',\n",
       " 'age': 20,\n",
       " 'city': 'Pune',\n",
       " 'pincode': 441209,\n",
       " 'hello': 'Hi Roshan'}"
      ]
     },
     "execution_count": 76,
     "metadata": {},
     "output_type": "execute_result"
    }
   ],
   "source": [
    "dls"
   ]
  },
  {
   "cell_type": "code",
   "execution_count": 80,
   "id": "9d98f6e7",
   "metadata": {},
   "outputs": [
    {
     "data": {
      "text/plain": [
       "dict_keys(['name', 'age', 'city', 'pincode', 'hello'])"
      ]
     },
     "execution_count": 80,
     "metadata": {},
     "output_type": "execute_result"
    }
   ],
   "source": [
    "dls.keys()"
   ]
  },
  {
   "cell_type": "code",
   "execution_count": 81,
   "id": "24f0a5f3",
   "metadata": {},
   "outputs": [
    {
     "data": {
      "text/plain": [
       "dict_items([('name', 'Roshan'), ('age', 20), ('city', 'Pune'), ('pincode', 441209), ('hello', 'Hi Roshan')])"
      ]
     },
     "execution_count": 81,
     "metadata": {},
     "output_type": "execute_result"
    }
   ],
   "source": [
    "dls.items()"
   ]
  },
  {
   "cell_type": "code",
   "execution_count": 83,
   "id": "7460c3a7",
   "metadata": {},
   "outputs": [
    {
     "data": {
      "text/plain": [
       "dict_keys(['name', 'age', 'city', 'pincode', 'hello'])"
      ]
     },
     "execution_count": 83,
     "metadata": {},
     "output_type": "execute_result"
    }
   ],
   "source": [
    "dls.keys()"
   ]
  },
  {
   "cell_type": "code",
   "execution_count": 84,
   "id": "f433e36b",
   "metadata": {},
   "outputs": [
    {
     "data": {
      "text/plain": [
       "'Hi Roshan'"
      ]
     },
     "execution_count": 84,
     "metadata": {},
     "output_type": "execute_result"
    }
   ],
   "source": [
    "dls.pop('hello')"
   ]
  },
  {
   "cell_type": "code",
   "execution_count": 85,
   "id": "8fe3f467",
   "metadata": {},
   "outputs": [
    {
     "data": {
      "text/plain": [
       "{'name': 'Roshan', 'age': 20, 'city': 'Pune', 'pincode': 441209}"
      ]
     },
     "execution_count": 85,
     "metadata": {},
     "output_type": "execute_result"
    }
   ],
   "source": [
    "dls"
   ]
  },
  {
   "cell_type": "code",
   "execution_count": 87,
   "id": "e25a649b",
   "metadata": {},
   "outputs": [
    {
     "data": {
      "text/plain": [
       "('pincode', 441209)"
      ]
     },
     "execution_count": 87,
     "metadata": {},
     "output_type": "execute_result"
    }
   ],
   "source": [
    "dls.popitem()"
   ]
  },
  {
   "cell_type": "code",
   "execution_count": 88,
   "id": "bbf64cb8",
   "metadata": {},
   "outputs": [],
   "source": [
    "k = ('id','name','age')"
   ]
  },
  {
   "cell_type": "code",
   "execution_count": 92,
   "id": "794c017c",
   "metadata": {},
   "outputs": [],
   "source": [
    "ls = dict.fromkeys(k)"
   ]
  },
  {
   "cell_type": "code",
   "execution_count": 93,
   "id": "68ee9690",
   "metadata": {},
   "outputs": [],
   "source": [
    "ls['id'] = 100"
   ]
  },
  {
   "cell_type": "code",
   "execution_count": null,
   "id": "a01d7be1",
   "metadata": {},
   "outputs": [],
   "source": []
  }
 ],
 "metadata": {
  "kernelspec": {
   "display_name": "Python 3 (ipykernel)",
   "language": "python",
   "name": "python3"
  },
  "language_info": {
   "codemirror_mode": {
    "name": "ipython",
    "version": 3
   },
   "file_extension": ".py",
   "mimetype": "text/x-python",
   "name": "python",
   "nbconvert_exporter": "python",
   "pygments_lexer": "ipython3",
   "version": "3.9.12"
  }
 },
 "nbformat": 4,
 "nbformat_minor": 5
}
