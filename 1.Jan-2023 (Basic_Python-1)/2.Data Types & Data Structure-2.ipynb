{
 "cells": [
  {
   "cell_type": "markdown",
   "id": "86fb0c24",
   "metadata": {},
   "source": [
    "## Dictionary"
   ]
  },
  {
   "cell_type": "code",
   "execution_count": 2,
   "id": "01540178",
   "metadata": {},
   "outputs": [],
   "source": [
    "car_details = {'Name':'BMW','Price':750000,'Color':'Red','HP':39}"
   ]
  },
  {
   "cell_type": "code",
   "execution_count": 3,
   "id": "70f0a159",
   "metadata": {},
   "outputs": [
    {
     "data": {
      "text/plain": [
       "{'Name': 'BMW', 'Price': 750000, 'Color': 'Red', 'HP': 39}"
      ]
     },
     "execution_count": 3,
     "metadata": {},
     "output_type": "execute_result"
    }
   ],
   "source": [
    "car_details"
   ]
  },
  {
   "cell_type": "code",
   "execution_count": 4,
   "id": "92bda325",
   "metadata": {},
   "outputs": [
    {
     "data": {
      "text/plain": [
       "39"
      ]
     },
     "execution_count": 4,
     "metadata": {},
     "output_type": "execute_result"
    }
   ],
   "source": [
    "car_details['HP']"
   ]
  },
  {
   "cell_type": "code",
   "execution_count": 5,
   "id": "eee0bd5f",
   "metadata": {},
   "outputs": [
    {
     "data": {
      "text/plain": [
       "750000"
      ]
     },
     "execution_count": 5,
     "metadata": {},
     "output_type": "execute_result"
    }
   ],
   "source": [
    "car_details['Price']"
   ]
  },
  {
   "cell_type": "code",
   "execution_count": 6,
   "id": "5e016087",
   "metadata": {},
   "outputs": [
    {
     "data": {
      "text/plain": [
       "'Red'"
      ]
     },
     "execution_count": 6,
     "metadata": {},
     "output_type": "execute_result"
    }
   ],
   "source": [
    "car_details.get('Color','Key is not prsent')"
   ]
  },
  {
   "cell_type": "code",
   "execution_count": 7,
   "id": "284fe256",
   "metadata": {},
   "outputs": [],
   "source": [
    "car_details['Version'] = 'Premium'"
   ]
  },
  {
   "cell_type": "code",
   "execution_count": 8,
   "id": "f944a60a",
   "metadata": {},
   "outputs": [
    {
     "data": {
      "text/plain": [
       "{'Name': 'BMW',\n",
       " 'Price': 750000,\n",
       " 'Color': 'Red',\n",
       " 'HP': 39,\n",
       " 'Version': 'Premium'}"
      ]
     },
     "execution_count": 8,
     "metadata": {},
     "output_type": "execute_result"
    }
   ],
   "source": [
    "car_details"
   ]
  },
  {
   "cell_type": "code",
   "execution_count": 9,
   "id": "44321675",
   "metadata": {},
   "outputs": [],
   "source": [
    "car_details['Year']= 2022"
   ]
  },
  {
   "cell_type": "code",
   "execution_count": 10,
   "id": "a04d4c8d",
   "metadata": {},
   "outputs": [],
   "source": [
    "car_details['Model']='BS6'"
   ]
  },
  {
   "cell_type": "code",
   "execution_count": 11,
   "id": "35ded063",
   "metadata": {},
   "outputs": [
    {
     "data": {
      "text/plain": [
       "{'Name': 'BMW',\n",
       " 'Price': 750000,\n",
       " 'Color': 'Red',\n",
       " 'HP': 39,\n",
       " 'Version': 'Premium',\n",
       " 'Year': 2022,\n",
       " 'Model': 'BS6'}"
      ]
     },
     "execution_count": 11,
     "metadata": {},
     "output_type": "execute_result"
    }
   ],
   "source": [
    "car_details"
   ]
  },
  {
   "cell_type": "code",
   "execution_count": 12,
   "id": "84bab0e8",
   "metadata": {},
   "outputs": [],
   "source": [
    "car_details.update({'City':'Pune','qty':10,'Brand':'Ultra'})"
   ]
  },
  {
   "cell_type": "code",
   "execution_count": 13,
   "id": "ff35396a",
   "metadata": {},
   "outputs": [
    {
     "name": "stdout",
     "output_type": "stream",
     "text": [
      "{'Name': 'BMW', 'Price': 750000, 'Color': 'Red', 'HP': 39, 'Version': 'Premium', 'Year': 2022, 'Model': 'BS6', 'City': 'Pune', 'qty': 10, 'Brand': 'Ultra'}\n"
     ]
    }
   ],
   "source": [
    "print(car_details)"
   ]
  },
  {
   "cell_type": "code",
   "execution_count": 57,
   "id": "73071cdc",
   "metadata": {},
   "outputs": [],
   "source": [
    "p = {\n",
    "    'var1':{'name':'izack','Age':26,'Class':'1st'},\n",
    "    'var2':{'Education':'BE','Collage':'klt','Branch':'ME'},\n",
    "    'var3':{'ID':'abc123','Comp':'kmle','Dept':'hgtg'},\n",
    "    'var4':{'Model':'BMW','Price':75000,'Year':2023}\n",
    "}"
   ]
  },
  {
   "cell_type": "code",
   "execution_count": 58,
   "id": "dae48983",
   "metadata": {},
   "outputs": [
    {
     "data": {
      "text/plain": [
       "{'var1': {'name': 'izack', 'Age': 26, 'Class': '1st'},\n",
       " 'var2': {'Education': 'BE', 'Collage': 'klt', 'Branch': 'ME'},\n",
       " 'var3': {'ID': 'abc123', 'Comp': 'kmle', 'Dept': 'hgtg'},\n",
       " 'var4': {'Model': 'BMW', 'Price': 75000, 'Year': 2023}}"
      ]
     },
     "execution_count": 58,
     "metadata": {},
     "output_type": "execute_result"
    }
   ],
   "source": [
    "p"
   ]
  },
  {
   "cell_type": "code",
   "execution_count": 65,
   "id": "67233d1b",
   "metadata": {},
   "outputs": [
    {
     "data": {
      "text/plain": [
       "{'Model': 'BMW', 'Price': 75000, 'Year': 2023}"
      ]
     },
     "execution_count": 65,
     "metadata": {},
     "output_type": "execute_result"
    }
   ],
   "source": [
    "p[\"var4\"]"
   ]
  },
  {
   "cell_type": "code",
   "execution_count": 66,
   "id": "463c1e34",
   "metadata": {},
   "outputs": [
    {
     "data": {
      "text/plain": [
       "dict_keys(['var1', 'var2', 'var3', 'var4'])"
      ]
     },
     "execution_count": 66,
     "metadata": {},
     "output_type": "execute_result"
    }
   ],
   "source": [
    "p.keys()"
   ]
  },
  {
   "cell_type": "code",
   "execution_count": 69,
   "id": "c7344f5c",
   "metadata": {},
   "outputs": [
    {
     "data": {
      "text/plain": [
       "dict_values([{'name': 'izack', 'Age': 26, 'Class': '1st'}, {'Education': 'BE', 'Collage': 'klt', 'Branch': 'ME'}, {'ID': 'abc123', 'Comp': 'kmle', 'Dept': 'hgtg'}, {'Model': 'BMW', 'Price': 75000, 'Year': 2023}])"
      ]
     },
     "execution_count": 69,
     "metadata": {},
     "output_type": "execute_result"
    }
   ],
   "source": [
    "p.values()"
   ]
  },
  {
   "cell_type": "code",
   "execution_count": 70,
   "id": "5d18d020",
   "metadata": {},
   "outputs": [
    {
     "data": {
      "text/plain": [
       "dict_items([('var1', {'name': 'izack', 'Age': 26, 'Class': '1st'}), ('var2', {'Education': 'BE', 'Collage': 'klt', 'Branch': 'ME'}), ('var3', {'ID': 'abc123', 'Comp': 'kmle', 'Dept': 'hgtg'}), ('var4', {'Model': 'BMW', 'Price': 75000, 'Year': 2023})])"
      ]
     },
     "execution_count": 70,
     "metadata": {},
     "output_type": "execute_result"
    }
   ],
   "source": [
    "p.items()"
   ]
  },
  {
   "cell_type": "code",
   "execution_count": 71,
   "id": "acb0e443",
   "metadata": {},
   "outputs": [],
   "source": [
    "car_d = {'name':['Audi','BMW'],'price':[75000,98000],'mil':[10,15],'color':['Red','Blue']}"
   ]
  },
  {
   "cell_type": "code",
   "execution_count": 72,
   "id": "10f782f9",
   "metadata": {},
   "outputs": [
    {
     "data": {
      "text/plain": [
       "{'name': ['Audi', 'BMW'],\n",
       " 'price': [75000, 98000],\n",
       " 'mil': [10, 15],\n",
       " 'color': ['Red', 'Blue']}"
      ]
     },
     "execution_count": 72,
     "metadata": {},
     "output_type": "execute_result"
    }
   ],
   "source": [
    "car_d"
   ]
  },
  {
   "cell_type": "code",
   "execution_count": 73,
   "id": "bf288425",
   "metadata": {},
   "outputs": [
    {
     "data": {
      "text/plain": [
       "'Audi'"
      ]
     },
     "execution_count": 73,
     "metadata": {},
     "output_type": "execute_result"
    }
   ],
   "source": [
    "car_d['name'][0]"
   ]
  },
  {
   "cell_type": "code",
   "execution_count": 74,
   "id": "7c7e8ff7",
   "metadata": {},
   "outputs": [
    {
     "data": {
      "text/plain": [
       "75000"
      ]
     },
     "execution_count": 74,
     "metadata": {},
     "output_type": "execute_result"
    }
   ],
   "source": [
    "car_d['price'][0]"
   ]
  },
  {
   "cell_type": "code",
   "execution_count": 75,
   "id": "57f3e856",
   "metadata": {},
   "outputs": [
    {
     "data": {
      "text/plain": [
       "10"
      ]
     },
     "execution_count": 75,
     "metadata": {},
     "output_type": "execute_result"
    }
   ],
   "source": [
    "car_d['mil'][0]"
   ]
  },
  {
   "cell_type": "code",
   "execution_count": 76,
   "id": "86df457d",
   "metadata": {},
   "outputs": [
    {
     "data": {
      "text/plain": [
       "'Red'"
      ]
     },
     "execution_count": 76,
     "metadata": {},
     "output_type": "execute_result"
    }
   ],
   "source": [
    "car_d['color'][0]"
   ]
  },
  {
   "cell_type": "code",
   "execution_count": 78,
   "id": "6baf309a",
   "metadata": {},
   "outputs": [
    {
     "data": {
      "text/plain": [
       "{'Name': 'BMW',\n",
       " 'Price': 750000,\n",
       " 'Color': 'Red',\n",
       " 'HP': 39,\n",
       " 'Version': 'Premium',\n",
       " 'Year': 2022,\n",
       " 'City': 'Pune',\n",
       " 'qty': 10,\n",
       " 'Brand': 'Ultra'}"
      ]
     },
     "execution_count": 78,
     "metadata": {},
     "output_type": "execute_result"
    }
   ],
   "source": [
    "car_details"
   ]
  },
  {
   "cell_type": "code",
   "execution_count": 79,
   "id": "d7bf36c0",
   "metadata": {},
   "outputs": [
    {
     "data": {
      "text/plain": [
       "'Ultra'"
      ]
     },
     "execution_count": 79,
     "metadata": {},
     "output_type": "execute_result"
    }
   ],
   "source": [
    "car_details.pop('Brand')"
   ]
  },
  {
   "cell_type": "code",
   "execution_count": 81,
   "id": "717d2a61",
   "metadata": {},
   "outputs": [
    {
     "data": {
      "text/plain": [
       "('qty', 10)"
      ]
     },
     "execution_count": 81,
     "metadata": {},
     "output_type": "execute_result"
    }
   ],
   "source": [
    "car_details.popitem()"
   ]
  },
  {
   "cell_type": "code",
   "execution_count": 82,
   "id": "e4d5db92",
   "metadata": {},
   "outputs": [
    {
     "data": {
      "text/plain": [
       "{'Name': 'BMW',\n",
       " 'Price': 750000,\n",
       " 'Color': 'Red',\n",
       " 'HP': 39,\n",
       " 'Version': 'Premium',\n",
       " 'Year': 2022,\n",
       " 'City': 'Pune'}"
      ]
     },
     "execution_count": 82,
     "metadata": {},
     "output_type": "execute_result"
    }
   ],
   "source": [
    "car_details"
   ]
  },
  {
   "cell_type": "code",
   "execution_count": 83,
   "id": "5b6bb737",
   "metadata": {},
   "outputs": [],
   "source": [
    "k = {'Id','Name','Sal'}"
   ]
  },
  {
   "cell_type": "code",
   "execution_count": 100,
   "id": "2805e7c3",
   "metadata": {},
   "outputs": [
    {
     "data": {
      "text/plain": [
       "{'Sal': 100, 'Name': 100, 'Id': 100}"
      ]
     },
     "execution_count": 100,
     "metadata": {},
     "output_type": "execute_result"
    }
   ],
   "source": [
    "dict.fromkeys(k,100)"
   ]
  },
  {
   "cell_type": "code",
   "execution_count": 26,
   "id": "8d0de3cb",
   "metadata": {},
   "outputs": [],
   "source": [
    "sa =dict.fromkeys(B)"
   ]
  },
  {
   "cell_type": "code",
   "execution_count": 27,
   "id": "554e6dfe",
   "metadata": {},
   "outputs": [],
   "source": [
    "B = {'Id','Name','Sal'}"
   ]
  },
  {
   "cell_type": "code",
   "execution_count": 28,
   "id": "1559ede9",
   "metadata": {},
   "outputs": [
    {
     "data": {
      "text/plain": [
       "{'Sal': None, 'Id': None, 'Name': None}"
      ]
     },
     "execution_count": 28,
     "metadata": {},
     "output_type": "execute_result"
    }
   ],
   "source": [
    "sa"
   ]
  },
  {
   "cell_type": "code",
   "execution_count": 30,
   "id": "12772b2d",
   "metadata": {},
   "outputs": [],
   "source": [
    "sa['Id']=2274"
   ]
  },
  {
   "cell_type": "code",
   "execution_count": 31,
   "id": "52dda189",
   "metadata": {},
   "outputs": [],
   "source": [
    "sa['Name']='izack'"
   ]
  },
  {
   "cell_type": "code",
   "execution_count": 32,
   "id": "085f2ef9",
   "metadata": {},
   "outputs": [],
   "source": [
    "sa['Sal']=95000"
   ]
  },
  {
   "cell_type": "code",
   "execution_count": 39,
   "id": "ac1c5947",
   "metadata": {},
   "outputs": [
    {
     "data": {
      "text/plain": [
       "{'Sal': 95000,\n",
       " 'Id': 2274,\n",
       " 'Name': 'izack',\n",
       " 'Comapny': 'ABC',\n",
       " 'LastName': 'Kumar',\n",
       " 'Status': 'single',\n",
       " 'Age': 25}"
      ]
     },
     "execution_count": 39,
     "metadata": {},
     "output_type": "execute_result"
    }
   ],
   "source": [
    "sa"
   ]
  },
  {
   "cell_type": "code",
   "execution_count": 36,
   "id": "8a3529bd",
   "metadata": {},
   "outputs": [],
   "source": [
    "sa['Comapny']='ABC'"
   ]
  },
  {
   "cell_type": "code",
   "execution_count": 38,
   "id": "1d1e765b",
   "metadata": {},
   "outputs": [],
   "source": [
    "sa.update({'LastName':'Kumar','Status':'single','Age':25})"
   ]
  },
  {
   "cell_type": "code",
   "execution_count": 40,
   "id": "7e5d1f4f",
   "metadata": {},
   "outputs": [],
   "source": [
    "temp2 = {'A','B','C'}"
   ]
  },
  {
   "cell_type": "code",
   "execution_count": 41,
   "id": "d4e05c6d",
   "metadata": {},
   "outputs": [],
   "source": [
    "temp3 = dict.fromkeys(temp2)"
   ]
  },
  {
   "cell_type": "code",
   "execution_count": 42,
   "id": "1d47746c",
   "metadata": {},
   "outputs": [
    {
     "data": {
      "text/plain": [
       "{'A': None, 'B': None, 'C': None}"
      ]
     },
     "execution_count": 42,
     "metadata": {},
     "output_type": "execute_result"
    }
   ],
   "source": [
    "temp3"
   ]
  },
  {
   "cell_type": "code",
   "execution_count": 45,
   "id": "37baf03b",
   "metadata": {},
   "outputs": [
    {
     "data": {
      "text/plain": [
       "dict_items([('Sal', 95000), ('Id', 2274), ('Name', 'izack'), ('Comapny', 'ABC'), ('LastName', 'Kumar'), ('Status', 'single'), ('Age', 25)])"
      ]
     },
     "execution_count": 45,
     "metadata": {},
     "output_type": "execute_result"
    }
   ],
   "source": [
    "sa.items()"
   ]
  },
  {
   "cell_type": "code",
   "execution_count": 19,
   "id": "59160a2f",
   "metadata": {},
   "outputs": [
    {
     "data": {
      "text/plain": [
       "set"
      ]
     },
     "execution_count": 19,
     "metadata": {},
     "output_type": "execute_result"
    }
   ],
   "source": [
    "B = {'Name','Id','Sal'}\n",
    "\n",
    "type(B)"
   ]
  },
  {
   "cell_type": "code",
   "execution_count": 90,
   "id": "6531037c",
   "metadata": {},
   "outputs": [],
   "source": [
    "temp = dict.fromkeys(k)"
   ]
  },
  {
   "cell_type": "code",
   "execution_count": 91,
   "id": "95204b2f",
   "metadata": {},
   "outputs": [
    {
     "data": {
      "text/plain": [
       "{'Sal': None, 'Name': None, 'Id': None}"
      ]
     },
     "execution_count": 91,
     "metadata": {},
     "output_type": "execute_result"
    }
   ],
   "source": [
    "temp"
   ]
  },
  {
   "cell_type": "code",
   "execution_count": 93,
   "id": "10b8fcc4",
   "metadata": {},
   "outputs": [],
   "source": [
    "temp['Id'] = 'abc123'"
   ]
  },
  {
   "cell_type": "code",
   "execution_count": 94,
   "id": "4e2d1645",
   "metadata": {},
   "outputs": [
    {
     "data": {
      "text/plain": [
       "{'Sal': None, 'Name': None, 'Id': 'abc123'}"
      ]
     },
     "execution_count": 94,
     "metadata": {},
     "output_type": "execute_result"
    }
   ],
   "source": [
    "temp"
   ]
  },
  {
   "cell_type": "code",
   "execution_count": 96,
   "id": "9ccfd1b5",
   "metadata": {},
   "outputs": [],
   "source": [
    "temp['Name']='izack'"
   ]
  },
  {
   "cell_type": "code",
   "execution_count": 97,
   "id": "0a31d248",
   "metadata": {},
   "outputs": [],
   "source": [
    "temp['Sal']=80000"
   ]
  },
  {
   "cell_type": "code",
   "execution_count": 98,
   "id": "93a5e530",
   "metadata": {},
   "outputs": [
    {
     "data": {
      "text/plain": [
       "{'Sal': 80000, 'Name': 'izack', 'Id': 'abc123'}"
      ]
     },
     "execution_count": 98,
     "metadata": {},
     "output_type": "execute_result"
    }
   ],
   "source": [
    "temp"
   ]
  },
  {
   "cell_type": "code",
   "execution_count": 102,
   "id": "1ea6cc54",
   "metadata": {},
   "outputs": [],
   "source": [
    "import pandas as pd"
   ]
  },
  {
   "cell_type": "code",
   "execution_count": 104,
   "id": "56be7f25",
   "metadata": {},
   "outputs": [
    {
     "data": {
      "text/html": [
       "<div>\n",
       "<style scoped>\n",
       "    .dataframe tbody tr th:only-of-type {\n",
       "        vertical-align: middle;\n",
       "    }\n",
       "\n",
       "    .dataframe tbody tr th {\n",
       "        vertical-align: top;\n",
       "    }\n",
       "\n",
       "    .dataframe thead th {\n",
       "        text-align: right;\n",
       "    }\n",
       "</style>\n",
       "<table border=\"1\" class=\"dataframe\">\n",
       "  <thead>\n",
       "    <tr style=\"text-align: right;\">\n",
       "      <th></th>\n",
       "      <th>name</th>\n",
       "      <th>price</th>\n",
       "      <th>mil</th>\n",
       "      <th>color</th>\n",
       "    </tr>\n",
       "  </thead>\n",
       "  <tbody>\n",
       "    <tr>\n",
       "      <th>0</th>\n",
       "      <td>Audi</td>\n",
       "      <td>75000</td>\n",
       "      <td>10</td>\n",
       "      <td>Red</td>\n",
       "    </tr>\n",
       "    <tr>\n",
       "      <th>1</th>\n",
       "      <td>BMW</td>\n",
       "      <td>98000</td>\n",
       "      <td>15</td>\n",
       "      <td>Blue</td>\n",
       "    </tr>\n",
       "  </tbody>\n",
       "</table>\n",
       "</div>"
      ],
      "text/plain": [
       "   name  price  mil color\n",
       "0  Audi  75000   10   Red\n",
       "1   BMW  98000   15  Blue"
      ]
     },
     "execution_count": 104,
     "metadata": {},
     "output_type": "execute_result"
    }
   ],
   "source": [
    "pd.DataFrame(car_d)"
   ]
  },
  {
   "cell_type": "code",
   "execution_count": 106,
   "id": "dfbb1f4f",
   "metadata": {},
   "outputs": [
    {
     "name": "stdout",
     "output_type": "stream",
     "text": [
      "['Audi', 'BMW']\n",
      "[75000, 98000]\n",
      "[10, 15]\n",
      "['Red', 'Blue']\n"
     ]
    }
   ],
   "source": [
    "for i in car_d:\n",
    "    print(car_d[i])"
   ]
  },
  {
   "cell_type": "code",
   "execution_count": 107,
   "id": "d1462326",
   "metadata": {},
   "outputs": [
    {
     "data": {
      "text/plain": [
       "{'Sal': 80000, 'Name': 'izack', 'Id': 'abc123'}"
      ]
     },
     "execution_count": 107,
     "metadata": {},
     "output_type": "execute_result"
    }
   ],
   "source": [
    "temp"
   ]
  },
  {
   "cell_type": "code",
   "execution_count": 108,
   "id": "a4435564",
   "metadata": {},
   "outputs": [
    {
     "data": {
      "text/plain": [
       "'izack'"
      ]
     },
     "execution_count": 108,
     "metadata": {},
     "output_type": "execute_result"
    }
   ],
   "source": [
    "temp.setdefault('Name','Mohan')"
   ]
  },
  {
   "cell_type": "code",
   "execution_count": 109,
   "id": "5e6e12d2",
   "metadata": {},
   "outputs": [
    {
     "data": {
      "text/plain": [
       "'Nagpur'"
      ]
     },
     "execution_count": 109,
     "metadata": {},
     "output_type": "execute_result"
    }
   ],
   "source": [
    "temp.setdefault('City','Nagpur')"
   ]
  },
  {
   "cell_type": "code",
   "execution_count": 110,
   "id": "f73d4470",
   "metadata": {},
   "outputs": [
    {
     "data": {
      "text/plain": [
       "{'Sal': 80000, 'Name': 'izack', 'Id': 'abc123', 'City': 'Nagpur'}"
      ]
     },
     "execution_count": 110,
     "metadata": {},
     "output_type": "execute_result"
    }
   ],
   "source": [
    "temp"
   ]
  },
  {
   "cell_type": "code",
   "execution_count": 1,
   "id": "ac9c303b",
   "metadata": {},
   "outputs": [],
   "source": [
    "ab = {'Id','Name','Age'}"
   ]
  },
  {
   "cell_type": "code",
   "execution_count": 5,
   "id": "ac7d4e58",
   "metadata": {},
   "outputs": [],
   "source": [
    "bc = dict.fromkeys(ab)"
   ]
  },
  {
   "cell_type": "code",
   "execution_count": 6,
   "id": "4cc0816a",
   "metadata": {},
   "outputs": [],
   "source": [
    "bc['Age']=25"
   ]
  },
  {
   "cell_type": "code",
   "execution_count": 7,
   "id": "087a4bad",
   "metadata": {},
   "outputs": [],
   "source": [
    "bc['Name']= 'izack'"
   ]
  },
  {
   "cell_type": "code",
   "execution_count": 10,
   "id": "3825119d",
   "metadata": {},
   "outputs": [],
   "source": [
    "bc['Id']= 101"
   ]
  },
  {
   "cell_type": "code",
   "execution_count": 11,
   "id": "838aef14",
   "metadata": {},
   "outputs": [
    {
     "data": {
      "text/plain": [
       "{'Age': 25, 'Id': 101, 'Name': 'izack'}"
      ]
     },
     "execution_count": 11,
     "metadata": {},
     "output_type": "execute_result"
    }
   ],
   "source": [
    "bc"
   ]
  },
  {
   "cell_type": "code",
   "execution_count": null,
   "id": "296d2524",
   "metadata": {},
   "outputs": [],
   "source": []
  },
  {
   "cell_type": "code",
   "execution_count": 2,
   "id": "4d79992b",
   "metadata": {},
   "outputs": [],
   "source": [
    "c_dict = {('apple','banana','orange'):'Fruit','Fruit':'category','Price':'45 Rs/kg'}"
   ]
  },
  {
   "cell_type": "code",
   "execution_count": 3,
   "id": "1940de83",
   "metadata": {},
   "outputs": [
    {
     "data": {
      "text/plain": [
       "{('apple', 'banana', 'orange'): 'Fruit',\n",
       " 'Fruit': 'category',\n",
       " 'Price': '45 Rs/kg'}"
      ]
     },
     "execution_count": 3,
     "metadata": {},
     "output_type": "execute_result"
    }
   ],
   "source": [
    "c_dict"
   ]
  },
  {
   "cell_type": "code",
   "execution_count": 5,
   "id": "93bcd700",
   "metadata": {},
   "outputs": [
    {
     "data": {
      "text/plain": [
       "'Fruit'"
      ]
     },
     "execution_count": 5,
     "metadata": {},
     "output_type": "execute_result"
    }
   ],
   "source": [
    "c_dict[('apple','banana','orange')]"
   ]
  },
  {
   "cell_type": "code",
   "execution_count": 6,
   "id": "8401d5a8",
   "metadata": {},
   "outputs": [
    {
     "data": {
      "text/plain": [
       "('Price', '45 Rs/kg')"
      ]
     },
     "execution_count": 6,
     "metadata": {},
     "output_type": "execute_result"
    }
   ],
   "source": [
    "c_dict.popitem()"
   ]
  },
  {
   "cell_type": "code",
   "execution_count": 7,
   "id": "79611bf3",
   "metadata": {},
   "outputs": [],
   "source": [
    "s = {'Name','City','Pin'}"
   ]
  },
  {
   "cell_type": "code",
   "execution_count": 9,
   "id": "80c7029f",
   "metadata": {},
   "outputs": [],
   "source": [
    "s_dict= dict.fromkeys(s)"
   ]
  },
  {
   "cell_type": "code",
   "execution_count": 10,
   "id": "46d78029",
   "metadata": {},
   "outputs": [],
   "source": [
    "s_dict['Name']='izack'"
   ]
  },
  {
   "cell_type": "code",
   "execution_count": 11,
   "id": "665d39bc",
   "metadata": {},
   "outputs": [],
   "source": [
    "s_dict['City']='kkd'"
   ]
  },
  {
   "cell_type": "code",
   "execution_count": 12,
   "id": "92b5843b",
   "metadata": {},
   "outputs": [],
   "source": [
    "s_dict['Pin']=12565"
   ]
  },
  {
   "cell_type": "code",
   "execution_count": 13,
   "id": "4a1502d0",
   "metadata": {},
   "outputs": [
    {
     "data": {
      "text/plain": [
       "{'City': 'kkd', 'Pin': 12565, 'Name': 'izack'}"
      ]
     },
     "execution_count": 13,
     "metadata": {},
     "output_type": "execute_result"
    }
   ],
   "source": [
    "s_dict"
   ]
  },
  {
   "cell_type": "code",
   "execution_count": 14,
   "id": "8f3e2731",
   "metadata": {},
   "outputs": [
    {
     "data": {
      "text/plain": [
       "'izack'"
      ]
     },
     "execution_count": 14,
     "metadata": {},
     "output_type": "execute_result"
    }
   ],
   "source": [
    "s_dict['Name']"
   ]
  },
  {
   "cell_type": "code",
   "execution_count": 16,
   "id": "695c2f95",
   "metadata": {},
   "outputs": [
    {
     "data": {
      "text/plain": [
       "'key is not presnt'"
      ]
     },
     "execution_count": 16,
     "metadata": {},
     "output_type": "execute_result"
    }
   ],
   "source": [
    "s_dict.get('agdjhd','key is not presnt')"
   ]
  },
  {
   "cell_type": "code",
   "execution_count": 32,
   "id": "4b1bf872",
   "metadata": {},
   "outputs": [
    {
     "name": "stdout",
     "output_type": "stream",
     "text": [
      "Key = USA,value = Washington D.C.\n",
      "Key = France,value = Paris\n",
      "Key = India,value = New Delhi\n"
     ]
    }
   ],
   "source": [
    "capitals = {\"USA\":\"Washington D.C.\", \"France\":\"Paris\", \"India\":\"New Delhi\"}\n",
    "\n",
    "for i in capitals:\n",
    "    print(\"Key = \"+ i+ \",value =\", capitals[i]) "
   ]
  },
  {
   "cell_type": "code",
   "execution_count": 20,
   "id": "79d7faa5",
   "metadata": {},
   "outputs": [
    {
     "ename": "NameError",
     "evalue": "name 'value' is not defined",
     "output_type": "error",
     "traceback": [
      "\u001b[1;31m---------------------------------------------------------------------------\u001b[0m",
      "\u001b[1;31mNameError\u001b[0m                                 Traceback (most recent call last)",
      "Input \u001b[1;32mIn [20]\u001b[0m, in \u001b[0;36m<cell line: 1>\u001b[1;34m()\u001b[0m\n\u001b[1;32m----> 1\u001b[0m capitals[\u001b[43mvalue\u001b[49m]\n",
      "\u001b[1;31mNameError\u001b[0m: name 'value' is not defined"
     ]
    }
   ],
   "source": [
    "Value = \" + capitals[key]"
   ]
  },
  {
   "cell_type": "code",
   "execution_count": 27,
   "id": "fbbd1503",
   "metadata": {},
   "outputs": [
    {
     "name": "stdout",
     "output_type": "stream",
     "text": [
      "Key = USA, Value = Washington D.C.\n",
      "Key = France, Value = Paris\n",
      "Key = India, Value = New Delhi\n"
     ]
    }
   ],
   "source": [
    "capitals = {\"USA\":\"Washington D.C.\", \"France\":\"Paris\", \"India\":\"New Delhi\"}\n",
    "\n",
    "for key in capitals:\n",
    "    print(\"Key = \" + key + \", Value = \" + capitals[key]) \n"
   ]
  },
  {
   "cell_type": "code",
   "execution_count": 41,
   "id": "5b329ec8",
   "metadata": {},
   "outputs": [
    {
     "name": "stdout",
     "output_type": "stream",
     "text": [
      "key:- USA ,value:= Washington D.C.\n",
      "key:- France ,value:= Paris\n",
      "key:- India ,value:= New Delhi\n"
     ]
    }
   ],
   "source": [
    "capitals = {\"USA\":\"Washington D.C.\", \"France\":\"Paris\", \"India\":\"New Delhi\"}\n",
    "\n",
    "for i in capitals:\n",
    "    print('key:- '+ i, ',value: '+capitals[i])"
   ]
  },
  {
   "cell_type": "code",
   "execution_count": 42,
   "id": "efa7840b",
   "metadata": {},
   "outputs": [
    {
     "name": "stdout",
     "output_type": "stream",
     "text": [
      "Washington D.C.\n",
      "Paris\n",
      "New Delhi\n"
     ]
    }
   ],
   "source": [
    "capitals = {\"USA\":\"Washington D.C.\", \"France\":\"Paris\", \"India\":\"New Delhi\"}\n",
    "\n",
    "for i in capitals:\n",
    "    print(capitals[i])"
   ]
  },
  {
   "cell_type": "code",
   "execution_count": 44,
   "id": "5531bc98",
   "metadata": {},
   "outputs": [
    {
     "data": {
      "text/plain": [
       "{'England': 'Root', 'Australia': 'Paine', 'India': 'Virat'}"
      ]
     },
     "execution_count": 44,
     "metadata": {},
     "output_type": "execute_result"
    }
   ],
   "source": [
    "captains = {\"England\":\"Root\", \"Australia\":\"Smith\", \"India\":\"Dhoni\"}\n",
    "captains['India'] = 'Virat'\n",
    "captains['Australia'] = 'Paine'\n",
    "captains"
   ]
  },
  {
   "cell_type": "code",
   "execution_count": 45,
   "id": "9689ad04",
   "metadata": {},
   "outputs": [],
   "source": [
    "captains['India']='izack'"
   ]
  },
  {
   "cell_type": "code",
   "execution_count": 46,
   "id": "1ec13a67",
   "metadata": {},
   "outputs": [
    {
     "data": {
      "text/plain": [
       "{'England': 'Root', 'Australia': 'Paine', 'India': 'izack'}"
      ]
     },
     "execution_count": 46,
     "metadata": {},
     "output_type": "execute_result"
    }
   ],
   "source": [
    "captains"
   ]
  },
  {
   "cell_type": "code",
   "execution_count": null,
   "id": "3ab2c724",
   "metadata": {},
   "outputs": [],
   "source": []
  }
 ],
 "metadata": {
  "kernelspec": {
   "display_name": "Python 3 (ipykernel)",
   "language": "python",
   "name": "python3"
  },
  "language_info": {
   "codemirror_mode": {
    "name": "ipython",
    "version": 3
   },
   "file_extension": ".py",
   "mimetype": "text/x-python",
   "name": "python",
   "nbconvert_exporter": "python",
   "pygments_lexer": "ipython3",
   "version": "3.9.12"
  }
 },
 "nbformat": 4,
 "nbformat_minor": 5
}
