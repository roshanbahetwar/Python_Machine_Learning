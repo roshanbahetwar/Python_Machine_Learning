{
 "cells": [
  {
   "cell_type": "markdown",
   "id": "8b6731a1",
   "metadata": {},
   "source": [
    "## String"
   ]
  },
  {
   "cell_type": "code",
   "execution_count": 30,
   "id": "655df6fd",
   "metadata": {},
   "outputs": [
    {
     "name": "stdout",
     "output_type": "stream",
     "text": [
      "Enter the number : 750\n"
     ]
    }
   ],
   "source": [
    "x = input('Enter the number : ')"
   ]
  },
  {
   "cell_type": "code",
   "execution_count": 31,
   "id": "929719b7",
   "metadata": {},
   "outputs": [
    {
     "data": {
      "text/plain": [
       "'750'"
      ]
     },
     "execution_count": 31,
     "metadata": {},
     "output_type": "execute_result"
    }
   ],
   "source": [
    "x"
   ]
  },
  {
   "cell_type": "code",
   "execution_count": 32,
   "id": "bb74f048",
   "metadata": {},
   "outputs": [
    {
     "data": {
      "text/plain": [
       "str"
      ]
     },
     "execution_count": 32,
     "metadata": {},
     "output_type": "execute_result"
    }
   ],
   "source": [
    "type(x)"
   ]
  },
  {
   "cell_type": "code",
   "execution_count": 5,
   "id": "bb1b1a8d",
   "metadata": {},
   "outputs": [],
   "source": [
    "a = 'Python Test'"
   ]
  },
  {
   "cell_type": "code",
   "execution_count": 41,
   "id": "ce119898",
   "metadata": {},
   "outputs": [
    {
     "data": {
      "text/plain": [
       "'PYTHON TEST'"
      ]
     },
     "execution_count": 41,
     "metadata": {},
     "output_type": "execute_result"
    }
   ],
   "source": [
    "a.upper()"
   ]
  },
  {
   "cell_type": "code",
   "execution_count": 42,
   "id": "995af269",
   "metadata": {},
   "outputs": [
    {
     "data": {
      "text/plain": [
       "'python test'"
      ]
     },
     "execution_count": 42,
     "metadata": {},
     "output_type": "execute_result"
    }
   ],
   "source": [
    "a.lower()"
   ]
  },
  {
   "cell_type": "code",
   "execution_count": 43,
   "id": "c20a8cb3",
   "metadata": {},
   "outputs": [
    {
     "data": {
      "text/plain": [
       "'Python test'"
      ]
     },
     "execution_count": 43,
     "metadata": {},
     "output_type": "execute_result"
    }
   ],
   "source": [
    "a.capitalize()"
   ]
  },
  {
   "cell_type": "code",
   "execution_count": 44,
   "id": "2a2f6ab6",
   "metadata": {},
   "outputs": [
    {
     "data": {
      "text/plain": [
       "'python test'"
      ]
     },
     "execution_count": 44,
     "metadata": {},
     "output_type": "execute_result"
    }
   ],
   "source": [
    "a.casefold()"
   ]
  },
  {
   "cell_type": "code",
   "execution_count": 45,
   "id": "91248504",
   "metadata": {},
   "outputs": [
    {
     "data": {
      "text/plain": [
       "'Python Test'"
      ]
     },
     "execution_count": 45,
     "metadata": {},
     "output_type": "execute_result"
    }
   ],
   "source": [
    "a.title()"
   ]
  },
  {
   "cell_type": "code",
   "execution_count": 1,
   "id": "a1e728d5",
   "metadata": {},
   "outputs": [],
   "source": [
    "Name = 'izack newton'"
   ]
  },
  {
   "cell_type": "code",
   "execution_count": 6,
   "id": "a3ba3677",
   "metadata": {},
   "outputs": [],
   "source": [
    "aa =Name.title()"
   ]
  },
  {
   "cell_type": "code",
   "execution_count": 46,
   "id": "30975ed7",
   "metadata": {},
   "outputs": [
    {
     "data": {
      "text/plain": [
       "'pYTHON tEST'"
      ]
     },
     "execution_count": 46,
     "metadata": {},
     "output_type": "execute_result"
    }
   ],
   "source": [
    "a.swapcase()"
   ]
  },
  {
   "cell_type": "code",
   "execution_count": 7,
   "id": "ac067fca",
   "metadata": {},
   "outputs": [
    {
     "data": {
      "text/plain": [
       "'izack newton'"
      ]
     },
     "execution_count": 7,
     "metadata": {},
     "output_type": "execute_result"
    }
   ],
   "source": [
    "aa.swapcase()"
   ]
  },
  {
   "cell_type": "code",
   "execution_count": 9,
   "id": "4a54239e",
   "metadata": {},
   "outputs": [
    {
     "data": {
      "text/plain": [
       "['izack', 'newton']"
      ]
     },
     "execution_count": 9,
     "metadata": {},
     "output_type": "execute_result"
    }
   ],
   "source": [
    "aa.split()"
   ]
  },
  {
   "cell_type": "code",
   "execution_count": 47,
   "id": "da878fff",
   "metadata": {},
   "outputs": [
    {
     "data": {
      "text/plain": [
       "['Python', 'Test']"
      ]
     },
     "execution_count": 47,
     "metadata": {},
     "output_type": "execute_result"
    }
   ],
   "source": [
    "a.split()"
   ]
  },
  {
   "cell_type": "code",
   "execution_count": 48,
   "id": "71c353e9",
   "metadata": {},
   "outputs": [],
   "source": [
    "p =\"izacknewton017@gmail.com\""
   ]
  },
  {
   "cell_type": "code",
   "execution_count": 53,
   "id": "b40f6183",
   "metadata": {},
   "outputs": [
    {
     "data": {
      "text/plain": [
       "['izacknewton017', 'gmail.com']"
      ]
     },
     "execution_count": 53,
     "metadata": {},
     "output_type": "execute_result"
    }
   ],
   "source": [
    "p.split('@')"
   ]
  },
  {
   "cell_type": "code",
   "execution_count": 56,
   "id": "643cab42",
   "metadata": {},
   "outputs": [],
   "source": [
    "file_name = 'Movies.pdf'"
   ]
  },
  {
   "cell_type": "code",
   "execution_count": 60,
   "id": "1af998c7",
   "metadata": {},
   "outputs": [],
   "source": [
    "extension = file_name.split('.')[1]"
   ]
  },
  {
   "cell_type": "code",
   "execution_count": 61,
   "id": "ac89d2c9",
   "metadata": {},
   "outputs": [
    {
     "data": {
      "text/plain": [
       "'pdf'"
      ]
     },
     "execution_count": 61,
     "metadata": {},
     "output_type": "execute_result"
    }
   ],
   "source": [
    "extension"
   ]
  },
  {
   "cell_type": "code",
   "execution_count": 12,
   "id": "85a70762",
   "metadata": {},
   "outputs": [],
   "source": [
    "study = \"This is the Python class\""
   ]
  },
  {
   "cell_type": "code",
   "execution_count": 19,
   "id": "b9e7b27f",
   "metadata": {},
   "outputs": [
    {
     "data": {
      "text/plain": [
       "['This', 'is', 'the', 'Python', 'class']"
      ]
     },
     "execution_count": 19,
     "metadata": {},
     "output_type": "execute_result"
    }
   ],
   "source": [
    "study.split()"
   ]
  },
  {
   "cell_type": "code",
   "execution_count": 75,
   "id": "fe40a7e6",
   "metadata": {},
   "outputs": [],
   "source": [
    "Name = 'izack newton'"
   ]
  },
  {
   "cell_type": "code",
   "execution_count": 76,
   "id": "05e2fd07",
   "metadata": {},
   "outputs": [
    {
     "data": {
      "text/plain": [
       "True"
      ]
     },
     "execution_count": 76,
     "metadata": {},
     "output_type": "execute_result"
    }
   ],
   "source": [
    "Name.startswith('R')"
   ]
  },
  {
   "cell_type": "code",
   "execution_count": 73,
   "id": "e99dbd47",
   "metadata": {},
   "outputs": [
    {
     "data": {
      "text/plain": [
       "True"
      ]
     },
     "execution_count": 73,
     "metadata": {},
     "output_type": "execute_result"
    }
   ],
   "source": [
    "Name.endswith('n')"
   ]
  },
  {
   "cell_type": "code",
   "execution_count": 77,
   "id": "6abd2f0f",
   "metadata": {},
   "outputs": [
    {
     "data": {
      "text/plain": [
       "True"
      ]
     },
     "execution_count": 77,
     "metadata": {},
     "output_type": "execute_result"
    }
   ],
   "source": [
    "Name.endswith('newton')"
   ]
  },
  {
   "cell_type": "code",
   "execution_count": 78,
   "id": "7b415031",
   "metadata": {},
   "outputs": [],
   "source": [
    "p = ['asdgghgdjg@gmail.com','sgshjgsg@gmail.com','aghsgg@rediffmail.com','sgfsff@yahoo.com']"
   ]
  },
  {
   "cell_type": "code",
   "execution_count": 80,
   "id": "d7187244",
   "metadata": {},
   "outputs": [
    {
     "name": "stdout",
     "output_type": "stream",
     "text": [
      "asdgghgdjg@gmail.com\n",
      "sgshjgsg@gmail.com\n"
     ]
    }
   ],
   "source": [
    "for i in p:\n",
    "    if i.endswith('@gmail.com'):\n",
    "        print(i)"
   ]
  },
  {
   "cell_type": "code",
   "execution_count": 81,
   "id": "f7ee38d6",
   "metadata": {},
   "outputs": [],
   "source": [
    "a = 'india is my country, i love my country'"
   ]
  },
  {
   "cell_type": "code",
   "execution_count": 82,
   "id": "1b1f00f8",
   "metadata": {},
   "outputs": [
    {
     "data": {
      "text/plain": [
       "9"
      ]
     },
     "execution_count": 82,
     "metadata": {},
     "output_type": "execute_result"
    }
   ],
   "source": [
    "a.find('my')"
   ]
  },
  {
   "cell_type": "code",
   "execution_count": 83,
   "id": "b8bbdb0b",
   "metadata": {},
   "outputs": [
    {
     "data": {
      "text/plain": [
       "-1"
      ]
     },
     "execution_count": 83,
     "metadata": {},
     "output_type": "execute_result"
    }
   ],
   "source": [
    "a.find('izack')"
   ]
  },
  {
   "cell_type": "code",
   "execution_count": 85,
   "id": "32f3aa5b",
   "metadata": {},
   "outputs": [
    {
     "data": {
      "text/plain": [
       "23"
      ]
     },
     "execution_count": 85,
     "metadata": {},
     "output_type": "execute_result"
    }
   ],
   "source": [
    "a.find('love')"
   ]
  },
  {
   "cell_type": "code",
   "execution_count": 23,
   "id": "a9a4e8df",
   "metadata": {},
   "outputs": [],
   "source": [
    "b = 'global economy is taking up position now'"
   ]
  },
  {
   "cell_type": "code",
   "execution_count": 24,
   "id": "51c45a60",
   "metadata": {},
   "outputs": [
    {
     "name": "stdout",
     "output_type": "stream",
     "text": [
      "Enter the string do you want to check : global\n",
      "\n",
      "found\n"
     ]
    }
   ],
   "source": [
    "user = input('Enter the string do you want to check : ')\n",
    "\n",
    "if b.find(user)==-1:\n",
    "    print('\\nstring not found')\n",
    "else:\n",
    "    print('\\nfound')"
   ]
  },
  {
   "cell_type": "code",
   "execution_count": 94,
   "id": "b0e8c387",
   "metadata": {},
   "outputs": [],
   "source": [
    "a = 15;b=50;c=a+b"
   ]
  },
  {
   "cell_type": "code",
   "execution_count": 26,
   "id": "b95b9a3c",
   "metadata": {},
   "outputs": [],
   "source": [
    "aa = 10; bb = 25; cc = aa+bb"
   ]
  },
  {
   "cell_type": "code",
   "execution_count": 27,
   "id": "30c3f7c5",
   "metadata": {},
   "outputs": [
    {
     "data": {
      "text/plain": [
       "'the addition of 10 and 25 is 35'"
      ]
     },
     "execution_count": 27,
     "metadata": {},
     "output_type": "execute_result"
    }
   ],
   "source": [
    "'the addition of {} and {} is {}'.format(aa,bb,cc)"
   ]
  },
  {
   "cell_type": "code",
   "execution_count": 97,
   "id": "44c3f351",
   "metadata": {},
   "outputs": [
    {
     "data": {
      "text/plain": [
       "'addition of 15 and 50 is 65'"
      ]
     },
     "execution_count": 97,
     "metadata": {},
     "output_type": "execute_result"
    }
   ],
   "source": [
    "\"addition of {} and {} is {}\".format(a,b,c)"
   ]
  },
  {
   "cell_type": "code",
   "execution_count": 99,
   "id": "153bdc6e",
   "metadata": {},
   "outputs": [
    {
     "data": {
      "text/plain": [
       "'addition of 10 and 50 is 60'"
      ]
     },
     "execution_count": 99,
     "metadata": {},
     "output_type": "execute_result"
    }
   ],
   "source": [
    "\"addition of {} and {} is {}\".format(10,50,10+50)"
   ]
  },
  {
   "cell_type": "code",
   "execution_count": 101,
   "id": "e780d95f",
   "metadata": {},
   "outputs": [],
   "source": [
    "a = 150;b = 250; c = a+b"
   ]
  },
  {
   "cell_type": "code",
   "execution_count": 102,
   "id": "508deb32",
   "metadata": {},
   "outputs": [
    {
     "data": {
      "text/plain": [
       "'Addition of 150 and 250 is 400'"
      ]
     },
     "execution_count": 102,
     "metadata": {},
     "output_type": "execute_result"
    }
   ],
   "source": [
    "\"Addition of {} and {} is {}\".format(a,b,c)"
   ]
  },
  {
   "cell_type": "code",
   "execution_count": 2,
   "id": "b9e43a53",
   "metadata": {},
   "outputs": [],
   "source": [
    "import datetime"
   ]
  },
  {
   "cell_type": "code",
   "execution_count": 104,
   "id": "cda9d3e0",
   "metadata": {},
   "outputs": [
    {
     "data": {
      "text/plain": [
       "datetime.date(2023, 1, 18)"
      ]
     },
     "execution_count": 104,
     "metadata": {},
     "output_type": "execute_result"
    }
   ],
   "source": [
    "datetime.datetime.date(datetime.datetime.now())"
   ]
  },
  {
   "cell_type": "code",
   "execution_count": 107,
   "id": "cee5908a",
   "metadata": {},
   "outputs": [],
   "source": [
    "filename = 'test.{}_txt'.format(datetime.datetime.date(datetime.datetime.now()))"
   ]
  },
  {
   "cell_type": "code",
   "execution_count": 108,
   "id": "04932060",
   "metadata": {},
   "outputs": [
    {
     "data": {
      "text/plain": [
       "'test.2023-01-18_txt'"
      ]
     },
     "execution_count": 108,
     "metadata": {},
     "output_type": "execute_result"
    }
   ],
   "source": [
    "filename"
   ]
  },
  {
   "cell_type": "code",
   "execution_count": 5,
   "id": "3d16cd26",
   "metadata": {},
   "outputs": [
    {
     "data": {
      "text/plain": [
       "'Multiplication of 12 and 15 is 180'"
      ]
     },
     "execution_count": 5,
     "metadata": {},
     "output_type": "execute_result"
    }
   ],
   "source": [
    "\"Multiplication of {} and {} is {}\".format(12,15,12*15)"
   ]
  },
  {
   "cell_type": "code",
   "execution_count": 31,
   "id": "a76da21e",
   "metadata": {},
   "outputs": [
    {
     "data": {
      "text/plain": [
       "'The name of Ajay and lastname is Lilhare'"
      ]
     },
     "execution_count": 31,
     "metadata": {},
     "output_type": "execute_result"
    }
   ],
   "source": [
    "\"The name of {} and lastname is {}\".format(name,surname)"
   ]
  },
  {
   "cell_type": "code",
   "execution_count": 36,
   "id": "719d09d1",
   "metadata": {},
   "outputs": [
    {
     "name": "stdout",
     "output_type": "stream",
     "text": [
      "What is your name :- izack\n",
      "what is your lastname :- newton\n",
      "\n",
      "The name he tell us is izack and lastname is newton\n"
     ]
    }
   ],
   "source": [
    "name = input('What is your name :- '); surname = input('what is your lastname :- ')\n",
    "print(\"\\nThe name he tell us is {} and lastname is {}\".format(name,surname))"
   ]
  },
  {
   "cell_type": "code",
   "execution_count": null,
   "id": "28f6f514",
   "metadata": {},
   "outputs": [],
   "source": []
  },
  {
   "cell_type": "code",
   "execution_count": 13,
   "id": "92f6659a",
   "metadata": {},
   "outputs": [
    {
     "data": {
      "text/plain": [
       "'My name is izack and i am from Chikhali'"
      ]
     },
     "execution_count": 13,
     "metadata": {},
     "output_type": "execute_result"
    }
   ],
   "source": [
    "\"My name is {} and i am from {}\".format('izack','Chikhali')"
   ]
  },
  {
   "cell_type": "code",
   "execution_count": 15,
   "id": "29e20f9f",
   "metadata": {},
   "outputs": [
    {
     "data": {
      "text/plain": [
       "'Multiplication of 10 and 25 is 250'"
      ]
     },
     "execution_count": 15,
     "metadata": {},
     "output_type": "execute_result"
    }
   ],
   "source": [
    "f\"Multiplication of {10} and {25} is {10*25}\""
   ]
  },
  {
   "cell_type": "code",
   "execution_count": 37,
   "id": "23625c92",
   "metadata": {},
   "outputs": [],
   "source": [
    "name = 'izack'; surname = 'newton'"
   ]
  },
  {
   "cell_type": "code",
   "execution_count": 39,
   "id": "2eba8189",
   "metadata": {},
   "outputs": [
    {
     "data": {
      "text/plain": [
       "'The FirstName is izack and LastName is newton'"
      ]
     },
     "execution_count": 39,
     "metadata": {},
     "output_type": "execute_result"
    }
   ],
   "source": [
    "f\"The FirstName is {name} and LastName is {surname}\""
   ]
  },
  {
   "cell_type": "code",
   "execution_count": 16,
   "id": "d4f7fe13",
   "metadata": {},
   "outputs": [],
   "source": [
    "a = \"fdjgfjdkkdedfjhadfGVJYG\""
   ]
  },
  {
   "cell_type": "code",
   "execution_count": 19,
   "id": "719f20eb",
   "metadata": {},
   "outputs": [
    {
     "data": {
      "text/plain": [
       "4"
      ]
     },
     "execution_count": 19,
     "metadata": {},
     "output_type": "execute_result"
    }
   ],
   "source": [
    "a.count('f')"
   ]
  },
  {
   "cell_type": "code",
   "execution_count": 24,
   "id": "d3c450fb",
   "metadata": {},
   "outputs": [],
   "source": [
    "a = 'izack'"
   ]
  },
  {
   "cell_type": "code",
   "execution_count": 42,
   "id": "b2789a63",
   "metadata": {},
   "outputs": [
    {
     "name": "stdout",
     "output_type": "stream",
     "text": [
      "Enter te name:izack      \n"
     ]
    }
   ],
   "source": [
    "b = input('Enter te name:').lstrip()"
   ]
  },
  {
   "cell_type": "code",
   "execution_count": 44,
   "id": "bf60551e",
   "metadata": {},
   "outputs": [
    {
     "data": {
      "text/plain": [
       "True"
      ]
     },
     "execution_count": 44,
     "metadata": {},
     "output_type": "execute_result"
    }
   ],
   "source": [
    "a == b.rstrip()"
   ]
  },
  {
   "cell_type": "code",
   "execution_count": 45,
   "id": "9448da71",
   "metadata": {},
   "outputs": [],
   "source": [
    "a = 'izack'"
   ]
  },
  {
   "cell_type": "code",
   "execution_count": 41,
   "id": "f77399da",
   "metadata": {},
   "outputs": [
    {
     "data": {
      "text/plain": [
       "'0000Python Test'"
      ]
     },
     "execution_count": 41,
     "metadata": {},
     "output_type": "execute_result"
    }
   ],
   "source": [
    "a.zfill(15)"
   ]
  },
  {
   "cell_type": "code",
   "execution_count": 51,
   "id": "6dbaa866",
   "metadata": {},
   "outputs": [],
   "source": [
    "a = 'izack'"
   ]
  },
  {
   "cell_type": "code",
   "execution_count": 56,
   "id": "a647451f",
   "metadata": {},
   "outputs": [
    {
     "data": {
      "text/plain": [
       "'izack'"
      ]
     },
     "execution_count": 56,
     "metadata": {},
     "output_type": "execute_result"
    }
   ],
   "source": [
    "a.center(10).strip()"
   ]
  },
  {
   "cell_type": "code",
   "execution_count": 61,
   "id": "126d2a06",
   "metadata": {},
   "outputs": [],
   "source": [
    "a = 'izack newton'"
   ]
  },
  {
   "cell_type": "code",
   "execution_count": 60,
   "id": "2d730527",
   "metadata": {},
   "outputs": [
    {
     "data": {
      "text/plain": [
       "True"
      ]
     },
     "execution_count": 60,
     "metadata": {},
     "output_type": "execute_result"
    }
   ],
   "source": [
    "a.isalpha()"
   ]
  },
  {
   "cell_type": "code",
   "execution_count": 62,
   "id": "5ec5029b",
   "metadata": {},
   "outputs": [],
   "source": [
    "a = \"AGAdvbk55464\""
   ]
  },
  {
   "cell_type": "code",
   "execution_count": 64,
   "id": "98d88be5",
   "metadata": {},
   "outputs": [
    {
     "data": {
      "text/plain": [
       "False"
      ]
     },
     "execution_count": 64,
     "metadata": {},
     "output_type": "execute_result"
    }
   ],
   "source": [
    "a.isalpha()"
   ]
  },
  {
   "cell_type": "code",
   "execution_count": 66,
   "id": "54ce249f",
   "metadata": {},
   "outputs": [
    {
     "data": {
      "text/plain": [
       "True"
      ]
     },
     "execution_count": 66,
     "metadata": {},
     "output_type": "execute_result"
    }
   ],
   "source": [
    "a.isalnum()"
   ]
  },
  {
   "cell_type": "code",
   "execution_count": 67,
   "id": "de358e46",
   "metadata": {},
   "outputs": [
    {
     "data": {
      "text/plain": [
       "False"
      ]
     },
     "execution_count": 67,
     "metadata": {},
     "output_type": "execute_result"
    }
   ],
   "source": [
    "a.isnumeric()"
   ]
  },
  {
   "cell_type": "code",
   "execution_count": 68,
   "id": "cfbf0272",
   "metadata": {},
   "outputs": [
    {
     "data": {
      "text/plain": [
       "False"
      ]
     },
     "execution_count": 68,
     "metadata": {},
     "output_type": "execute_result"
    }
   ],
   "source": [
    "a.isalpha()"
   ]
  },
  {
   "cell_type": "code",
   "execution_count": 70,
   "id": "66e0ca5f",
   "metadata": {},
   "outputs": [
    {
     "data": {
      "text/plain": [
       "False"
      ]
     },
     "execution_count": 70,
     "metadata": {},
     "output_type": "execute_result"
    }
   ],
   "source": [
    "a.isnumeric()"
   ]
  },
  {
   "cell_type": "code",
   "execution_count": 71,
   "id": "62bf1e2f",
   "metadata": {},
   "outputs": [
    {
     "data": {
      "text/plain": [
       "False"
      ]
     },
     "execution_count": 71,
     "metadata": {},
     "output_type": "execute_result"
    }
   ],
   "source": [
    "a.isalpha()"
   ]
  },
  {
   "cell_type": "code",
   "execution_count": 72,
   "id": "fd4692ac",
   "metadata": {},
   "outputs": [],
   "source": [
    "d = \"SJHGDJH154llklhjkl\""
   ]
  },
  {
   "cell_type": "code",
   "execution_count": 73,
   "id": "665dc620",
   "metadata": {},
   "outputs": [
    {
     "data": {
      "text/plain": [
       "['SJHGDJH', 'llklhjkl']"
      ]
     },
     "execution_count": 73,
     "metadata": {},
     "output_type": "execute_result"
    }
   ],
   "source": [
    "d.split('154')"
   ]
  },
  {
   "cell_type": "code",
   "execution_count": 74,
   "id": "d096a2e1",
   "metadata": {},
   "outputs": [],
   "source": [
    "g = '₹100'"
   ]
  },
  {
   "cell_type": "code",
   "execution_count": 76,
   "id": "3e2d40c3",
   "metadata": {},
   "outputs": [
    {
     "data": {
      "text/plain": [
       "['', '100']"
      ]
     },
     "execution_count": 76,
     "metadata": {},
     "output_type": "execute_result"
    }
   ],
   "source": [
    "g.split('₹')"
   ]
  },
  {
   "cell_type": "code",
   "execution_count": 77,
   "id": "d00f0944",
   "metadata": {},
   "outputs": [
    {
     "data": {
      "text/plain": [
       "True"
      ]
     },
     "execution_count": 77,
     "metadata": {},
     "output_type": "execute_result"
    }
   ],
   "source": [
    "g[1:].isnumeric()"
   ]
  },
  {
   "cell_type": "code",
   "execution_count": 83,
   "id": "350655fe",
   "metadata": {},
   "outputs": [],
   "source": [
    "f = \"1@2@3@4\""
   ]
  },
  {
   "cell_type": "code",
   "execution_count": 84,
   "id": "32022147",
   "metadata": {},
   "outputs": [],
   "source": [
    "h = f.split('@')"
   ]
  },
  {
   "cell_type": "code",
   "execution_count": 85,
   "id": "0e9c0979",
   "metadata": {},
   "outputs": [
    {
     "data": {
      "text/plain": [
       "['1', '2', '3', '4']"
      ]
     },
     "execution_count": 85,
     "metadata": {},
     "output_type": "execute_result"
    }
   ],
   "source": [
    "h"
   ]
  },
  {
   "cell_type": "code",
   "execution_count": 86,
   "id": "0219e288",
   "metadata": {},
   "outputs": [],
   "source": [
    "s = h[0]+h[1]+h[2]+h[3]"
   ]
  },
  {
   "cell_type": "code",
   "execution_count": 87,
   "id": "984c55b1",
   "metadata": {},
   "outputs": [
    {
     "data": {
      "text/plain": [
       "True"
      ]
     },
     "execution_count": 87,
     "metadata": {},
     "output_type": "execute_result"
    }
   ],
   "source": [
    "s.isdigit()"
   ]
  },
  {
   "cell_type": "code",
   "execution_count": 88,
   "id": "4db436d1",
   "metadata": {},
   "outputs": [
    {
     "data": {
      "text/plain": [
       "'1234'"
      ]
     },
     "execution_count": 88,
     "metadata": {},
     "output_type": "execute_result"
    }
   ],
   "source": [
    "s"
   ]
  },
  {
   "cell_type": "code",
   "execution_count": 89,
   "id": "b91f06fc",
   "metadata": {},
   "outputs": [],
   "source": [
    "digit = 100"
   ]
  },
  {
   "cell_type": "code",
   "execution_count": 90,
   "id": "b6b2a618",
   "metadata": {},
   "outputs": [
    {
     "data": {
      "text/plain": [
       "'100'"
      ]
     },
     "execution_count": 90,
     "metadata": {},
     "output_type": "execute_result"
    }
   ],
   "source": [
    "str(digit)"
   ]
  },
  {
   "cell_type": "code",
   "execution_count": 91,
   "id": "ea08db6b",
   "metadata": {},
   "outputs": [
    {
     "name": "stdout",
     "output_type": "stream",
     "text": [
      "Welcome to 'Python Tutorial' on TutorialsTeacher\n",
      "Welcome to \"Python Tutorial\" on TutorialsTeacher\n"
     ]
    }
   ],
   "source": [
    "str1='Welcome to \\'Python Tutorial\\' on TutorialsTeacher'\n",
    "print(str1)\n",
    "\n",
    "str2=\"Welcome to \\\"Python Tutorial\\\" on TutorialsTeacher\"\n",
    "print(str2)"
   ]
  },
  {
   "cell_type": "code",
   "execution_count": 100,
   "id": "bdd2e150",
   "metadata": {},
   "outputs": [
    {
     "name": "stdout",
     "output_type": "stream",
     "text": [
      "izack\n",
      "newton\n"
     ]
    }
   ],
   "source": [
    "print('izack\\nnewton')"
   ]
  },
  {
   "cell_type": "code",
   "execution_count": 99,
   "id": "f28f8d74",
   "metadata": {},
   "outputs": [
    {
     "name": "stdout",
     "output_type": "stream",
     "text": [
      "hello\n",
      "world\n"
     ]
    }
   ],
   "source": [
    "print(\"hello\\nworld\")"
   ]
  },
  {
   "cell_type": "code",
   "execution_count": 101,
   "id": "4a5ed62a",
   "metadata": {},
   "outputs": [],
   "source": [
    "a = 'hello world'"
   ]
  },
  {
   "cell_type": "code",
   "execution_count": 103,
   "id": "f036a82b",
   "metadata": {},
   "outputs": [
    {
     "data": {
      "text/plain": [
       "'Hello World'"
      ]
     },
     "execution_count": 103,
     "metadata": {},
     "output_type": "execute_result"
    }
   ],
   "source": [
    "a.title()"
   ]
  },
  {
   "cell_type": "code",
   "execution_count": 104,
   "id": "54e9ee30",
   "metadata": {},
   "outputs": [],
   "source": [
    "py_list = [12,35,65,85,'izack','newton']"
   ]
  },
  {
   "cell_type": "code",
   "execution_count": 110,
   "id": "3792f6fe",
   "metadata": {},
   "outputs": [
    {
     "data": {
      "text/plain": [
       "{12, 35, 65, 85, 'izack', 'newton'}"
      ]
     },
     "execution_count": 110,
     "metadata": {},
     "output_type": "execute_result"
    }
   ],
   "source": [
    "set(py_list)"
   ]
  },
  {
   "cell_type": "code",
   "execution_count": 111,
   "id": "1e540a0e",
   "metadata": {},
   "outputs": [],
   "source": [
    "a = [1,4,3]"
   ]
  },
  {
   "cell_type": "code",
   "execution_count": 113,
   "id": "848a5f2e",
   "metadata": {},
   "outputs": [],
   "source": [
    "b = ['a','b','c']"
   ]
  },
  {
   "cell_type": "code",
   "execution_count": 116,
   "id": "d13a28c8",
   "metadata": {},
   "outputs": [
    {
     "data": {
      "text/plain": [
       "{'a': 'a', 'b': 'b', 'c': 'c'}"
      ]
     },
     "execution_count": 116,
     "metadata": {},
     "output_type": "execute_result"
    }
   ],
   "source": [
    "dict(zip(b,b))"
   ]
  },
  {
   "cell_type": "code",
   "execution_count": 129,
   "id": "f83ec84e",
   "metadata": {},
   "outputs": [
    {
     "name": "stdout",
     "output_type": "stream",
     "text": [
      "['1', '4', '3']\n"
     ]
    }
   ],
   "source": [
    "m = []\n",
    "\n",
    "for i in a:\n",
    "    m.append(str(i))\n",
    "print(m)"
   ]
  },
  {
   "cell_type": "code",
   "execution_count": 130,
   "id": "bbd5fdce",
   "metadata": {},
   "outputs": [
    {
     "data": {
      "text/plain": [
       "['1', '4', '3']"
      ]
     },
     "execution_count": 130,
     "metadata": {},
     "output_type": "execute_result"
    }
   ],
   "source": [
    "[str(i) for i in a]"
   ]
  },
  {
   "cell_type": "code",
   "execution_count": 131,
   "id": "239f37b8",
   "metadata": {},
   "outputs": [],
   "source": [
    "p = [25,15,1,4,5,6,5,8,55]"
   ]
  },
  {
   "cell_type": "code",
   "execution_count": 134,
   "id": "2300e89c",
   "metadata": {},
   "outputs": [],
   "source": [
    "temp = list(set(p))"
   ]
  },
  {
   "cell_type": "code",
   "execution_count": 135,
   "id": "b8cd9b0a",
   "metadata": {},
   "outputs": [
    {
     "data": {
      "text/plain": [
       "[1, 4, 5, 6, 8, 15, 55, 25]"
      ]
     },
     "execution_count": 135,
     "metadata": {},
     "output_type": "execute_result"
    }
   ],
   "source": [
    "temp"
   ]
  },
  {
   "cell_type": "code",
   "execution_count": 136,
   "id": "a649602d",
   "metadata": {},
   "outputs": [],
   "source": [
    "temp = {'Name': 'izack','Id':12345,'sal':75000}"
   ]
  },
  {
   "cell_type": "code",
   "execution_count": 141,
   "id": "bfc6b09f",
   "metadata": {},
   "outputs": [
    {
     "data": {
      "text/plain": [
       "[('Name', 'izack'), ('Id', 12345), ('sal', 75000)]"
      ]
     },
     "execution_count": 141,
     "metadata": {},
     "output_type": "execute_result"
    }
   ],
   "source": [
    "list(temp.items())"
   ]
  },
  {
   "cell_type": "code",
   "execution_count": 142,
   "id": "0d9afbec",
   "metadata": {},
   "outputs": [],
   "source": [
    "n = [('Name', 'izack'), ('Id', 12345), ('sal', 75000)]"
   ]
  },
  {
   "cell_type": "code",
   "execution_count": 143,
   "id": "60857912",
   "metadata": {},
   "outputs": [
    {
     "data": {
      "text/plain": [
       "{'Name': 'izack', 'Id': 12345, 'sal': 75000}"
      ]
     },
     "execution_count": 143,
     "metadata": {},
     "output_type": "execute_result"
    }
   ],
   "source": [
    "dict(n)"
   ]
  },
  {
   "cell_type": "code",
   "execution_count": 148,
   "id": "d1c4153e",
   "metadata": {},
   "outputs": [
    {
     "data": {
      "text/plain": [
       "{12345, 75000, 'izack'}"
      ]
     },
     "execution_count": 148,
     "metadata": {},
     "output_type": "execute_result"
    }
   ],
   "source": [
    "set(temp.values())"
   ]
  },
  {
   "cell_type": "code",
   "execution_count": null,
   "id": "46911185",
   "metadata": {},
   "outputs": [],
   "source": [
    "mystr = 'TutorialsTeacher is a free online Tutorials website'\n",
    "\n",
    "total = mystr.count('Tutorials')\n",
    "print('Number of occurrences of \"Tutorials\":', total)\n",
    "\n",
    "total = mystr.count('tutorials')\n",
    "print('Number of occurrences of \"tutorials\":', total)"
   ]
  },
  {
   "cell_type": "code",
   "execution_count": 149,
   "id": "5e20ac30",
   "metadata": {},
   "outputs": [],
   "source": [
    "mystr = 'tutorialsteachers is a free online class'"
   ]
  },
  {
   "cell_type": "code",
   "execution_count": 158,
   "id": "bc52c3fd",
   "metadata": {},
   "outputs": [
    {
     "data": {
      "text/plain": [
       "1"
      ]
     },
     "execution_count": 158,
     "metadata": {},
     "output_type": "execute_result"
    }
   ],
   "source": [
    "mystr.count('i',19)"
   ]
  },
  {
   "cell_type": "code",
   "execution_count": 160,
   "id": "d6ba656f",
   "metadata": {},
   "outputs": [
    {
     "name": "stdout",
     "output_type": "stream",
     "text": [
      "Number of occurrences: 0\n"
     ]
    }
   ],
   "source": [
    "mystr = 'Hello World!'\n",
    "substr = 'l'\n",
    "total = mystr.count('z')\n",
    "print('Number of occurrences:', total)"
   ]
  },
  {
   "cell_type": "code",
   "execution_count": 161,
   "id": "9909494f",
   "metadata": {},
   "outputs": [],
   "source": [
    "import operator"
   ]
  },
  {
   "cell_type": "code",
   "execution_count": 168,
   "id": "b9ce4bc7",
   "metadata": {},
   "outputs": [
    {
     "data": {
      "text/plain": [
       "2.0"
      ]
     },
     "execution_count": 168,
     "metadata": {},
     "output_type": "execute_result"
    }
   ],
   "source": [
    "operator.truediv(10,5)"
   ]
  },
  {
   "cell_type": "code",
   "execution_count": 178,
   "id": "814f1e59",
   "metadata": {},
   "outputs": [
    {
     "data": {
      "text/plain": [
       "True"
      ]
     },
     "execution_count": 178,
     "metadata": {},
     "output_type": "execute_result"
    }
   ],
   "source": [
    "operator.le(6,6)"
   ]
  },
  {
   "cell_type": "code",
   "execution_count": null,
   "id": "fda2bc7f",
   "metadata": {},
   "outputs": [],
   "source": [
    " x = 5; y = 6\n",
    ">>> x is y \n",
    "False\n",
    ">>> import operator\n",
    ">>> operator.is_(x,y)\n",
    "False"
   ]
  },
  {
   "cell_type": "code",
   "execution_count": 187,
   "id": "1836971f",
   "metadata": {},
   "outputs": [],
   "source": [
    "x = 5; y = 10"
   ]
  },
  {
   "cell_type": "code",
   "execution_count": 188,
   "id": "c2dab04e",
   "metadata": {},
   "outputs": [
    {
     "data": {
      "text/plain": [
       "False"
      ]
     },
     "execution_count": 188,
     "metadata": {},
     "output_type": "execute_result"
    }
   ],
   "source": [
    "x is y"
   ]
  },
  {
   "cell_type": "code",
   "execution_count": 189,
   "id": "8a9a1819",
   "metadata": {},
   "outputs": [
    {
     "data": {
      "text/plain": [
       "False"
      ]
     },
     "execution_count": 189,
     "metadata": {},
     "output_type": "execute_result"
    }
   ],
   "source": [
    "operator.is_(x,y)"
   ]
  },
  {
   "cell_type": "code",
   "execution_count": 190,
   "id": "32318b20",
   "metadata": {},
   "outputs": [
    {
     "data": {
      "text/plain": [
       "True"
      ]
     },
     "execution_count": 190,
     "metadata": {},
     "output_type": "execute_result"
    }
   ],
   "source": [
    "x is not y"
   ]
  },
  {
   "cell_type": "code",
   "execution_count": 193,
   "id": "7f61a411",
   "metadata": {},
   "outputs": [
    {
     "data": {
      "text/plain": [
       "True"
      ]
     },
     "execution_count": 193,
     "metadata": {},
     "output_type": "execute_result"
    }
   ],
   "source": [
    "operator.is_not(x,y)"
   ]
  },
  {
   "cell_type": "code",
   "execution_count": null,
   "id": "069080e4",
   "metadata": {},
   "outputs": [],
   "source": [
    ">>> nums = [1,2,3,4,5]\n",
    ">>> 1 in nums \n",
    "True\n",
    ">>> 10 in nums \n",
    "False\n",
    ">>> 'str' in 'string'\n",
    "True\n",
    ">>> import operator\n",
    ">>> operator.contains(nums, 2)\n",
    "True"
   ]
  },
  {
   "cell_type": "code",
   "execution_count": 203,
   "id": "a7ae35e4",
   "metadata": {},
   "outputs": [],
   "source": [
    "nums = [1,2,3,4,5,'izack']"
   ]
  },
  {
   "cell_type": "code",
   "execution_count": 195,
   "id": "caed5509",
   "metadata": {},
   "outputs": [
    {
     "data": {
      "text/plain": [
       "True"
      ]
     },
     "execution_count": 195,
     "metadata": {},
     "output_type": "execute_result"
    }
   ],
   "source": [
    "1 in nums"
   ]
  },
  {
   "cell_type": "code",
   "execution_count": 196,
   "id": "80fc1217",
   "metadata": {},
   "outputs": [
    {
     "data": {
      "text/plain": [
       "False"
      ]
     },
     "execution_count": 196,
     "metadata": {},
     "output_type": "execute_result"
    }
   ],
   "source": [
    "10 in nums"
   ]
  },
  {
   "cell_type": "code",
   "execution_count": 197,
   "id": "a7004228",
   "metadata": {},
   "outputs": [
    {
     "data": {
      "text/plain": [
       "True"
      ]
     },
     "execution_count": 197,
     "metadata": {},
     "output_type": "execute_result"
    }
   ],
   "source": [
    "10 not in nums"
   ]
  },
  {
   "cell_type": "code",
   "execution_count": 200,
   "id": "1963d5d9",
   "metadata": {},
   "outputs": [
    {
     "data": {
      "text/plain": [
       "True"
      ]
     },
     "execution_count": 200,
     "metadata": {},
     "output_type": "execute_result"
    }
   ],
   "source": [
    "'Ros' in 'izack'"
   ]
  },
  {
   "cell_type": "code",
   "execution_count": 205,
   "id": "361b2e4e",
   "metadata": {},
   "outputs": [
    {
     "data": {
      "text/plain": [
       "True"
      ]
     },
     "execution_count": 205,
     "metadata": {},
     "output_type": "execute_result"
    }
   ],
   "source": [
    "operator.contains(nums,'izack')"
   ]
  },
  {
   "cell_type": "code",
   "execution_count": null,
   "id": "90b3d897",
   "metadata": {},
   "outputs": [],
   "source": []
  }
 ],
 "metadata": {
  "kernelspec": {
   "display_name": "Python 3 (ipykernel)",
   "language": "python",
   "name": "python3"
  },
  "language_info": {
   "codemirror_mode": {
    "name": "ipython",
    "version": 3
   },
   "file_extension": ".py",
   "mimetype": "text/x-python",
   "name": "python",
   "nbconvert_exporter": "python",
   "pygments_lexer": "ipython3",
   "version": "3.9.12"
  }
 },
 "nbformat": 4,
 "nbformat_minor": 5
}
