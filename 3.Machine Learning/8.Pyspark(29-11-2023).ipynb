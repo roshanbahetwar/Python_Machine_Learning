{
 "cells": [
  {
   "cell_type": "code",
   "execution_count": null,
   "id": "a357342e",
   "metadata": {},
   "outputs": [],
   "source": [
    "# ******Read File Through Pyspark*******"
   ]
  },
  {
   "cell_type": "code",
   "execution_count": null,
   "id": "8387d837",
   "metadata": {},
   "outputs": [],
   "source": [
    "# !pip install pyspark     'install pyspark'"
   ]
  },
  {
   "cell_type": "code",
   "execution_count": null,
   "id": "669603f2",
   "metadata": {},
   "outputs": [],
   "source": [
    "# pip install sparksql-magic"
   ]
  },
  {
   "cell_type": "code",
   "execution_count": 1,
   "id": "ed2c0da6",
   "metadata": {},
   "outputs": [],
   "source": [
    "import pyspark as ps"
   ]
  },
  {
   "cell_type": "code",
   "execution_count": 2,
   "id": "abefd1d4",
   "metadata": {},
   "outputs": [],
   "source": [
    "spark = ps.sql.SparkSession.builder.getOrCreate()"
   ]
  },
  {
   "cell_type": "code",
   "execution_count": 3,
   "id": "4ff17906",
   "metadata": {},
   "outputs": [
    {
     "data": {
      "text/html": [
       "\n",
       "            <div>\n",
       "                <p><b>SparkSession - in-memory</b></p>\n",
       "                \n",
       "        <div>\n",
       "            <p><b>SparkContext</b></p>\n",
       "\n",
       "            <p><a href=\"http://LAPTOP-AT3H5HSA:4040\">Spark UI</a></p>\n",
       "\n",
       "            <dl>\n",
       "              <dt>Version</dt>\n",
       "                <dd><code>v3.3.1</code></dd>\n",
       "              <dt>Master</dt>\n",
       "                <dd><code>local[*]</code></dd>\n",
       "              <dt>AppName</dt>\n",
       "                <dd><code>pyspark-shell</code></dd>\n",
       "            </dl>\n",
       "        </div>\n",
       "        \n",
       "            </div>\n",
       "        "
      ],
      "text/plain": [
       "<pyspark.sql.session.SparkSession at 0x21e664f5730>"
      ]
     },
     "execution_count": 3,
     "metadata": {},
     "output_type": "execute_result"
    }
   ],
   "source": [
    "spark"
   ]
  },
  {
   "cell_type": "code",
   "execution_count": 4,
   "id": "3792db43",
   "metadata": {},
   "outputs": [
    {
     "data": {
      "text/plain": [
       "pyspark.sql.session.SparkSession"
      ]
     },
     "execution_count": 4,
     "metadata": {},
     "output_type": "execute_result"
    }
   ],
   "source": [
    "type(spark)"
   ]
  },
  {
   "cell_type": "code",
   "execution_count": 11,
   "id": "04385751",
   "metadata": {},
   "outputs": [],
   "source": [
    "df = spark.read.csv(r\"C:\\Users\\Roshan B\\Desktop\\ML\\Dataset\\movies_data.csv\",header=True, inferSchema=True)  \n",
    "\n",
    "# when it will be read the type of all data will be in string, so convert datatype according to column header write--> inferSchema = True"
   ]
  },
  {
   "cell_type": "code",
   "execution_count": 12,
   "id": "24bb2f76",
   "metadata": {},
   "outputs": [
    {
     "data": {
      "text/plain": [
       "DataFrame[star_rating: double, title: string, content_rating: string, genre: string, duration: int, actors_list: string]"
      ]
     },
     "execution_count": 12,
     "metadata": {},
     "output_type": "execute_result"
    }
   ],
   "source": [
    "df"
   ]
  },
  {
   "cell_type": "code",
   "execution_count": 13,
   "id": "db052479",
   "metadata": {},
   "outputs": [
    {
     "name": "stdout",
     "output_type": "stream",
     "text": [
      "+-----------+--------------------+--------------+---------+--------+--------------------+\n",
      "|star_rating|               title|content_rating|    genre|duration|         actors_list|\n",
      "+-----------+--------------------+--------------+---------+--------+--------------------+\n",
      "|        9.3|The Shawshank Red...|             R|    Crime|     142|[u'Tim Robbins', ...|\n",
      "|        9.2|       The Godfather|             R|    Crime|     175|[u'Marlon Brando'...|\n",
      "|        9.1|The Godfather: Pa...|             R|    Crime|     200|[u'Al Pacino', u'...|\n",
      "|        9.0|     The Dark Knight|         PG-13|   Action|     152|[u'Christian Bale...|\n",
      "|        8.9|        Pulp Fiction|             R|    Crime|     154|[u'John Travolta'...|\n",
      "|        8.9|        12 Angry Men|     NOT RATED|    Drama|      96|[u'Henry Fonda', ...|\n",
      "|        8.9|The Good, the Bad...|     NOT RATED|  Western|     161|[u'Clint Eastwood...|\n",
      "|        8.9|The Lord of the R...|         PG-13|Adventure|     201|[u'Elijah Wood', ...|\n",
      "|        8.9|    Schindler's List|             R|Biography|     195|[u'Liam Neeson', ...|\n",
      "|        8.9|          Fight Club|             R|    Drama|     139|[u'Brad Pitt', u'...|\n",
      "|        8.8|The Lord of the R...|         PG-13|Adventure|     178|[u'Elijah Wood', ...|\n",
      "|        8.8|           Inception|         PG-13|   Action|     148|[u'Leonardo DiCap...|\n",
      "|        8.8|Star Wars: Episod...|            PG|   Action|     124|[u'Mark Hamill', ...|\n",
      "|        8.8|        Forrest Gump|         PG-13|    Drama|     142|[u'Tom Hanks', u'...|\n",
      "|        8.8|The Lord of the R...|         PG-13|Adventure|     179|[u'Elijah Wood', ...|\n",
      "|        8.7|        Interstellar|         PG-13|Adventure|     169|[u'Matthew McCona...|\n",
      "|        8.7|One Flew Over the...|             R|    Drama|     133|[u'Jack Nicholson...|\n",
      "|        8.7|       Seven Samurai|       UNRATED|    Drama|     207|[u'Toshir\\xf4 Mif...|\n",
      "|        8.7|          Goodfellas|             R|Biography|     146|[u'Robert De Niro...|\n",
      "|        8.7|           Star Wars|            PG|   Action|     121|[u'Mark Hamill', ...|\n",
      "+-----------+--------------------+--------------+---------+--------+--------------------+\n",
      "only showing top 20 rows\n",
      "\n"
     ]
    }
   ],
   "source": [
    "df.show()   # for show table data"
   ]
  },
  {
   "cell_type": "code",
   "execution_count": 14,
   "id": "e8ba08be",
   "metadata": {},
   "outputs": [
    {
     "name": "stdout",
     "output_type": "stream",
     "text": [
      "root\n",
      " |-- star_rating: double (nullable = true)\n",
      " |-- title: string (nullable = true)\n",
      " |-- content_rating: string (nullable = true)\n",
      " |-- genre: string (nullable = true)\n",
      " |-- duration: integer (nullable = true)\n",
      " |-- actors_list: string (nullable = true)\n",
      "\n"
     ]
    }
   ],
   "source": [
    "# to check datatype\n",
    "\n",
    "df.printSchema()"
   ]
  },
  {
   "cell_type": "code",
   "execution_count": 15,
   "id": "e39001e3",
   "metadata": {},
   "outputs": [
    {
     "data": {
      "text/plain": [
       "['star_rating', 'title', 'content_rating', 'genre', 'duration', 'actors_list']"
      ]
     },
     "execution_count": 15,
     "metadata": {},
     "output_type": "execute_result"
    }
   ],
   "source": [
    "df.columns   # fetch columns"
   ]
  },
  {
   "cell_type": "code",
   "execution_count": 17,
   "id": "883d95b1",
   "metadata": {},
   "outputs": [
    {
     "data": {
      "text/plain": [
       "DataFrame[summary: string, star_rating: string, title: string, content_rating: string, genre: string, duration: string, actors_list: string]"
      ]
     },
     "execution_count": 17,
     "metadata": {},
     "output_type": "execute_result"
    }
   ],
   "source": [
    "df.describe()   # show summary of data"
   ]
  },
  {
   "cell_type": "code",
   "execution_count": 18,
   "id": "eea16226",
   "metadata": {},
   "outputs": [
    {
     "data": {
      "text/plain": [
       "979"
      ]
     },
     "execution_count": 18,
     "metadata": {},
     "output_type": "execute_result"
    }
   ],
   "source": [
    "df.count()    # no. of rows"
   ]
  },
  {
   "cell_type": "code",
   "execution_count": 19,
   "id": "deffedf8",
   "metadata": {},
   "outputs": [
    {
     "data": {
      "text/plain": [
       "Row(star_rating=9.3, title='The Shawshank Redemption', content_rating='R', genre='Crime', duration=142, actors_list=\"[u'Tim Robbins', u'Morgan Freeman', u'Bob Gunton']\")"
      ]
     },
     "execution_count": 19,
     "metadata": {},
     "output_type": "execute_result"
    }
   ],
   "source": [
    "df.first()   # fetch first row"
   ]
  },
  {
   "cell_type": "code",
   "execution_count": 23,
   "id": "32d7bb95",
   "metadata": {},
   "outputs": [
    {
     "data": {
      "text/plain": [
       "Row(star_rating=9.1, title='The Godfather: Part II', content_rating='R', genre='Crime', duration=200, actors_list=\"[u'Al Pacino', u'Robert De Niro', u'Robert Duvall']\")"
      ]
     },
     "execution_count": 23,
     "metadata": {},
     "output_type": "execute_result"
    }
   ],
   "source": [
    "df.collect()[2]      # fetch record of index no.--> 2 "
   ]
  },
  {
   "cell_type": "code",
   "execution_count": 25,
   "id": "5792af7a",
   "metadata": {},
   "outputs": [
    {
     "data": {
      "text/plain": [
       "[('star_rating', 'double'),\n",
       " ('title', 'string'),\n",
       " ('content_rating', 'string'),\n",
       " ('genre', 'string'),\n",
       " ('duration', 'int'),\n",
       " ('actors_list', 'string')]"
      ]
     },
     "execution_count": 25,
     "metadata": {},
     "output_type": "execute_result"
    }
   ],
   "source": [
    "df.dtypes   # types of column"
   ]
  },
  {
   "cell_type": "code",
   "execution_count": 26,
   "id": "159a6b54",
   "metadata": {},
   "outputs": [
    {
     "name": "stdout",
     "output_type": "stream",
     "text": [
      "+-----------+--------------------+--------------+------+--------+--------------------+\n",
      "|star_rating|               title|content_rating| genre|duration|         actors_list|\n",
      "+-----------+--------------------+--------------+------+--------+--------------------+\n",
      "|        9.3|The Shawshank Red...|             R| Crime|     142|[u'Tim Robbins', ...|\n",
      "|        9.2|       The Godfather|             R| Crime|     175|[u'Marlon Brando'...|\n",
      "|        9.1|The Godfather: Pa...|             R| Crime|     200|[u'Al Pacino', u'...|\n",
      "|        9.0|     The Dark Knight|         PG-13|Action|     152|[u'Christian Bale...|\n",
      "|        8.9|        Pulp Fiction|             R| Crime|     154|[u'John Travolta'...|\n",
      "+-----------+--------------------+--------------+------+--------+--------------------+\n",
      "only showing top 5 rows\n",
      "\n"
     ]
    }
   ],
   "source": [
    "df.show(5)"
   ]
  },
  {
   "cell_type": "code",
   "execution_count": 27,
   "id": "7b20b041",
   "metadata": {},
   "outputs": [
    {
     "data": {
      "text/plain": [
       "[Row(star_rating=9.3, title='The Shawshank Redemption', content_rating='R', genre='Crime', duration=142, actors_list=\"[u'Tim Robbins', u'Morgan Freeman', u'Bob Gunton']\"),\n",
       " Row(star_rating=9.2, title='The Godfather', content_rating='R', genre='Crime', duration=175, actors_list=\"[u'Marlon Brando', u'Al Pacino', u'James Caan']\"),\n",
       " Row(star_rating=9.1, title='The Godfather: Part II', content_rating='R', genre='Crime', duration=200, actors_list=\"[u'Al Pacino', u'Robert De Niro', u'Robert Duvall']\"),\n",
       " Row(star_rating=9.0, title='The Dark Knight', content_rating='PG-13', genre='Action', duration=152, actors_list=\"[u'Christian Bale', u'Heath Ledger', u'Aaron Eckhart']\"),\n",
       " Row(star_rating=8.9, title='Pulp Fiction', content_rating='R', genre='Crime', duration=154, actors_list=\"[u'John Travolta', u'Uma Thurman', u'Samuel L. Jackson']\")]"
      ]
     },
     "execution_count": 27,
     "metadata": {},
     "output_type": "execute_result"
    }
   ],
   "source": [
    "df.head(5)"
   ]
  },
  {
   "cell_type": "code",
   "execution_count": 28,
   "id": "fb4502e0",
   "metadata": {},
   "outputs": [
    {
     "data": {
      "text/plain": [
       "[Row(star_rating=7.4, title='Tootsie', content_rating='PG', genre='Comedy', duration=116, actors_list=\"[u'Dustin Hoffman', u'Jessica Lange', u'Teri Garr']\"),\n",
       " Row(star_rating=7.4, title='Back to the Future Part III', content_rating='PG', genre='Adventure', duration=118, actors_list=\"[u'Michael J. Fox', u'Christopher Lloyd', u'Mary Steenburgen']\"),\n",
       " Row(star_rating=7.4, title='Master and Commander: The Far Side of the World', content_rating='PG-13', genre='Action', duration=138, actors_list=\"[u'Russell Crowe', u'Paul Bettany', u'Billy Boyd']\"),\n",
       " Row(star_rating=7.4, title='Poltergeist', content_rating='PG', genre='Horror', duration=114, actors_list='\"[u\\'JoBeth Williams\\', u\"\"Heather O\\'Rourke\"\"'),\n",
       " Row(star_rating=7.4, title='Wall Street', content_rating='R', genre='Crime', duration=126, actors_list=\"[u'Charlie Sheen', u'Michael Douglas', u'Tamara Tunie']\")]"
      ]
     },
     "execution_count": 28,
     "metadata": {},
     "output_type": "execute_result"
    }
   ],
   "source": [
    "df.tail(5)"
   ]
  },
  {
   "cell_type": "code",
   "execution_count": 29,
   "id": "817cba67",
   "metadata": {},
   "outputs": [
    {
     "name": "stdout",
     "output_type": "stream",
     "text": [
      "+-----------+--------------------+--------------+---------+--------+--------------------+\n",
      "|star_rating|               title|content_rating|    genre|duration|         actors_list|\n",
      "+-----------+--------------------+--------------+---------+--------+--------------------+\n",
      "|        9.3|The Shawshank Red...|             R|    Crime|     142|[u'Tim Robbins', ...|\n",
      "|        9.2|       The Godfather|             R|    Crime|     175|[u'Marlon Brando'...|\n",
      "|        9.1|The Godfather: Pa...|             R|    Crime|     200|[u'Al Pacino', u'...|\n",
      "|        9.0|     The Dark Knight|         PG-13|   Action|     152|[u'Christian Bale...|\n",
      "|        8.9|        Pulp Fiction|             R|    Crime|     154|[u'John Travolta'...|\n",
      "|        8.9|        12 Angry Men|     NOT RATED|    Drama|      96|[u'Henry Fonda', ...|\n",
      "|        8.9|The Good, the Bad...|     NOT RATED|  Western|     161|[u'Clint Eastwood...|\n",
      "|        8.9|The Lord of the R...|         PG-13|Adventure|     201|[u'Elijah Wood', ...|\n",
      "|        8.9|    Schindler's List|             R|Biography|     195|[u'Liam Neeson', ...|\n",
      "|        8.9|          Fight Club|             R|    Drama|     139|[u'Brad Pitt', u'...|\n",
      "|        8.8|The Lord of the R...|         PG-13|Adventure|     178|[u'Elijah Wood', ...|\n",
      "|        8.8|           Inception|         PG-13|   Action|     148|[u'Leonardo DiCap...|\n",
      "|        8.8|Star Wars: Episod...|            PG|   Action|     124|[u'Mark Hamill', ...|\n",
      "|        8.8|        Forrest Gump|         PG-13|    Drama|     142|[u'Tom Hanks', u'...|\n",
      "|        8.8|The Lord of the R...|         PG-13|Adventure|     179|[u'Elijah Wood', ...|\n",
      "|        8.7|        Interstellar|         PG-13|Adventure|     169|[u'Matthew McCona...|\n",
      "|        8.7|One Flew Over the...|             R|    Drama|     133|[u'Jack Nicholson...|\n",
      "|        8.7|       Seven Samurai|       UNRATED|    Drama|     207|[u'Toshir\\xf4 Mif...|\n",
      "|        8.7|          Goodfellas|             R|Biography|     146|[u'Robert De Niro...|\n",
      "|        8.7|           Star Wars|            PG|   Action|     121|[u'Mark Hamill', ...|\n",
      "+-----------+--------------------+--------------+---------+--------+--------------------+\n",
      "only showing top 20 rows\n",
      "\n"
     ]
    }
   ],
   "source": [
    "# filter on dataframe, to fetch perticular columns\n",
    "\n",
    "df.show()"
   ]
  },
  {
   "cell_type": "code",
   "execution_count": 31,
   "id": "eb64a090",
   "metadata": {},
   "outputs": [
    {
     "name": "stdout",
     "output_type": "stream",
     "text": [
      "+---------+--------------------+--------+\n",
      "|    genre|               title|duration|\n",
      "+---------+--------------------+--------+\n",
      "|    Crime|The Shawshank Red...|     142|\n",
      "|    Crime|       The Godfather|     175|\n",
      "|    Crime|The Godfather: Pa...|     200|\n",
      "|   Action|     The Dark Knight|     152|\n",
      "|    Crime|        Pulp Fiction|     154|\n",
      "|    Drama|        12 Angry Men|      96|\n",
      "|  Western|The Good, the Bad...|     161|\n",
      "|Adventure|The Lord of the R...|     201|\n",
      "|Biography|    Schindler's List|     195|\n",
      "|    Drama|          Fight Club|     139|\n",
      "|Adventure|The Lord of the R...|     178|\n",
      "|   Action|           Inception|     148|\n",
      "|   Action|Star Wars: Episod...|     124|\n",
      "|    Drama|        Forrest Gump|     142|\n",
      "|Adventure|The Lord of the R...|     179|\n",
      "|Adventure|        Interstellar|     169|\n",
      "|    Drama|One Flew Over the...|     133|\n",
      "|    Drama|       Seven Samurai|     207|\n",
      "|Biography|          Goodfellas|     146|\n",
      "|   Action|           Star Wars|     121|\n",
      "+---------+--------------------+--------+\n",
      "only showing top 20 rows\n",
      "\n"
     ]
    }
   ],
   "source": [
    "df.select('genre','title','duration').show()"
   ]
  },
  {
   "cell_type": "code",
   "execution_count": 39,
   "id": "f5643d58",
   "metadata": {},
   "outputs": [
    {
     "name": "stdout",
     "output_type": "stream",
     "text": [
      "+---------+--------+\n",
      "|    genre|duration|\n",
      "+---------+--------+\n",
      "|    Crime|     200|\n",
      "|Adventure|     201|\n",
      "|    Drama|     207|\n",
      "|    Crime|     229|\n",
      "|Adventure|     216|\n",
      "|Adventure|     224|\n",
      "|    Drama|     238|\n",
      "|Adventure|     212|\n",
      "|    Drama|     197|\n",
      "|   Action|     197|\n",
      "|Adventure|     220|\n",
      "|    Drama|     242|\n",
      "|Biography|     202|\n",
      "|   Action|     205|\n",
      "+---------+--------+\n",
      "\n"
     ]
    }
   ],
   "source": [
    "df.select('genre','duration').filter('duration>195').show()"
   ]
  },
  {
   "cell_type": "code",
   "execution_count": 40,
   "id": "58887467",
   "metadata": {},
   "outputs": [
    {
     "name": "stdout",
     "output_type": "stream",
     "text": [
      "+---------+\n",
      "|    genre|\n",
      "+---------+\n",
      "|    Crime|\n",
      "| Thriller|\n",
      "|Adventure|\n",
      "|    Drama|\n",
      "|   Family|\n",
      "|  Fantasy|\n",
      "|  History|\n",
      "|  Mystery|\n",
      "|Animation|\n",
      "|Film-Noir|\n",
      "|   Horror|\n",
      "|  Western|\n",
      "|Biography|\n",
      "|   Comedy|\n",
      "|   Action|\n",
      "|   Sci-Fi|\n",
      "+---------+\n",
      "\n"
     ]
    }
   ],
   "source": [
    "df.select('genre').distinct().show()   # unique"
   ]
  },
  {
   "cell_type": "code",
   "execution_count": null,
   "id": "01df773d",
   "metadata": {},
   "outputs": [],
   "source": []
  }
 ],
 "metadata": {
  "kernelspec": {
   "display_name": "Python 3 (ipykernel)",
   "language": "python",
   "name": "python3"
  },
  "language_info": {
   "codemirror_mode": {
    "name": "ipython",
    "version": 3
   },
   "file_extension": ".py",
   "mimetype": "text/x-python",
   "name": "python",
   "nbconvert_exporter": "python",
   "pygments_lexer": "ipython3",
   "version": "3.9.12"
  }
 },
 "nbformat": 4,
 "nbformat_minor": 5
}
