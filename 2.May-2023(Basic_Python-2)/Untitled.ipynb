{
 "cells": [
  {
   "cell_type": "code",
   "execution_count": 1,
   "id": "e8375766",
   "metadata": {},
   "outputs": [
    {
     "data": {
      "text/plain": [
       "['False',\n",
       " 'None',\n",
       " 'True',\n",
       " '__peg_parser__',\n",
       " 'and',\n",
       " 'as',\n",
       " 'assert',\n",
       " 'async',\n",
       " 'await',\n",
       " 'break',\n",
       " 'class',\n",
       " 'continue',\n",
       " 'def',\n",
       " 'del',\n",
       " 'elif',\n",
       " 'else',\n",
       " 'except',\n",
       " 'finally',\n",
       " 'for',\n",
       " 'from',\n",
       " 'global',\n",
       " 'if',\n",
       " 'import',\n",
       " 'in',\n",
       " 'is',\n",
       " 'lambda',\n",
       " 'nonlocal',\n",
       " 'not',\n",
       " 'or',\n",
       " 'pass',\n",
       " 'raise',\n",
       " 'return',\n",
       " 'try',\n",
       " 'while',\n",
       " 'with',\n",
       " 'yield']"
      ]
     },
     "execution_count": 1,
     "metadata": {},
     "output_type": "execute_result"
    }
   ],
   "source": [
    "import keyword\n",
    "\n",
    "keyword.kwlist"
   ]
  },
  {
   "cell_type": "code",
   "execution_count": 2,
   "id": "ad11dbb4",
   "metadata": {},
   "outputs": [
    {
     "data": {
      "text/plain": [
       "36"
      ]
     },
     "execution_count": 2,
     "metadata": {},
     "output_type": "execute_result"
    }
   ],
   "source": [
    "len(keyword.kwlist)"
   ]
  },
  {
   "cell_type": "code",
   "execution_count": 6,
   "id": "bd66936a",
   "metadata": {},
   "outputs": [
    {
     "name": "stdout",
     "output_type": "stream",
     "text": [
      "[1, 2, 3, 4, 5, 6, 7, 8, 9, 10, 11, 12, 13, 14, 15, 16, 17, 18, 19, 20, 21]\n"
     ]
    }
   ],
   "source": [
    "lst = []\n",
    "\n",
    "for i in range(1,22):\n",
    "    lst.append(i)\n",
    "print(lst)"
   ]
  },
  {
   "cell_type": "code",
   "execution_count": 11,
   "id": "242e5841",
   "metadata": {},
   "outputs": [],
   "source": [
    "lst.sort(reverse = False)"
   ]
  },
  {
   "cell_type": "code",
   "execution_count": 12,
   "id": "5dc8bd2d",
   "metadata": {},
   "outputs": [
    {
     "data": {
      "text/plain": [
       "[1, 2, 3, 4, 5, 6, 7, 8, 9, 10, 11, 12, 13, 14, 15, 16, 17, 18, 19, 20, 21]"
      ]
     },
     "execution_count": 12,
     "metadata": {},
     "output_type": "execute_result"
    }
   ],
   "source": [
    "lst"
   ]
  },
  {
   "cell_type": "code",
   "execution_count": 13,
   "id": "6723c29e",
   "metadata": {},
   "outputs": [
    {
     "data": {
      "text/plain": [
       "[21, 20, 19, 18, 17, 16, 15, 14, 13, 12, 11, 10, 9, 8, 7, 6, 5, 4, 3, 2, 1]"
      ]
     },
     "execution_count": 13,
     "metadata": {},
     "output_type": "execute_result"
    }
   ],
   "source": [
    "lst[::-1]"
   ]
  },
  {
   "cell_type": "code",
   "execution_count": 25,
   "id": "d0bf62e1",
   "metadata": {},
   "outputs": [
    {
     "data": {
      "text/plain": [
       "[21, 20, 19, 18, 17, 16, 15, 14, 13, 12, 11, 10, 9, 8, 7, 6, 5, 4, 3, 2, 1]"
      ]
     },
     "execution_count": 25,
     "metadata": {},
     "output_type": "execute_result"
    }
   ],
   "source": [
    "a = lst[::-1]\n",
    "a"
   ]
  },
  {
   "cell_type": "code",
   "execution_count": 26,
   "id": "cb4cfc89",
   "metadata": {},
   "outputs": [
    {
     "name": "stdout",
     "output_type": "stream",
     "text": [
      "0 21\n",
      "1 20\n",
      "2 19\n",
      "3 18\n",
      "4 17\n",
      "5 16\n",
      "6 15\n",
      "7 14\n",
      "8 13\n",
      "9 12\n",
      "10 11\n",
      "11 10\n",
      "12 9\n",
      "13 8\n",
      "14 7\n",
      "15 6\n",
      "16 5\n",
      "17 4\n",
      "18 3\n",
      "19 2\n",
      "20 1\n"
     ]
    }
   ],
   "source": [
    "for index,a in enumerate(a):\n",
    "    print(index,a)"
   ]
  },
  {
   "cell_type": "code",
   "execution_count": 27,
   "id": "f5b920e6",
   "metadata": {},
   "outputs": [],
   "source": [
    "lst = [2,6,4,4,8,6,8,5,4]"
   ]
  },
  {
   "cell_type": "code",
   "execution_count": 28,
   "id": "d82dad9c",
   "metadata": {},
   "outputs": [],
   "source": [
    "lst.sort()"
   ]
  },
  {
   "cell_type": "code",
   "execution_count": 29,
   "id": "d42893df",
   "metadata": {},
   "outputs": [
    {
     "data": {
      "text/plain": [
       "[2, 4, 4, 4, 5, 6, 6, 8, 8]"
      ]
     },
     "execution_count": 29,
     "metadata": {},
     "output_type": "execute_result"
    }
   ],
   "source": [
    "lst"
   ]
  },
  {
   "cell_type": "code",
   "execution_count": 33,
   "id": "e9c6176c",
   "metadata": {},
   "outputs": [],
   "source": [
    "str1 = '''  I\n",
    "                Love\n",
    "                        my\n",
    "                             india'''"
   ]
  },
  {
   "cell_type": "code",
   "execution_count": 34,
   "id": "f31ae1b7",
   "metadata": {},
   "outputs": [
    {
     "name": "stdout",
     "output_type": "stream",
     "text": [
      "  I\n",
      "                Love\n",
      "                        my\n",
      "                             india\n"
     ]
    }
   ],
   "source": [
    "print(str1)"
   ]
  },
  {
   "cell_type": "code",
   "execution_count": 35,
   "id": "f9677695",
   "metadata": {},
   "outputs": [],
   "source": [
    "lst = 'Hello this is python Tech'"
   ]
  },
  {
   "cell_type": "code",
   "execution_count": 36,
   "id": "5e9e1bca",
   "metadata": {},
   "outputs": [
    {
     "data": {
      "text/plain": [
       "'hceT nohtyp si siht olleH'"
      ]
     },
     "execution_count": 36,
     "metadata": {},
     "output_type": "execute_result"
    }
   ],
   "source": [
    "lst[::-1]"
   ]
  },
  {
   "cell_type": "code",
   "execution_count": 37,
   "id": "cdade668",
   "metadata": {},
   "outputs": [
    {
     "name": "stdout",
     "output_type": "stream",
     "text": [
      "h*e*l*l*o\n"
     ]
    }
   ],
   "source": [
    "txt = 'hello'\n",
    "\n",
    "an = '*'.join(txt)\n",
    "\n",
    "print(an)"
   ]
  },
  {
   "cell_type": "code",
   "execution_count": 38,
   "id": "30618706",
   "metadata": {},
   "outputs": [
    {
     "data": {
      "text/plain": [
       "'G*o*n*d*i*a'"
      ]
     },
     "execution_count": 38,
     "metadata": {},
     "output_type": "execute_result"
    }
   ],
   "source": [
    "'*'.join('Gondia')"
   ]
  },
  {
   "cell_type": "code",
   "execution_count": 40,
   "id": "10d7560d",
   "metadata": {},
   "outputs": [
    {
     "name": "stdout",
     "output_type": "stream",
     "text": [
      "h * e * l * l * o "
     ]
    }
   ],
   "source": [
    "for i in an:\n",
    "    print(i,end=' ')"
   ]
  },
  {
   "cell_type": "code",
   "execution_count": 42,
   "id": "36f42518",
   "metadata": {},
   "outputs": [
    {
     "data": {
      "text/plain": [
       "'abcd'"
      ]
     },
     "execution_count": 42,
     "metadata": {},
     "output_type": "execute_result"
    }
   ],
   "source": [
    "py = ['a','b','c','d']\n",
    "\n",
    "jlst = ''.join(py)\n",
    "\n",
    "jlst"
   ]
  },
  {
   "cell_type": "code",
   "execution_count": 43,
   "id": "f22eaa01",
   "metadata": {},
   "outputs": [],
   "source": [
    "dic = {'id':1,'name':'Roshan','city':'Pune'}"
   ]
  },
  {
   "cell_type": "code",
   "execution_count": 44,
   "id": "f302de85",
   "metadata": {},
   "outputs": [
    {
     "data": {
      "text/plain": [
       "{'id': 1, 'name': 'Roshan', 'city': 'Pune'}"
      ]
     },
     "execution_count": 44,
     "metadata": {},
     "output_type": "execute_result"
    }
   ],
   "source": [
    "dic"
   ]
  },
  {
   "cell_type": "code",
   "execution_count": 46,
   "id": "43213d1b",
   "metadata": {},
   "outputs": [
    {
     "data": {
      "text/plain": [
       "'id name city'"
      ]
     },
     "execution_count": 46,
     "metadata": {},
     "output_type": "execute_result"
    }
   ],
   "source": [
    "jdic = ' '.join(dic)\n",
    "\n",
    "jdic"
   ]
  },
  {
   "cell_type": "code",
   "execution_count": 47,
   "id": "c3c4f50e",
   "metadata": {},
   "outputs": [],
   "source": [
    "lst = ['apple','banana','grapes','mango']"
   ]
  },
  {
   "cell_type": "code",
   "execution_count": 52,
   "id": "51905031",
   "metadata": {},
   "outputs": [],
   "source": [
    "sep = '*'.join(word for word in lst)"
   ]
  },
  {
   "cell_type": "code",
   "execution_count": 53,
   "id": "57d8c2df",
   "metadata": {},
   "outputs": [
    {
     "data": {
      "text/plain": [
       "'apple*banana*grapes*mango'"
      ]
     },
     "execution_count": 53,
     "metadata": {},
     "output_type": "execute_result"
    }
   ],
   "source": [
    "sep"
   ]
  },
  {
   "cell_type": "code",
   "execution_count": 54,
   "id": "24629872",
   "metadata": {},
   "outputs": [
    {
     "data": {
      "text/plain": [
       "['apple', 'banana', 'grapes', 'mango']"
      ]
     },
     "execution_count": 54,
     "metadata": {},
     "output_type": "execute_result"
    }
   ],
   "source": [
    "lst"
   ]
  },
  {
   "cell_type": "code",
   "execution_count": 59,
   "id": "f64382f4",
   "metadata": {},
   "outputs": [
    {
     "name": "stdout",
     "output_type": "stream",
     "text": [
      "a*p*p*l*e -->b*a*n*a*n*a -->g*r*a*p*e*s -->m*a*n*g*o -->"
     ]
    }
   ],
   "source": [
    "for word in lst:\n",
    "    if word:\n",
    "        a = '*'.join(word)\n",
    "        print(a,end=' -->')"
   ]
  },
  {
   "cell_type": "code",
   "execution_count": 63,
   "id": "273b8cbe",
   "metadata": {},
   "outputs": [],
   "source": [
    "def words(var):\n",
    "    k = '*'.join(i.upper() for i in var)\n",
    "    print(k)"
   ]
  },
  {
   "cell_type": "code",
   "execution_count": 64,
   "id": "ee9cc9a9",
   "metadata": {},
   "outputs": [
    {
     "data": {
      "text/plain": [
       "['apple', 'banana', 'grapes', 'mango']"
      ]
     },
     "execution_count": 64,
     "metadata": {},
     "output_type": "execute_result"
    }
   ],
   "source": [
    "lst"
   ]
  },
  {
   "cell_type": "code",
   "execution_count": 65,
   "id": "b971e7c7",
   "metadata": {},
   "outputs": [
    {
     "name": "stdout",
     "output_type": "stream",
     "text": [
      "APPLE*BANANA*GRAPES*MANGO\n"
     ]
    }
   ],
   "source": [
    "words(lst)"
   ]
  },
  {
   "cell_type": "code",
   "execution_count": 72,
   "id": "4e245d7f",
   "metadata": {},
   "outputs": [],
   "source": [
    "a= list((i.upper() for i in lst))"
   ]
  },
  {
   "cell_type": "code",
   "execution_count": 73,
   "id": "5b099a37",
   "metadata": {},
   "outputs": [
    {
     "name": "stdout",
     "output_type": "stream",
     "text": [
      "['APPLE', 'BANANA', 'GRAPES', 'MANGO']\n"
     ]
    }
   ],
   "source": [
    "print(list(a))"
   ]
  },
  {
   "cell_type": "code",
   "execution_count": 74,
   "id": "354a1afa",
   "metadata": {},
   "outputs": [
    {
     "data": {
      "text/plain": [
       "['APPLE', 'BANANA', 'GRAPES', 'MANGO']"
      ]
     },
     "execution_count": 74,
     "metadata": {},
     "output_type": "execute_result"
    }
   ],
   "source": [
    "a"
   ]
  },
  {
   "cell_type": "code",
   "execution_count": 77,
   "id": "bb313c04",
   "metadata": {},
   "outputs": [
    {
     "name": "stdout",
     "output_type": "stream",
     "text": [
      "apple\n",
      "banana\n",
      "grapes\n",
      "mango\n"
     ]
    }
   ],
   "source": [
    "for i in a:\n",
    "    alst = i.swapcase()\n",
    "    \n",
    "    print(alst)"
   ]
  },
  {
   "cell_type": "code",
   "execution_count": 79,
   "id": "ce702d11",
   "metadata": {},
   "outputs": [
    {
     "data": {
      "text/plain": [
       "'tHIS IS sTRING IN pYTHON'"
      ]
     },
     "execution_count": 79,
     "metadata": {},
     "output_type": "execute_result"
    }
   ],
   "source": [
    "str2 = 'This is String in Python'\n",
    "\n",
    "swp = str2.swapcase()\n",
    "swp"
   ]
  },
  {
   "cell_type": "code",
   "execution_count": 90,
   "id": "59515f6e",
   "metadata": {},
   "outputs": [
    {
     "data": {
      "text/plain": [
       "'******kslsssjkjsnkjaaaa****'"
      ]
     },
     "execution_count": 90,
     "metadata": {},
     "output_type": "execute_result"
    }
   ],
   "source": [
    "lst = '******kslsssjkjsnkjaaaa****'\n",
    "\n",
    "lst.rstrip('a')"
   ]
  },
  {
   "cell_type": "code",
   "execution_count": 91,
   "id": "7e9c83cc",
   "metadata": {},
   "outputs": [
    {
     "data": {
      "text/plain": [
       "'******kslsssjkjsnkjaaaa****'"
      ]
     },
     "execution_count": 91,
     "metadata": {},
     "output_type": "execute_result"
    }
   ],
   "source": [
    "lst"
   ]
  },
  {
   "cell_type": "code",
   "execution_count": 93,
   "id": "fb9a4bae",
   "metadata": {},
   "outputs": [
    {
     "data": {
      "text/plain": [
       "'kslsssjkjsnkjaaaa'"
      ]
     },
     "execution_count": 93,
     "metadata": {},
     "output_type": "execute_result"
    }
   ],
   "source": [
    "lst.strip('*')"
   ]
  },
  {
   "cell_type": "code",
   "execution_count": 94,
   "id": "5617b7d2",
   "metadata": {},
   "outputs": [
    {
     "data": {
      "text/plain": [
       "('******', 'k', 'slsssjkjsnkjaaaa****')"
      ]
     },
     "execution_count": 94,
     "metadata": {},
     "output_type": "execute_result"
    }
   ],
   "source": [
    "lst.partition('k')"
   ]
  },
  {
   "cell_type": "code",
   "execution_count": 95,
   "id": "1e28308c",
   "metadata": {},
   "outputs": [
    {
     "data": {
      "text/plain": [
       "'Moshan'"
      ]
     },
     "execution_count": 95,
     "metadata": {},
     "output_type": "execute_result"
    }
   ],
   "source": [
    "name = 'Roshan'\n",
    "\n",
    "name.replace('R','M')"
   ]
  },
  {
   "cell_type": "code",
   "execution_count": 96,
   "id": "926a56ad",
   "metadata": {},
   "outputs": [],
   "source": [
    "lst = 'Hello this is Python Programme'"
   ]
  },
  {
   "cell_type": "code",
   "execution_count": 99,
   "id": "2b628ddc",
   "metadata": {},
   "outputs": [
    {
     "data": {
      "text/plain": [
       "'Python'"
      ]
     },
     "execution_count": 99,
     "metadata": {},
     "output_type": "execute_result"
    }
   ],
   "source": [
    "lst.split()[3]"
   ]
  },
  {
   "cell_type": "code",
   "execution_count": 108,
   "id": "19e73990",
   "metadata": {},
   "outputs": [
    {
     "data": {
      "text/plain": [
       "'Hello this is Python Programme'"
      ]
     },
     "execution_count": 108,
     "metadata": {},
     "output_type": "execute_result"
    }
   ],
   "source": [
    "lst"
   ]
  },
  {
   "cell_type": "code",
   "execution_count": 109,
   "id": "cea69ab4",
   "metadata": {},
   "outputs": [
    {
     "name": "stdout",
     "output_type": "stream",
     "text": [
      "['H', 'e', 'l', 'l', 'o', ' ', 't', 'h', 'i', 's', ' ', 'i', 's', ' ', 'P', 'y', 't', 'h', 'o', 'n', ' ', 'P', 'r', 'o', 'g', 'r', 'a', 'm', 'm', 'e']\n"
     ]
    }
   ],
   "source": [
    "str_lst = list(lst)\n",
    "print(str_lst)\n",
    "j = str_lst[6] = 'T'"
   ]
  },
  {
   "cell_type": "code",
   "execution_count": 112,
   "id": "226ff599",
   "metadata": {},
   "outputs": [
    {
     "data": {
      "text/plain": [
       "'Hello This is Python Programme'"
      ]
     },
     "execution_count": 112,
     "metadata": {},
     "output_type": "execute_result"
    }
   ],
   "source": [
    "jj = ''.join(str_lst)\n",
    "\n",
    "jj"
   ]
  },
  {
   "cell_type": "code",
   "execution_count": 127,
   "id": "903b15d7",
   "metadata": {},
   "outputs": [],
   "source": [
    "ind = 'Hello This is Roshan Here'\n",
    "\n",
    "lst = list(ind)\n",
    "\n",
    "lst[14]= 'M'\n",
    "\n",
    "lj = ''.join(lst)"
   ]
  },
  {
   "cell_type": "code",
   "execution_count": null,
   "id": "6f29688f",
   "metadata": {},
   "outputs": [],
   "source": []
  },
  {
   "cell_type": "code",
   "execution_count": 130,
   "id": "6414eac0",
   "metadata": {},
   "outputs": [
    {
     "data": {
      "text/plain": [
       "'Hello This is Moshan Here'"
      ]
     },
     "execution_count": 130,
     "metadata": {},
     "output_type": "execute_result"
    }
   ],
   "source": [
    "lj"
   ]
  },
  {
   "cell_type": "code",
   "execution_count": 131,
   "id": "7c2f245d",
   "metadata": {},
   "outputs": [
    {
     "data": {
      "text/plain": [
       "'Hello This is Roshan Here'"
      ]
     },
     "execution_count": 131,
     "metadata": {},
     "output_type": "execute_result"
    }
   ],
   "source": [
    "ind"
   ]
  },
  {
   "cell_type": "code",
   "execution_count": 132,
   "id": "45ce8afe",
   "metadata": {},
   "outputs": [],
   "source": [
    "ab = list(ind)"
   ]
  },
  {
   "cell_type": "code",
   "execution_count": 134,
   "id": "53e82284",
   "metadata": {},
   "outputs": [],
   "source": [
    "ab[14] = 'M'"
   ]
  },
  {
   "cell_type": "code",
   "execution_count": 138,
   "id": "9fcd9f75",
   "metadata": {},
   "outputs": [],
   "source": [
    "kl = ''.join(ab)"
   ]
  },
  {
   "cell_type": "code",
   "execution_count": 139,
   "id": "cd3aa875",
   "metadata": {},
   "outputs": [
    {
     "data": {
      "text/plain": [
       "'Hello This is Moshan Here'"
      ]
     },
     "execution_count": 139,
     "metadata": {},
     "output_type": "execute_result"
    }
   ],
   "source": [
    "kl"
   ]
  },
  {
   "cell_type": "code",
   "execution_count": 144,
   "id": "87de271c",
   "metadata": {},
   "outputs": [
    {
     "name": "stdout",
     "output_type": "stream",
     "text": [
      "enter any text Hello This is Roshan from p34\n",
      "['Hello', 'This', 'is', 'Roshan', 'from', 'p34']\n"
     ]
    }
   ],
   "source": [
    "user = input('enter any text ')\n",
    "ab = user.split()\n",
    "print(ab)"
   ]
  },
  {
   "cell_type": "code",
   "execution_count": 148,
   "id": "b7791b0a",
   "metadata": {},
   "outputs": [],
   "source": [
    "def swaplst(str):\n",
    "    size = len(str)\n",
    "    \n",
    "    str[0]"
   ]
  },
  {
   "cell_type": "code",
   "execution_count": 149,
   "id": "c2f4552c",
   "metadata": {},
   "outputs": [],
   "source": [
    "ls = [3,1,5,4]"
   ]
  },
  {
   "cell_type": "code",
   "execution_count": 150,
   "id": "72205b1d",
   "metadata": {},
   "outputs": [
    {
     "data": {
      "text/plain": [
       "[3, 1, 5, 4]"
      ]
     },
     "execution_count": 150,
     "metadata": {},
     "output_type": "execute_result"
    }
   ],
   "source": [
    "swaplst(ls)"
   ]
  },
  {
   "cell_type": "code",
   "execution_count": 17,
   "id": "e60bea30",
   "metadata": {},
   "outputs": [],
   "source": [
    "lst =[]\n",
    "\n",
    "def caal_vow(str1,vowels):\n",
    "    \n",
    "    for i in str1.lower():\n",
    "        if i in vowels:\n",
    "            lst.append(i)\n",
    "    print(lst,len(lst))"
   ]
  },
  {
   "cell_type": "code",
   "execution_count": 18,
   "id": "228dc268",
   "metadata": {},
   "outputs": [],
   "source": [
    "ls = 'display number of vowels'\n",
    "vowels = ['a','e','i','o','u']"
   ]
  },
  {
   "cell_type": "code",
   "execution_count": 19,
   "id": "711bcc82",
   "metadata": {},
   "outputs": [
    {
     "name": "stdout",
     "output_type": "stream",
     "text": [
      "['i', 'a', 'u', 'e', 'o', 'o', 'e'] 7\n"
     ]
    }
   ],
   "source": [
    "caal_vow(ls,vowels)"
   ]
  },
  {
   "cell_type": "code",
   "execution_count": 20,
   "id": "6a78beed",
   "metadata": {},
   "outputs": [],
   "source": [
    "# list comprehension"
   ]
  },
  {
   "cell_type": "code",
   "execution_count": 27,
   "id": "6529148f",
   "metadata": {},
   "outputs": [],
   "source": [
    "def lc_vowels(ls):\n",
    "    lcs = [i for i in ls.lower() if i in ['a','e','i','o','u']]\n",
    "    print(lcs,len(lcs))"
   ]
  },
  {
   "cell_type": "code",
   "execution_count": 28,
   "id": "cca3edc2",
   "metadata": {},
   "outputs": [],
   "source": [
    "text1 = 'Hello this is the string practice for python, Roshan'"
   ]
  },
  {
   "cell_type": "code",
   "execution_count": 29,
   "id": "fb37fa1a",
   "metadata": {},
   "outputs": [
    {
     "name": "stdout",
     "output_type": "stream",
     "text": [
      "['e', 'o', 'i', 'i', 'e', 'i', 'a', 'i', 'e', 'o', 'o', 'o', 'a'] 13\n"
     ]
    }
   ],
   "source": [
    "lc_vowels(text1)"
   ]
  },
  {
   "cell_type": "code",
   "execution_count": 33,
   "id": "64e3138c",
   "metadata": {},
   "outputs": [],
   "source": [
    "v = 'aeiou'\n",
    "\n",
    "def cont(str2):\n",
    "    str2 = str2.casefold()\n",
    "    count = {}.fromkeys(v,0)\n",
    "    \n",
    "    for i in str2:\n",
    "        if i in count:\n",
    "            count[i] += 1\n",
    "    return count"
   ]
  },
  {
   "cell_type": "code",
   "execution_count": 34,
   "id": "05eac066",
   "metadata": {},
   "outputs": [
    {
     "data": {
      "text/plain": [
       "{'a': 2, 'e': 3, 'i': 4, 'o': 4, 'u': 0}"
      ]
     },
     "execution_count": 34,
     "metadata": {},
     "output_type": "execute_result"
    }
   ],
   "source": [
    "cont(text1)"
   ]
  },
  {
   "cell_type": "code",
   "execution_count": 35,
   "id": "dff73e93",
   "metadata": {},
   "outputs": [],
   "source": [
    "vwls = ['a','e','i','o','u']\n",
    "\n",
    "def cont1(str3):\n",
    "    str3 = str3.casefold()\n",
    "    \n",
    "    count = {}.fromkeys(vwls,0)\n",
    "    \n",
    "    for i in str3:\n",
    "        if i in count:\n",
    "            count[i] += 1\n",
    "    return count"
   ]
  },
  {
   "cell_type": "code",
   "execution_count": 36,
   "id": "e09d8f40",
   "metadata": {},
   "outputs": [
    {
     "data": {
      "text/plain": [
       "{'a': 2, 'e': 3, 'i': 4, 'o': 4, 'u': 0}"
      ]
     },
     "execution_count": 36,
     "metadata": {},
     "output_type": "execute_result"
    }
   ],
   "source": [
    "cont1(text1)"
   ]
  },
  {
   "cell_type": "code",
   "execution_count": 37,
   "id": "892af591",
   "metadata": {},
   "outputs": [],
   "source": [
    "str1 = 'Happy Journey'"
   ]
  },
  {
   "cell_type": "code",
   "execution_count": 40,
   "id": "a3918b0d",
   "metadata": {},
   "outputs": [
    {
     "data": {
      "text/plain": [
       "'__________________Happy Journey___________________'"
      ]
     },
     "execution_count": 40,
     "metadata": {},
     "output_type": "execute_result"
    }
   ],
   "source": [
    "str1.center(50,'_')"
   ]
  },
  {
   "cell_type": "code",
   "execution_count": 48,
   "id": "d6411717",
   "metadata": {},
   "outputs": [
    {
     "data": {
      "text/plain": [
       "'>>>Happy Journey>>>>'"
      ]
     },
     "execution_count": 48,
     "metadata": {},
     "output_type": "execute_result"
    }
   ],
   "source": [
    "str1.center(20,'>')"
   ]
  },
  {
   "cell_type": "code",
   "execution_count": 50,
   "id": "601eb5d4",
   "metadata": {},
   "outputs": [],
   "source": [
    "lst1 = ['a','b','c','d']; lst2 = [1,2,3,4]"
   ]
  },
  {
   "cell_type": "code",
   "execution_count": 51,
   "id": "4767f8e5",
   "metadata": {},
   "outputs": [],
   "source": [
    "a = dict(zip(lst1,lst2))"
   ]
  },
  {
   "cell_type": "code",
   "execution_count": 52,
   "id": "50b679ed",
   "metadata": {},
   "outputs": [
    {
     "data": {
      "text/plain": [
       "{'a': 1, 'b': 2, 'c': 3, 'd': 4}"
      ]
     },
     "execution_count": 52,
     "metadata": {},
     "output_type": "execute_result"
    }
   ],
   "source": [
    "a"
   ]
  },
  {
   "cell_type": "code",
   "execution_count": 56,
   "id": "bc6b5a7e",
   "metadata": {},
   "outputs": [],
   "source": [
    "lst1.extend([1,4,2])"
   ]
  },
  {
   "cell_type": "code",
   "execution_count": 57,
   "id": "e8170ee8",
   "metadata": {},
   "outputs": [
    {
     "data": {
      "text/plain": [
       "[1, 2, 3, 4]"
      ]
     },
     "execution_count": 57,
     "metadata": {},
     "output_type": "execute_result"
    }
   ],
   "source": [
    "lst2"
   ]
  },
  {
   "cell_type": "code",
   "execution_count": 59,
   "id": "0d3b8d02",
   "metadata": {},
   "outputs": [
    {
     "name": "stdout",
     "output_type": "stream",
     "text": [
      "this is fare a\n",
      "this is fare b\n",
      "this is fare c\n",
      "this is fare d\n",
      "not fare 1\n",
      "not fare 4\n",
      "not fare 2\n"
     ]
    }
   ],
   "source": [
    "for i in lst1:\n",
    "    if i in lst2:\n",
    "        print('not fare',i)\n",
    "    else:\n",
    "        print('this is fare',i)"
   ]
  },
  {
   "cell_type": "code",
   "execution_count": 60,
   "id": "6ee9c9cd",
   "metadata": {},
   "outputs": [
    {
     "data": {
      "text/plain": [
       "['a', 'b', 'c', 'd', 1, 4, 2]"
      ]
     },
     "execution_count": 60,
     "metadata": {},
     "output_type": "execute_result"
    }
   ],
   "source": [
    "lst1"
   ]
  },
  {
   "cell_type": "code",
   "execution_count": 64,
   "id": "ad7fea16",
   "metadata": {},
   "outputs": [],
   "source": [
    "def intSum(n):\n",
    "    dlst = 0\n",
    "    for i in str(n):\n",
    "        dlst += int(i)\n",
    "    return dlst"
   ]
  },
  {
   "cell_type": "code",
   "execution_count": 69,
   "id": "132439e3",
   "metadata": {},
   "outputs": [
    {
     "data": {
      "text/plain": [
       "12"
      ]
     },
     "execution_count": 69,
     "metadata": {},
     "output_type": "execute_result"
    }
   ],
   "source": [
    "lst1 = [256,245,236,278,659,119,369]\n",
    "\n",
    "intSum(156)"
   ]
  },
  {
   "cell_type": "code",
   "execution_count": 97,
   "id": "d4eb0398",
   "metadata": {},
   "outputs": [],
   "source": [
    "def iSum(n):\n",
    "    d = 0\n",
    "    \n",
    "    for i in str(n):\n",
    "        d += int(i)\n",
    "        print(d,end = ' ')\n",
    "    return d"
   ]
  },
  {
   "cell_type": "code",
   "execution_count": 98,
   "id": "5c0792e9",
   "metadata": {},
   "outputs": [
    {
     "name": "stdout",
     "output_type": "stream",
     "text": [
      "2 7 13 2 6 11 2 5 11 2 9 17 6 11 20 1 2 11 3 9 18 "
     ]
    },
    {
     "data": {
      "text/plain": [
       "[13, 11, 11, 17, 20, 11, 18]"
      ]
     },
     "execution_count": 98,
     "metadata": {},
     "output_type": "execute_result"
    }
   ],
   "source": [
    "k = [iSum(i) for i in lst1]\n",
    "k"
   ]
  },
  {
   "cell_type": "code",
   "execution_count": 99,
   "id": "b8b55e39",
   "metadata": {},
   "outputs": [
    {
     "name": "stdout",
     "output_type": "stream",
     "text": [
      "True\n"
     ]
    }
   ],
   "source": [
    "i = 10\n",
    "print(True) if i < 15 else print(False)"
   ]
  },
  {
   "cell_type": "code",
   "execution_count": 100,
   "id": "6c078299",
   "metadata": {},
   "outputs": [
    {
     "name": "stdout",
     "output_type": "stream",
     "text": [
      "Dictionary Iteration\n",
      "xyz  123\n",
      "abc  345\n"
     ]
    }
   ],
   "source": [
    "# Iterating over dictionary\n",
    "print(\"Dictionary Iteration\")\n",
    "\n",
    "d = dict()\n",
    "\n",
    "d['xyz'] = 123\n",
    "d['abc'] = 345\n",
    "for i in d:\n",
    "\tprint(\"% s % d\" % (i, d[i]))\n"
   ]
  },
  {
   "cell_type": "code",
   "execution_count": 101,
   "id": "53cf30dd",
   "metadata": {},
   "outputs": [],
   "source": [
    "d = dict()\n",
    "\n",
    "d['Roshan'] = 27\n",
    "d['Mohan'] = 25\n",
    "d['Komal'] = 30"
   ]
  },
  {
   "cell_type": "code",
   "execution_count": 102,
   "id": "c0f444a2",
   "metadata": {},
   "outputs": [
    {
     "data": {
      "text/plain": [
       "{'Roshan': 27, 'Mohan': 25, 'Komal': 30}"
      ]
     },
     "execution_count": 102,
     "metadata": {},
     "output_type": "execute_result"
    }
   ],
   "source": [
    "d"
   ]
  },
  {
   "cell_type": "code",
   "execution_count": 103,
   "id": "7bd457d6",
   "metadata": {},
   "outputs": [
    {
     "name": "stdout",
     "output_type": "stream",
     "text": [
      "Roshan 27\n",
      "Mohan 25\n",
      "Komal 30\n"
     ]
    }
   ],
   "source": [
    "for i in d:\n",
    "    print(i,d[i])"
   ]
  },
  {
   "cell_type": "code",
   "execution_count": 104,
   "id": "dc1f28fd",
   "metadata": {},
   "outputs": [
    {
     "name": "stdout",
     "output_type": "stream",
     "text": [
      "Roshan 27\n",
      "Mohan 25\n",
      "Komal 30\n"
     ]
    }
   ],
   "source": [
    "for k,v in d.items():\n",
    "    print(k,v)"
   ]
  },
  {
   "cell_type": "code",
   "execution_count": 121,
   "id": "fa32397e",
   "metadata": {},
   "outputs": [
    {
     "name": "stdout",
     "output_type": "stream",
     "text": [
      "no even\n"
     ]
    }
   ],
   "source": [
    "lst = [1,3,7,9]\n",
    "\n",
    "for i in lst:\n",
    "    if i % 2 ==0:\n",
    "        print('lst contain even')\n",
    "        break\n",
    "else:\n",
    "    print('no even')"
   ]
  },
  {
   "cell_type": "code",
   "execution_count": 124,
   "id": "2af70284",
   "metadata": {},
   "outputs": [
    {
     "name": "stdout",
     "output_type": "stream",
     "text": [
      "no even\n"
     ]
    }
   ],
   "source": [
    "for i in lst:\n",
    "    if i % 2 ==0:\n",
    "        print('lst even')\n",
    "        break\n",
    "else:\n",
    "    print('no even')"
   ]
  },
  {
   "cell_type": "code",
   "execution_count": 129,
   "id": "4f3712e2",
   "metadata": {},
   "outputs": [
    {
     "name": "stdout",
     "output_type": "stream",
     "text": [
      "enter a letter k\n",
      "NA\n"
     ]
    }
   ],
   "source": [
    "a = input('enter a letter ').upper()\n",
    "\n",
    "if a == 'A':\n",
    "    print('A')\n",
    "else:\n",
    "    if a == 'B':\n",
    "        print('B')\n",
    "    else:\n",
    "        if a == 'C':\n",
    "            print('C')\n",
    "        else:\n",
    "            if a == 'D':\n",
    "                print('D')\n",
    "            else:\n",
    "                print('NA')"
   ]
  },
  {
   "cell_type": "code",
   "execution_count": 130,
   "id": "9bcc4b81",
   "metadata": {},
   "outputs": [],
   "source": [
    "def fun():\n",
    "    print('This is Python')"
   ]
  },
  {
   "cell_type": "code",
   "execution_count": 131,
   "id": "4dca3d0b",
   "metadata": {},
   "outputs": [
    {
     "name": "stdout",
     "output_type": "stream",
     "text": [
      "This is Python\n"
     ]
    }
   ],
   "source": [
    "fun()"
   ]
  },
  {
   "cell_type": "code",
   "execution_count": 134,
   "id": "495ffc0b",
   "metadata": {},
   "outputs": [
    {
     "name": "stdout",
     "output_type": "stream",
     "text": [
      "[0, 4, 16, 36, 64, 100, 144, 196, 256, 324, 400, 484, 576, 676, 784, 900, 1024, 1156, 1296, 1444, 1600, 1764, 1936, 2116, 2304]\n",
      "[1, 9, 25, 49, 81, 121, 169, 225, 289, 361, 441, 529, 625, 729, 841, 961, 1089, 1225, 1369, 1521, 1681, 1849, 2025, 2209, 2401]\n"
     ]
    }
   ],
   "source": [
    "lst_even = []\n",
    "lst_odd = []\n",
    "\n",
    "for i in range(0,50):\n",
    "    if i % 2==0:\n",
    "        lst_even.append(i**2)\n",
    "    else:\n",
    "        lst_odd.append(i**2)\n",
    "print(lst_even)\n",
    "print(lst_odd)"
   ]
  },
  {
   "cell_type": "code",
   "execution_count": 135,
   "id": "9ab3ebb6",
   "metadata": {},
   "outputs": [
    {
     "name": "stdout",
     "output_type": "stream",
     "text": [
      "1 2 3 4 5 6 7 8 9 "
     ]
    }
   ],
   "source": [
    "for i in list(range(1,10)):\n",
    "    print(i,end = ' ')"
   ]
  },
  {
   "cell_type": "code",
   "execution_count": 136,
   "id": "8e5a71da",
   "metadata": {},
   "outputs": [
    {
     "name": "stdout",
     "output_type": "stream",
     "text": [
      "1 2 3 4 5 6 7 8 9 "
     ]
    }
   ],
   "source": [
    "for i in range(1,10):\n",
    "    print(i,end = ' ')"
   ]
  },
  {
   "cell_type": "code",
   "execution_count": 137,
   "id": "6e2fc4dc",
   "metadata": {},
   "outputs": [],
   "source": [
    "a = range(1,10)"
   ]
  },
  {
   "cell_type": "code",
   "execution_count": 139,
   "id": "a2d4cad2",
   "metadata": {},
   "outputs": [
    {
     "data": {
      "text/plain": [
       "range(1, 10)"
      ]
     },
     "execution_count": 139,
     "metadata": {},
     "output_type": "execute_result"
    }
   ],
   "source": [
    "a"
   ]
  },
  {
   "cell_type": "code",
   "execution_count": 140,
   "id": "f577cde9",
   "metadata": {},
   "outputs": [],
   "source": [
    "a = list(range(1,10))"
   ]
  },
  {
   "cell_type": "code",
   "execution_count": 141,
   "id": "65784ac1",
   "metadata": {},
   "outputs": [
    {
     "data": {
      "text/plain": [
       "[1, 2, 3, 4, 5, 6, 7, 8, 9]"
      ]
     },
     "execution_count": 141,
     "metadata": {},
     "output_type": "execute_result"
    }
   ],
   "source": [
    "a"
   ]
  },
  {
   "cell_type": "code",
   "execution_count": 142,
   "id": "5623f1f6",
   "metadata": {},
   "outputs": [],
   "source": [
    "lst_d = {'one':1,'two':2,'three':3,'four':4}"
   ]
  },
  {
   "cell_type": "code",
   "execution_count": 146,
   "id": "2687a2d5",
   "metadata": {},
   "outputs": [
    {
     "name": "stdout",
     "output_type": "stream",
     "text": [
      "Key :- one, Value :- 1\n",
      "Key :- two, Value :- 2\n",
      "Key :- three, Value :- 3\n",
      "Key :- four, Value :- 4\n"
     ]
    }
   ],
   "source": [
    "for k,v in lst_d.items():\n",
    "    print(f'Key :- {k}, Value :- {v}')"
   ]
  },
  {
   "cell_type": "code",
   "execution_count": 147,
   "id": "6bd33eef",
   "metadata": {},
   "outputs": [
    {
     "name": "stdout",
     "output_type": "stream",
     "text": [
      "R\n",
      "s\n",
      "h\n",
      "a\n",
      "n\n"
     ]
    }
   ],
   "source": [
    "for i in 'Roshan':\n",
    "    if i == 'o':\n",
    "        continue\n",
    "    print(i)"
   ]
  },
  {
   "cell_type": "code",
   "execution_count": 151,
   "id": "b5da083f",
   "metadata": {},
   "outputs": [
    {
     "name": "stdout",
     "output_type": "stream",
     "text": [
      "5\n",
      "6\n",
      "7\n",
      "8\n",
      "9\n",
      "10\n"
     ]
    }
   ],
   "source": [
    "for i in range(1,11):\n",
    "    if i < 5:\n",
    "        continue\n",
    "    print(i)"
   ]
  },
  {
   "cell_type": "code",
   "execution_count": 152,
   "id": "b9b5a4d2",
   "metadata": {},
   "outputs": [
    {
     "name": "stdout",
     "output_type": "stream",
     "text": [
      "1\n",
      "2\n",
      "3\n",
      "4\n",
      "5\n"
     ]
    }
   ],
   "source": [
    "for i in range(1,11):\n",
    "    if i > 5:\n",
    "        continue\n",
    "    print(i)"
   ]
  },
  {
   "cell_type": "code",
   "execution_count": 153,
   "id": "b8fef7a2",
   "metadata": {},
   "outputs": [],
   "source": [
    "nested_list = [[1, 2, 3], [4, 5, 6], [7, 8, 9]]"
   ]
  },
  {
   "cell_type": "code",
   "execution_count": 163,
   "id": "018346a9",
   "metadata": {},
   "outputs": [
    {
     "name": "stdout",
     "output_type": "stream",
     "text": [
      "1\n",
      "2\n",
      "4\n",
      "5\n",
      "6\n",
      "7\n",
      "8\n",
      "9\n"
     ]
    }
   ],
   "source": [
    "for i in nested_list:\n",
    "    for j in i:\n",
    "        if j == 3:\n",
    "            continue\n",
    "        print(j)"
   ]
  },
  {
   "cell_type": "code",
   "execution_count": 2,
   "id": "10734f4c",
   "metadata": {},
   "outputs": [],
   "source": [
    "py_dict = {'name':'Roshan','age': 29,'sal':75000,'id':2274}"
   ]
  },
  {
   "cell_type": "code",
   "execution_count": 176,
   "id": "59939d71",
   "metadata": {},
   "outputs": [
    {
     "name": "stdout",
     "output_type": "stream",
     "text": [
      "name Roshan\n",
      "age 29\n"
     ]
    }
   ],
   "source": [
    "for i in py_dict.keys():\n",
    "    if i in ['name','age']:\n",
    "        print(i,py_dict[i])"
   ]
  },
  {
   "cell_type": "code",
   "execution_count": 182,
   "id": "3cdd929c",
   "metadata": {},
   "outputs": [
    {
     "name": "stdout",
     "output_type": "stream",
     "text": [
      "name Roshan\n",
      "age 29\n"
     ]
    }
   ],
   "source": [
    "for k,v in py_dict.items():\n",
    "    if k in ['name','age']:\n",
    "        print(k,v)"
   ]
  },
  {
   "cell_type": "code",
   "execution_count": null,
   "id": "8666c4c2",
   "metadata": {},
   "outputs": [],
   "source": []
  },
  {
   "cell_type": "code",
   "execution_count": 3,
   "id": "db9c7381",
   "metadata": {},
   "outputs": [
    {
     "name": "stdout",
     "output_type": "stream",
     "text": [
      "0 name Roshan\n",
      "1 age 29\n",
      "2 sal 75000\n",
      "3 id 2274\n"
     ]
    }
   ],
   "source": [
    "for index, (k,v) in enumerate(py_dict.items()):\n",
    "    print(index,k,v)"
   ]
  },
  {
   "cell_type": "code",
   "execution_count": 188,
   "id": "79023759",
   "metadata": {},
   "outputs": [],
   "source": [
    "emp = ['Roshan','Mohan','Heena','Ajay','Naman']"
   ]
  },
  {
   "cell_type": "code",
   "execution_count": 189,
   "id": "fafaad03",
   "metadata": {},
   "outputs": [
    {
     "name": "stdout",
     "output_type": "stream",
     "text": [
      "0 Roshan\n",
      "1 Mohan\n",
      "2 Heena\n",
      "3 Ajay\n",
      "4 Naman\n"
     ]
    }
   ],
   "source": [
    "for index, i in enumerate(emp):\n",
    "    print(index,i)"
   ]
  },
  {
   "cell_type": "code",
   "execution_count": 190,
   "id": "d3c7d1c4",
   "metadata": {},
   "outputs": [
    {
     "name": "stdout",
     "output_type": "stream",
     "text": [
      "5\n",
      "4\n",
      "3\n"
     ]
    }
   ],
   "source": [
    "x = 5\n",
    "while (x!=2):\n",
    "    print(x)\n",
    "    x -= 1"
   ]
  },
  {
   "cell_type": "code",
   "execution_count": 193,
   "id": "22fc45be",
   "metadata": {},
   "outputs": [
    {
     "name": "stdout",
     "output_type": "stream",
     "text": [
      "0 AAA\n",
      "1 BBB\n",
      "2 CCC\n",
      "3 DDD\n"
     ]
    }
   ],
   "source": [
    "for index,i in enumerate(['A','B','C','D']):\n",
    "    print(index,i*3)"
   ]
  },
  {
   "cell_type": "code",
   "execution_count": 195,
   "id": "840dee56",
   "metadata": {},
   "outputs": [
    {
     "name": "stdout",
     "output_type": "stream",
     "text": [
      "R-->\t o-->\t s-->\t h-->\t a-->\t n-->\t "
     ]
    }
   ],
   "source": [
    "for i in 'Roshan':\n",
    "    print(f'{i}-->\\t',end = ' ')"
   ]
  },
  {
   "cell_type": "code",
   "execution_count": 196,
   "id": "e796359d",
   "metadata": {},
   "outputs": [],
   "source": [
    "def Counts(x):\n",
    "    for i in range(1,11):\n",
    "        print(i*x)"
   ]
  },
  {
   "cell_type": "code",
   "execution_count": 197,
   "id": "817237a9",
   "metadata": {},
   "outputs": [
    {
     "name": "stdout",
     "output_type": "stream",
     "text": [
      "2\n",
      "4\n",
      "6\n",
      "8\n",
      "10\n",
      "12\n",
      "14\n",
      "16\n",
      "18\n",
      "20\n"
     ]
    }
   ],
   "source": [
    "Counts(2)"
   ]
  },
  {
   "cell_type": "code",
   "execution_count": 201,
   "id": "0cbba4cb",
   "metadata": {},
   "outputs": [],
   "source": [
    "fruits = ('orange','apple','grapes','banana')\n",
    "colour = ['orange','red','green','yellow']"
   ]
  },
  {
   "cell_type": "code",
   "execution_count": 202,
   "id": "aab111d5",
   "metadata": {},
   "outputs": [
    {
     "name": "stdout",
     "output_type": "stream",
     "text": [
      "orange orange\n",
      "apple red\n",
      "grapes green\n",
      "banana yellow\n"
     ]
    }
   ],
   "source": [
    "for k,v in zip(fruits,colour):\n",
    "    print(k,v)"
   ]
  },
  {
   "cell_type": "code",
   "execution_count": 213,
   "id": "8390567c",
   "metadata": {},
   "outputs": [],
   "source": [
    "a = zip(fruits,colour)"
   ]
  },
  {
   "cell_type": "code",
   "execution_count": 214,
   "id": "34e8cc5c",
   "metadata": {},
   "outputs": [
    {
     "data": {
      "text/plain": [
       "{'orange': 'orange', 'apple': 'red', 'grapes': 'green', 'banana': 'yellow'}"
      ]
     },
     "execution_count": 214,
     "metadata": {},
     "output_type": "execute_result"
    }
   ],
   "source": [
    "dict(a)"
   ]
  },
  {
   "cell_type": "code",
   "execution_count": 218,
   "id": "a4178cf5",
   "metadata": {},
   "outputs": [
    {
     "name": "stdout",
     "output_type": "stream",
     "text": [
      "orange is orange\n",
      "apple is red\n",
      "grapes is green\n",
      "banana is yellow\n"
     ]
    }
   ],
   "source": [
    "for k,v in zip(fruits,colour):\n",
    "    print(f'{k} is {v}')"
   ]
  },
  {
   "cell_type": "code",
   "execution_count": 246,
   "id": "8862b0c4",
   "metadata": {},
   "outputs": [
    {
     "name": "stdout",
     "output_type": "stream",
     "text": [
      "Roshan age is 25\n",
      "Mohan age is 26\n",
      "Kunal age is 35\n",
      "Rahul age is 25\n",
      "kamal age is 28\n"
     ]
    }
   ],
   "source": [
    "names = ['Roshan','Mohan','Kunal','Rahul','kamal']\n",
    "ages = (25,26,35,25,28)\n",
    "\n",
    "for name,age in zip(names,ages):\n",
    "    print(f'{name} age is {age}')"
   ]
  },
  {
   "cell_type": "code",
   "execution_count": 247,
   "id": "020be5ab",
   "metadata": {},
   "outputs": [
    {
     "data": {
      "text/plain": [
       "{'Roshan': 25, 'Mohan': 26, 'Kunal': 35, 'Rahul': 25, 'kamal': 28}"
      ]
     },
     "execution_count": 247,
     "metadata": {},
     "output_type": "execute_result"
    }
   ],
   "source": [
    "dict(zip(names,ages))"
   ]
  },
  {
   "cell_type": "code",
   "execution_count": 248,
   "id": "7975768a",
   "metadata": {},
   "outputs": [
    {
     "data": {
      "text/plain": [
       "['Roshan', 'Mohan', 'Kunal', 'Rahul', 'kamal']"
      ]
     },
     "execution_count": 248,
     "metadata": {},
     "output_type": "execute_result"
    }
   ],
   "source": [
    "names"
   ]
  },
  {
   "cell_type": "code",
   "execution_count": 249,
   "id": "7abc9654",
   "metadata": {},
   "outputs": [
    {
     "data": {
      "text/plain": [
       "(25, 26, 35, 25, 28)"
      ]
     },
     "execution_count": 249,
     "metadata": {},
     "output_type": "execute_result"
    }
   ],
   "source": [
    "ages"
   ]
  },
  {
   "cell_type": "code",
   "execution_count": 4,
   "id": "8ba42843",
   "metadata": {},
   "outputs": [],
   "source": [
    "b = 'Roshan Bahetwar'"
   ]
  },
  {
   "cell_type": "code",
   "execution_count": 5,
   "id": "185a6a27",
   "metadata": {},
   "outputs": [],
   "source": [
    "b1 = iter(b)"
   ]
  },
  {
   "cell_type": "code",
   "execution_count": 6,
   "id": "a5886d22",
   "metadata": {},
   "outputs": [
    {
     "data": {
      "text/plain": [
       "'R'"
      ]
     },
     "execution_count": 6,
     "metadata": {},
     "output_type": "execute_result"
    }
   ],
   "source": [
    "next(b1)"
   ]
  },
  {
   "cell_type": "code",
   "execution_count": 7,
   "id": "6c8e7e1c",
   "metadata": {},
   "outputs": [
    {
     "data": {
      "text/plain": [
       "'o'"
      ]
     },
     "execution_count": 7,
     "metadata": {},
     "output_type": "execute_result"
    }
   ],
   "source": [
    "next(b1)"
   ]
  },
  {
   "cell_type": "code",
   "execution_count": 8,
   "id": "abdfa931",
   "metadata": {},
   "outputs": [
    {
     "name": "stdout",
     "output_type": "stream",
     "text": [
      "s\n",
      "h\n",
      "a\n",
      "n\n",
      " \n",
      "B\n",
      "a\n",
      "h\n",
      "e\n",
      "t\n",
      "w\n",
      "a\n",
      "r\n"
     ]
    }
   ],
   "source": [
    "for i in b1:\n",
    "    print(i)"
   ]
  },
  {
   "cell_type": "code",
   "execution_count": 28,
   "id": "e1cfc87f",
   "metadata": {},
   "outputs": [],
   "source": [
    "def gen():\n",
    "    print('hello 1')\n",
    "    yield 17\n",
    "    return\n",
    "\n",
    "    print('hello 2')\n",
    "    yield 18\n",
    "\n",
    "    print('hello 3')\n",
    "    yield 19"
   ]
  },
  {
   "cell_type": "code",
   "execution_count": 29,
   "id": "ef7223e0",
   "metadata": {},
   "outputs": [],
   "source": [
    "a = gen()"
   ]
  },
  {
   "cell_type": "code",
   "execution_count": 30,
   "id": "4dde59ac",
   "metadata": {},
   "outputs": [
    {
     "name": "stdout",
     "output_type": "stream",
     "text": [
      "hello 1\n",
      "17\n"
     ]
    }
   ],
   "source": [
    "for i in a:\n",
    "    print(i)"
   ]
  },
  {
   "cell_type": "code",
   "execution_count": 26,
   "id": "18db61b2",
   "metadata": {},
   "outputs": [
    {
     "name": "stdout",
     "output_type": "stream",
     "text": [
      "hello 1\n"
     ]
    },
    {
     "data": {
      "text/plain": [
       "17"
      ]
     },
     "execution_count": 26,
     "metadata": {},
     "output_type": "execute_result"
    }
   ],
   "source": [
    "next(a)"
   ]
  },
  {
   "cell_type": "code",
   "execution_count": 27,
   "id": "b6f9f1bb",
   "metadata": {},
   "outputs": [
    {
     "ename": "StopIteration",
     "evalue": "",
     "output_type": "error",
     "traceback": [
      "\u001b[1;31m---------------------------------------------------------------------------\u001b[0m",
      "\u001b[1;31mStopIteration\u001b[0m                             Traceback (most recent call last)",
      "Input \u001b[1;32mIn [27]\u001b[0m, in \u001b[0;36m<cell line: 1>\u001b[1;34m()\u001b[0m\n\u001b[1;32m----> 1\u001b[0m \u001b[38;5;28;43mnext\u001b[39;49m\u001b[43m(\u001b[49m\u001b[43ma\u001b[49m\u001b[43m)\u001b[49m\n",
      "\u001b[1;31mStopIteration\u001b[0m: "
     ]
    }
   ],
   "source": [
    "next(a)"
   ]
  },
  {
   "cell_type": "code",
   "execution_count": 22,
   "id": "86dab30e",
   "metadata": {},
   "outputs": [
    {
     "name": "stdout",
     "output_type": "stream",
     "text": [
      "hello 3\n"
     ]
    },
    {
     "data": {
      "text/plain": [
       "19"
      ]
     },
     "execution_count": 22,
     "metadata": {},
     "output_type": "execute_result"
    }
   ],
   "source": [
    "next(a)"
   ]
  },
  {
   "cell_type": "code",
   "execution_count": 23,
   "id": "04380dc2",
   "metadata": {},
   "outputs": [
    {
     "ename": "StopIteration",
     "evalue": "",
     "output_type": "error",
     "traceback": [
      "\u001b[1;31m---------------------------------------------------------------------------\u001b[0m",
      "\u001b[1;31mStopIteration\u001b[0m                             Traceback (most recent call last)",
      "Input \u001b[1;32mIn [23]\u001b[0m, in \u001b[0;36m<cell line: 1>\u001b[1;34m()\u001b[0m\n\u001b[1;32m----> 1\u001b[0m \u001b[38;5;28;43mnext\u001b[39;49m\u001b[43m(\u001b[49m\u001b[43ma\u001b[49m\u001b[43m)\u001b[49m\n",
      "\u001b[1;31mStopIteration\u001b[0m: "
     ]
    }
   ],
   "source": [
    "next(a)"
   ]
  },
  {
   "cell_type": "code",
   "execution_count": 44,
   "id": "6aab6141",
   "metadata": {},
   "outputs": [
    {
     "data": {
      "text/plain": [
       "['ROSHAN', 'key:- Sneha', 'key:- Heena', 'key:- Komal']"
      ]
     },
     "execution_count": 44,
     "metadata": {},
     "output_type": "execute_result"
    }
   ],
   "source": [
    "emp = ['roshan','sneha','heena','komal']\n",
    "\n",
    "lst = list(map(lambda x: x.upper() if x == 'roshan' else f'key:- {x.title()}',emp))\n",
    "\n",
    "lst"
   ]
  },
  {
   "cell_type": "code",
   "execution_count": 40,
   "id": "b3cb3fa1",
   "metadata": {},
   "outputs": [
    {
     "data": {
      "text/plain": [
       "['ROSHAN', 'Sneha', 'Heena', 'Komal']"
      ]
     },
     "execution_count": 40,
     "metadata": {},
     "output_type": "execute_result"
    }
   ],
   "source": [
    "lst"
   ]
  },
  {
   "cell_type": "code",
   "execution_count": 42,
   "id": "b9fc53b9",
   "metadata": {},
   "outputs": [
    {
     "name": "stdout",
     "output_type": "stream",
     "text": [
      "ROSHAN\n",
      "Sneha\n",
      "Heena\n",
      "Komal\n"
     ]
    }
   ],
   "source": [
    "for i in lst:\n",
    "    i.capitalize()\n",
    "    print(i)"
   ]
  },
  {
   "cell_type": "code",
   "execution_count": 3,
   "id": "2be9be7d",
   "metadata": {},
   "outputs": [],
   "source": [
    "lst = ['Roshan','Asha','Punam']"
   ]
  },
  {
   "cell_type": "code",
   "execution_count": 4,
   "id": "936c9dc1",
   "metadata": {},
   "outputs": [],
   "source": [
    "lst.insert(25,'Ganesh')"
   ]
  },
  {
   "cell_type": "code",
   "execution_count": 5,
   "id": "dacd2bf1",
   "metadata": {},
   "outputs": [
    {
     "data": {
      "text/plain": [
       "['Roshan', 'Asha', 'Punam', 'Ganesh']"
      ]
     },
     "execution_count": 5,
     "metadata": {},
     "output_type": "execute_result"
    }
   ],
   "source": [
    "lst"
   ]
  },
  {
   "cell_type": "code",
   "execution_count": 6,
   "id": "e917d9c2",
   "metadata": {},
   "outputs": [
    {
     "name": "stdout",
     "output_type": "stream",
     "text": [
      "['Roshan', 'Asha', 'Ganesh']\n"
     ]
    }
   ],
   "source": [
    "for i in lst:\n",
    "    if i == 'Punam':\n",
    "        lst.remove(i)\n",
    "print(lst)"
   ]
  },
  {
   "cell_type": "code",
   "execution_count": 26,
   "id": "99d9f331",
   "metadata": {},
   "outputs": [],
   "source": [
    "p = [2,5,4,5,4,7,55,6,5,2,5,2,5,2,5,2,5]"
   ]
  },
  {
   "cell_type": "code",
   "execution_count": 27,
   "id": "abbf8339",
   "metadata": {},
   "outputs": [
    {
     "data": {
      "text/plain": [
       "[2, 5, 4, 5, 4, 7, 55, 6, 5, 2, 5, 2, 5, 2, 5, 2, 5]"
      ]
     },
     "execution_count": 27,
     "metadata": {},
     "output_type": "execute_result"
    }
   ],
   "source": [
    "p"
   ]
  },
  {
   "cell_type": "code",
   "execution_count": 28,
   "id": "97028d8e",
   "metadata": {},
   "outputs": [
    {
     "name": "stdout",
     "output_type": "stream",
     "text": [
      "[2, 4, 4, 7, 55, 6, 2, 2, 2, 2]\n",
      "7\n",
      "\n",
      " Occurance of 5 is 7 nos and Sum of These is 35\n"
     ]
    }
   ],
   "source": [
    "count = 0\n",
    "TotalCountSum = 0\n",
    "for i in p:\n",
    "    if i == 5:\n",
    "        p.remove(i)\n",
    "        count += 1\n",
    "        TotalCountSum += i \n",
    "print(p)\n",
    "print(count)\n",
    "print(f'\\n Occurance of {i} is {count} nos and Sum of These is {TotalCountSum}')"
   ]
  },
  {
   "cell_type": "code",
   "execution_count": 29,
   "id": "f8bea187",
   "metadata": {},
   "outputs": [
    {
     "data": {
      "text/plain": [
       "[2, 4, 4, 7, 55, 6, 2, 2, 2, 2]"
      ]
     },
     "execution_count": 29,
     "metadata": {},
     "output_type": "execute_result"
    }
   ],
   "source": [
    "p"
   ]
  },
  {
   "cell_type": "code",
   "execution_count": 30,
   "id": "4884dcb5",
   "metadata": {},
   "outputs": [],
   "source": [
    "p.reverse()"
   ]
  },
  {
   "cell_type": "code",
   "execution_count": 31,
   "id": "333de0e5",
   "metadata": {},
   "outputs": [
    {
     "data": {
      "text/plain": [
       "[2, 2, 2, 2, 6, 55, 7, 4, 4, 2]"
      ]
     },
     "execution_count": 31,
     "metadata": {},
     "output_type": "execute_result"
    }
   ],
   "source": [
    "p"
   ]
  },
  {
   "cell_type": "code",
   "execution_count": 32,
   "id": "bea55c52",
   "metadata": {},
   "outputs": [],
   "source": [
    "# set \n",
    "\n",
    "py_set = {'roshan','mohan'}"
   ]
  },
  {
   "cell_type": "code",
   "execution_count": 33,
   "id": "f21b2d7e",
   "metadata": {},
   "outputs": [
    {
     "data": {
      "text/plain": [
       "{'mohan', 'roshan'}"
      ]
     },
     "execution_count": 33,
     "metadata": {},
     "output_type": "execute_result"
    }
   ],
   "source": [
    "py_set"
   ]
  },
  {
   "cell_type": "code",
   "execution_count": 34,
   "id": "fe4f5a0b",
   "metadata": {},
   "outputs": [],
   "source": [
    "py_set.add('govind')"
   ]
  },
  {
   "cell_type": "code",
   "execution_count": 35,
   "id": "e5a8f5c6",
   "metadata": {},
   "outputs": [
    {
     "data": {
      "text/plain": [
       "{'govind', 'mohan', 'roshan'}"
      ]
     },
     "execution_count": 35,
     "metadata": {},
     "output_type": "execute_result"
    }
   ],
   "source": [
    "py_set"
   ]
  },
  {
   "cell_type": "code",
   "execution_count": 36,
   "id": "bbe2c231",
   "metadata": {},
   "outputs": [],
   "source": [
    "py_set.update(['neha','manisha','ganesh'])"
   ]
  },
  {
   "cell_type": "code",
   "execution_count": 37,
   "id": "d74aaeb4",
   "metadata": {},
   "outputs": [
    {
     "data": {
      "text/plain": [
       "{'ganesh', 'govind', 'manisha', 'mohan', 'neha', 'roshan'}"
      ]
     },
     "execution_count": 37,
     "metadata": {},
     "output_type": "execute_result"
    }
   ],
   "source": [
    "py_set"
   ]
  },
  {
   "cell_type": "code",
   "execution_count": 38,
   "id": "38df1afe",
   "metadata": {},
   "outputs": [],
   "source": [
    "py_set.update((1,2,3))"
   ]
  },
  {
   "cell_type": "code",
   "execution_count": 39,
   "id": "929c7517",
   "metadata": {},
   "outputs": [
    {
     "data": {
      "text/plain": [
       "{1, 2, 3, 'ganesh', 'govind', 'manisha', 'mohan', 'neha', 'roshan'}"
      ]
     },
     "execution_count": 39,
     "metadata": {},
     "output_type": "execute_result"
    }
   ],
   "source": [
    "py_set"
   ]
  },
  {
   "cell_type": "code",
   "execution_count": 40,
   "id": "b57caa5e",
   "metadata": {},
   "outputs": [
    {
     "data": {
      "text/plain": [
       "['Roshan', 'Asha', 'Ganesh']"
      ]
     },
     "execution_count": 40,
     "metadata": {},
     "output_type": "execute_result"
    }
   ],
   "source": [
    "lst"
   ]
  },
  {
   "cell_type": "code",
   "execution_count": 41,
   "id": "1e75b4d0",
   "metadata": {},
   "outputs": [
    {
     "ename": "ValueError",
     "evalue": "list.remove(x): x not in list",
     "output_type": "error",
     "traceback": [
      "\u001b[1;31m---------------------------------------------------------------------------\u001b[0m",
      "\u001b[1;31mValueError\u001b[0m                                Traceback (most recent call last)",
      "Input \u001b[1;32mIn [41]\u001b[0m, in \u001b[0;36m<cell line: 1>\u001b[1;34m()\u001b[0m\n\u001b[1;32m----> 1\u001b[0m \u001b[43mlst\u001b[49m\u001b[38;5;241;43m.\u001b[39;49m\u001b[43mremove\u001b[49m\u001b[43m(\u001b[49m\u001b[38;5;124;43m'\u001b[39;49m\u001b[38;5;124;43mgoa\u001b[39;49m\u001b[38;5;124;43m'\u001b[39;49m\u001b[43m)\u001b[49m\n",
      "\u001b[1;31mValueError\u001b[0m: list.remove(x): x not in list"
     ]
    }
   ],
   "source": [
    "lst.remove('goa')"
   ]
  },
  {
   "cell_type": "code",
   "execution_count": 42,
   "id": "36da8ea7",
   "metadata": {},
   "outputs": [],
   "source": [
    "lst.remove('Roshan')"
   ]
  },
  {
   "cell_type": "code",
   "execution_count": 43,
   "id": "a2835011",
   "metadata": {},
   "outputs": [
    {
     "data": {
      "text/plain": [
       "{1, 2, 3, 'ganesh', 'govind', 'manisha', 'mohan', 'neha', 'roshan'}"
      ]
     },
     "execution_count": 43,
     "metadata": {},
     "output_type": "execute_result"
    }
   ],
   "source": [
    "py_set"
   ]
  },
  {
   "cell_type": "code",
   "execution_count": 44,
   "id": "7c865f94",
   "metadata": {},
   "outputs": [],
   "source": [
    "py_set.remove(1)"
   ]
  },
  {
   "cell_type": "code",
   "execution_count": 45,
   "id": "22d07907",
   "metadata": {},
   "outputs": [
    {
     "data": {
      "text/plain": [
       "{2, 3, 'ganesh', 'govind', 'manisha', 'mohan', 'neha', 'roshan'}"
      ]
     },
     "execution_count": 45,
     "metadata": {},
     "output_type": "execute_result"
    }
   ],
   "source": [
    "py_set"
   ]
  },
  {
   "cell_type": "code",
   "execution_count": 47,
   "id": "2423d302",
   "metadata": {},
   "outputs": [
    {
     "ename": "KeyError",
     "evalue": "5",
     "output_type": "error",
     "traceback": [
      "\u001b[1;31m---------------------------------------------------------------------------\u001b[0m",
      "\u001b[1;31mKeyError\u001b[0m                                  Traceback (most recent call last)",
      "Input \u001b[1;32mIn [47]\u001b[0m, in \u001b[0;36m<cell line: 1>\u001b[1;34m()\u001b[0m\n\u001b[1;32m----> 1\u001b[0m \u001b[43mpy_set\u001b[49m\u001b[38;5;241;43m.\u001b[39;49m\u001b[43mremove\u001b[49m\u001b[43m(\u001b[49m\u001b[38;5;241;43m5\u001b[39;49m\u001b[43m)\u001b[49m\n",
      "\u001b[1;31mKeyError\u001b[0m: 5"
     ]
    }
   ],
   "source": [
    "py_set.remove(5)"
   ]
  },
  {
   "cell_type": "code",
   "execution_count": 49,
   "id": "b08decc2",
   "metadata": {},
   "outputs": [],
   "source": [
    "py_set.discard(5)"
   ]
  },
  {
   "cell_type": "code",
   "execution_count": 50,
   "id": "af947f51",
   "metadata": {},
   "outputs": [
    {
     "data": {
      "text/plain": [
       "['Asha', 'Ganesh']"
      ]
     },
     "execution_count": 50,
     "metadata": {},
     "output_type": "execute_result"
    }
   ],
   "source": [
    "lst"
   ]
  },
  {
   "cell_type": "code",
   "execution_count": 52,
   "id": "b5c5ce77",
   "metadata": {},
   "outputs": [],
   "source": [
    "temp = dict.fromkeys(lst)"
   ]
  },
  {
   "cell_type": "code",
   "execution_count": 53,
   "id": "0a39244a",
   "metadata": {},
   "outputs": [],
   "source": [
    "temp['Asha'] = 26"
   ]
  },
  {
   "cell_type": "code",
   "execution_count": 54,
   "id": "ddc80b7b",
   "metadata": {},
   "outputs": [
    {
     "data": {
      "text/plain": [
       "{'Asha': 26, 'Ganesh': None}"
      ]
     },
     "execution_count": 54,
     "metadata": {},
     "output_type": "execute_result"
    }
   ],
   "source": [
    "temp"
   ]
  },
  {
   "cell_type": "code",
   "execution_count": 55,
   "id": "f3656d77",
   "metadata": {},
   "outputs": [],
   "source": [
    "temp['Ganesh'] = 25"
   ]
  },
  {
   "cell_type": "code",
   "execution_count": 56,
   "id": "39f9050c",
   "metadata": {},
   "outputs": [
    {
     "data": {
      "text/plain": [
       "{'Asha': 26, 'Ganesh': 25}"
      ]
     },
     "execution_count": 56,
     "metadata": {},
     "output_type": "execute_result"
    }
   ],
   "source": [
    "temp"
   ]
  },
  {
   "cell_type": "code",
   "execution_count": 57,
   "id": "85f95939",
   "metadata": {},
   "outputs": [
    {
     "data": {
      "text/plain": [
       "{'Asha': None, 'Ganesh': None}"
      ]
     },
     "execution_count": 57,
     "metadata": {},
     "output_type": "execute_result"
    }
   ],
   "source": [
    "dict.fromkeys(temp)"
   ]
  },
  {
   "cell_type": "code",
   "execution_count": 58,
   "id": "26b3cd7b",
   "metadata": {},
   "outputs": [
    {
     "data": {
      "text/plain": [
       "{'Asha': 25, 'Ganesh': 25}"
      ]
     },
     "execution_count": 58,
     "metadata": {},
     "output_type": "execute_result"
    }
   ],
   "source": [
    "dict.fromkeys(temp,25)"
   ]
  },
  {
   "cell_type": "code",
   "execution_count": 59,
   "id": "e16b2b05",
   "metadata": {},
   "outputs": [],
   "source": [
    "temp['Asha'] = 28"
   ]
  },
  {
   "cell_type": "code",
   "execution_count": 60,
   "id": "cd00693b",
   "metadata": {},
   "outputs": [
    {
     "data": {
      "text/plain": [
       "{'Asha': 28, 'Ganesh': 25}"
      ]
     },
     "execution_count": 60,
     "metadata": {},
     "output_type": "execute_result"
    }
   ],
   "source": [
    "temp"
   ]
  },
  {
   "cell_type": "code",
   "execution_count": 61,
   "id": "02e7cf1a",
   "metadata": {},
   "outputs": [
    {
     "data": {
      "text/plain": [
       "'Pune'"
      ]
     },
     "execution_count": 61,
     "metadata": {},
     "output_type": "execute_result"
    }
   ],
   "source": [
    "temp.setdefault('City','Pune')"
   ]
  },
  {
   "cell_type": "code",
   "execution_count": 62,
   "id": "7f56334a",
   "metadata": {},
   "outputs": [
    {
     "data": {
      "text/plain": [
       "{'Asha': 28, 'Ganesh': 25, 'City': 'Pune'}"
      ]
     },
     "execution_count": 62,
     "metadata": {},
     "output_type": "execute_result"
    }
   ],
   "source": [
    "temp"
   ]
  },
  {
   "cell_type": "code",
   "execution_count": 64,
   "id": "13f5c4c5",
   "metadata": {},
   "outputs": [],
   "source": [
    "ls = 'hello this is string example'"
   ]
  },
  {
   "cell_type": "code",
   "execution_count": 65,
   "id": "1c7a189c",
   "metadata": {},
   "outputs": [
    {
     "data": {
      "text/plain": [
       "'hello this is string example'"
      ]
     },
     "execution_count": 65,
     "metadata": {},
     "output_type": "execute_result"
    }
   ],
   "source": [
    "ls"
   ]
  },
  {
   "cell_type": "code",
   "execution_count": 66,
   "id": "d8486b72",
   "metadata": {},
   "outputs": [
    {
     "data": {
      "text/plain": [
       "14"
      ]
     },
     "execution_count": 66,
     "metadata": {},
     "output_type": "execute_result"
    }
   ],
   "source": [
    "ls.find('string')"
   ]
  },
  {
   "cell_type": "code",
   "execution_count": 67,
   "id": "33dee7e8",
   "metadata": {},
   "outputs": [
    {
     "data": {
      "text/plain": [
       "-1"
      ]
     },
     "execution_count": 67,
     "metadata": {},
     "output_type": "execute_result"
    }
   ],
   "source": [
    "ls.find('Roshan')"
   ]
  },
  {
   "cell_type": "code",
   "execution_count": 69,
   "id": "c217139f",
   "metadata": {},
   "outputs": [
    {
     "data": {
      "text/plain": [
       "3"
      ]
     },
     "execution_count": 69,
     "metadata": {},
     "output_type": "execute_result"
    }
   ],
   "source": [
    "ls.count('s')"
   ]
  },
  {
   "cell_type": "code",
   "execution_count": 70,
   "id": "68a3d2bd",
   "metadata": {},
   "outputs": [],
   "source": [
    "a = 'roshan'"
   ]
  },
  {
   "cell_type": "code",
   "execution_count": 71,
   "id": "5930dcd1",
   "metadata": {},
   "outputs": [
    {
     "data": {
      "text/plain": [
       "'000000000roshan'"
      ]
     },
     "execution_count": 71,
     "metadata": {},
     "output_type": "execute_result"
    }
   ],
   "source": [
    "a.zfill(15)"
   ]
  },
  {
   "cell_type": "code",
   "execution_count": 72,
   "id": "df3385ae",
   "metadata": {},
   "outputs": [
    {
     "data": {
      "text/plain": [
       "'       roshan       '"
      ]
     },
     "execution_count": 72,
     "metadata": {},
     "output_type": "execute_result"
    }
   ],
   "source": [
    "a.center(20)"
   ]
  },
  {
   "cell_type": "code",
   "execution_count": 77,
   "id": "a725c0eb",
   "metadata": {},
   "outputs": [
    {
     "data": {
      "text/plain": [
       "'h*e*l*l*o'"
      ]
     },
     "execution_count": 77,
     "metadata": {},
     "output_type": "execute_result"
    }
   ],
   "source": [
    "str = '*'.join('hello')\n",
    "str"
   ]
  },
  {
   "cell_type": "code",
   "execution_count": 78,
   "id": "eeeba1d2",
   "metadata": {},
   "outputs": [
    {
     "data": {
      "text/plain": [
       "'apple@@banana@cherry@'"
      ]
     },
     "execution_count": 78,
     "metadata": {},
     "output_type": "execute_result"
    }
   ],
   "source": [
    "words = [\"apple\",\"\",\"banana\",\"cherry\",\"\"]\n",
    "'@'.join(words)"
   ]
  },
  {
   "cell_type": "code",
   "execution_count": 82,
   "id": "a5bd5878",
   "metadata": {},
   "outputs": [],
   "source": [
    "str1 = 'hello i am a geek'\n",
    "lst = list(str1)\n",
    "lst.remove(' ')"
   ]
  },
  {
   "cell_type": "code",
   "execution_count": 85,
   "id": "6995b71c",
   "metadata": {},
   "outputs": [
    {
     "name": "stdout",
     "output_type": "stream",
     "text": [
      "['h', 'e', 'l', 'l', 'o', 'i', 'a', 'm', 'a', 'g', 'e', 'e', 'k']\n"
     ]
    }
   ],
   "source": [
    "for i in lst:\n",
    "    if i == ' ':\n",
    "        lst.remove(i)\n",
    "print(lst)"
   ]
  },
  {
   "cell_type": "code",
   "execution_count": 88,
   "id": "93c6d0db",
   "metadata": {},
   "outputs": [
    {
     "data": {
      "text/plain": [
       "'helloiamageek'"
      ]
     },
     "execution_count": 88,
     "metadata": {},
     "output_type": "execute_result"
    }
   ],
   "source": [
    "''.join(lst)"
   ]
  },
  {
   "cell_type": "code",
   "execution_count": null,
   "id": "9796728d",
   "metadata": {},
   "outputs": [],
   "source": []
  }
 ],
 "metadata": {
  "kernelspec": {
   "display_name": "Python 3 (ipykernel)",
   "language": "python",
   "name": "python3"
  },
  "language_info": {
   "codemirror_mode": {
    "name": "ipython",
    "version": 3
   },
   "file_extension": ".py",
   "mimetype": "text/x-python",
   "name": "python",
   "nbconvert_exporter": "python",
   "pygments_lexer": "ipython3",
   "version": "3.9.12"
  }
 },
 "nbformat": 4,
 "nbformat_minor": 5
}
