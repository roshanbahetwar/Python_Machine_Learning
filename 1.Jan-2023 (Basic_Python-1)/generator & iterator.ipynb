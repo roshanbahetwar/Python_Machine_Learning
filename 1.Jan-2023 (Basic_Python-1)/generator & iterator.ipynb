{
 "cells": [
  {
   "cell_type": "code",
   "execution_count": 8,
   "id": "2abf4f36",
   "metadata": {},
   "outputs": [],
   "source": [
    "def temp(n):\n",
    "    i = 1\n",
    "    while i<=n:\n",
    "        yield i\n",
    "        i = i+1"
   ]
  },
  {
   "cell_type": "code",
   "execution_count": 27,
   "id": "6a87b9f3",
   "metadata": {},
   "outputs": [],
   "source": [
    "obj = temp(15)"
   ]
  },
  {
   "cell_type": "code",
   "execution_count": 28,
   "id": "6f56a1c6",
   "metadata": {},
   "outputs": [
    {
     "data": {
      "text/plain": [
       "1"
      ]
     },
     "execution_count": 28,
     "metadata": {},
     "output_type": "execute_result"
    }
   ],
   "source": [
    "next(obj)"
   ]
  },
  {
   "cell_type": "code",
   "execution_count": 29,
   "id": "b8908c80",
   "metadata": {},
   "outputs": [
    {
     "name": "stdout",
     "output_type": "stream",
     "text": [
      "2\n",
      "3\n",
      "4\n",
      "5\n",
      "6\n",
      "7\n",
      "8\n",
      "9\n",
      "10\n",
      "11\n",
      "12\n",
      "13\n",
      "14\n",
      "15\n"
     ]
    }
   ],
   "source": [
    "for i in obj:\n",
    "    print(i)"
   ]
  },
  {
   "cell_type": "code",
   "execution_count": 17,
   "id": "74914705",
   "metadata": {},
   "outputs": [],
   "source": [
    "def test(n):\n",
    "    i=1\n",
    "    while i<=n:\n",
    "        yield i\n",
    "        i = i+1"
   ]
  },
  {
   "cell_type": "code",
   "execution_count": 18,
   "id": "4af3f8e9",
   "metadata": {},
   "outputs": [],
   "source": [
    "p = test(10)"
   ]
  },
  {
   "cell_type": "code",
   "execution_count": 22,
   "id": "be85cbaf",
   "metadata": {},
   "outputs": [
    {
     "data": {
      "text/plain": [
       "4"
      ]
     },
     "execution_count": 22,
     "metadata": {},
     "output_type": "execute_result"
    }
   ],
   "source": [
    "next(p)"
   ]
  },
  {
   "cell_type": "code",
   "execution_count": 23,
   "id": "c3385e2e",
   "metadata": {},
   "outputs": [
    {
     "name": "stdout",
     "output_type": "stream",
     "text": [
      "5\n",
      "6\n",
      "7\n",
      "8\n",
      "9\n",
      "10\n"
     ]
    }
   ],
   "source": [
    "for i in p:\n",
    "    print(i)"
   ]
  },
  {
   "cell_type": "code",
   "execution_count": 47,
   "id": "1c97b7d4",
   "metadata": {},
   "outputs": [],
   "source": [
    "def abc(n):\n",
    "    i = 24\n",
    "    while i<=n:\n",
    "        yield i\n",
    "        i = i+24"
   ]
  },
  {
   "cell_type": "code",
   "execution_count": 48,
   "id": "f7b69ce2",
   "metadata": {},
   "outputs": [],
   "source": [
    "a = abc(240)"
   ]
  },
  {
   "cell_type": "code",
   "execution_count": 49,
   "id": "f579dfea",
   "metadata": {},
   "outputs": [
    {
     "name": "stdout",
     "output_type": "stream",
     "text": [
      "24\n",
      "48\n",
      "72\n",
      "96\n",
      "120\n",
      "144\n",
      "168\n",
      "192\n",
      "216\n",
      "240\n"
     ]
    }
   ],
   "source": [
    "for i in a:\n",
    "    print(i)"
   ]
  },
  {
   "cell_type": "code",
   "execution_count": 50,
   "id": "989fc7f2",
   "metadata": {},
   "outputs": [],
   "source": [
    "def table(n):\n",
    "    i=2\n",
    "    while i<=n:\n",
    "        yield i\n",
    "        i = i+2"
   ]
  },
  {
   "cell_type": "code",
   "execution_count": 51,
   "id": "a6f279a3",
   "metadata": {},
   "outputs": [],
   "source": [
    "c = table(20)"
   ]
  },
  {
   "cell_type": "code",
   "execution_count": 56,
   "id": "cec71a36",
   "metadata": {},
   "outputs": [
    {
     "name": "stdout",
     "output_type": "stream",
     "text": [
      "2\n",
      "4\n",
      "6\n",
      "8\n",
      "10\n",
      "12\n",
      "14\n",
      "16\n",
      "18\n",
      "20\n"
     ]
    }
   ],
   "source": [
    "for i in table(20):\n",
    "    print(i)"
   ]
  },
  {
   "cell_type": "code",
   "execution_count": 70,
   "id": "255e7a58",
   "metadata": {},
   "outputs": [],
   "source": [
    "class Student:\n",
    "    def __init__(self,id,name,city,sal):\n",
    "        self.id = id\n",
    "        self.name = name\n",
    "        self.city = city\n",
    "        self.sal = sal\n",
    "        \n",
    "    def show(self):\n",
    "        print('Id :- ',self.id)\n",
    "        print('Name :- ',self.name)\n",
    "        print('City :- ',self.city)\n",
    "        print('Salary :- ',self.sal)"
   ]
  },
  {
   "cell_type": "code",
   "execution_count": 71,
   "id": "5e102095",
   "metadata": {},
   "outputs": [],
   "source": [
    "s1 = Student(101,'rjk','klt',45000)"
   ]
  },
  {
   "cell_type": "code",
   "execution_count": 72,
   "id": "496fcdbe",
   "metadata": {},
   "outputs": [
    {
     "name": "stdout",
     "output_type": "stream",
     "text": [
      "Id :-  101\n",
      "Name :-  rjk\n",
      "City :-  klt\n",
      "Salary :-  45000\n"
     ]
    }
   ],
   "source": [
    "s1.show()"
   ]
  },
  {
   "cell_type": "code",
   "execution_count": 86,
   "id": "36d3cc66",
   "metadata": {},
   "outputs": [],
   "source": [
    "class test:\n",
    "    def __init__ (self):\n",
    "        print('This is test method')"
   ]
  },
  {
   "cell_type": "code",
   "execution_count": 87,
   "id": "11df785a",
   "metadata": {},
   "outputs": [
    {
     "name": "stdout",
     "output_type": "stream",
     "text": [
      "This is test method\n"
     ]
    }
   ],
   "source": [
    "t = test()"
   ]
  },
  {
   "cell_type": "code",
   "execution_count": 92,
   "id": "6b00ebe8",
   "metadata": {},
   "outputs": [],
   "source": [
    "class A:\n",
    "    def __init__(self,id,name,city):\n",
    "        self.id = id\n",
    "        self.name = name\n",
    "        self.city = city\n",
    "        \n",
    "    def show(self):\n",
    "        print('Emp_Id :- ',self.id)\n",
    "        print('Emp_Name :- ',self.name)\n",
    "        print('Emp_City :- ',self.city)"
   ]
  },
  {
   "cell_type": "code",
   "execution_count": 93,
   "id": "118a7e11",
   "metadata": {},
   "outputs": [],
   "source": [
    "s = A('12564','rjk','kjh')"
   ]
  },
  {
   "cell_type": "code",
   "execution_count": 94,
   "id": "dd701133",
   "metadata": {},
   "outputs": [
    {
     "name": "stdout",
     "output_type": "stream",
     "text": [
      "Emp_Id :-  12564\n",
      "Emp_Name :-  rjk\n",
      "Emp_City :-  kjh\n"
     ]
    }
   ],
   "source": [
    "s.show()"
   ]
  },
  {
   "cell_type": "code",
   "execution_count": 7,
   "id": "6978aeb7",
   "metadata": {},
   "outputs": [],
   "source": [
    "class value:\n",
    "    def __init__(self,a,b):\n",
    "        self.a = a\n",
    "        self.b = b"
   ]
  },
  {
   "cell_type": "code",
   "execution_count": 8,
   "id": "3cf9acf0",
   "metadata": {},
   "outputs": [],
   "source": [
    "obj = value(15,20)"
   ]
  },
  {
   "cell_type": "code",
   "execution_count": 9,
   "id": "e0f61ff7",
   "metadata": {},
   "outputs": [
    {
     "data": {
      "text/plain": [
       "15"
      ]
     },
     "execution_count": 9,
     "metadata": {},
     "output_type": "execute_result"
    }
   ],
   "source": [
    "obj.a"
   ]
  },
  {
   "cell_type": "code",
   "execution_count": 10,
   "id": "63faa1c5",
   "metadata": {},
   "outputs": [
    {
     "data": {
      "text/plain": [
       "20"
      ]
     },
     "execution_count": 10,
     "metadata": {},
     "output_type": "execute_result"
    }
   ],
   "source": [
    "obj.b"
   ]
  },
  {
   "cell_type": "code",
   "execution_count": null,
   "id": "d2721b90",
   "metadata": {},
   "outputs": [],
   "source": []
  }
 ],
 "metadata": {
  "kernelspec": {
   "display_name": "Python 3 (ipykernel)",
   "language": "python",
   "name": "python3"
  },
  "language_info": {
   "codemirror_mode": {
    "name": "ipython",
    "version": 3
   },
   "file_extension": ".py",
   "mimetype": "text/x-python",
   "name": "python",
   "nbconvert_exporter": "python",
   "pygments_lexer": "ipython3",
   "version": "3.9.12"
  }
 },
 "nbformat": 4,
 "nbformat_minor": 5
}
