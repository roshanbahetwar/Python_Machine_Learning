{
 "cells": [
  {
   "cell_type": "code",
   "execution_count": 1,
   "id": "074e30a0",
   "metadata": {},
   "outputs": [],
   "source": [
    "import keyword"
   ]
  },
  {
   "cell_type": "code",
   "execution_count": 2,
   "id": "38c29e92",
   "metadata": {},
   "outputs": [
    {
     "data": {
      "text/plain": [
       "['False',\n",
       " 'None',\n",
       " 'True',\n",
       " '__peg_parser__',\n",
       " 'and',\n",
       " 'as',\n",
       " 'assert',\n",
       " 'async',\n",
       " 'await',\n",
       " 'break',\n",
       " 'class',\n",
       " 'continue',\n",
       " 'def',\n",
       " 'del',\n",
       " 'elif',\n",
       " 'else',\n",
       " 'except',\n",
       " 'finally',\n",
       " 'for',\n",
       " 'from',\n",
       " 'global',\n",
       " 'if',\n",
       " 'import',\n",
       " 'in',\n",
       " 'is',\n",
       " 'lambda',\n",
       " 'nonlocal',\n",
       " 'not',\n",
       " 'or',\n",
       " 'pass',\n",
       " 'raise',\n",
       " 'return',\n",
       " 'try',\n",
       " 'while',\n",
       " 'with',\n",
       " 'yield']"
      ]
     },
     "execution_count": 2,
     "metadata": {},
     "output_type": "execute_result"
    }
   ],
   "source": [
    "keyword.kwlist"
   ]
  },
  {
   "cell_type": "code",
   "execution_count": 3,
   "id": "ffb8449c",
   "metadata": {},
   "outputs": [],
   "source": [
    "var = ['Geeks','for','Gigs']"
   ]
  },
  {
   "cell_type": "code",
   "execution_count": 4,
   "id": "f4880d14",
   "metadata": {},
   "outputs": [
    {
     "data": {
      "text/plain": [
       "['Geeks', 'for', 'Gigs']"
      ]
     },
     "execution_count": 4,
     "metadata": {},
     "output_type": "execute_result"
    }
   ],
   "source": [
    "var"
   ]
  },
  {
   "cell_type": "code",
   "execution_count": 5,
   "id": "4c847c90",
   "metadata": {},
   "outputs": [
    {
     "data": {
      "text/plain": [
       "list"
      ]
     },
     "execution_count": 5,
     "metadata": {},
     "output_type": "execute_result"
    }
   ],
   "source": [
    "type(var)"
   ]
  },
  {
   "cell_type": "code",
   "execution_count": 6,
   "id": "4fa33f69",
   "metadata": {},
   "outputs": [
    {
     "data": {
      "text/plain": [
       "3"
      ]
     },
     "execution_count": 6,
     "metadata": {},
     "output_type": "execute_result"
    }
   ],
   "source": [
    "len(var)"
   ]
  },
  {
   "cell_type": "code",
   "execution_count": 7,
   "id": "73f49a20",
   "metadata": {},
   "outputs": [],
   "source": [
    "a = 10; b = None"
   ]
  },
  {
   "cell_type": "code",
   "execution_count": 8,
   "id": "8f1384c3",
   "metadata": {},
   "outputs": [
    {
     "data": {
      "text/plain": [
       "int"
      ]
     },
     "execution_count": 8,
     "metadata": {},
     "output_type": "execute_result"
    }
   ],
   "source": [
    "type(a)"
   ]
  },
  {
   "cell_type": "code",
   "execution_count": 9,
   "id": "7ac94fd2",
   "metadata": {},
   "outputs": [
    {
     "data": {
      "text/plain": [
       "NoneType"
      ]
     },
     "execution_count": 9,
     "metadata": {},
     "output_type": "execute_result"
    }
   ],
   "source": [
    "type(b)"
   ]
  },
  {
   "cell_type": "code",
   "execution_count": 10,
   "id": "5ac0bcda",
   "metadata": {},
   "outputs": [],
   "source": [
    "c = 22/7"
   ]
  },
  {
   "cell_type": "code",
   "execution_count": 11,
   "id": "d6f290e3",
   "metadata": {},
   "outputs": [
    {
     "name": "stdout",
     "output_type": "stream",
     "text": [
      "3.143\n"
     ]
    }
   ],
   "source": [
    "print(round(c,3))"
   ]
  },
  {
   "cell_type": "code",
   "execution_count": 12,
   "id": "dd87c528",
   "metadata": {},
   "outputs": [
    {
     "name": "stdout",
     "output_type": "stream",
     "text": [
      "Blank List\n",
      " []\n"
     ]
    }
   ],
   "source": [
    "# Creating blank list\n",
    "\n",
    "a = []\n",
    "print('Blank List\\n',a)\n"
   ]
  },
  {
   "cell_type": "code",
   "execution_count": 13,
   "id": "fe6bcba7",
   "metadata": {},
   "outputs": [
    {
     "name": "stdout",
     "output_type": "stream",
     "text": [
      "\n",
      "List of Numbers [2, 4, 6, 8]\n"
     ]
    }
   ],
   "source": [
    "val_list = [2,4,6,8]\n",
    "print('\\nList of Numbers',val_list)"
   ]
  },
  {
   "cell_type": "code",
   "execution_count": 14,
   "id": "d9dffcdf",
   "metadata": {},
   "outputs": [
    {
     "name": "stdout",
     "output_type": "stream",
     "text": [
      "\n",
      "List of numbers: \n",
      "[10, 20, 14]\n"
     ]
    }
   ],
   "source": [
    "List = [10, 20, 14]\n",
    "print(\"\\nList of numbers: \")\n",
    "print(List)"
   ]
  },
  {
   "cell_type": "code",
   "execution_count": 15,
   "id": "be14e3dc",
   "metadata": {},
   "outputs": [
    {
     "name": "stdout",
     "output_type": "stream",
     "text": [
      "\n",
      "List Items:-\n",
      "Bread\n",
      "Chocklets\n"
     ]
    }
   ],
   "source": [
    "lst = ['Bread','Buiscits','Chocklets']\n",
    "print('\\nList Items:-')\n",
    "print(lst[0])\n",
    "print(lst[2])"
   ]
  },
  {
   "cell_type": "code",
   "execution_count": 16,
   "id": "583a1c7c",
   "metadata": {},
   "outputs": [],
   "source": [
    "lst1 = []"
   ]
  },
  {
   "cell_type": "code",
   "execution_count": 17,
   "id": "c09d2733",
   "metadata": {},
   "outputs": [],
   "source": [
    "lst1.append('jkm')"
   ]
  },
  {
   "cell_type": "code",
   "execution_count": 18,
   "id": "f391a2cf",
   "metadata": {},
   "outputs": [],
   "source": [
    "lst1.append(15)"
   ]
  },
  {
   "cell_type": "code",
   "execution_count": 19,
   "id": "1db3e343",
   "metadata": {},
   "outputs": [],
   "source": [
    "lst1.append(25.6)"
   ]
  },
  {
   "cell_type": "code",
   "execution_count": 20,
   "id": "6288c13c",
   "metadata": {},
   "outputs": [
    {
     "data": {
      "text/plain": [
       "['jkm', 15, 25.6]"
      ]
     },
     "execution_count": 20,
     "metadata": {},
     "output_type": "execute_result"
    }
   ],
   "source": [
    "lst1"
   ]
  },
  {
   "cell_type": "code",
   "execution_count": 1,
   "id": "4ef1f4c7",
   "metadata": {},
   "outputs": [
    {
     "name": "stdout",
     "output_type": "stream",
     "text": [
      "enter your name:-\n",
      "jkm\n",
      "Hello.... jkm\n"
     ]
    }
   ],
   "source": [
    "name = input('enter your name:-\\n')\n",
    "print('Hello....',name)"
   ]
  },
  {
   "cell_type": "code",
   "execution_count": 22,
   "id": "69feb87b",
   "metadata": {},
   "outputs": [
    {
     "name": "stdout",
     "output_type": "stream",
     "text": [
      "enter the first value:-25\n",
      "enter the second value:-25\n",
      "the product of n1 and n2 is :- 625\n"
     ]
    }
   ],
   "source": [
    "n1 = int(input('enter the first value:-'))\n",
    "n2 = int(input('enter the second value:-'))\n",
    "product = n1*n2\n",
    "print('the product of n1 and n2 is :-',product)"
   ]
  },
  {
   "cell_type": "code",
   "execution_count": 23,
   "id": "b9f39931",
   "metadata": {},
   "outputs": [
    {
     "name": "stdout",
     "output_type": "stream",
     "text": [
      "50\n",
      "enter the value :35\n",
      "number is in range\n"
     ]
    }
   ],
   "source": [
    "a = 50\n",
    "print(a)\n",
    "lst_num = int(input('enter the value :'))\n",
    "\n",
    "if lst_num < a:\n",
    "    print('number is in range')\n",
    "elif lst_num > a:\n",
    "    print('number is not in range')\n",
    "else:\n",
    "    print('enter correct value')"
   ]
  },
  {
   "cell_type": "code",
   "execution_count": 24,
   "id": "522bb0bd",
   "metadata": {},
   "outputs": [
    {
     "ename": "NameError",
     "evalue": "name 'getinteger' is not defined",
     "output_type": "error",
     "traceback": [
      "\u001b[1;31m---------------------------------------------------------------------------\u001b[0m",
      "\u001b[1;31mNameError\u001b[0m                                 Traceback (most recent call last)",
      "Input \u001b[1;32mIn [24]\u001b[0m, in \u001b[0;36m<cell line: 1>\u001b[1;34m()\u001b[0m\n\u001b[1;32m----> 1\u001b[0m \u001b[43mgetinteger\u001b[49m()\n",
      "\u001b[1;31mNameError\u001b[0m: name 'getinteger' is not defined"
     ]
    }
   ],
   "source": [
    "getinteger()"
   ]
  },
  {
   "cell_type": "code",
   "execution_count": 25,
   "id": "5d15d69e",
   "metadata": {},
   "outputs": [],
   "source": [
    "nam = [2,6,7,'jkm','abcd',65,78]"
   ]
  },
  {
   "cell_type": "code",
   "execution_count": 26,
   "id": "ce567a84",
   "metadata": {},
   "outputs": [
    {
     "data": {
      "text/plain": [
       "[2, 6, 7, 'jkm', 'abcd', 65, 78]"
      ]
     },
     "execution_count": 26,
     "metadata": {},
     "output_type": "execute_result"
    }
   ],
   "source": [
    "nam"
   ]
  },
  {
   "cell_type": "code",
   "execution_count": 27,
   "id": "551a6bcf",
   "metadata": {},
   "outputs": [
    {
     "data": {
      "text/plain": [
       "'abcd'"
      ]
     },
     "execution_count": 27,
     "metadata": {},
     "output_type": "execute_result"
    }
   ],
   "source": [
    "nam[4]"
   ]
  },
  {
   "cell_type": "code",
   "execution_count": 28,
   "id": "70bf8aff",
   "metadata": {},
   "outputs": [
    {
     "data": {
      "text/plain": [
       "78"
      ]
     },
     "execution_count": 28,
     "metadata": {},
     "output_type": "execute_result"
    }
   ],
   "source": [
    "nam[-1]"
   ]
  },
  {
   "cell_type": "code",
   "execution_count": 2,
   "id": "4e259992",
   "metadata": {},
   "outputs": [],
   "source": [
    "py_list = []"
   ]
  },
  {
   "cell_type": "code",
   "execution_count": 3,
   "id": "2f784491",
   "metadata": {},
   "outputs": [],
   "source": [
    "py_list.extend((2,'jkm',25.6,None,65))"
   ]
  },
  {
   "cell_type": "code",
   "execution_count": 4,
   "id": "661016e7",
   "metadata": {},
   "outputs": [
    {
     "data": {
      "text/plain": [
       "[2, 'jkm', 25.6, None, 65]"
      ]
     },
     "execution_count": 4,
     "metadata": {},
     "output_type": "execute_result"
    }
   ],
   "source": [
    "py_list"
   ]
  },
  {
   "cell_type": "code",
   "execution_count": 5,
   "id": "e2735bad",
   "metadata": {},
   "outputs": [
    {
     "data": {
      "text/plain": [
       "list"
      ]
     },
     "execution_count": 5,
     "metadata": {},
     "output_type": "execute_result"
    }
   ],
   "source": [
    "type(py_list)"
   ]
  },
  {
   "cell_type": "code",
   "execution_count": 6,
   "id": "054521b0",
   "metadata": {},
   "outputs": [
    {
     "data": {
      "text/plain": [
       "(2, 'jkm', 25.6, None, 65)"
      ]
     },
     "execution_count": 6,
     "metadata": {},
     "output_type": "execute_result"
    }
   ],
   "source": [
    "tuple(py_list)"
   ]
  },
  {
   "cell_type": "code",
   "execution_count": 7,
   "id": "6da92a45",
   "metadata": {},
   "outputs": [],
   "source": [
    "py_list.insert(2,65)"
   ]
  },
  {
   "cell_type": "code",
   "execution_count": 16,
   "id": "9781a656",
   "metadata": {},
   "outputs": [],
   "source": [
    "py_list.insert(300,'jkm15')"
   ]
  },
  {
   "cell_type": "code",
   "execution_count": 17,
   "id": "972e5728",
   "metadata": {},
   "outputs": [
    {
     "data": {
      "text/plain": [
       "[2,\n",
       " 'jkm',\n",
       " 65,\n",
       " 'jkm1',\n",
       " 'jkm',\n",
       " 'jkm',\n",
       " 25.6,\n",
       " None,\n",
       " 65,\n",
       " 'jkm',\n",
       " 'jkm15']"
      ]
     },
     "execution_count": 17,
     "metadata": {},
     "output_type": "execute_result"
    }
   ],
   "source": [
    "py_list"
   ]
  },
  {
   "cell_type": "code",
   "execution_count": 37,
   "id": "60b1ad8d",
   "metadata": {},
   "outputs": [
    {
     "data": {
      "text/plain": [
       "'jkm'"
      ]
     },
     "execution_count": 37,
     "metadata": {},
     "output_type": "execute_result"
    }
   ],
   "source": [
    "py_list[1]"
   ]
  },
  {
   "cell_type": "code",
   "execution_count": 38,
   "id": "ee2288da",
   "metadata": {},
   "outputs": [],
   "source": [
    "py_list.insert(100,'marks')"
   ]
  },
  {
   "cell_type": "code",
   "execution_count": 39,
   "id": "3dc5e0ec",
   "metadata": {},
   "outputs": [
    {
     "data": {
      "text/plain": [
       "[2, 'jkm', 65, 25.6, None, 65, 'jkm', 'marks']"
      ]
     },
     "execution_count": 39,
     "metadata": {},
     "output_type": "execute_result"
    }
   ],
   "source": [
    "py_list"
   ]
  },
  {
   "cell_type": "code",
   "execution_count": 40,
   "id": "d2a180e6",
   "metadata": {},
   "outputs": [
    {
     "data": {
      "text/plain": [
       "7"
      ]
     },
     "execution_count": 40,
     "metadata": {},
     "output_type": "execute_result"
    }
   ],
   "source": [
    "py_list.index('marks')"
   ]
  },
  {
   "cell_type": "code",
   "execution_count": 41,
   "id": "119454ab",
   "metadata": {},
   "outputs": [],
   "source": [
    "py_list.insert(20,'Apple')"
   ]
  },
  {
   "cell_type": "code",
   "execution_count": 30,
   "id": "1ad6e689",
   "metadata": {},
   "outputs": [
    {
     "data": {
      "text/plain": [
       "[2,\n",
       " 'jkm',\n",
       " 65,\n",
       " 'jkm1',\n",
       " 'jkm',\n",
       " 'jkm',\n",
       " 25.6,\n",
       " None,\n",
       " 65,\n",
       " 'jkm',\n",
       " 'jkm15']"
      ]
     },
     "execution_count": 30,
     "metadata": {},
     "output_type": "execute_result"
    }
   ],
   "source": [
    "py_list"
   ]
  },
  {
   "cell_type": "code",
   "execution_count": 36,
   "id": "f73372a1",
   "metadata": {},
   "outputs": [
    {
     "name": "stdout",
     "output_type": "stream",
     "text": [
      "65\n",
      "65\n",
      "[2, 623, 75, 65]\n"
     ]
    }
   ],
   "source": [
    "p = [2,623,65,75,65,65]\n",
    "p\n",
    "for i in py_list:\n",
    "    if i == 65:\n",
    "        print(i)\n",
    "        p.remove(i)\n",
    "print(p)"
   ]
  },
  {
   "cell_type": "code",
   "execution_count": 50,
   "id": "49ef1f95",
   "metadata": {},
   "outputs": [
    {
     "name": "stdout",
     "output_type": "stream",
     "text": [
      "[2, 65, 'jkm1', 25.6, None, 65, 'jkm15']\n"
     ]
    }
   ],
   "source": [
    "py_list\n",
    "\n",
    "for i in py_list:\n",
    "    if i == 'jkm':\n",
    "        py_list.remove(i)\n",
    "print(py_list)"
   ]
  },
  {
   "cell_type": "code",
   "execution_count": 51,
   "id": "c658e7d4",
   "metadata": {},
   "outputs": [],
   "source": [
    "lst = []\n",
    "\n",
    "p = [2,5,4,5,4,7,55,6,5,2,5,2,5,2,5,2,5]"
   ]
  },
  {
   "cell_type": "code",
   "execution_count": 52,
   "id": "bc11c437",
   "metadata": {},
   "outputs": [
    {
     "name": "stdout",
     "output_type": "stream",
     "text": [
      "[2, 5, 4, 5, 4, 7, 6, 5, 2, 5, 2, 5, 2, 5, 2, 5]\n"
     ]
    }
   ],
   "source": [
    "for i in p:\n",
    "    if i == 55:\n",
    "        p.remove(i)\n",
    "print(p)\n",
    "        "
   ]
  },
  {
   "cell_type": "code",
   "execution_count": 55,
   "id": "b4125ef4",
   "metadata": {},
   "outputs": [
    {
     "name": "stdout",
     "output_type": "stream",
     "text": [
      "After addintion of lst:-\n",
      "\n",
      " [1, 2, 3, 4, 5, 6, 7, 8, 9, 10, 11, 12, 13, 14, 15, 16, 17, 18, 19, 20]\n"
     ]
    }
   ],
   "source": [
    "lst = []\n",
    "for i in range(1,21):\n",
    "    lst.append(i)\n",
    "print('After addintion of lst:-\\n\\n',lst)"
   ]
  },
  {
   "cell_type": "code",
   "execution_count": 56,
   "id": "09953c90",
   "metadata": {},
   "outputs": [],
   "source": [
    "lst.remove(10)"
   ]
  },
  {
   "cell_type": "code",
   "execution_count": 57,
   "id": "46040590",
   "metadata": {},
   "outputs": [
    {
     "data": {
      "text/plain": [
       "[1, 2, 3, 4, 5, 6, 7, 8, 9, 11, 12, 13, 14, 15, 16, 17, 18, 19, 20]"
      ]
     },
     "execution_count": 57,
     "metadata": {},
     "output_type": "execute_result"
    }
   ],
   "source": [
    "lst"
   ]
  },
  {
   "cell_type": "code",
   "execution_count": 58,
   "id": "e3d04cce",
   "metadata": {},
   "outputs": [
    {
     "data": {
      "text/plain": [
       "20"
      ]
     },
     "execution_count": 58,
     "metadata": {},
     "output_type": "execute_result"
    }
   ],
   "source": [
    "lst.pop()"
   ]
  },
  {
   "cell_type": "code",
   "execution_count": 59,
   "id": "80485de1",
   "metadata": {},
   "outputs": [
    {
     "data": {
      "text/plain": [
       "19"
      ]
     },
     "execution_count": 59,
     "metadata": {},
     "output_type": "execute_result"
    }
   ],
   "source": [
    "lst.pop()"
   ]
  },
  {
   "cell_type": "code",
   "execution_count": 60,
   "id": "ee6efbed",
   "metadata": {},
   "outputs": [
    {
     "data": {
      "text/plain": [
       "10"
      ]
     },
     "execution_count": 60,
     "metadata": {},
     "output_type": "execute_result"
    }
   ],
   "source": [
    "lst.index(12)"
   ]
  },
  {
   "cell_type": "code",
   "execution_count": 61,
   "id": "9bba8ef8",
   "metadata": {},
   "outputs": [
    {
     "data": {
      "text/plain": [
       "1"
      ]
     },
     "execution_count": 61,
     "metadata": {},
     "output_type": "execute_result"
    }
   ],
   "source": [
    "lst.count(15)"
   ]
  },
  {
   "cell_type": "code",
   "execution_count": 62,
   "id": "749110b4",
   "metadata": {},
   "outputs": [],
   "source": [
    "lst.append(10)"
   ]
  },
  {
   "cell_type": "code",
   "execution_count": 64,
   "id": "bd2b53a3",
   "metadata": {},
   "outputs": [],
   "source": [
    "lst.sort(reverse = True)"
   ]
  },
  {
   "cell_type": "code",
   "execution_count": 65,
   "id": "ce2984a4",
   "metadata": {},
   "outputs": [
    {
     "data": {
      "text/plain": [
       "[18, 17, 16, 15, 14, 13, 12, 11, 10, 9, 8, 7, 6, 5, 4, 3, 2, 1]"
      ]
     },
     "execution_count": 65,
     "metadata": {},
     "output_type": "execute_result"
    }
   ],
   "source": [
    "lst"
   ]
  },
  {
   "cell_type": "code",
   "execution_count": 66,
   "id": "e2673dd2",
   "metadata": {},
   "outputs": [],
   "source": [
    "lst.sort()"
   ]
  },
  {
   "cell_type": "code",
   "execution_count": 67,
   "id": "0273010b",
   "metadata": {},
   "outputs": [
    {
     "data": {
      "text/plain": [
       "[1, 2, 3, 4, 5, 6, 7, 8, 9, 10, 11, 12, 13, 14, 15, 16, 17, 18]"
      ]
     },
     "execution_count": 67,
     "metadata": {},
     "output_type": "execute_result"
    }
   ],
   "source": [
    "lst"
   ]
  },
  {
   "cell_type": "code",
   "execution_count": 68,
   "id": "ea4bc886",
   "metadata": {},
   "outputs": [],
   "source": [
    "lst.extend((19,20))"
   ]
  },
  {
   "cell_type": "code",
   "execution_count": 69,
   "id": "daaa066c",
   "metadata": {},
   "outputs": [
    {
     "data": {
      "text/plain": [
       "[1, 2, 3, 4, 5, 6, 7, 8, 9, 10, 11, 12, 13, 14, 15, 16, 17, 18, 19, 20]"
      ]
     },
     "execution_count": 69,
     "metadata": {},
     "output_type": "execute_result"
    }
   ],
   "source": [
    "lst"
   ]
  },
  {
   "cell_type": "code",
   "execution_count": 70,
   "id": "7a169740",
   "metadata": {},
   "outputs": [],
   "source": [
    "lst.sort(reverse=True)"
   ]
  },
  {
   "cell_type": "code",
   "execution_count": 71,
   "id": "ea6b8de5",
   "metadata": {},
   "outputs": [
    {
     "data": {
      "text/plain": [
       "[20, 19, 18, 17, 16, 15, 14, 13, 12, 11, 10, 9, 8, 7, 6, 5, 4, 3, 2, 1]"
      ]
     },
     "execution_count": 71,
     "metadata": {},
     "output_type": "execute_result"
    }
   ],
   "source": [
    "lst"
   ]
  },
  {
   "cell_type": "code",
   "execution_count": 72,
   "id": "8cc23403",
   "metadata": {},
   "outputs": [],
   "source": [
    "lst.sort(reverse=False)"
   ]
  },
  {
   "cell_type": "code",
   "execution_count": 73,
   "id": "f04bd080",
   "metadata": {},
   "outputs": [
    {
     "data": {
      "text/plain": [
       "[1, 2, 3, 4, 5, 6, 7, 8, 9, 10, 11, 12, 13, 14, 15, 16, 17, 18, 19, 20]"
      ]
     },
     "execution_count": 73,
     "metadata": {},
     "output_type": "execute_result"
    }
   ],
   "source": [
    "lst"
   ]
  },
  {
   "cell_type": "code",
   "execution_count": 74,
   "id": "82aa19d4",
   "metadata": {},
   "outputs": [],
   "source": [
    "lst.extend({'Name':'jkm','Id':2274})"
   ]
  },
  {
   "cell_type": "code",
   "execution_count": 76,
   "id": "5609bd2f",
   "metadata": {},
   "outputs": [
    {
     "name": "stdout",
     "output_type": "stream",
     "text": [
      "[1, 2, 3, 4, 5, 6, 7, 8, 9, 10, 11, 12, 13, 14, 15, 16, 17, 18, 19, 20, 'Name', 'Id']\n"
     ]
    }
   ],
   "source": [
    "print(lst)"
   ]
  },
  {
   "cell_type": "code",
   "execution_count": 81,
   "id": "4aadecd9",
   "metadata": {},
   "outputs": [],
   "source": [
    "a = tuple(lst)"
   ]
  },
  {
   "cell_type": "code",
   "execution_count": 82,
   "id": "6aefe7ad",
   "metadata": {},
   "outputs": [
    {
     "name": "stdout",
     "output_type": "stream",
     "text": [
      "(1, 2, 3, 4, 5, 6, 7, 8, 9, 10, 11, 12, 13, 14, 15, 16, 17, 18, 19, 20, 'Name', 'Id')\n"
     ]
    }
   ],
   "source": [
    "print(a)"
   ]
  },
  {
   "cell_type": "code",
   "execution_count": 87,
   "id": "07831518",
   "metadata": {},
   "outputs": [
    {
     "name": "stdout",
     "output_type": "stream",
     "text": [
      "0 1\n",
      "1 2\n",
      "2 3\n",
      "3 4\n",
      "4 5\n",
      "5 6\n",
      "6 7\n",
      "7 8\n",
      "8 9\n",
      "9 10\n",
      "10 11\n",
      "11 12\n",
      "12 13\n",
      "13 14\n",
      "14 15\n",
      "15 16\n",
      "16 17\n",
      "17 18\n",
      "18 19\n",
      "19 20\n",
      "20 Name\n",
      "21 Id\n"
     ]
    }
   ],
   "source": [
    "for index,element in enumerate(lst):\n",
    "    print(index,element)"
   ]
  },
  {
   "cell_type": "code",
   "execution_count": 45,
   "id": "a7dd2dc1",
   "metadata": {},
   "outputs": [
    {
     "name": "stdout",
     "output_type": "stream",
     "text": [
      "0 1\n",
      "1 2\n",
      "2 3\n",
      "3 4\n",
      "4 5\n",
      "5 6\n",
      "6 7\n",
      "7 8\n",
      "8 9\n",
      "9 10\n",
      "10 11\n",
      "11 12\n",
      "12 13\n",
      "13 14\n"
     ]
    }
   ],
   "source": []
  },
  {
   "cell_type": "code",
   "execution_count": 88,
   "id": "ca45be0b",
   "metadata": {},
   "outputs": [
    {
     "data": {
      "text/plain": [
       "'Id'"
      ]
     },
     "execution_count": 88,
     "metadata": {},
     "output_type": "execute_result"
    }
   ],
   "source": [
    "lst.pop()"
   ]
  },
  {
   "cell_type": "code",
   "execution_count": 89,
   "id": "331ac474",
   "metadata": {},
   "outputs": [
    {
     "data": {
      "text/plain": [
       "'Name'"
      ]
     },
     "execution_count": 89,
     "metadata": {},
     "output_type": "execute_result"
    }
   ],
   "source": [
    "lst.pop()"
   ]
  },
  {
   "cell_type": "code",
   "execution_count": 90,
   "id": "90b9888a",
   "metadata": {},
   "outputs": [
    {
     "data": {
      "text/plain": [
       "[1, 2, 3, 4, 5, 6, 7, 8, 9, 10, 11, 12, 13, 14, 15, 16, 17, 18, 19, 20]"
      ]
     },
     "execution_count": 90,
     "metadata": {},
     "output_type": "execute_result"
    }
   ],
   "source": [
    "lst"
   ]
  },
  {
   "cell_type": "code",
   "execution_count": 96,
   "id": "c672074d",
   "metadata": {},
   "outputs": [
    {
     "name": "stdout",
     "output_type": "stream",
     "text": [
      "1\n",
      "2\n",
      "3\n",
      "4\n",
      "5\n",
      "6\n",
      "7\n",
      "8\n",
      "9\n",
      "10\n",
      "11\n",
      "12\n",
      "13\n",
      "14\n",
      "15\n",
      "16\n",
      "17\n",
      "18\n",
      "19\n"
     ]
    }
   ],
   "source": [
    "for i in range(1,20):\n",
    "    print(i)"
   ]
  },
  {
   "cell_type": "code",
   "execution_count": 97,
   "id": "bf71dea1",
   "metadata": {},
   "outputs": [
    {
     "name": "stdout",
     "output_type": "stream",
     "text": [
      "[1, 2, 3, 4, 5, 6, 7, 8, 9, 10, 11, 12, 13, 14, 15, 16, 17, 18, 19, 20, 21, 22, 23, 24]\n",
      "24\n"
     ]
    }
   ],
   "source": [
    "lst1 = list(range(1,25))\n",
    "print(lst1)\n",
    "print(len(lst1))"
   ]
  },
  {
   "cell_type": "code",
   "execution_count": 98,
   "id": "c1a93469",
   "metadata": {},
   "outputs": [
    {
     "name": "stdout",
     "output_type": "stream",
     "text": [
      "1\n"
     ]
    }
   ],
   "source": [
    "yngst = min(lst1)\n",
    "print(yngst)"
   ]
  },
  {
   "cell_type": "code",
   "execution_count": 99,
   "id": "7edad7fd",
   "metadata": {},
   "outputs": [
    {
     "name": "stdout",
     "output_type": "stream",
     "text": [
      "24\n"
     ]
    }
   ],
   "source": [
    "yngst = max(lst1)\n",
    "print(yngst)"
   ]
  },
  {
   "cell_type": "code",
   "execution_count": 100,
   "id": "6341d63b",
   "metadata": {},
   "outputs": [],
   "source": [
    "finisher = ['abc','cda','fgd','cgs','hgt']"
   ]
  },
  {
   "cell_type": "code",
   "execution_count": 101,
   "id": "a0656b50",
   "metadata": {},
   "outputs": [
    {
     "data": {
      "text/plain": [
       "['abc', 'cda', 'fgd']"
      ]
     },
     "execution_count": 101,
     "metadata": {},
     "output_type": "execute_result"
    }
   ],
   "source": [
    "finisher[:3]"
   ]
  },
  {
   "cell_type": "code",
   "execution_count": 102,
   "id": "6b0884d7",
   "metadata": {},
   "outputs": [
    {
     "data": {
      "text/plain": [
       "['cda', 'fgd', 'cgs']"
      ]
     },
     "execution_count": 102,
     "metadata": {},
     "output_type": "execute_result"
    }
   ],
   "source": [
    "finisher[1:4]"
   ]
  },
  {
   "cell_type": "code",
   "execution_count": 103,
   "id": "0707d9c0",
   "metadata": {},
   "outputs": [
    {
     "data": {
      "text/plain": [
       "['abc', 'fgd']"
      ]
     },
     "execution_count": 103,
     "metadata": {},
     "output_type": "execute_result"
    }
   ],
   "source": [
    "finisher[0:4:2]"
   ]
  },
  {
   "cell_type": "code",
   "execution_count": 104,
   "id": "79692d5d",
   "metadata": {},
   "outputs": [
    {
     "name": "stdout",
     "output_type": "stream",
     "text": [
      "[1, 4, 9, 16, 25, 36, 49, 64, 81, 100, 121, 144, 169, 196, 225, 256, 289, 324, 361, 400, 441, 484, 529, 576]\n"
     ]
    }
   ],
   "source": [
    "squares = []\n",
    "for x in range(1,25):\n",
    "    sqrs = x**2\n",
    "    squares.append(sqrs)\n",
    "print(squares)"
   ]
  },
  {
   "cell_type": "code",
   "execution_count": 47,
   "id": "96633765",
   "metadata": {},
   "outputs": [
    {
     "name": "stdout",
     "output_type": "stream",
     "text": [
      "[1, 4, 9, 16, 25, 36, 49, 64, 81, 100]\n"
     ]
    }
   ],
   "source": [
    "ls = []\n",
    "\n",
    "for i in range(1,11):\n",
    "    sqr = i**2\n",
    "    ls.append(sqr)\n",
    "print(ls)"
   ]
  },
  {
   "cell_type": "code",
   "execution_count": 1,
   "id": "c98dafd4",
   "metadata": {},
   "outputs": [],
   "source": [
    "l = [[1,2],[3,4]]"
   ]
  },
  {
   "cell_type": "code",
   "execution_count": 2,
   "id": "12f5dbe1",
   "metadata": {},
   "outputs": [],
   "source": [
    "import copy\n",
    "\n",
    "dc = copy.deepcopy(l)"
   ]
  },
  {
   "cell_type": "code",
   "execution_count": 3,
   "id": "05d27786",
   "metadata": {},
   "outputs": [
    {
     "data": {
      "text/plain": [
       "[[1, 2], [3, 4]]"
      ]
     },
     "execution_count": 3,
     "metadata": {},
     "output_type": "execute_result"
    }
   ],
   "source": [
    "dc"
   ]
  },
  {
   "cell_type": "code",
   "execution_count": 4,
   "id": "0c31913d",
   "metadata": {},
   "outputs": [],
   "source": [
    "dc[0][0]=65"
   ]
  },
  {
   "cell_type": "code",
   "execution_count": 5,
   "id": "284a2500",
   "metadata": {},
   "outputs": [
    {
     "data": {
      "text/plain": [
       "[[65, 2], [3, 4]]"
      ]
     },
     "execution_count": 5,
     "metadata": {},
     "output_type": "execute_result"
    }
   ],
   "source": [
    "dc"
   ]
  },
  {
   "cell_type": "code",
   "execution_count": 6,
   "id": "2740414f",
   "metadata": {},
   "outputs": [
    {
     "data": {
      "text/plain": [
       "[[1, 2], [3, 4]]"
      ]
     },
     "execution_count": 6,
     "metadata": {},
     "output_type": "execute_result"
    }
   ],
   "source": [
    "l"
   ]
  },
  {
   "cell_type": "code",
   "execution_count": 7,
   "id": "6e89a71e",
   "metadata": {},
   "outputs": [],
   "source": [
    "sh = copy.copy(l)"
   ]
  },
  {
   "cell_type": "code",
   "execution_count": 8,
   "id": "c3792bd5",
   "metadata": {},
   "outputs": [
    {
     "data": {
      "text/plain": [
       "[[1, 2], [3, 4]]"
      ]
     },
     "execution_count": 8,
     "metadata": {},
     "output_type": "execute_result"
    }
   ],
   "source": [
    "sh"
   ]
  },
  {
   "cell_type": "code",
   "execution_count": 9,
   "id": "ed35410a",
   "metadata": {},
   "outputs": [],
   "source": [
    "sh[0][0]=35"
   ]
  },
  {
   "cell_type": "code",
   "execution_count": 10,
   "id": "f26e3b47",
   "metadata": {},
   "outputs": [
    {
     "data": {
      "text/plain": [
       "[[35, 2], [3, 4]]"
      ]
     },
     "execution_count": 10,
     "metadata": {},
     "output_type": "execute_result"
    }
   ],
   "source": [
    "sh"
   ]
  },
  {
   "cell_type": "code",
   "execution_count": 11,
   "id": "5320922b",
   "metadata": {},
   "outputs": [
    {
     "data": {
      "text/plain": [
       "[[35, 2], [3, 4]]"
      ]
     },
     "execution_count": 11,
     "metadata": {},
     "output_type": "execute_result"
    }
   ],
   "source": [
    "l"
   ]
  },
  {
   "cell_type": "code",
   "execution_count": 13,
   "id": "55e1d908",
   "metadata": {},
   "outputs": [],
   "source": [
    "lst = [2,1,4,5,6,5,4,4,1,2,3,4]"
   ]
  },
  {
   "cell_type": "code",
   "execution_count": 14,
   "id": "bdc382ab",
   "metadata": {},
   "outputs": [
    {
     "data": {
      "text/plain": [
       "[4, 3, 2, 1, 4, 4, 5, 6, 5, 4, 1, 2]"
      ]
     },
     "execution_count": 14,
     "metadata": {},
     "output_type": "execute_result"
    }
   ],
   "source": [
    "lst[::-1]"
   ]
  },
  {
   "cell_type": "code",
   "execution_count": 17,
   "id": "06d036bc",
   "metadata": {},
   "outputs": [],
   "source": [
    "lst.reverse()"
   ]
  },
  {
   "cell_type": "code",
   "execution_count": 18,
   "id": "e661a31f",
   "metadata": {},
   "outputs": [
    {
     "data": {
      "text/plain": [
       "[2, 1, 4, 5, 6, 5, 4, 4, 1, 2, 3, 4]"
      ]
     },
     "execution_count": 18,
     "metadata": {},
     "output_type": "execute_result"
    }
   ],
   "source": [
    "lst"
   ]
  },
  {
   "cell_type": "code",
   "execution_count": 19,
   "id": "0881618d",
   "metadata": {},
   "outputs": [],
   "source": [
    "lst.sort()    # ascending order"
   ]
  },
  {
   "cell_type": "code",
   "execution_count": 20,
   "id": "3ae0a927",
   "metadata": {},
   "outputs": [],
   "source": [
    "lst.sort()   # ascending order"
   ]
  },
  {
   "cell_type": "code",
   "execution_count": 21,
   "id": "a1f0a2a3",
   "metadata": {},
   "outputs": [
    {
     "data": {
      "text/plain": [
       "[1, 1, 2, 2, 3, 4, 4, 4, 4, 5, 5, 6]"
      ]
     },
     "execution_count": 21,
     "metadata": {},
     "output_type": "execute_result"
    }
   ],
   "source": [
    "lst"
   ]
  },
  {
   "cell_type": "code",
   "execution_count": 23,
   "id": "c4bc7e90",
   "metadata": {},
   "outputs": [],
   "source": [
    "lst.sort(reverse = True)   # descending order"
   ]
  },
  {
   "cell_type": "code",
   "execution_count": 24,
   "id": "0b26c087",
   "metadata": {},
   "outputs": [
    {
     "data": {
      "text/plain": [
       "[6, 5, 5, 4, 4, 4, 4, 3, 2, 2, 1, 1]"
      ]
     },
     "execution_count": 24,
     "metadata": {},
     "output_type": "execute_result"
    }
   ],
   "source": [
    "lst"
   ]
  },
  {
   "cell_type": "code",
   "execution_count": 25,
   "id": "ec82e976",
   "metadata": {},
   "outputs": [],
   "source": [
    "lst.sort()    # ascending order"
   ]
  },
  {
   "cell_type": "code",
   "execution_count": 26,
   "id": "026a9aa7",
   "metadata": {},
   "outputs": [
    {
     "data": {
      "text/plain": [
       "[1, 1, 2, 2, 3, 4, 4, 4, 4, 5, 5, 6]"
      ]
     },
     "execution_count": 26,
     "metadata": {},
     "output_type": "execute_result"
    }
   ],
   "source": [
    "lst"
   ]
  },
  {
   "cell_type": "code",
   "execution_count": null,
   "id": "ab5d8213",
   "metadata": {},
   "outputs": [],
   "source": []
  }
 ],
 "metadata": {
  "kernelspec": {
   "display_name": "Python 3 (ipykernel)",
   "language": "python",
   "name": "python3"
  },
  "language_info": {
   "codemirror_mode": {
    "name": "ipython",
    "version": 3
   },
   "file_extension": ".py",
   "mimetype": "text/x-python",
   "name": "python",
   "nbconvert_exporter": "python",
   "pygments_lexer": "ipython3",
   "version": "3.9.12"
  }
 },
 "nbformat": 4,
 "nbformat_minor": 5
}
