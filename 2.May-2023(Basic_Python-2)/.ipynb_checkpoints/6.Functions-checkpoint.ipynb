{
 "cells": [
  {
   "cell_type": "code",
   "execution_count": 1,
   "id": "ee2f0cbc",
   "metadata": {},
   "outputs": [],
   "source": [
    "# Functions"
   ]
  },
  {
   "cell_type": "code",
   "execution_count": 14,
   "id": "fa1fab15",
   "metadata": {},
   "outputs": [],
   "source": [
    "def add():\n",
    "    x = int(input('enter the number '))\n",
    "    y = int(input('enter the number '))         # function without arguments and return\n",
    "    z = x + y\n",
    "    print(z)"
   ]
  },
  {
   "cell_type": "code",
   "execution_count": 16,
   "id": "20d9c42e",
   "metadata": {},
   "outputs": [
    {
     "name": "stdout",
     "output_type": "stream",
     "text": [
      "enter the number 35\n",
      "enter the number 35\n",
      "70\n"
     ]
    }
   ],
   "source": [
    "add()"
   ]
  },
  {
   "cell_type": "code",
   "execution_count": 19,
   "id": "ed0fe8b5",
   "metadata": {},
   "outputs": [],
   "source": [
    "def add(x,y):\n",
    "    z = x+y               # functtion with arguments and without return\n",
    "    print(z)"
   ]
  },
  {
   "cell_type": "code",
   "execution_count": 20,
   "id": "a8779325",
   "metadata": {},
   "outputs": [
    {
     "name": "stdout",
     "output_type": "stream",
     "text": [
      "25\n"
     ]
    }
   ],
   "source": [
    "add(10,15)"
   ]
  },
  {
   "cell_type": "code",
   "execution_count": 2,
   "id": "684c6642",
   "metadata": {},
   "outputs": [],
   "source": [
    "def concat(first,last):\n",
    "    d = first +' '+ last      # function with arguents with return\n",
    "    return d"
   ]
  },
  {
   "cell_type": "code",
   "execution_count": 3,
   "id": "e860e4f8",
   "metadata": {},
   "outputs": [],
   "source": [
    "g = concat('rtyd','adcs')"
   ]
  },
  {
   "cell_type": "code",
   "execution_count": 4,
   "id": "0d0a3e64",
   "metadata": {},
   "outputs": [
    {
     "data": {
      "text/plain": [
       "'rtyd adcs'"
      ]
     },
     "execution_count": 4,
     "metadata": {},
     "output_type": "execute_result"
    }
   ],
   "source": [
    "g"
   ]
  },
  {
   "cell_type": "code",
   "execution_count": 27,
   "id": "93abdd51",
   "metadata": {},
   "outputs": [
    {
     "name": "stdout",
     "output_type": "stream",
     "text": [
      "please call him\n"
     ]
    }
   ],
   "source": [
    "if g.startswith('rtyd'):\n",
    "    print('please call him')\n",
    "else:\n",
    "    print('search another one')"
   ]
  },
  {
   "cell_type": "code",
   "execution_count": 56,
   "id": "e8602d64",
   "metadata": {},
   "outputs": [],
   "source": [
    "# A simple Python function to check\n",
    "# whether x is even or odd\n",
    "lst_even = []\n",
    "lst_odd = []\n",
    "\n",
    "def even_odd(x,y):\n",
    "    for i in range(x,y):\n",
    "        if i % 2 == 0:\n",
    "            lst_even.append(i)\n",
    "        else:\n",
    "            lst_odd.append(i)\n",
    "    return lst_even,lst_odd"
   ]
  },
  {
   "cell_type": "code",
   "execution_count": 57,
   "id": "e675c77d",
   "metadata": {},
   "outputs": [
    {
     "data": {
      "text/plain": [
       "([2, 4, 6, 8], [1, 3, 5, 7, 9])"
      ]
     },
     "execution_count": 57,
     "metadata": {},
     "output_type": "execute_result"
    }
   ],
   "source": [
    "even_odd(1,10)"
   ]
  },
  {
   "cell_type": "code",
   "execution_count": 58,
   "id": "0d9d0baa",
   "metadata": {},
   "outputs": [],
   "source": [
    "a = even_odd(1,50)"
   ]
  },
  {
   "cell_type": "code",
   "execution_count": 59,
   "id": "9a6d8fe8",
   "metadata": {},
   "outputs": [
    {
     "name": "stdout",
     "output_type": "stream",
     "text": [
      "([2, 4, 6, 8, 2, 4, 6, 8, 10, 12, 14, 16, 18, 20, 22, 24, 26, 28, 30, 32, 34, 36, 38, 40, 42, 44, 46, 48], [1, 3, 5, 7, 9, 1, 3, 5, 7, 9, 11, 13, 15, 17, 19, 21, 23, 25, 27, 29, 31, 33, 35, 37, 39, 41, 43, 45, 47, 49])\n"
     ]
    }
   ],
   "source": [
    "print(a)"
   ]
  },
  {
   "cell_type": "code",
   "execution_count": 60,
   "id": "a2c91c67",
   "metadata": {},
   "outputs": [],
   "source": [
    "def file_process(file):\n",
    "    if file.endswith('pdf'):\n",
    "        print('file processing....')\n",
    "    else:\n",
    "        print('invalid file...')"
   ]
  },
  {
   "cell_type": "code",
   "execution_count": 62,
   "id": "8beb690d",
   "metadata": {},
   "outputs": [
    {
     "name": "stdout",
     "output_type": "stream",
     "text": [
      "file processing....\n"
     ]
    }
   ],
   "source": [
    "file_process('abc.pdf')"
   ]
  },
  {
   "cell_type": "code",
   "execution_count": 84,
   "id": "d53ffefc",
   "metadata": {},
   "outputs": [],
   "source": [
    "def grade_cal(per):\n",
    "    if per>75:\n",
    "        return 'Outstanding...'\n",
    "    else:\n",
    "        return 'Good'"
   ]
  },
  {
   "cell_type": "code",
   "execution_count": 85,
   "id": "e53a701f",
   "metadata": {},
   "outputs": [
    {
     "name": "stdout",
     "output_type": "stream",
     "text": [
      "congratulations\n"
     ]
    }
   ],
   "source": [
    "g = grade_cal(78)\n",
    "\n",
    "if g == 'Outstanding...':\n",
    "    print('congratulations')\n",
    "else:\n",
    "    print('Nice')"
   ]
  },
  {
   "cell_type": "code",
   "execution_count": 86,
   "id": "5f978c4a",
   "metadata": {},
   "outputs": [],
   "source": [
    "def fun():\n",
    "    print('welcome to dynamic world.....')"
   ]
  },
  {
   "cell_type": "code",
   "execution_count": 87,
   "id": "d0b36607",
   "metadata": {},
   "outputs": [
    {
     "name": "stdout",
     "output_type": "stream",
     "text": [
      "welcome to dynamic world.....\n"
     ]
    }
   ],
   "source": [
    "fun()"
   ]
  },
  {
   "cell_type": "code",
   "execution_count": 91,
   "id": "9270c36b",
   "metadata": {},
   "outputs": [],
   "source": [
    "def add(num1: int, num2:int)-> int:\n",
    "    \"\"\"add two numbers\"\"\"\n",
    "    num3 = num1 + num2\n",
    "    return num3"
   ]
  },
  {
   "cell_type": "code",
   "execution_count": 93,
   "id": "a5521273",
   "metadata": {},
   "outputs": [
    {
     "data": {
      "text/plain": [
       "50"
      ]
     },
     "execution_count": 93,
     "metadata": {},
     "output_type": "execute_result"
    }
   ],
   "source": [
    "add(25,25)"
   ]
  },
  {
   "cell_type": "code",
   "execution_count": null,
   "id": "b2a83ddb",
   "metadata": {},
   "outputs": [],
   "source": [
    "def add(num1: int, num2: int) -> int:\n",
    "\t\"\"\"Add two numbers\"\"\"\n",
    "\tnum3 = num1 + num2\n",
    "\n",
    "\treturn num3\n",
    "\n",
    "# Driver code\n",
    "num1, num2 = 5, 15\n",
    "ans = add(num1, num2)\n",
    "print(f\"The addition of {num1} and {num2} results {ans}.\")\n"
   ]
  },
  {
   "cell_type": "code",
   "execution_count": 104,
   "id": "94bac209",
   "metadata": {},
   "outputs": [
    {
     "name": "stdout",
     "output_type": "stream",
     "text": [
      "False True\n"
     ]
    }
   ],
   "source": [
    "# some more functions\n",
    "def is_prime(n):\n",
    "\tif n in [2, 3]:\n",
    "\t\treturn True\n",
    "\tif (n == 1) or (n % 2 == 0):\n",
    "\t\treturn False\n",
    "\tr = 3\n",
    "\twhile r * r <= n:\n",
    "\t\tif n % r == 0:\n",
    "\t\t\treturn False\n",
    "\t\tr += 2\n",
    "\treturn True\n",
    "print(is_prime(78), is_prime(79))\n"
   ]
  },
  {
   "cell_type": "code",
   "execution_count": 101,
   "id": "9fd3ace3",
   "metadata": {},
   "outputs": [],
   "source": [
    "def is_prime(n):\n",
    "    if n in [2,3]:\n",
    "        return True\n",
    "    if (n == 1) or (n %2==0):\n",
    "        return False\n",
    "    r = 3\n",
    "    while r * r <= n:\n",
    "        if n % r == 0:\n",
    "            return False\n",
    "        r += 2\n",
    "        return True"
   ]
  },
  {
   "cell_type": "code",
   "execution_count": 111,
   "id": "364bbac1",
   "metadata": {},
   "outputs": [
    {
     "data": {
      "text/plain": [
       "True"
      ]
     },
     "execution_count": 111,
     "metadata": {},
     "output_type": "execute_result"
    }
   ],
   "source": [
    "is_prime(3)"
   ]
  },
  {
   "cell_type": "code",
   "execution_count": 3,
   "id": "1f3e993d",
   "metadata": {},
   "outputs": [],
   "source": [
    "# A simple Python function to check\n",
    "# whether x is even or odd\n",
    "def ev_o(x):\n",
    "    if x % 2 == 0:\n",
    "        print('even')\n",
    "    else:\n",
    "        print('odd')"
   ]
  },
  {
   "cell_type": "code",
   "execution_count": 4,
   "id": "f10ffba7",
   "metadata": {},
   "outputs": [
    {
     "name": "stdout",
     "output_type": "stream",
     "text": [
      "even\n"
     ]
    }
   ],
   "source": [
    "ev_o(10)"
   ]
  },
  {
   "cell_type": "code",
   "execution_count": 5,
   "id": "9a980750",
   "metadata": {},
   "outputs": [
    {
     "name": "stdout",
     "output_type": "stream",
     "text": [
      "odd\n"
     ]
    }
   ],
   "source": [
    "ev_o(11)"
   ]
  },
  {
   "cell_type": "code",
   "execution_count": 7,
   "id": "bdc584da",
   "metadata": {},
   "outputs": [],
   "source": [
    "def dFun(x,y = 10):\n",
    "    print(x)\n",
    "    print(y)"
   ]
  },
  {
   "cell_type": "code",
   "execution_count": 9,
   "id": "daf40b3c",
   "metadata": {},
   "outputs": [
    {
     "name": "stdout",
     "output_type": "stream",
     "text": [
      "15\n",
      "10\n"
     ]
    }
   ],
   "source": [
    "dFun(15)"
   ]
  },
  {
   "cell_type": "code",
   "execution_count": 10,
   "id": "2f444855",
   "metadata": {},
   "outputs": [],
   "source": [
    "def student(firstname,lastname):\n",
    "    print(firstname,lastname)"
   ]
  },
  {
   "cell_type": "code",
   "execution_count": 11,
   "id": "aee80bd3",
   "metadata": {},
   "outputs": [
    {
     "name": "stdout",
     "output_type": "stream",
     "text": [
      "rtyd adcs\n"
     ]
    }
   ],
   "source": [
    "student('rtyd','adcs')"
   ]
  },
  {
   "cell_type": "code",
   "execution_count": 12,
   "id": "d78fff37",
   "metadata": {},
   "outputs": [
    {
     "name": "stdout",
     "output_type": "stream",
     "text": [
      "rtyd adcs\n"
     ]
    }
   ],
   "source": [
    "student(lastname = 'adcs',firstname = 'rtyd')"
   ]
  },
  {
   "cell_type": "code",
   "execution_count": 13,
   "id": "a14345a0",
   "metadata": {},
   "outputs": [],
   "source": [
    "def add(a,b):\n",
    "    print(a+b)"
   ]
  },
  {
   "cell_type": "code",
   "execution_count": 14,
   "id": "cd9d812c",
   "metadata": {},
   "outputs": [
    {
     "name": "stdout",
     "output_type": "stream",
     "text": [
      "3\n"
     ]
    }
   ],
   "source": [
    "add(1,2)"
   ]
  },
  {
   "cell_type": "code",
   "execution_count": 15,
   "id": "0ad7bd05",
   "metadata": {},
   "outputs": [],
   "source": [
    "def person_name(firstname,lastname):\n",
    "    print(firstname+' '+lastname)"
   ]
  },
  {
   "cell_type": "code",
   "execution_count": 16,
   "id": "d1385df8",
   "metadata": {},
   "outputs": [
    {
     "name": "stdout",
     "output_type": "stream",
     "text": [
      "rtyd Babu\n"
     ]
    }
   ],
   "source": [
    "person_name('rtyd','Babu')"
   ]
  },
  {
   "cell_type": "code",
   "execution_count": 17,
   "id": "5561b8fa",
   "metadata": {},
   "outputs": [
    {
     "name": "stdout",
     "output_type": "stream",
     "text": [
      "babu rtyd\n"
     ]
    }
   ],
   "source": [
    "person_name('babu','rtyd')"
   ]
  },
  {
   "cell_type": "code",
   "execution_count": 18,
   "id": "afb21040",
   "metadata": {},
   "outputs": [],
   "source": [
    "def fun(a,b,c,d):\n",
    "    print(my_lst)"
   ]
  },
  {
   "cell_type": "code",
   "execution_count": 19,
   "id": "57c598f9",
   "metadata": {},
   "outputs": [],
   "source": [
    "my_lst = [2,3,4,5]"
   ]
  },
  {
   "cell_type": "code",
   "execution_count": 21,
   "id": "f2a800fc",
   "metadata": {},
   "outputs": [
    {
     "name": "stdout",
     "output_type": "stream",
     "text": [
      "[2, 3, 4, 5]\n"
     ]
    }
   ],
   "source": [
    "fun(*my_lst)"
   ]
  },
  {
   "cell_type": "code",
   "execution_count": 1,
   "id": "ed30c84e",
   "metadata": {},
   "outputs": [],
   "source": [
    "p = list(range(50))"
   ]
  },
  {
   "cell_type": "code",
   "execution_count": 2,
   "id": "7165e77a",
   "metadata": {},
   "outputs": [
    {
     "data": {
      "text/plain": [
       "[0,\n",
       " 1,\n",
       " 2,\n",
       " 3,\n",
       " 4,\n",
       " 5,\n",
       " 6,\n",
       " 7,\n",
       " 8,\n",
       " 9,\n",
       " 10,\n",
       " 11,\n",
       " 12,\n",
       " 13,\n",
       " 14,\n",
       " 15,\n",
       " 16,\n",
       " 17,\n",
       " 18,\n",
       " 19,\n",
       " 20,\n",
       " 21,\n",
       " 22,\n",
       " 23,\n",
       " 24,\n",
       " 25,\n",
       " 26,\n",
       " 27,\n",
       " 28,\n",
       " 29,\n",
       " 30,\n",
       " 31,\n",
       " 32,\n",
       " 33,\n",
       " 34,\n",
       " 35,\n",
       " 36,\n",
       " 37,\n",
       " 38,\n",
       " 39,\n",
       " 40,\n",
       " 41,\n",
       " 42,\n",
       " 43,\n",
       " 44,\n",
       " 45,\n",
       " 46,\n",
       " 47,\n",
       " 48,\n",
       " 49]"
      ]
     },
     "execution_count": 2,
     "metadata": {},
     "output_type": "execute_result"
    }
   ],
   "source": [
    "p"
   ]
  },
  {
   "cell_type": "code",
   "execution_count": 4,
   "id": "7c36e146",
   "metadata": {},
   "outputs": [],
   "source": [
    "def check_no(py):\n",
    "    lst = []\n",
    "    for i in py:\n",
    "        if i%2!= 0:\n",
    "            lst.append(i)\n",
    "    return lst\n",
    "            "
   ]
  },
  {
   "cell_type": "code",
   "execution_count": 5,
   "id": "e81636da",
   "metadata": {},
   "outputs": [
    {
     "data": {
      "text/plain": [
       "[1,\n",
       " 3,\n",
       " 5,\n",
       " 7,\n",
       " 9,\n",
       " 11,\n",
       " 13,\n",
       " 15,\n",
       " 17,\n",
       " 19,\n",
       " 21,\n",
       " 23,\n",
       " 25,\n",
       " 27,\n",
       " 29,\n",
       " 31,\n",
       " 33,\n",
       " 35,\n",
       " 37,\n",
       " 39,\n",
       " 41,\n",
       " 43,\n",
       " 45,\n",
       " 47,\n",
       " 49]"
      ]
     },
     "execution_count": 5,
     "metadata": {},
     "output_type": "execute_result"
    }
   ],
   "source": [
    "check_no(p)"
   ]
  },
  {
   "cell_type": "code",
   "execution_count": 22,
   "id": "574c27cc",
   "metadata": {},
   "outputs": [],
   "source": [
    "import datetime\n",
    "def file_name(fn):\n",
    "    name = fn.split('.')[0]\n",
    "    dt = datetime.datetime.date(datetime.datetime.now())\n",
    "    filename = f'{name}_{dt}_DAI.pdf'\n",
    "    return filename"
   ]
  },
  {
   "cell_type": "code",
   "execution_count": 23,
   "id": "32d114ec",
   "metadata": {},
   "outputs": [
    {
     "data": {
      "text/plain": [
       "'abc_2023-07-05_DAI.pdf'"
      ]
     },
     "execution_count": 23,
     "metadata": {},
     "output_type": "execute_result"
    }
   ],
   "source": [
    "file_name('abc.pdf')"
   ]
  },
  {
   "cell_type": "code",
   "execution_count": 24,
   "id": "f207683a",
   "metadata": {},
   "outputs": [
    {
     "data": {
      "text/plain": [
       "'rtyd_2023-07-05_DAI.pdf'"
      ]
     },
     "execution_count": 24,
     "metadata": {},
     "output_type": "execute_result"
    }
   ],
   "source": [
    "file_name('rtyd.pdf')"
   ]
  },
  {
   "cell_type": "code",
   "execution_count": 26,
   "id": "824488be",
   "metadata": {},
   "outputs": [
    {
     "data": {
      "text/plain": [
       "'Resume_2023-07-05_DAI.pdf'"
      ]
     },
     "execution_count": 26,
     "metadata": {},
     "output_type": "execute_result"
    }
   ],
   "source": [
    "file_name('Resume.pdf')"
   ]
  },
  {
   "cell_type": "code",
   "execution_count": 27,
   "id": "98c5ed44",
   "metadata": {},
   "outputs": [],
   "source": [
    "def details(id,name,age,salary):\n",
    "    print('id',id)\n",
    "    print('name',name)\n",
    "    print('age',age)\n",
    "    print('salary',salary)"
   ]
  },
  {
   "cell_type": "code",
   "execution_count": 28,
   "id": "7288e827",
   "metadata": {},
   "outputs": [
    {
     "name": "stdout",
     "output_type": "stream",
     "text": [
      "id 102\n",
      "name rtyd\n",
      "age 27\n",
      "salary 98500\n"
     ]
    }
   ],
   "source": [
    "details(102,'rtyd',27,98500)"
   ]
  },
  {
   "cell_type": "code",
   "execution_count": 33,
   "id": "4cad81a5",
   "metadata": {},
   "outputs": [],
   "source": [
    "def add_var(*args):\n",
    "    t = 0\n",
    "    for i in args:\n",
    "        t = t+i\n",
    "    return t"
   ]
  },
  {
   "cell_type": "code",
   "execution_count": 35,
   "id": "213713fc",
   "metadata": {},
   "outputs": [
    {
     "data": {
      "text/plain": [
       "15"
      ]
     },
     "execution_count": 35,
     "metadata": {},
     "output_type": "execute_result"
    }
   ],
   "source": [
    "add_var(10,2,3)"
   ]
  },
  {
   "cell_type": "code",
   "execution_count": 36,
   "id": "06747e0c",
   "metadata": {},
   "outputs": [],
   "source": [
    "def student(firstname,lastname = 'Mark',std = 'Fifth'):\n",
    "    print(firstname,lastname,'studies in',std,'standard')"
   ]
  },
  {
   "cell_type": "code",
   "execution_count": 40,
   "id": "df1c3470",
   "metadata": {},
   "outputs": [
    {
     "name": "stdout",
     "output_type": "stream",
     "text": [
      "John Monk studies in Fifth Standard\n"
     ]
    }
   ],
   "source": [
    "student('John','Monk')"
   ]
  },
  {
   "cell_type": "code",
   "execution_count": 41,
   "id": "c9829f1c",
   "metadata": {},
   "outputs": [
    {
     "name": "stdout",
     "output_type": "stream",
     "text": [
      "rtyd adcs studies in Fifth Standard\n"
     ]
    }
   ],
   "source": [
    "student('rtyd',lastname = 'adcs')"
   ]
  },
  {
   "cell_type": "code",
   "execution_count": 60,
   "id": "5d1ba6f2",
   "metadata": {},
   "outputs": [
    {
     "name": "stdout",
     "output_type": "stream",
     "text": [
      "rtyd kms studies in Btech Standard\n"
     ]
    }
   ],
   "source": [
    "student(\"rtyd\",'kms','Btech')"
   ]
  },
  {
   "cell_type": "code",
   "execution_count": null,
   "id": "2d23b1bb",
   "metadata": {},
   "outputs": [],
   "source": []
  },
  {
   "cell_type": "code",
   "execution_count": 39,
   "id": "eb52ab99",
   "metadata": {},
   "outputs": [
    {
     "name": "stdout",
     "output_type": "stream",
     "text": [
      "John Mark studies in Fifth Standard\n",
      "John Gates studies in Seventh Standard\n",
      "John Gates studies in Fifth Standard\n",
      "John Seventh studies in Fifth Standard\n"
     ]
    }
   ],
   "source": [
    "def student(firstname, lastname ='Mark', standard ='Fifth'):\n",
    "\tprint(firstname, lastname, 'studies in', standard, 'Standard')\n",
    "\n",
    "# 1 positional argument\n",
    "student('John')\n",
    "\n",
    "# 3 positional arguments\t\t\t\t\t\t\n",
    "student('John', 'Gates', 'Seventh')\t\n",
    "\n",
    "# 2 positional arguments\n",
    "student('John', 'Gates')\t\t\t\t\n",
    "student('John', 'Seventh')\n"
   ]
  },
  {
   "cell_type": "code",
   "execution_count": 61,
   "id": "32cb9aca",
   "metadata": {},
   "outputs": [],
   "source": [
    "def appendItem(iname, ilst = []):\n",
    "    ilst.append(iname)\n",
    "    return ilst"
   ]
  },
  {
   "cell_type": "code",
   "execution_count": 62,
   "id": "b22be32a",
   "metadata": {},
   "outputs": [
    {
     "data": {
      "text/plain": [
       "['Books']"
      ]
     },
     "execution_count": 62,
     "metadata": {},
     "output_type": "execute_result"
    }
   ],
   "source": [
    "appendItem('Books')"
   ]
  },
  {
   "cell_type": "code",
   "execution_count": 63,
   "id": "85be2d5f",
   "metadata": {},
   "outputs": [
    {
     "data": {
      "text/plain": [
       "['Books', 'Pencil']"
      ]
     },
     "execution_count": 63,
     "metadata": {},
     "output_type": "execute_result"
    }
   ],
   "source": [
    "appendItem('Pencil')"
   ]
  },
  {
   "cell_type": "code",
   "execution_count": 77,
   "id": "aad44a6c",
   "metadata": {},
   "outputs": [],
   "source": [
    "def itemToDic(iname,qty, itemlst = {}):\n",
    "    itemlst[iname] = qty\n",
    "    \n",
    "    return itemlst"
   ]
  },
  {
   "cell_type": "code",
   "execution_count": 78,
   "id": "c7022799",
   "metadata": {},
   "outputs": [
    {
     "data": {
      "text/plain": [
       "{'Pencil': 10}"
      ]
     },
     "execution_count": 78,
     "metadata": {},
     "output_type": "execute_result"
    }
   ],
   "source": [
    "itemToDic('Pencil',10)"
   ]
  },
  {
   "cell_type": "code",
   "execution_count": 66,
   "id": "c7288192",
   "metadata": {},
   "outputs": [
    {
     "data": {
      "text/plain": [
       "{'Pencil': 10, 'books': 5}"
      ]
     },
     "execution_count": 66,
     "metadata": {},
     "output_type": "execute_result"
    }
   ],
   "source": [
    "itemToDic('books',5)"
   ]
  },
  {
   "cell_type": "code",
   "execution_count": 85,
   "id": "c6d50221",
   "metadata": {},
   "outputs": [],
   "source": [
    "a = itemToDic('Rubber',15)"
   ]
  },
  {
   "cell_type": "code",
   "execution_count": 86,
   "id": "00e3bfe6",
   "metadata": {},
   "outputs": [
    {
     "name": "stdout",
     "output_type": "stream",
     "text": [
      "items Pencil qty 10\n",
      "items bag qty 1\n",
      "items Rubber qty 15\n"
     ]
    }
   ],
   "source": [
    "for k,v in a.items():\n",
    "    print('items',k,'qty',v)"
   ]
  },
  {
   "cell_type": "code",
   "execution_count": 87,
   "id": "460fb30f",
   "metadata": {},
   "outputs": [
    {
     "data": {
      "text/plain": [
       "{'Pencil': 10, 'bag': 1, 'Rubber': 15}"
      ]
     },
     "execution_count": 87,
     "metadata": {},
     "output_type": "execute_result"
    }
   ],
   "source": [
    "itemToDic('bag',1)"
   ]
  },
  {
   "cell_type": "code",
   "execution_count": 88,
   "id": "09cf5124",
   "metadata": {},
   "outputs": [
    {
     "name": "stdout",
     "output_type": "stream",
     "text": [
      "items Pencil value 10\n",
      "items bag value 1\n",
      "items Rubber value 15\n"
     ]
    }
   ],
   "source": [
    "\n",
    "for k,v in a.items():\n",
    "    print('items',k,'value',v)"
   ]
  },
  {
   "cell_type": "code",
   "execution_count": 90,
   "id": "7ce6ef27",
   "metadata": {},
   "outputs": [],
   "source": [
    "def item_lst(iname,ilst = None):\n",
    "    if ilst == None:\n",
    "        ilst = []\n",
    "        ilst.append(iname)\n",
    "        return ilst"
   ]
  },
  {
   "cell_type": "code",
   "execution_count": 91,
   "id": "96769abf",
   "metadata": {},
   "outputs": [
    {
     "data": {
      "text/plain": [
       "['Books']"
      ]
     },
     "execution_count": 91,
     "metadata": {},
     "output_type": "execute_result"
    }
   ],
   "source": [
    "item_lst('Books')"
   ]
  },
  {
   "cell_type": "code",
   "execution_count": 92,
   "id": "7821b480",
   "metadata": {},
   "outputs": [
    {
     "data": {
      "text/plain": [
       "['Pencil']"
      ]
     },
     "execution_count": 92,
     "metadata": {},
     "output_type": "execute_result"
    }
   ],
   "source": [
    "item_lst('Pencil')"
   ]
  },
  {
   "cell_type": "code",
   "execution_count": 94,
   "id": "da17e6d4",
   "metadata": {},
   "outputs": [],
   "source": [
    "lst1 = item_lst('Bag')"
   ]
  },
  {
   "cell_type": "code",
   "execution_count": 95,
   "id": "9c15f60b",
   "metadata": {},
   "outputs": [
    {
     "data": {
      "text/plain": [
       "['Bag']"
      ]
     },
     "execution_count": 95,
     "metadata": {},
     "output_type": "execute_result"
    }
   ],
   "source": [
    "lst1"
   ]
  },
  {
   "cell_type": "code",
   "execution_count": 101,
   "id": "80795424",
   "metadata": {},
   "outputs": [],
   "source": [
    "def m(*arg):\n",
    "    t = 1\n",
    "    for i in arg:\n",
    "        t = t*i\n",
    "    return t"
   ]
  },
  {
   "cell_type": "code",
   "execution_count": 105,
   "id": "4d8725ed",
   "metadata": {},
   "outputs": [
    {
     "data": {
      "text/plain": [
       "5040"
      ]
     },
     "execution_count": 105,
     "metadata": {},
     "output_type": "execute_result"
    }
   ],
   "source": [
    "m(1,2,3,4,5,6,7)"
   ]
  },
  {
   "cell_type": "code",
   "execution_count": 106,
   "id": "a3812ae4",
   "metadata": {},
   "outputs": [],
   "source": [
    "def pworld(*arg):\n",
    "    for i in arg:\n",
    "        print(i)"
   ]
  },
  {
   "cell_type": "code",
   "execution_count": 107,
   "id": "e6f479a9",
   "metadata": {},
   "outputs": [
    {
     "name": "stdout",
     "output_type": "stream",
     "text": [
      "Hello\n",
      "welcome\n",
      "to\n",
      "python\n",
      "world\n"
     ]
    }
   ],
   "source": [
    "pworld('Hello','welcome','to','python','world')"
   ]
  },
  {
   "cell_type": "code",
   "execution_count": 111,
   "id": "88ef6a74",
   "metadata": {},
   "outputs": [],
   "source": [
    "def pworld1(arg1, *arg):\n",
    "    print(arg1)\n",
    "    for i in arg:\n",
    "        print(i)"
   ]
  },
  {
   "cell_type": "code",
   "execution_count": 114,
   "id": "26d82098",
   "metadata": {},
   "outputs": [
    {
     "name": "stdout",
     "output_type": "stream",
     "text": [
      "Goodmorning\n",
      "welcome\n",
      "to\n",
      "python\n",
      "world\n"
     ]
    }
   ],
   "source": [
    "pworld1('Goodmorning','welcome','to','python','world')"
   ]
  },
  {
   "cell_type": "code",
   "execution_count": 121,
   "id": "b06bf158",
   "metadata": {},
   "outputs": [],
   "source": [
    "def person_details(**kargs):\n",
    "    for k,v in kargs.items():\n",
    "        print(k,':- ',v)"
   ]
  },
  {
   "cell_type": "code",
   "execution_count": 125,
   "id": "794a653c",
   "metadata": {},
   "outputs": [
    {
     "name": "stdout",
     "output_type": "stream",
     "text": [
      "name :-  rtyd\n",
      "id :-  101\n",
      "city :-  Pune\n"
     ]
    }
   ],
   "source": [
    "a = person_details(name = 'rtyd',id = 101,city = 'Pune')"
   ]
  },
  {
   "cell_type": "code",
   "execution_count": 123,
   "id": "b8a81a45",
   "metadata": {},
   "outputs": [],
   "source": [
    "import pandas as pd"
   ]
  },
  {
   "cell_type": "code",
   "execution_count": 134,
   "id": "f27b201a",
   "metadata": {},
   "outputs": [],
   "source": [
    "df = pd.DataFrame(['rtyd',27,98540],['Ajay',25,65400])"
   ]
  },
  {
   "cell_type": "code",
   "execution_count": 135,
   "id": "0ffc819c",
   "metadata": {},
   "outputs": [
    {
     "data": {
      "text/html": [
       "<div>\n",
       "<style scoped>\n",
       "    .dataframe tbody tr th:only-of-type {\n",
       "        vertical-align: middle;\n",
       "    }\n",
       "\n",
       "    .dataframe tbody tr th {\n",
       "        vertical-align: top;\n",
       "    }\n",
       "\n",
       "    .dataframe thead th {\n",
       "        text-align: right;\n",
       "    }\n",
       "</style>\n",
       "<table border=\"1\" class=\"dataframe\">\n",
       "  <thead>\n",
       "    <tr style=\"text-align: right;\">\n",
       "      <th></th>\n",
       "      <th>0</th>\n",
       "    </tr>\n",
       "  </thead>\n",
       "  <tbody>\n",
       "    <tr>\n",
       "      <th>Ajay</th>\n",
       "      <td>rtyd</td>\n",
       "    </tr>\n",
       "    <tr>\n",
       "      <th>25</th>\n",
       "      <td>27</td>\n",
       "    </tr>\n",
       "    <tr>\n",
       "      <th>65400</th>\n",
       "      <td>98540</td>\n",
       "    </tr>\n",
       "  </tbody>\n",
       "</table>\n",
       "</div>"
      ],
      "text/plain": [
       "            0\n",
       "Ajay   rtyd\n",
       "25         27\n",
       "65400   98540"
      ]
     },
     "execution_count": 135,
     "metadata": {},
     "output_type": "execute_result"
    }
   ],
   "source": [
    "df"
   ]
  },
  {
   "cell_type": "code",
   "execution_count": 142,
   "id": "442ebe66",
   "metadata": {},
   "outputs": [
    {
     "name": "stdout",
     "output_type": "stream",
     "text": [
      "name rtyd\n",
      "age 27\n"
     ]
    }
   ],
   "source": [
    "class Info:\n",
    "    def __init__(self,*arg):\n",
    "        self.name = arg[0]\n",
    "        self.age = arg[1]\n",
    "        \n",
    "    def show(self):\n",
    "        print('name',self.name)\n",
    "        print('age',self.age)\n",
    "        \n",
    "obj = Info('rtyd',27)\n",
    "obj.show()"
   ]
  },
  {
   "cell_type": "code",
   "execution_count": 144,
   "id": "65843f52",
   "metadata": {},
   "outputs": [
    {
     "name": "stdout",
     "output_type": "stream",
     "text": [
      "250\n",
      "Red\n"
     ]
    }
   ],
   "source": [
    "class Vehicles:\n",
    "    def __init__(self,**kwargs):\n",
    "        self.speed = kwargs['s']\n",
    "        self.color = kwargs['c']\n",
    "        \n",
    "    def show(self):\n",
    "        print(self.speed)\n",
    "        print(self.color)\n",
    "        \n",
    "obj = Vehicles(s = 250, c = 'Red' )\n",
    "obj.show()"
   ]
  },
  {
   "cell_type": "code",
   "execution_count": 145,
   "id": "0f2c108c",
   "metadata": {},
   "outputs": [],
   "source": [
    "def gen():\n",
    "    yield 'Hello rtyd'\n",
    "    yield 'This is Generator function'\n",
    "    yield 'This is Python World'\n",
    "    yield 'Thank you...'"
   ]
  },
  {
   "cell_type": "code",
   "execution_count": 151,
   "id": "622acfb6",
   "metadata": {},
   "outputs": [],
   "source": [
    "obj = gen()"
   ]
  },
  {
   "cell_type": "code",
   "execution_count": 148,
   "id": "11b8e1cb",
   "metadata": {},
   "outputs": [
    {
     "data": {
      "text/plain": [
       "'Hello rtyd'"
      ]
     },
     "execution_count": 148,
     "metadata": {},
     "output_type": "execute_result"
    }
   ],
   "source": [
    "next(obj)"
   ]
  },
  {
   "cell_type": "code",
   "execution_count": 152,
   "id": "6b7d9298",
   "metadata": {},
   "outputs": [
    {
     "name": "stdout",
     "output_type": "stream",
     "text": [
      "Hello rtyd\n",
      "This is Generator function\n",
      "This is Python World\n",
      "Thank you...\n"
     ]
    }
   ],
   "source": [
    "for i in obj:\n",
    "    print(i)"
   ]
  },
  {
   "cell_type": "code",
   "execution_count": null,
   "id": "5341981d",
   "metadata": {},
   "outputs": [],
   "source": [
    "def inf_sequence():\n",
    "\tnum = 0\n",
    "\twhile True:\n",
    "\t\tyield num\n",
    "\t\tnum += 1\n",
    "\t\t\n",
    "for i in inf_sequence():\n",
    "\tprint(i, end=\" \")\n"
   ]
  },
  {
   "cell_type": "code",
   "execution_count": 21,
   "id": "53cb4a9b",
   "metadata": {},
   "outputs": [],
   "source": [
    "def inf_num():\n",
    "    num = 0\n",
    "    while num < 500:    # print number from 0 to 499 by using generator\n",
    "        yield num\n",
    "        num +=1"
   ]
  },
  {
   "cell_type": "code",
   "execution_count": 22,
   "id": "da557b28",
   "metadata": {},
   "outputs": [],
   "source": [
    "obj = inf_num()"
   ]
  },
  {
   "cell_type": "code",
   "execution_count": 23,
   "id": "d34059ff",
   "metadata": {},
   "outputs": [
    {
     "name": "stdout",
     "output_type": "stream",
     "text": [
      "0 1 2 3 4 5 6 7 8 9 10 11 12 13 14 15 16 17 18 19 20 21 22 23 24 25 26 27 28 29 30 31 32 33 34 35 36 37 38 39 40 41 42 43 44 45 46 47 48 49 50 51 52 53 54 55 56 57 58 59 60 61 62 63 64 65 66 67 68 69 70 71 72 73 74 75 76 77 78 79 80 81 82 83 84 85 86 87 88 89 90 91 92 93 94 95 96 97 98 99 100 101 102 103 104 105 106 107 108 109 110 111 112 113 114 115 116 117 118 119 120 121 122 123 124 125 126 127 128 129 130 131 132 133 134 135 136 137 138 139 140 141 142 143 144 145 146 147 148 149 150 151 152 153 154 155 156 157 158 159 160 161 162 163 164 165 166 167 168 169 170 171 172 173 174 175 176 177 178 179 180 181 182 183 184 185 186 187 188 189 190 191 192 193 194 195 196 197 198 199 200 201 202 203 204 205 206 207 208 209 210 211 212 213 214 215 216 217 218 219 220 221 222 223 224 225 226 227 228 229 230 231 232 233 234 235 236 237 238 239 240 241 242 243 244 245 246 247 248 249 250 251 252 253 254 255 256 257 258 259 260 261 262 263 264 265 266 267 268 269 270 271 272 273 274 275 276 277 278 279 280 281 282 283 284 285 286 287 288 289 290 291 292 293 294 295 296 297 298 299 300 301 302 303 304 305 306 307 308 309 310 311 312 313 314 315 316 317 318 319 320 321 322 323 324 325 326 327 328 329 330 331 332 333 334 335 336 337 338 339 340 341 342 343 344 345 346 347 348 349 350 351 352 353 354 355 356 357 358 359 360 361 362 363 364 365 366 367 368 369 370 371 372 373 374 375 376 377 378 379 380 381 382 383 384 385 386 387 388 389 390 391 392 393 394 395 396 397 398 399 400 401 402 403 404 405 406 407 408 409 410 411 412 413 414 415 416 417 418 419 420 421 422 423 424 425 426 427 428 429 430 431 432 433 434 435 436 437 438 439 440 441 442 443 444 445 446 447 448 449 450 451 452 453 454 455 456 457 458 459 460 461 462 463 464 465 466 467 468 469 470 471 472 473 474 475 476 477 478 479 480 481 482 483 484 485 486 487 488 489 490 491 492 493 494 495 496 497 498 499 "
     ]
    }
   ],
   "source": [
    "for i in obj:\n",
    "    print(i,end= ' ')"
   ]
  },
  {
   "cell_type": "code",
   "execution_count": 9,
   "id": "708ea4da",
   "metadata": {},
   "outputs": [],
   "source": [
    "def inf_gen(x):\n",
    "    num = 0\n",
    "    while num<x:\n",
    "        yield num\n",
    "        num += 1"
   ]
  },
  {
   "cell_type": "code",
   "execution_count": 19,
   "id": "bc46c653",
   "metadata": {},
   "outputs": [],
   "source": [
    "obj1 = inf_gen(101)"
   ]
  },
  {
   "cell_type": "code",
   "execution_count": 20,
   "id": "2279be61",
   "metadata": {},
   "outputs": [
    {
     "name": "stdout",
     "output_type": "stream",
     "text": [
      "0 1 2 3 4 5 6 7 8 9 10 11 12 13 14 15 16 17 18 19 20 21 22 23 24 25 26 27 28 29 30 31 32 33 34 35 36 37 38 39 40 41 42 43 44 45 46 47 48 49 50 51 52 53 54 55 56 57 58 59 60 61 62 63 64 65 66 67 68 69 70 71 72 73 74 75 76 77 78 79 80 81 82 83 84 85 86 87 88 89 90 91 92 93 94 95 96 97 98 99 100 "
     ]
    }
   ],
   "source": [
    "for i in obj1:\n",
    "    print(i,end = ' ')"
   ]
  },
  {
   "cell_type": "code",
   "execution_count": 17,
   "id": "cfb06cf7",
   "metadata": {},
   "outputs": [
    {
     "data": {
      "text/plain": [
       "2"
      ]
     },
     "execution_count": 17,
     "metadata": {},
     "output_type": "execute_result"
    }
   ],
   "source": [
    "next(obj1)"
   ]
  },
  {
   "cell_type": "code",
   "execution_count": 35,
   "id": "ec0ed6a0",
   "metadata": {},
   "outputs": [],
   "source": [
    "def ev_lst(lst):\n",
    "    for i in lst:\n",
    "        if i % 2 == 0:\n",
    "            yield i"
   ]
  },
  {
   "cell_type": "code",
   "execution_count": 32,
   "id": "d2259e18",
   "metadata": {},
   "outputs": [],
   "source": [
    "lst = list(range(50))"
   ]
  },
  {
   "cell_type": "code",
   "execution_count": 33,
   "id": "c9e2b1af",
   "metadata": {},
   "outputs": [],
   "source": [
    "obj = ev_lst(lst)"
   ]
  },
  {
   "cell_type": "code",
   "execution_count": 34,
   "id": "6b4f7b0d",
   "metadata": {},
   "outputs": [
    {
     "name": "stdout",
     "output_type": "stream",
     "text": [
      "0 2 4 6 8 10 12 14 16 18 20 22 24 26 28 30 32 34 36 38 40 42 44 46 48 "
     ]
    }
   ],
   "source": [
    "for i  in obj:\n",
    "    print(i,end = ' ')"
   ]
  },
  {
   "cell_type": "code",
   "execution_count": 36,
   "id": "075f5743",
   "metadata": {},
   "outputs": [
    {
     "name": "stdout",
     "output_type": "stream",
     "text": [
      "0\n",
      "2\n",
      "4\n",
      "6\n",
      "8\n",
      "10\n",
      "12\n",
      "14\n",
      "16\n",
      "18\n"
     ]
    }
   ],
   "source": [
    "for i in ev_lst(list(range(20))):\n",
    "    print(i)"
   ]
  },
  {
   "cell_type": "code",
   "execution_count": null,
   "id": "7534dd5a",
   "metadata": {},
   "outputs": [],
   "source": [
    "# func to count number of given word\n",
    "def print_even(test_string):\n",
    "\tfor i in test_string:\n",
    "\t\tif i == \"geeks\":\n",
    "\t\t\tyield i\n",
    "\n",
    "\n",
    "# initializing string\n",
    "test_string = \" There are many geeks around you, \\\n",
    "\t\t\tgeeks are known for teaching other geeks\"\n",
    "\n",
    "# count numbers of geeks used in string\n",
    "count = 0\n",
    "print(\"The number of geeks in string is : \", end=\"\")\n",
    "test_string = test_string.split()\n",
    "\n",
    "for j in print_even(test_string):\n",
    "\tcount = count + 1\n",
    "\n",
    "print(count)\n"
   ]
  },
  {
   "cell_type": "code",
   "execution_count": 37,
   "id": "d13cb4b1",
   "metadata": {},
   "outputs": [],
   "source": [
    "def c_str(str_lst):\n",
    "    for i in str_lst:\n",
    "        if i == 'geeks':\n",
    "            yield i"
   ]
  },
  {
   "cell_type": "code",
   "execution_count": 45,
   "id": "2f76132b",
   "metadata": {},
   "outputs": [],
   "source": [
    "str_lst = \" There are many geeks around you, \\geeks geeks geeks geeks geeks are known for teaching other geeks\""
   ]
  },
  {
   "cell_type": "code",
   "execution_count": 46,
   "id": "ef7b8271",
   "metadata": {},
   "outputs": [],
   "source": [
    "str_lst = str_lst.split()"
   ]
  },
  {
   "cell_type": "code",
   "execution_count": 47,
   "id": "a32981df",
   "metadata": {},
   "outputs": [
    {
     "data": {
      "text/plain": [
       "['There',\n",
       " 'are',\n",
       " 'many',\n",
       " 'geeks',\n",
       " 'around',\n",
       " 'you,',\n",
       " '\\\\geeks',\n",
       " 'geeks',\n",
       " 'geeks',\n",
       " 'geeks',\n",
       " 'geeks',\n",
       " 'are',\n",
       " 'known',\n",
       " 'for',\n",
       " 'teaching',\n",
       " 'other',\n",
       " 'geeks']"
      ]
     },
     "execution_count": 47,
     "metadata": {},
     "output_type": "execute_result"
    }
   ],
   "source": [
    "str_lst"
   ]
  },
  {
   "cell_type": "code",
   "execution_count": 48,
   "id": "709a512b",
   "metadata": {},
   "outputs": [
    {
     "name": "stdout",
     "output_type": "stream",
     "text": [
      "6\n"
     ]
    }
   ],
   "source": [
    "count = 0\n",
    "for j in c_str(str_lst):\n",
    "    count += 1\n",
    "print(count)"
   ]
  },
  {
   "cell_type": "code",
   "execution_count": 18,
   "id": "89415ccb",
   "metadata": {},
   "outputs": [],
   "source": [
    "def kl():\n",
    "    num = 0\n",
    "    while num<50:\n",
    "        yield num\n",
    "        num += 1"
   ]
  },
  {
   "cell_type": "code",
   "execution_count": 20,
   "id": "61145ca0",
   "metadata": {},
   "outputs": [
    {
     "name": "stdout",
     "output_type": "stream",
     "text": [
      "0 1 2 3 4 5 6 7 8 9 10 11 12 13 14 15 16 17 18 19 20 21 22 23 24 25 26 27 28 29 30 31 32 33 34 35 36 37 38 39 40 41 42 43 44 45 46 47 48 49 "
     ]
    }
   ],
   "source": [
    "obj = kl()\n",
    "for i in obj:\n",
    "    print(i,end = ' ')"
   ]
  },
  {
   "cell_type": "code",
   "execution_count": 25,
   "id": "8a8869a8",
   "metadata": {},
   "outputs": [
    {
     "name": "stdout",
     "output_type": "stream",
     "text": [
      "<class 'type'>\n"
     ]
    }
   ],
   "source": [
    "print(type(type(int)))"
   ]
  },
  {
   "cell_type": "code",
   "execution_count": 22,
   "id": "9d9ac15c",
   "metadata": {},
   "outputs": [
    {
     "data": {
      "text/plain": [
       "type"
      ]
     },
     "execution_count": 22,
     "metadata": {},
     "output_type": "execute_result"
    }
   ],
   "source": [
    "type(int)"
   ]
  },
  {
   "cell_type": "code",
   "execution_count": 27,
   "id": "0f2ba25d",
   "metadata": {},
   "outputs": [
    {
     "data": {
      "text/plain": [
       "'A'"
      ]
     },
     "execution_count": 27,
     "metadata": {},
     "output_type": "execute_result"
    }
   ],
   "source": [
    "chr(ord('A'))"
   ]
  },
  {
   "cell_type": "code",
   "execution_count": 38,
   "id": "2054d597",
   "metadata": {},
   "outputs": [
    {
     "data": {
      "text/plain": [
       "'A'"
      ]
     },
     "execution_count": 38,
     "metadata": {},
     "output_type": "execute_result"
    }
   ],
   "source": [
    "chr(65)"
   ]
  },
  {
   "cell_type": "code",
   "execution_count": 39,
   "id": "c48f726a",
   "metadata": {},
   "outputs": [
    {
     "data": {
      "text/plain": [
       "80"
      ]
     },
     "execution_count": 39,
     "metadata": {},
     "output_type": "execute_result"
    }
   ],
   "source": [
    "y = 8\n",
    "z = lambda x: x*y\n",
    "\n",
    "z(10)"
   ]
  },
  {
   "cell_type": "code",
   "execution_count": 41,
   "id": "e67739ea",
   "metadata": {},
   "outputs": [
    {
     "data": {
      "text/plain": [
       "1688617112.5869112"
      ]
     },
     "execution_count": 41,
     "metadata": {},
     "output_type": "execute_result"
    }
   ],
   "source": [
    "import time\n",
    "time.time()"
   ]
  },
  {
   "cell_type": "code",
   "execution_count": 42,
   "id": "dd2d1e72",
   "metadata": {},
   "outputs": [],
   "source": [
    "# Lambda Function"
   ]
  },
  {
   "cell_type": "code",
   "execution_count": 43,
   "id": "07e1f79d",
   "metadata": {},
   "outputs": [],
   "source": [
    "def cube(x):\n",
    "    return x**3"
   ]
  },
  {
   "cell_type": "code",
   "execution_count": 44,
   "id": "d231a978",
   "metadata": {},
   "outputs": [
    {
     "data": {
      "text/plain": [
       "343"
      ]
     },
     "execution_count": 44,
     "metadata": {},
     "output_type": "execute_result"
    }
   ],
   "source": [
    "cube(7)"
   ]
  },
  {
   "cell_type": "code",
   "execution_count": 45,
   "id": "3eaf3e57",
   "metadata": {},
   "outputs": [],
   "source": [
    "Lcube = lambda x: x**3"
   ]
  },
  {
   "cell_type": "code",
   "execution_count": 46,
   "id": "1a19c526",
   "metadata": {},
   "outputs": [
    {
     "data": {
      "text/plain": [
       "343"
      ]
     },
     "execution_count": 46,
     "metadata": {},
     "output_type": "execute_result"
    }
   ],
   "source": [
    "Lcube(7)"
   ]
  },
  {
   "cell_type": "code",
   "execution_count": 47,
   "id": "ed637cca",
   "metadata": {},
   "outputs": [
    {
     "data": {
      "text/plain": [
       "8"
      ]
     },
     "execution_count": 47,
     "metadata": {},
     "output_type": "execute_result"
    }
   ],
   "source": [
    "Lcube(2)"
   ]
  },
  {
   "cell_type": "code",
   "execution_count": 51,
   "id": "55cc497a",
   "metadata": {},
   "outputs": [],
   "source": [
    "str1 = 'rtyd adcs'\n",
    "\n",
    "zlst = lambda x:x.lower()"
   ]
  },
  {
   "cell_type": "code",
   "execution_count": 53,
   "id": "26fe8798",
   "metadata": {},
   "outputs": [
    {
     "data": {
      "text/plain": [
       "'rtyd adcs'"
      ]
     },
     "execution_count": 53,
     "metadata": {},
     "output_type": "execute_result"
    }
   ],
   "source": [
    "zlst(str1)"
   ]
  },
  {
   "cell_type": "code",
   "execution_count": 56,
   "id": "fadb8391",
   "metadata": {},
   "outputs": [
    {
     "data": {
      "text/plain": [
       "25"
      ]
     },
     "execution_count": 56,
     "metadata": {},
     "output_type": "execute_result"
    }
   ],
   "source": [
    "(lambda x,y : x if x > y else y)(10,25)"
   ]
  },
  {
   "cell_type": "code",
   "execution_count": 57,
   "id": "12d6ad9a",
   "metadata": {},
   "outputs": [
    {
     "data": {
      "text/plain": [
       "50"
      ]
     },
     "execution_count": 57,
     "metadata": {},
     "output_type": "execute_result"
    }
   ],
   "source": [
    "(lambda x,y: x+y)(15,35)"
   ]
  },
  {
   "cell_type": "code",
   "execution_count": 60,
   "id": "54b21bee",
   "metadata": {},
   "outputs": [
    {
     "data": {
      "text/plain": [
       "676"
      ]
     },
     "execution_count": 60,
     "metadata": {},
     "output_type": "execute_result"
    }
   ],
   "source": [
    "(lambda x,y: x**2+2*x*y+y**2)(14,12)"
   ]
  },
  {
   "cell_type": "code",
   "execution_count": 62,
   "id": "a3e581ed",
   "metadata": {},
   "outputs": [
    {
     "data": {
      "text/plain": [
       "36.67"
      ]
     },
     "execution_count": 62,
     "metadata": {},
     "output_type": "execute_result"
    }
   ],
   "source": [
    "round((lambda x,y,z: (x+y+z)/3)(30,35,45),2)"
   ]
  },
  {
   "cell_type": "code",
   "execution_count": 98,
   "id": "0971f44e",
   "metadata": {},
   "outputs": [],
   "source": [
    "lst = (lambda arg = x : x*10 for x in range(1,5))"
   ]
  },
  {
   "cell_type": "code",
   "execution_count": 99,
   "id": "53765331",
   "metadata": {},
   "outputs": [
    {
     "name": "stdout",
     "output_type": "stream",
     "text": [
      "10\n",
      "20\n",
      "30\n",
      "40\n"
     ]
    }
   ],
   "source": [
    "for item in lst:\n",
    "    print(item())"
   ]
  },
  {
   "cell_type": "code",
   "execution_count": 87,
   "id": "1f45bde5",
   "metadata": {},
   "outputs": [
    {
     "name": "stdout",
     "output_type": "stream",
     "text": [
      "10\n",
      "20\n",
      "30\n",
      "40\n"
     ]
    }
   ],
   "source": [
    "\n",
    "is_even_list = [lambda arg=x: arg * 10 for x in range(1, 5)]\n",
    "for item in is_even_list:\n",
    "    print(item())"
   ]
  },
  {
   "cell_type": "code",
   "execution_count": 100,
   "id": "4cc89eb1",
   "metadata": {},
   "outputs": [],
   "source": [
    "max1 = (lambda a,b: a if(a>b) else b)"
   ]
  },
  {
   "cell_type": "code",
   "execution_count": 101,
   "id": "214e38ab",
   "metadata": {},
   "outputs": [
    {
     "data": {
      "text/plain": [
       "12"
      ]
     },
     "execution_count": 101,
     "metadata": {},
     "output_type": "execute_result"
    }
   ],
   "source": [
    "max1(5,12)"
   ]
  },
  {
   "cell_type": "code",
   "execution_count": 102,
   "id": "e2b44428",
   "metadata": {},
   "outputs": [
    {
     "data": {
      "text/plain": [
       "12"
      ]
     },
     "execution_count": 102,
     "metadata": {},
     "output_type": "execute_result"
    }
   ],
   "source": [
    "max(12,4)"
   ]
  },
  {
   "cell_type": "code",
   "execution_count": 103,
   "id": "6b297501",
   "metadata": {},
   "outputs": [],
   "source": [
    "min1 = (lambda x,y: x if(x<y) else y)"
   ]
  },
  {
   "cell_type": "code",
   "execution_count": 104,
   "id": "efdb9d50",
   "metadata": {},
   "outputs": [
    {
     "data": {
      "text/plain": [
       "0"
      ]
     },
     "execution_count": 104,
     "metadata": {},
     "output_type": "execute_result"
    }
   ],
   "source": [
    "min1(0,5)"
   ]
  },
  {
   "cell_type": "code",
   "execution_count": 105,
   "id": "ffad46bb",
   "metadata": {},
   "outputs": [
    {
     "data": {
      "text/plain": [
       "15"
      ]
     },
     "execution_count": 105,
     "metadata": {},
     "output_type": "execute_result"
    }
   ],
   "source": [
    "min1(15,35)"
   ]
  },
  {
   "cell_type": "code",
   "execution_count": 106,
   "id": "22be7ce6",
   "metadata": {},
   "outputs": [
    {
     "data": {
      "text/plain": [
       "12"
      ]
     },
     "execution_count": 106,
     "metadata": {},
     "output_type": "execute_result"
    }
   ],
   "source": [
    "min1(35,12)"
   ]
  },
  {
   "cell_type": "code",
   "execution_count": 107,
   "id": "f7b36966",
   "metadata": {},
   "outputs": [
    {
     "data": {
      "text/plain": [
       "12"
      ]
     },
     "execution_count": 107,
     "metadata": {},
     "output_type": "execute_result"
    }
   ],
   "source": [
    "min(12,45)"
   ]
  },
  {
   "cell_type": "code",
   "execution_count": 109,
   "id": "2001e814",
   "metadata": {},
   "outputs": [
    {
     "name": "stdout",
     "output_type": "stream",
     "text": [
      "[2, 3, 4]\n",
      "[1, 16, 45, 64]\n",
      "[3, 6, 9, 12]\n"
     ]
    }
   ],
   "source": [
    "lst = [[2,3,4],[1, 45, 16, 64],[3, 6, 9, 12]]\n",
    "\n",
    "for i in lst:\n",
    "    print(sorted(i))"
   ]
  },
  {
   "cell_type": "code",
   "execution_count": 111,
   "id": "fd5b794a",
   "metadata": {},
   "outputs": [
    {
     "name": "stdout",
     "output_type": "stream",
     "text": [
      "[3, 16, 9]\n"
     ]
    }
   ],
   "source": [
    "\n",
    "List = [[2,3,4],[1, 4, 16, 64],[3, 6, 9, 12]]\n",
    " \n",
    "# Sort each sublist\n",
    "sortList = lambda x: (sorted(i) for i in x)\n",
    " \n",
    "# Get the second largest element\n",
    "secondLargest = lambda x, f : [y[len(y)-2] for y in f(x)]\n",
    "res = secondLargest(List, sortList)\n",
    " \n",
    "print(res)"
   ]
  },
  {
   "cell_type": "code",
   "execution_count": 120,
   "id": "6c3b55e8",
   "metadata": {},
   "outputs": [
    {
     "name": "stdout",
     "output_type": "stream",
     "text": [
      "[3, 16, 9]\n"
     ]
    }
   ],
   "source": [
    "lst5 = []\n",
    "for y in lst:\n",
    "    a = y[len(y)-2]\n",
    "    lst5.append(a)\n",
    "print(lst5)"
   ]
  },
  {
   "cell_type": "code",
   "execution_count": 122,
   "id": "12074bdc",
   "metadata": {},
   "outputs": [
    {
     "data": {
      "text/plain": [
       "1"
      ]
     },
     "execution_count": 122,
     "metadata": {},
     "output_type": "execute_result"
    }
   ],
   "source": [
    "len(lst)-2"
   ]
  },
  {
   "cell_type": "code",
   "execution_count": 127,
   "id": "3d40eaa8",
   "metadata": {},
   "outputs": [],
   "source": [
    "lst1 = range(0,15)"
   ]
  },
  {
   "cell_type": "code",
   "execution_count": 128,
   "id": "f2a27f06",
   "metadata": {},
   "outputs": [],
   "source": [
    "def sqr(x):\n",
    "    return x**2"
   ]
  },
  {
   "cell_type": "code",
   "execution_count": 129,
   "id": "dc31397e",
   "metadata": {},
   "outputs": [],
   "source": [
    "lstsqr = list(map(sqr,lst1))"
   ]
  },
  {
   "cell_type": "code",
   "execution_count": 130,
   "id": "eba8bccb",
   "metadata": {},
   "outputs": [
    {
     "data": {
      "text/plain": [
       "[0, 1, 4, 9, 16, 25, 36, 49, 64, 81, 100, 121, 144, 169, 196]"
      ]
     },
     "execution_count": 130,
     "metadata": {},
     "output_type": "execute_result"
    }
   ],
   "source": [
    "lstsqr"
   ]
  },
  {
   "cell_type": "code",
   "execution_count": 140,
   "id": "3db5df38",
   "metadata": {},
   "outputs": [],
   "source": [
    "def square(x):\n",
    "    return x**2\n",
    "    "
   ]
  },
  {
   "cell_type": "code",
   "execution_count": 143,
   "id": "2995895e",
   "metadata": {},
   "outputs": [
    {
     "data": {
      "text/plain": [
       "[0, 1, 4, 9, 16]"
      ]
     },
     "execution_count": 143,
     "metadata": {},
     "output_type": "execute_result"
    }
   ],
   "source": [
    "lst = range(5)\n",
    "lkh = list(map(square,lst))\n",
    "lkh"
   ]
  },
  {
   "cell_type": "code",
   "execution_count": 152,
   "id": "30b40964",
   "metadata": {},
   "outputs": [],
   "source": [
    "def double(x):\n",
    "    return x+x"
   ]
  },
  {
   "cell_type": "code",
   "execution_count": 153,
   "id": "ccd4d1c6",
   "metadata": {},
   "outputs": [
    {
     "name": "stdout",
     "output_type": "stream",
     "text": [
      "[0, 2, 4, 6, 8, 10, 12, 14, 16, 18]\n"
     ]
    }
   ],
   "source": [
    "Tlst = range(10)\n",
    "res = map(double,Tlst)\n",
    "\n",
    "print(list(res))"
   ]
  },
  {
   "cell_type": "code",
   "execution_count": 154,
   "id": "36316435",
   "metadata": {},
   "outputs": [
    {
     "name": "stdout",
     "output_type": "stream",
     "text": [
      "[0, 2, 4, 6, 8, 10, 12, 14, 16, 18]\n"
     ]
    }
   ],
   "source": [
    "resL = map(lambda x: x+x,Tlst)\n",
    "print(list(resL))"
   ]
  },
  {
   "cell_type": "code",
   "execution_count": 156,
   "id": "8bf8e336",
   "metadata": {},
   "outputs": [
    {
     "name": "stdout",
     "output_type": "stream",
     "text": [
      "[5, 7, 9]\n"
     ]
    }
   ],
   "source": [
    "numbers1 = [1, 2, 3]\n",
    "numbers2 = [4, 5, 6]\n",
    "\n",
    "res_add = map(lambda x,y: x+y,numbers1,numbers2)\n",
    "\n",
    "print(list(res_add))"
   ]
  },
  {
   "cell_type": "code",
   "execution_count": 157,
   "id": "b25e43a3",
   "metadata": {},
   "outputs": [],
   "source": [
    "str1 = 'rtyd'"
   ]
  },
  {
   "cell_type": "code",
   "execution_count": 158,
   "id": "8225d429",
   "metadata": {},
   "outputs": [
    {
     "data": {
      "text/plain": [
       "['R', 'o', 's', 'h', 'a', 'n']"
      ]
     },
     "execution_count": 158,
     "metadata": {},
     "output_type": "execute_result"
    }
   ],
   "source": [
    "list(str1)"
   ]
  },
  {
   "cell_type": "code",
   "execution_count": 159,
   "id": "09b9508f",
   "metadata": {},
   "outputs": [],
   "source": [
    "lstS = ['apple','banana','grapes','mango']"
   ]
  },
  {
   "cell_type": "code",
   "execution_count": 163,
   "id": "48a2d915",
   "metadata": {},
   "outputs": [
    {
     "name": "stdout",
     "output_type": "stream",
     "text": [
      "[['a', 'p', 'p', 'l', 'e'], ['b', 'a', 'n', 'a', 'n', 'a'], ['g', 'r', 'a', 'p', 'e', 's'], ['m', 'a', 'n', 'g', 'o']]\n"
     ]
    }
   ],
   "source": [
    "res = map(lambda x: list(x),lstS)\n",
    "a = list(res)\n",
    "print(a)"
   ]
  },
  {
   "cell_type": "code",
   "execution_count": 164,
   "id": "5fcef819",
   "metadata": {},
   "outputs": [
    {
     "data": {
      "text/plain": [
       "[['a', 'p', 'p', 'l', 'e'],\n",
       " ['b', 'a', 'n', 'a', 'n', 'a'],\n",
       " ['g', 'r', 'a', 'p', 'e', 's'],\n",
       " ['m', 'a', 'n', 'g', 'o']]"
      ]
     },
     "execution_count": 164,
     "metadata": {},
     "output_type": "execute_result"
    }
   ],
   "source": [
    "a"
   ]
  },
  {
   "cell_type": "code",
   "execution_count": 191,
   "id": "0d391166",
   "metadata": {},
   "outputs": [
    {
     "name": "stdout",
     "output_type": "stream",
     "text": [
      "apple\n",
      "banana\n",
      "grapes\n",
      "mango\n"
     ]
    }
   ],
   "source": [
    "for i in a:\n",
    "    ls_join = ''.join(i)\n",
    "    print(ls_join)"
   ]
  },
  {
   "cell_type": "code",
   "execution_count": 198,
   "id": "1738e623",
   "metadata": {},
   "outputs": [],
   "source": [
    "def d_even(x):\n",
    "    if x % 2 ==0:\n",
    "        return x*2\n",
    "    else:\n",
    "        return x"
   ]
  },
  {
   "cell_type": "code",
   "execution_count": 201,
   "id": "86867c27",
   "metadata": {},
   "outputs": [
    {
     "name": "stdout",
     "output_type": "stream",
     "text": [
      "[1, 4, 3, 8, 5, 12, 7, 16]\n"
     ]
    }
   ],
   "source": [
    "num_lst = [1,2,3,4,5,6,7,8]\n",
    "\n",
    "m_res = map(d_even,num_lst)\n",
    "\n",
    "print(list(m_res))"
   ]
  },
  {
   "cell_type": "code",
   "execution_count": 208,
   "id": "d984ec44",
   "metadata": {},
   "outputs": [
    {
     "name": "stdout",
     "output_type": "stream",
     "text": [
      "[0, 1, 8, 9, 64, 25, 216, 49, 512, 81, 1000, 121, 1728, 169, 2744, 225, 4096, 289, 5832, 361]\n"
     ]
    }
   ],
   "source": [
    "num = range(0,20)\n",
    "\n",
    "lres = map(lambda x: x**3 if x%2 == 0 else x**2, num)\n",
    "\n",
    "print(list(lres))"
   ]
  },
  {
   "cell_type": "code",
   "execution_count": 209,
   "id": "0138eaa9",
   "metadata": {},
   "outputs": [
    {
     "name": "stdout",
     "output_type": "stream",
     "text": [
      "[0, 4, 16, 36, 64, 100, 144, 196, 256, 324, 400]\n"
     ]
    }
   ],
   "source": [
    "p = range(0,21,2)\n",
    "\n",
    "xz = map(lambda x: x**2,p)\n",
    "\n",
    "print(list(xz))"
   ]
  },
  {
   "cell_type": "code",
   "execution_count": 219,
   "id": "9b1e59dd",
   "metadata": {},
   "outputs": [
    {
     "name": "stdout",
     "output_type": "stream",
     "text": [
      "[6, 4, 6, 4, 3, 2, 6]\n"
     ]
    }
   ],
   "source": [
    "lst_e = ['Python','java','Golang','html','css','Ml','Haddop']\n",
    "\n",
    "len_m = map(lambda x : len(x),lst_e)\n",
    "\n",
    "print(list(len_m))"
   ]
  },
  {
   "cell_type": "code",
   "execution_count": 221,
   "id": "eb7a09e9",
   "metadata": {},
   "outputs": [
    {
     "data": {
      "text/plain": [
       "['rtyd', 'ajay', 'mohan', 'hina', 'kajal']"
      ]
     },
     "execution_count": 221,
     "metadata": {},
     "output_type": "execute_result"
    }
   ],
   "source": [
    "py = ['rtyd@gmail.com','ajay@gmail.com','mohan@yahoo.com','hina@orkut.com','kajal@jgssgh.com']\n",
    "\n",
    "list(map(lambda x: x.split('@')[0],py))"
   ]
  },
  {
   "cell_type": "code",
   "execution_count": 234,
   "id": "688166fa",
   "metadata": {},
   "outputs": [
    {
     "data": {
      "text/plain": [
       "[['name', 'rtyd'], ['id', 123], ['sal', 89500], ['city', 'pune']]"
      ]
     },
     "execution_count": 234,
     "metadata": {},
     "output_type": "execute_result"
    }
   ],
   "source": [
    "py_d = {'name':'rtyd','id':123,'sal':89500,'city':'pune'}\n",
    "\n",
    "list(map(lambda x: list(x),py_d.items()))"
   ]
  },
  {
   "cell_type": "code",
   "execution_count": 225,
   "id": "f46ea347",
   "metadata": {},
   "outputs": [
    {
     "data": {
      "text/plain": [
       "{'name': 'rtyd', 'id': 123, 'sal': 89500, 'city': 'pune'}"
      ]
     },
     "execution_count": 225,
     "metadata": {},
     "output_type": "execute_result"
    }
   ],
   "source": [
    "py_d"
   ]
  },
  {
   "cell_type": "code",
   "execution_count": 244,
   "id": "271b0562",
   "metadata": {},
   "outputs": [
    {
     "data": {
      "text/plain": [
       "[0, 2, 4, 6, 8]"
      ]
     },
     "execution_count": 244,
     "metadata": {},
     "output_type": "execute_result"
    }
   ],
   "source": [
    "lkr = range(0,10)\n",
    "\n",
    "list(filter(lambda x: (x%2 == 0),lkr))"
   ]
  },
  {
   "cell_type": "code",
   "execution_count": 245,
   "id": "10c1132c",
   "metadata": {},
   "outputs": [
    {
     "data": {
      "text/plain": [
       "['abc', 'shgsh', 'sjjk']"
      ]
     },
     "execution_count": 245,
     "metadata": {},
     "output_type": "execute_result"
    }
   ],
   "source": [
    "py_lst = [1,5,7,'abc',56,'shgsh','sjjk',685]\n",
    "\n",
    "list(filter(lambda x: type(x) == str,py_lst))"
   ]
  },
  {
   "cell_type": "code",
   "execution_count": 246,
   "id": "06c2e5b7",
   "metadata": {},
   "outputs": [],
   "source": [
    "def fun(variables):\n",
    "    letters = ['a','e','i','o','u']\n",
    "    \n",
    "    if variables in letters:\n",
    "        return True\n",
    "    else:\n",
    "        return False"
   ]
  },
  {
   "cell_type": "code",
   "execution_count": 251,
   "id": "c218a21f",
   "metadata": {},
   "outputs": [
    {
     "data": {
      "text/plain": [
       "True"
      ]
     },
     "execution_count": 251,
     "metadata": {},
     "output_type": "execute_result"
    }
   ],
   "source": [
    "fun('i')"
   ]
  },
  {
   "cell_type": "code",
   "execution_count": 252,
   "id": "29ce9253",
   "metadata": {},
   "outputs": [
    {
     "data": {
      "text/plain": [
       "['e', 'a', 'o', 'u']"
      ]
     },
     "execution_count": 252,
     "metadata": {},
     "output_type": "execute_result"
    }
   ],
   "source": [
    "seq = ['d','e','s','a','g','k','m','o','u']\n",
    "\n",
    "list(filter(fun,seq))"
   ]
  },
  {
   "cell_type": "code",
   "execution_count": 266,
   "id": "e094163f",
   "metadata": {},
   "outputs": [
    {
     "data": {
      "text/plain": [
       "['i', 'o', 'a', 'a']"
      ]
     },
     "execution_count": 266,
     "metadata": {},
     "output_type": "execute_result"
    }
   ],
   "source": [
    "pq =  ['k','l','i','o','a','j','q','r','a']\n",
    "list(filter(lambda x: True if x in  ['a','e','i','o','u'] else False,pq))"
   ]
  },
  {
   "cell_type": "code",
   "execution_count": 264,
   "id": "11cc7ea4",
   "metadata": {},
   "outputs": [
    {
     "data": {
      "text/plain": [
       "['k', 'l', 'j', 'q', 'r']"
      ]
     },
     "execution_count": 264,
     "metadata": {},
     "output_type": "execute_result"
    }
   ],
   "source": [
    "pq =  ['k','l','i','o','a','j','q','r','a']\n",
    "list(filter(lambda x: False if x in  ['a','e','i','o','u'] else True,pq))"
   ]
  },
  {
   "cell_type": "code",
   "execution_count": 269,
   "id": "d8107156",
   "metadata": {},
   "outputs": [],
   "source": [
    "def mul_3(x):\n",
    "    return x%3==0"
   ]
  },
  {
   "cell_type": "code",
   "execution_count": 281,
   "id": "fd842461",
   "metadata": {},
   "outputs": [
    {
     "data": {
      "text/plain": [
       "[3, 6, 9, 12, 15, 18, 21, 24, 27, 30]"
      ]
     },
     "execution_count": 281,
     "metadata": {},
     "output_type": "execute_result"
    }
   ],
   "source": [
    "ls = range(1,31)\n",
    "list(filter(mul_3,ls))"
   ]
  },
  {
   "cell_type": "code",
   "execution_count": 278,
   "id": "ac8eb43f",
   "metadata": {},
   "outputs": [
    {
     "data": {
      "text/plain": [
       "[0, 3, 6, 9, 12, 15, 18]"
      ]
     },
     "execution_count": 278,
     "metadata": {},
     "output_type": "execute_result"
    }
   ],
   "source": [
    "list(filter(lambda x: x%3==0,ls))"
   ]
  },
  {
   "cell_type": "code",
   "execution_count": 279,
   "id": "437c433d",
   "metadata": {},
   "outputs": [
    {
     "data": {
      "text/plain": [
       "[0, 2, 4, 6, 8]"
      ]
     },
     "execution_count": 279,
     "metadata": {},
     "output_type": "execute_result"
    }
   ],
   "source": [
    "lkr = range(0,10)\n",
    "\n",
    "list(filter(lambda x: (x%2 == 0),lkr))"
   ]
  },
  {
   "cell_type": "code",
   "execution_count": 282,
   "id": "7f7159fa",
   "metadata": {},
   "outputs": [
    {
     "data": {
      "text/plain": [
       "[3, 6, 9, 12, 15, 18, 21, 24, 27, 30]"
      ]
     },
     "execution_count": 282,
     "metadata": {},
     "output_type": "execute_result"
    }
   ],
   "source": [
    "list(filter(lambda x:mul_3(x),ls))"
   ]
  },
  {
   "cell_type": "code",
   "execution_count": 283,
   "id": "d0dd656d",
   "metadata": {},
   "outputs": [],
   "source": [
    "# List comprehension"
   ]
  },
  {
   "cell_type": "code",
   "execution_count": 284,
   "id": "505130dd",
   "metadata": {},
   "outputs": [
    {
     "data": {
      "text/plain": [
       "[0, 2, 4, 6, 8, 10, 12, 14, 16, 18]"
      ]
     },
     "execution_count": 284,
     "metadata": {},
     "output_type": "execute_result"
    }
   ],
   "source": [
    "py_lst = range(0,20)\n",
    "\n",
    "[i for i in py_lst if i%2==0]"
   ]
  },
  {
   "cell_type": "code",
   "execution_count": 285,
   "id": "d1b3dec7",
   "metadata": {},
   "outputs": [
    {
     "data": {
      "text/plain": [
       "[1, 3, 5, 7, 9, 11, 13, 15, 17, 19]"
      ]
     },
     "execution_count": 285,
     "metadata": {},
     "output_type": "execute_result"
    }
   ],
   "source": [
    "py_lst = range(0,20)\n",
    "\n",
    "[i for i in py_lst if i%2!=0]"
   ]
  },
  {
   "cell_type": "code",
   "execution_count": 286,
   "id": "07549e83",
   "metadata": {},
   "outputs": [],
   "source": [
    "klst = [221,256,214,23,56,78,47,96,58,79,12,14,13,15,16]"
   ]
  },
  {
   "cell_type": "code",
   "execution_count": 293,
   "id": "fcaf6911",
   "metadata": {},
   "outputs": [
    {
     "data": {
      "text/plain": [
       "[256, 214, 56, 78, 96, 58, 12, 14, 16]"
      ]
     },
     "execution_count": 293,
     "metadata": {},
     "output_type": "execute_result"
    }
   ],
   "source": [
    "[i for i in klst if i %2==0]"
   ]
  },
  {
   "cell_type": "code",
   "execution_count": 298,
   "id": "f51706e1",
   "metadata": {},
   "outputs": [
    {
     "data": {
      "text/plain": [
       "['12', '17', '5', '6']"
      ]
     },
     "execution_count": 298,
     "metadata": {},
     "output_type": "execute_result"
    }
   ],
   "source": [
    "dates = ['12/10/2023','17/10/1993','5/4/2021','6/7/2015']\n",
    "\n",
    "[i.split('/')[0] for i in dates]"
   ]
  },
  {
   "cell_type": "code",
   "execution_count": 299,
   "id": "abde4a01",
   "metadata": {},
   "outputs": [
    {
     "data": {
      "text/plain": [
       "[2, 4, 6, 8, 10, 12, 14]"
      ]
     },
     "execution_count": 299,
     "metadata": {},
     "output_type": "execute_result"
    }
   ],
   "source": [
    "[i for i in range(1,15) if i%2 ==0]"
   ]
  },
  {
   "cell_type": "code",
   "execution_count": 311,
   "id": "c8c6f4de",
   "metadata": {},
   "outputs": [
    {
     "name": "stdout",
     "output_type": "stream",
     "text": [
      "hello world\n",
      "0.0\n"
     ]
    }
   ],
   "source": [
    "import time\n",
    "begin = time.time()\n",
    "print('hello world')\n",
    "end = time.time()\n",
    "\n",
    "print(end-begin)"
   ]
  },
  {
   "cell_type": "code",
   "execution_count": 306,
   "id": "ba7f76be",
   "metadata": {},
   "outputs": [
    {
     "data": {
      "text/plain": [
       "[[0, 1, 2, 3], [0, 1, 2, 3]]"
      ]
     },
     "execution_count": 306,
     "metadata": {},
     "output_type": "execute_result"
    }
   ],
   "source": [
    "[[j for j in range(4)] for i in range(2)]"
   ]
  },
  {
   "cell_type": "code",
   "execution_count": 314,
   "id": "e21bef38",
   "metadata": {},
   "outputs": [
    {
     "name": "stdout",
     "output_type": "stream",
     "text": [
      "0.0\n",
      "[10, 20, 30, 40, 50]\n"
     ]
    }
   ],
   "source": [
    "# using lambda to print table of 10\n",
    "import time\n",
    "begin = time.time()\n",
    "numbers = []\n",
    "\n",
    "for i in range(1, 6):\n",
    "\tnumbers.append(i*10)\n",
    "end = time.time()\n",
    "\n",
    "print(end-begin)\n",
    "\n",
    "print(numbers)\n"
   ]
  },
  {
   "cell_type": "code",
   "execution_count": 317,
   "id": "158df77d",
   "metadata": {},
   "outputs": [
    {
     "data": {
      "text/plain": [
       "[10, 20, 30, 40, 50, 60, 70, 80, 90, 100]"
      ]
     },
     "execution_count": 317,
     "metadata": {},
     "output_type": "execute_result"
    }
   ],
   "source": [
    "num = list(map(lambda i: i*10,[i for i in range(1,11)]))        # list(map(lambda x: x))\n",
    "num"
   ]
  },
  {
   "cell_type": "code",
   "execution_count": 1,
   "id": "3c6dc043",
   "metadata": {},
   "outputs": [],
   "source": [
    "# Fibonacci series"
   ]
  },
  {
   "cell_type": "code",
   "execution_count": 2,
   "id": "0d6b3fa4",
   "metadata": {},
   "outputs": [],
   "source": [
    "def fb(n):\n",
    "    a,b = 0,1\n",
    "    \n",
    "    while a<n:\n",
    "        print(a,end=' ')\n",
    "        a,b = b,a+b\n",
    "    print()\n",
    "        "
   ]
  },
  {
   "cell_type": "code",
   "execution_count": 4,
   "id": "b3b5813d",
   "metadata": {},
   "outputs": [
    {
     "name": "stdout",
     "output_type": "stream",
     "text": [
      "0 1 1 2 3 5 8 13 21 34 55 89 \n"
     ]
    }
   ],
   "source": [
    "fb(100)"
   ]
  },
  {
   "cell_type": "code",
   "execution_count": 8,
   "id": "516612ec",
   "metadata": {},
   "outputs": [],
   "source": [
    "def fb1(n):\n",
    "    a,b = 0,1\n",
    "    \n",
    "    while a<n:\n",
    "        print(a,end=' ')\n",
    "        a,b = b,a+b\n",
    "    print()"
   ]
  },
  {
   "cell_type": "code",
   "execution_count": 10,
   "id": "22df2077",
   "metadata": {},
   "outputs": [
    {
     "name": "stdout",
     "output_type": "stream",
     "text": [
      "0 1 1 2 3 5 8 13 21 34 55 89 144 233 377 610 987 \n"
     ]
    }
   ],
   "source": [
    "fb1(1000)"
   ]
  },
  {
   "cell_type": "code",
   "execution_count": 11,
   "id": "37229b1f",
   "metadata": {},
   "outputs": [],
   "source": [
    "result = []\n",
    "def ffib(n):\n",
    "    a,b = 0,1\n",
    "    \n",
    "    while a<n:\n",
    "        result.append(a)\n",
    "        a,b = b,a+b\n",
    "    print(result)"
   ]
  },
  {
   "cell_type": "code",
   "execution_count": 12,
   "id": "913ef4be",
   "metadata": {},
   "outputs": [
    {
     "name": "stdout",
     "output_type": "stream",
     "text": [
      "[0, 1, 1, 2, 3, 5, 8, 13, 21, 34, 55, 89]\n"
     ]
    }
   ],
   "source": [
    "ffib(100)"
   ]
  },
  {
   "cell_type": "code",
   "execution_count": 14,
   "id": "06d76e4b",
   "metadata": {},
   "outputs": [],
   "source": [
    "def ask_ok(prompt, retries=4, reminder='Please try again!'):\n",
    "    while True:\n",
    "        ok = input(prompt)\n",
    "        if ok in ('y', 'ye', 'yes'):\n",
    "            return True\n",
    "        if ok in ('n', 'no', 'nop', 'nope'):\n",
    "            return False\n",
    "        retries = retries - 1\n",
    "        if retries < 0:\n",
    "            raise ValueError('invalid user response')\n",
    "        print(reminder)"
   ]
  },
  {
   "cell_type": "code",
   "execution_count": 19,
   "id": "6399a01f",
   "metadata": {},
   "outputs": [
    {
     "name": "stdout",
     "output_type": "stream",
     "text": [
      "do you want to quite?n\n"
     ]
    },
    {
     "data": {
      "text/plain": [
       "False"
      ]
     },
     "execution_count": 19,
     "metadata": {},
     "output_type": "execute_result"
    }
   ],
   "source": [
    "ask_ok('do you want to quite?')"
   ]
  },
  {
   "cell_type": "code",
   "execution_count": 24,
   "id": "632be3b5",
   "metadata": {},
   "outputs": [],
   "source": [
    "def l(a,lst = None):\n",
    "    if lst == None:\n",
    "        m = []\n",
    "        m.append(a)\n",
    "    return m\n",
    "    "
   ]
  },
  {
   "cell_type": "code",
   "execution_count": 25,
   "id": "71f1db48",
   "metadata": {},
   "outputs": [
    {
     "data": {
      "text/plain": [
       "[20]"
      ]
     },
     "execution_count": 25,
     "metadata": {},
     "output_type": "execute_result"
    }
   ],
   "source": [
    "l(20)"
   ]
  },
  {
   "cell_type": "code",
   "execution_count": 1,
   "id": "cf115aeb",
   "metadata": {},
   "outputs": [],
   "source": [
    "# from sir notes\n",
    "\n",
    "def myFunction():\n",
    "    print('Hello Python this is the function....')"
   ]
  },
  {
   "cell_type": "code",
   "execution_count": 2,
   "id": "472ca29c",
   "metadata": {},
   "outputs": [
    {
     "name": "stdout",
     "output_type": "stream",
     "text": [
      "Hello Python this is the function....\n"
     ]
    }
   ],
   "source": [
    "myFunction()"
   ]
  },
  {
   "cell_type": "code",
   "execution_count": 10,
   "id": "9deb3081",
   "metadata": {},
   "outputs": [],
   "source": [
    "def myf(name):\n",
    "    print(name,'','adcs')"
   ]
  },
  {
   "cell_type": "code",
   "execution_count": 11,
   "id": "87a46290",
   "metadata": {},
   "outputs": [
    {
     "name": "stdout",
     "output_type": "stream",
     "text": [
      "rtyd  adcs\n"
     ]
    }
   ],
   "source": [
    "myf('rtyd')"
   ]
  },
  {
   "cell_type": "code",
   "execution_count": 12,
   "id": "d1b6bc0a",
   "metadata": {},
   "outputs": [],
   "source": [
    "def add():\n",
    "    x = input('enter the number ')\n",
    "    y = input('enter the number ')\n",
    "    print(int(x)+int(y))"
   ]
  },
  {
   "cell_type": "code",
   "execution_count": 13,
   "id": "accecb0b",
   "metadata": {},
   "outputs": [
    {
     "name": "stdout",
     "output_type": "stream",
     "text": [
      "enter the number 15\n",
      "enter the number 25\n",
      "40\n"
     ]
    }
   ],
   "source": [
    "add()"
   ]
  },
  {
   "cell_type": "code",
   "execution_count": 14,
   "id": "6bd77478",
   "metadata": {},
   "outputs": [],
   "source": [
    "def add(x,y):\n",
    "    print(x+y)"
   ]
  },
  {
   "cell_type": "code",
   "execution_count": 15,
   "id": "28ac25ab",
   "metadata": {},
   "outputs": [
    {
     "name": "stdout",
     "output_type": "stream",
     "text": [
      "77\n"
     ]
    }
   ],
   "source": [
    "add(54,23)"
   ]
  },
  {
   "cell_type": "code",
   "execution_count": 20,
   "id": "70261093",
   "metadata": {},
   "outputs": [],
   "source": [
    "def add(x,y):\n",
    "    z = x+y\n",
    "    return print(f'addition of {x} and {y} is -> {z}')"
   ]
  },
  {
   "cell_type": "code",
   "execution_count": 21,
   "id": "5d809972",
   "metadata": {},
   "outputs": [
    {
     "name": "stdout",
     "output_type": "stream",
     "text": [
      "addition of 25 and 65 is -> 90\n"
     ]
    }
   ],
   "source": [
    "add(25,65)"
   ]
  },
  {
   "cell_type": "code",
   "execution_count": 22,
   "id": "f0fb2e7c",
   "metadata": {},
   "outputs": [],
   "source": [
    "def add():\n",
    "    x = int(input('enter the value '))\n",
    "    y = int(input('enter the value '))\n",
    "    z = x+y\n",
    "    return print(f'addition of {x} and {y} is :- {z}')"
   ]
  },
  {
   "cell_type": "code",
   "execution_count": 23,
   "id": "733c9130",
   "metadata": {},
   "outputs": [
    {
     "name": "stdout",
     "output_type": "stream",
     "text": [
      "enter the value 36\n",
      "enter the value 65\n",
      "addition of 36 and 65 is :- 101\n"
     ]
    }
   ],
   "source": [
    "add()"
   ]
  },
  {
   "cell_type": "code",
   "execution_count": 26,
   "id": "cee7f2ee",
   "metadata": {},
   "outputs": [],
   "source": [
    "def temp(*arg):\n",
    "    print('*'*50)\n",
    "    print(arg)\n",
    "    print('*'*50)"
   ]
  },
  {
   "cell_type": "code",
   "execution_count": 27,
   "id": "5b94e1c0",
   "metadata": {},
   "outputs": [
    {
     "name": "stdout",
     "output_type": "stream",
     "text": [
      "**************************************************\n",
      "(15, 25, 30, 25, 65, 48, 78)\n",
      "**************************************************\n"
     ]
    }
   ],
   "source": [
    "temp(15,25,30,25,65,48,78)"
   ]
  },
  {
   "cell_type": "code",
   "execution_count": 30,
   "id": "ab7ac99a",
   "metadata": {},
   "outputs": [],
   "source": [
    "def myfu(*kids):\n",
    "    print('my youngest child is {}'.format(kids[1]))"
   ]
  },
  {
   "cell_type": "code",
   "execution_count": 31,
   "id": "ee8c93bf",
   "metadata": {},
   "outputs": [
    {
     "name": "stdout",
     "output_type": "stream",
     "text": [
      "my youngest child is C\n"
     ]
    }
   ],
   "source": [
    "myfu('A','C','B')"
   ]
  },
  {
   "cell_type": "code",
   "execution_count": 41,
   "id": "46b3c508",
   "metadata": {},
   "outputs": [],
   "source": [
    "def myct(**kids):\n",
    "    print('This is here child ',kids[\"lst\"])"
   ]
  },
  {
   "cell_type": "code",
   "execution_count": 42,
   "id": "b45a623b",
   "metadata": {},
   "outputs": [
    {
     "name": "stdout",
     "output_type": "stream",
     "text": [
      "This is here child  adcs\n"
     ]
    }
   ],
   "source": [
    "myct(name = 'rtyd',lst = 'adcs')"
   ]
  },
  {
   "cell_type": "code",
   "execution_count": 43,
   "id": "e68b2f28",
   "metadata": {},
   "outputs": [],
   "source": [
    "def mf(food):\n",
    "    for i in food:\n",
    "        print(i)\n",
    "        \n",
    "f = ['Apple','banana','mango','grapes']"
   ]
  },
  {
   "cell_type": "code",
   "execution_count": 44,
   "id": "9d5147da",
   "metadata": {},
   "outputs": [
    {
     "name": "stdout",
     "output_type": "stream",
     "text": [
      "Apple\n",
      "banana\n",
      "mango\n",
      "grapes\n"
     ]
    }
   ],
   "source": [
    "mf(f)"
   ]
  },
  {
   "cell_type": "code",
   "execution_count": 48,
   "id": "3b5bb380",
   "metadata": {},
   "outputs": [],
   "source": [
    "def try_rec(k):\n",
    "    if (k>0):\n",
    "        res = k + try_rec(k-1)\n",
    "        return res\n",
    "    else:\n",
    "        res = 0\n",
    "        return res"
   ]
  },
  {
   "cell_type": "code",
   "execution_count": 55,
   "id": "8cf067b5",
   "metadata": {},
   "outputs": [
    {
     "data": {
      "text/plain": [
       "5050"
      ]
     },
     "execution_count": 55,
     "metadata": {},
     "output_type": "execute_result"
    }
   ],
   "source": [
    "try_rec(100)"
   ]
  },
  {
   "cell_type": "code",
   "execution_count": 59,
   "id": "fa5d0833",
   "metadata": {},
   "outputs": [],
   "source": [
    "def even(x):\n",
    "    if x%2==0:\n",
    "        return True\n",
    "    else:\n",
    "        return False"
   ]
  },
  {
   "cell_type": "code",
   "execution_count": 60,
   "id": "679eb34d",
   "metadata": {},
   "outputs": [],
   "source": [
    "p = [2,4,5,7,8,9,6,5,2]"
   ]
  },
  {
   "cell_type": "code",
   "execution_count": 67,
   "id": "98e2c3bc",
   "metadata": {},
   "outputs": [
    {
     "data": {
      "text/plain": [
       "[2, 2, 4, 6, 8]"
      ]
     },
     "execution_count": 67,
     "metadata": {},
     "output_type": "execute_result"
    }
   ],
   "source": [
    "sorted(list(filter(even,p)))"
   ]
  },
  {
   "cell_type": "code",
   "execution_count": 68,
   "id": "3c16e129",
   "metadata": {},
   "outputs": [],
   "source": [
    "course = 'Global'\n",
    "def temp():\n",
    "    global course\n",
    "    course = 'Java'\n",
    "    print(course)"
   ]
  },
  {
   "cell_type": "code",
   "execution_count": 69,
   "id": "a6d4189c",
   "metadata": {},
   "outputs": [
    {
     "name": "stdout",
     "output_type": "stream",
     "text": [
      "Java\n"
     ]
    }
   ],
   "source": [
    "temp()"
   ]
  },
  {
   "cell_type": "code",
   "execution_count": 70,
   "id": "6e6c79d1",
   "metadata": {},
   "outputs": [],
   "source": [
    "def temp1():\n",
    "    print(course)"
   ]
  },
  {
   "cell_type": "code",
   "execution_count": 71,
   "id": "74ed4565",
   "metadata": {},
   "outputs": [
    {
     "name": "stdout",
     "output_type": "stream",
     "text": [
      "Java\n"
     ]
    }
   ],
   "source": [
    "temp1()"
   ]
  },
  {
   "cell_type": "code",
   "execution_count": 72,
   "id": "9daaa510",
   "metadata": {},
   "outputs": [],
   "source": [
    "def ssa(x,y,z):\n",
    "    global a\n",
    "    a = x\n",
    "    global b\n",
    "    b = y\n",
    "    global c\n",
    "    c = z\n",
    "    print(a,b,c)"
   ]
  },
  {
   "cell_type": "code",
   "execution_count": 73,
   "id": "a4a52291",
   "metadata": {},
   "outputs": [
    {
     "name": "stdout",
     "output_type": "stream",
     "text": [
      "10 12 14\n"
     ]
    }
   ],
   "source": [
    "ssa(10,12,14)"
   ]
  },
  {
   "cell_type": "code",
   "execution_count": 86,
   "id": "e6faabff",
   "metadata": {},
   "outputs": [],
   "source": [
    "x = 25\n",
    "def glo():\n",
    "    x = 10\n",
    "    print(x)"
   ]
  },
  {
   "cell_type": "code",
   "execution_count": 87,
   "id": "d1988e1c",
   "metadata": {},
   "outputs": [
    {
     "name": "stdout",
     "output_type": "stream",
     "text": [
      "10\n"
     ]
    }
   ],
   "source": [
    "glo()"
   ]
  },
  {
   "cell_type": "code",
   "execution_count": 88,
   "id": "be476b92",
   "metadata": {},
   "outputs": [
    {
     "data": {
      "text/plain": [
       "25"
      ]
     },
     "execution_count": 88,
     "metadata": {},
     "output_type": "execute_result"
    }
   ],
   "source": [
    "x"
   ]
  },
  {
   "cell_type": "code",
   "execution_count": 97,
   "id": "8768e549",
   "metadata": {},
   "outputs": [],
   "source": [
    "# Local and Global variables\n",
    "\n",
    "def local():\n",
    "    s = 'Hello rtyd this is local variable'   # inside function variable is local variable, \n",
    "                                                # which are not accesible outside the function\n",
    "    print(s)"
   ]
  },
  {
   "cell_type": "code",
   "execution_count": 98,
   "id": "2b091f16",
   "metadata": {},
   "outputs": [
    {
     "name": "stdout",
     "output_type": "stream",
     "text": [
      "Hello rtyd this is local variable\n"
     ]
    }
   ],
   "source": [
    "local()"
   ]
  },
  {
   "cell_type": "code",
   "execution_count": 101,
   "id": "77f209c0",
   "metadata": {},
   "outputs": [],
   "source": [
    "h = 'hello rtyd'\n",
    "\n",
    "def glob():\n",
    "                                                            # The variable h is defined as the global variable and is used \n",
    "                                                            # both inside the function as well as outside the function.\n",
    "    print('this is global var access inside fun ',h)\n"
   ]
  },
  {
   "cell_type": "code",
   "execution_count": 104,
   "id": "1ad4fc3c",
   "metadata": {},
   "outputs": [
    {
     "name": "stdout",
     "output_type": "stream",
     "text": [
      "This is test for Global variable access \n",
      "this is global var access inside fun  hello rtyd\n",
      "access outside the fun  hello rtyd\n"
     ]
    }
   ],
   "source": [
    "glob()\n",
    "print('access outside the fun ',h)"
   ]
  },
  {
   "cell_type": "code",
   "execution_count": 105,
   "id": "a86a2e35",
   "metadata": {},
   "outputs": [
    {
     "name": "stdout",
     "output_type": "stream",
     "text": [
      "rtyd\n",
      "Amitabh\n"
     ]
    }
   ],
   "source": [
    "def test():\n",
    "    s = 'rtyd'\n",
    "    print(s)\n",
    "\n",
    "s = 'Amitabh'\n",
    "                    # same variable name inside and outside the function..... \n",
    "test()          # its consider local variable\n",
    "print(s)        # its consider global variable"
   ]
  },
  {
   "cell_type": "code",
   "execution_count": 115,
   "id": "8492b423",
   "metadata": {},
   "outputs": [],
   "source": [
    "name = 'rtyd'\n",
    "def fullname():\n",
    "    name = name + 'adcs'   # for access global varaible need to write keyword global when name is same \n",
    "    print(name)"
   ]
  },
  {
   "cell_type": "code",
   "execution_count": 109,
   "id": "2931e775",
   "metadata": {},
   "outputs": [
    {
     "ename": "UnboundLocalError",
     "evalue": "local variable 'name' referenced before assignment",
     "output_type": "error",
     "traceback": [
      "\u001b[1;31m---------------------------------------------------------------------------\u001b[0m",
      "\u001b[1;31mUnboundLocalError\u001b[0m                         Traceback (most recent call last)",
      "Input \u001b[1;32mIn [109]\u001b[0m, in \u001b[0;36m<cell line: 1>\u001b[1;34m()\u001b[0m\n\u001b[1;32m----> 1\u001b[0m \u001b[43mfullname\u001b[49m\u001b[43m(\u001b[49m\u001b[43m)\u001b[49m\n",
      "Input \u001b[1;32mIn [108]\u001b[0m, in \u001b[0;36mfullname\u001b[1;34m()\u001b[0m\n\u001b[0;32m      2\u001b[0m \u001b[38;5;28;01mdef\u001b[39;00m \u001b[38;5;21mfullname\u001b[39m():\n\u001b[1;32m----> 3\u001b[0m     name \u001b[38;5;241m=\u001b[39m \u001b[43mname\u001b[49m \u001b[38;5;241m+\u001b[39m \u001b[38;5;124m'\u001b[39m\u001b[38;5;124madcs\u001b[39m\u001b[38;5;124m'\u001b[39m\n\u001b[0;32m      4\u001b[0m     \u001b[38;5;28mprint\u001b[39m(name)\n",
      "\u001b[1;31mUnboundLocalError\u001b[0m: local variable 'name' referenced before assignment"
     ]
    }
   ],
   "source": [
    "fullname()"
   ]
  },
  {
   "cell_type": "code",
   "execution_count": 113,
   "id": "adf9a163",
   "metadata": {},
   "outputs": [],
   "source": [
    "name = 'rtyd '\n",
    "def fullname():\n",
    "    global name\n",
    "    name = name + 'adcs'\n",
    "    print(name)"
   ]
  },
  {
   "cell_type": "code",
   "execution_count": 114,
   "id": "36fa0db7",
   "metadata": {},
   "outputs": [
    {
     "name": "stdout",
     "output_type": "stream",
     "text": [
      "rtyd adcs\n"
     ]
    }
   ],
   "source": [
    "fullname()"
   ]
  },
  {
   "cell_type": "code",
   "execution_count": 31,
   "id": "f2f90c58",
   "metadata": {},
   "outputs": [],
   "source": [
    "a = 1\n",
    "\n",
    "def inf():\n",
    "    global a\n",
    "    a = 2\n",
    "    print('This is inside function:-',a)"
   ]
  },
  {
   "cell_type": "code",
   "execution_count": 32,
   "id": "501deb1a",
   "metadata": {},
   "outputs": [
    {
     "name": "stdout",
     "output_type": "stream",
     "text": [
      "This is inside function:- 2\n"
     ]
    }
   ],
   "source": [
    "inf()"
   ]
  },
  {
   "cell_type": "code",
   "execution_count": 33,
   "id": "64b5c2bc",
   "metadata": {},
   "outputs": [
    {
     "data": {
      "text/plain": [
       "50"
      ]
     },
     "execution_count": 33,
     "metadata": {},
     "output_type": "execute_result"
    }
   ],
   "source": [
    "# global variable\n",
    "a = 15\n",
    "b = 35\n",
    "\n",
    "# function to perform addition\n",
    "def add():\n",
    "    z = a+b\n",
    "    return z\n",
    "\n",
    "# calling function\n",
    "add()"
   ]
  },
  {
   "cell_type": "code",
   "execution_count": 37,
   "id": "654da7ba",
   "metadata": {},
   "outputs": [
    {
     "name": "stdout",
     "output_type": "stream",
     "text": [
      "[10, 20, 30]\n"
     ]
    }
   ],
   "source": [
    "arr = [10,20,30]\n",
    "\n",
    "def add_sum():\n",
    "    for i in range(len(arr)):\n",
    "        arr[i] += 10\n",
    "print(arr)\n",
    "\n",
    "    "
   ]
  },
  {
   "cell_type": "code",
   "execution_count": 39,
   "id": "b60fb81a",
   "metadata": {},
   "outputs": [
    {
     "name": "stdout",
     "output_type": "stream",
     "text": [
      "[40, 50, 60]\n"
     ]
    }
   ],
   "source": [
    "add_sum()\n",
    "print(arr)"
   ]
  },
  {
   "cell_type": "code",
   "execution_count": null,
   "id": "0794243a",
   "metadata": {},
   "outputs": [],
   "source": [
    "arr = [10, 20, 30]\n",
    "\n",
    "\n",
    "def fun():\n",
    "\tfor i in range(len(arr)):\n",
    "\t\tarr[i] += 10\n",
    "\n",
    "\n",
    "print(\"'arr' list before executing fun():\", arr)\n",
    "fun()\n",
    "print(\"'arr' list after executing fun():\", arr)\n"
   ]
  },
  {
   "cell_type": "code",
   "execution_count": 40,
   "id": "13a8000b",
   "metadata": {},
   "outputs": [
    {
     "data": {
      "text/plain": [
       "[40, 50, 60]"
      ]
     },
     "execution_count": 40,
     "metadata": {},
     "output_type": "execute_result"
    }
   ],
   "source": [
    "arr"
   ]
  },
  {
   "cell_type": "code",
   "execution_count": 41,
   "id": "a4adc353",
   "metadata": {},
   "outputs": [],
   "source": [
    "add_sum()"
   ]
  },
  {
   "cell_type": "code",
   "execution_count": 42,
   "id": "7825b9d2",
   "metadata": {},
   "outputs": [
    {
     "data": {
      "text/plain": [
       "[50, 60, 70]"
      ]
     },
     "execution_count": 42,
     "metadata": {},
     "output_type": "execute_result"
    }
   ],
   "source": [
    "arr"
   ]
  },
  {
   "cell_type": "code",
   "execution_count": 44,
   "id": "c7b1b3c0",
   "metadata": {},
   "outputs": [],
   "source": [
    "# First Class functions in Python\n",
    "def shout(text):\n",
    "    return text.upper()"
   ]
  },
  {
   "cell_type": "code",
   "execution_count": 45,
   "id": "db06215f",
   "metadata": {},
   "outputs": [],
   "source": [
    "ya = shout('rtyd')"
   ]
  },
  {
   "cell_type": "code",
   "execution_count": 46,
   "id": "6c625b41",
   "metadata": {},
   "outputs": [
    {
     "data": {
      "text/plain": [
       "'rtyd'"
      ]
     },
     "execution_count": 46,
     "metadata": {},
     "output_type": "execute_result"
    }
   ],
   "source": [
    "ya"
   ]
  },
  {
   "cell_type": "code",
   "execution_count": 47,
   "id": "d9eddae4",
   "metadata": {},
   "outputs": [
    {
     "data": {
      "text/plain": [
       "'APPLE'"
      ]
     },
     "execution_count": 47,
     "metadata": {},
     "output_type": "execute_result"
    }
   ],
   "source": [
    "shout('Apple')"
   ]
  },
  {
   "cell_type": "code",
   "execution_count": 48,
   "id": "71c326ff",
   "metadata": {},
   "outputs": [],
   "source": [
    "ya = shout"
   ]
  },
  {
   "cell_type": "code",
   "execution_count": 49,
   "id": "e2bac51c",
   "metadata": {},
   "outputs": [
    {
     "data": {
      "text/plain": [
       "'MANGO'"
      ]
     },
     "execution_count": 49,
     "metadata": {},
     "output_type": "execute_result"
    }
   ],
   "source": [
    "ya('mango')"
   ]
  },
  {
   "cell_type": "code",
   "execution_count": 65,
   "id": "cee26fb6",
   "metadata": {},
   "outputs": [],
   "source": [
    "def shout(txt):\n",
    "    return txt.upper()\n",
    "\n",
    "def whisper(txt):\n",
    "    return txt.lower()\n",
    "\n",
    "def greet(fun):\n",
    "    \n",
    "    greetings = fun('''Hello this is python, have knowledge about it....''')\n",
    "    print(greetings)"
   ]
  },
  {
   "cell_type": "code",
   "execution_count": 66,
   "id": "9d031509",
   "metadata": {},
   "outputs": [
    {
     "name": "stdout",
     "output_type": "stream",
     "text": [
      "HELLO THIS IS PYTHON, HAVE KNOWLEDGE ABOUT IT....\n",
      "hello this is python, have knowledge about it....\n"
     ]
    }
   ],
   "source": [
    "greet(shout)\n",
    "greet(whisper)"
   ]
  },
  {
   "cell_type": "code",
   "execution_count": 76,
   "id": "91a82c54",
   "metadata": {},
   "outputs": [
    {
     "name": "stdout",
     "output_type": "stream",
     "text": [
      "Have a nice day...\n"
     ]
    }
   ],
   "source": [
    "# Nested functions in Python\n",
    "\n",
    "def outerfun(txt):\n",
    "    \n",
    "    def innerfun():\n",
    "        print(txt)\n",
    "    innerfun()\n",
    "    \n",
    "if __name__ == '__main__':\n",
    "    outerfun('Have a nice day...')"
   ]
  },
  {
   "cell_type": "code",
   "execution_count": 77,
   "id": "2a7ab465",
   "metadata": {},
   "outputs": [
    {
     "name": "stdout",
     "output_type": "stream",
     "text": [
      "Hello This is python....\n"
     ]
    }
   ],
   "source": [
    "def out(txt):\n",
    "    \n",
    "    def ins():\n",
    "        print(txt)\n",
    "    ins()\n",
    "    \n",
    "if __name__== '__main__':\n",
    "    out('Hello This is python....')"
   ]
  },
  {
   "cell_type": "code",
   "execution_count": 78,
   "id": "515e5354",
   "metadata": {},
   "outputs": [
    {
     "name": "stdout",
     "output_type": "stream",
     "text": [
      "Hey!\n"
     ]
    }
   ],
   "source": [
    "# Python program to illustrate\n",
    "# closures\n",
    "def outerFunction(text):\n",
    "\n",
    "\tdef innerFunction():\n",
    "\t\tprint(text)\n",
    "\n",
    "\t# Note we are returning function\n",
    "\t# WITHOUT parenthesis\n",
    "\treturn innerFunction\n",
    "\n",
    "if __name__ == '__main__':\n",
    "\tmyFunction = outerFunction('Hey!')\n",
    "\tmyFunction()\n"
   ]
  },
  {
   "cell_type": "code",
   "execution_count": 79,
   "id": "97e63336",
   "metadata": {},
   "outputs": [
    {
     "name": "stdout",
     "output_type": "stream",
     "text": [
      "6\n",
      "9\n",
      "5\n",
      "10\n"
     ]
    }
   ],
   "source": [
    "# Python program to illustrate\n",
    "# closures\n",
    "import logging\n",
    "logging.basicConfig(filename='example.log',\n",
    "\t\t\t\t\tlevel=logging.INFO)\n",
    "\n",
    "def logger(func):\n",
    "\tdef log_func(*args):\n",
    "\t\tlogging.info(\n",
    "\t\t\t'Running \"{}\" with arguments {}'.format(func.__name__,\n",
    "\t\t\t\t\t\t\t\t\t\t\t\t\targs))\n",
    "\t\tprint(func(*args))\n",
    "\t\t\n",
    "\t# Necessary for closure to\n",
    "\t# work (returning WITHOUT parenthesis)\n",
    "\treturn log_func\t\t\t\n",
    "\n",
    "def add(x, y):\n",
    "\treturn x+y\n",
    "\n",
    "def sub(x, y):\n",
    "\treturn x-y\n",
    "\n",
    "add_logger = logger(add)\n",
    "sub_logger = logger(sub)\n",
    "\n",
    "add_logger(3, 3)\n",
    "add_logger(4, 5)\n",
    "\n",
    "sub_logger(10, 5)\n",
    "sub_logger(20, 10)\n"
   ]
  },
  {
   "cell_type": "code",
   "execution_count": 1,
   "id": "022be821",
   "metadata": {},
   "outputs": [],
   "source": [
    "def doc(text):\n",
    "    return text.upper()\n",
    "\n",
    "def doc1(text1):\n",
    "    return text1.lower()\n",
    "\n",
    "def show(funct):\n",
    "    word = funct('This is programming Language')\n",
    "    print(word)"
   ]
  },
  {
   "cell_type": "code",
   "execution_count": 3,
   "id": "085491de",
   "metadata": {},
   "outputs": [
    {
     "name": "stdout",
     "output_type": "stream",
     "text": [
      "THIS IS PROGRAMMING LANGUAGE\n",
      "this is programming language\n"
     ]
    }
   ],
   "source": [
    "show(doc)\n",
    "show(doc1)"
   ]
  },
  {
   "cell_type": "code",
   "execution_count": 11,
   "id": "59f14c13",
   "metadata": {},
   "outputs": [],
   "source": [
    "# Decorator\n",
    "def greet(fx):\n",
    "    \n",
    "    def decor():\n",
    "        print('Good morning')\n",
    "        fx()\n",
    "        print('Thanks for visiting')\n",
    "    return decor\n",
    "\n",
    "\n",
    "@greet\n",
    "def hello():\n",
    "    print(\"hello world\")"
   ]
  },
  {
   "cell_type": "code",
   "execution_count": 12,
   "id": "ab4fc087",
   "metadata": {},
   "outputs": [
    {
     "name": "stdout",
     "output_type": "stream",
     "text": [
      "Good morning\n",
      "hello world\n",
      "Thanks for visiting\n"
     ]
    }
   ],
   "source": [
    "hello()"
   ]
  },
  {
   "cell_type": "code",
   "execution_count": 23,
   "id": "0cb6f0e2",
   "metadata": {},
   "outputs": [],
   "source": [
    "def gvar(fd):\n",
    "    def mfx(*args,**kargs):\n",
    "        print('addition')\n",
    "        fd(*args,**kargs)\n",
    "        print('Thanks for addition')\n",
    "    return mfx\n",
    "\n",
    "@gvar\n",
    "def add(a,b):\n",
    "    print(a+b)"
   ]
  },
  {
   "cell_type": "code",
   "execution_count": 24,
   "id": "2bc46ef3",
   "metadata": {},
   "outputs": [
    {
     "name": "stdout",
     "output_type": "stream",
     "text": [
      "addition\n",
      "7\n",
      "Thanks for addition\n"
     ]
    }
   ],
   "source": [
    "add(2,5)"
   ]
  },
  {
   "cell_type": "code",
   "execution_count": 29,
   "id": "9ea9e2bf",
   "metadata": {},
   "outputs": [
    {
     "name": "stdout",
     "output_type": "stream",
     "text": [
      "3628800\n",
      "5.011561870574951\n"
     ]
    }
   ],
   "source": [
    "import time\n",
    "import math\n",
    "\n",
    "def cal_time(func):\n",
    "    \n",
    "    def inner1(*arg,**kwargs):\n",
    "        begin = time.time()\n",
    "        func(*arg,**kwargs)\n",
    "        end = time.time()\n",
    "        print(end-begin)\n",
    "    return inner1\n",
    "\n",
    "@cal_time\n",
    "def factorial(x):\n",
    "    time.sleep(5)\n",
    "    print(math.factorial(x))\n",
    "    \n",
    "    \n",
    "factorial(10)"
   ]
  },
  {
   "cell_type": "code",
   "execution_count": null,
   "id": "f0ba01dd",
   "metadata": {},
   "outputs": [],
   "source": []
  },
  {
   "cell_type": "code",
   "execution_count": null,
   "id": "63397d61",
   "metadata": {},
   "outputs": [],
   "source": []
  }
 ],
 "metadata": {
  "kernelspec": {
   "display_name": "Python 3 (ipykernel)",
   "language": "python",
   "name": "python3"
  },
  "language_info": {
   "codemirror_mode": {
    "name": "ipython",
    "version": 3
   },
   "file_extension": ".py",
   "mimetype": "text/x-python",
   "name": "python",
   "nbconvert_exporter": "python",
   "pygments_lexer": "ipython3",
   "version": "3.9.12"
  }
 },
 "nbformat": 4,
 "nbformat_minor": 5
}
